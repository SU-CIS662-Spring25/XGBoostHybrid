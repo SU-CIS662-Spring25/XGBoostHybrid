{
 "cells": [
  {
   "cell_type": "code",
   "execution_count": 1,
   "id": "e540ef62",
   "metadata": {},
   "outputs": [],
   "source": [
    "# Generic inputs for most ML tasks\n",
    "import pandas as pd\n",
    "import numpy as np\n",
    "import matplotlib.pyplot as plt\n",
    "from sklearn.model_selection import train_test_split\n",
    "from sklearn.linear_model import LinearRegression\n",
    "from sklearn.linear_model import Ridge\n",
    "from sklearn.linear_model import Lasso\n",
    "from sklearn.preprocessing import OneHotEncoder\n",
    "\n",
    "from sklearn import tree\n",
    "from sklearn.tree import DecisionTreeClassifier\n",
    "from sklearn.tree import DecisionTreeRegressor\n",
    "from sklearn.ensemble import BaggingRegressor\n",
    "from xgboost import XGBRegressor\n",
    "from sklearn.ensemble import RandomForestRegressor\n",
    "from sklearn.ensemble import GradientBoostingRegressor\n",
    "# from sklearn.ensemble import HistGradientBoostingRegressor\n",
    "import xgboost as xgb\n",
    "\n",
    "pd.options.display.float_format = '{:,.2f}'.format\n",
    "\n",
    "# setup interactive notebook mode\n",
    "from IPython.core.interactiveshell import InteractiveShell\n",
    "InteractiveShell.ast_node_interactivity = \"all\"\n",
    "\n",
    "from IPython.display import display, HTML\n",
    "\n",
    "# Initialize lists to collect model performance\n",
    "model_names = []\n",
    "model_maes = []\n",
    "model_mabs = []"
   ]
  },
  {
   "cell_type": "markdown",
   "id": "55ab7652",
   "metadata": {},
   "source": [
    "# Read, pre-process and visualize data"
   ]
  },
  {
   "cell_type": "code",
   "execution_count": 2,
   "id": "c64881c8",
   "metadata": {},
   "outputs": [
    {
     "data": {
      "text/html": [
       "<div>\n",
       "<style scoped>\n",
       "    .dataframe tbody tr th:only-of-type {\n",
       "        vertical-align: middle;\n",
       "    }\n",
       "\n",
       "    .dataframe tbody tr th {\n",
       "        vertical-align: top;\n",
       "    }\n",
       "\n",
       "    .dataframe thead th {\n",
       "        text-align: right;\n",
       "    }\n",
       "</style>\n",
       "<table border=\"1\" class=\"dataframe\">\n",
       "  <thead>\n",
       "    <tr style=\"text-align: right;\">\n",
       "      <th></th>\n",
       "      <th>Date</th>\n",
       "      <th>SP500</th>\n",
       "      <th>Futures</th>\n",
       "      <th>Nikkei</th>\n",
       "      <th>FTSE</th>\n",
       "      <th>DAX</th>\n",
       "    </tr>\n",
       "  </thead>\n",
       "  <tbody>\n",
       "    <tr>\n",
       "      <th>0</th>\n",
       "      <td>2025-04-02</td>\n",
       "      <td>5,670.97</td>\n",
       "      <td>5,512.00</td>\n",
       "      <td>35,725.87</td>\n",
       "      <td>8,608.48</td>\n",
       "      <td>22,390.84</td>\n",
       "    </tr>\n",
       "    <tr>\n",
       "      <th>1</th>\n",
       "      <td>2025-04-01</td>\n",
       "      <td>5,633.07</td>\n",
       "      <td>5,674.50</td>\n",
       "      <td>35,624.48</td>\n",
       "      <td>8,634.80</td>\n",
       "      <td>22,539.98</td>\n",
       "    </tr>\n",
       "    <tr>\n",
       "      <th>2</th>\n",
       "      <td>2025-03-31</td>\n",
       "      <td>5,611.85</td>\n",
       "      <td>5,653.25</td>\n",
       "      <td>35,617.56</td>\n",
       "      <td>8,582.81</td>\n",
       "      <td>22,163.49</td>\n",
       "    </tr>\n",
       "    <tr>\n",
       "      <th>3</th>\n",
       "      <td>2025-03-28</td>\n",
       "      <td>5,580.94</td>\n",
       "      <td>5,623.00</td>\n",
       "      <td>37,120.33</td>\n",
       "      <td>8,658.85</td>\n",
       "      <td>22,461.52</td>\n",
       "    </tr>\n",
       "    <tr>\n",
       "      <th>4</th>\n",
       "      <td>2025-03-27</td>\n",
       "      <td>5,693.31</td>\n",
       "      <td>5,739.25</td>\n",
       "      <td>37,799.97</td>\n",
       "      <td>8,666.12</td>\n",
       "      <td>22,678.74</td>\n",
       "    </tr>\n",
       "  </tbody>\n",
       "</table>\n",
       "</div>"
      ],
      "text/plain": [
       "         Date    SP500  Futures    Nikkei     FTSE       DAX\n",
       "0  2025-04-02 5,670.97 5,512.00 35,725.87 8,608.48 22,390.84\n",
       "1  2025-04-01 5,633.07 5,674.50 35,624.48 8,634.80 22,539.98\n",
       "2  2025-03-31 5,611.85 5,653.25 35,617.56 8,582.81 22,163.49\n",
       "3  2025-03-28 5,580.94 5,623.00 37,120.33 8,658.85 22,461.52\n",
       "4  2025-03-27 5,693.31 5,739.25 37,799.97 8,666.12 22,678.74"
      ]
     },
     "execution_count": 2,
     "metadata": {},
     "output_type": "execute_result"
    }
   ],
   "source": [
    "data_set = pd.read_csv('MultipleSources-2019-2025.csv')\n",
    "data_set.head()"
   ]
  },
  {
   "cell_type": "code",
   "execution_count": 3,
   "id": "3570ddaf",
   "metadata": {},
   "outputs": [
    {
     "data": {
      "text/plain": [
       "1509"
      ]
     },
     "execution_count": 3,
     "metadata": {},
     "output_type": "execute_result"
    },
    {
     "data": {
      "text/plain": [
       "Date        0\n",
       "SP500       0\n",
       "Futures     0\n",
       "Nikkei     98\n",
       "FTSE       30\n",
       "DAX        24\n",
       "dtype: int64"
      ]
     },
     "execution_count": 3,
     "metadata": {},
     "output_type": "execute_result"
    },
    {
     "data": {
      "text/plain": [
       "Date        object\n",
       "SP500      float64\n",
       "Futures    float64\n",
       "Nikkei     float64\n",
       "FTSE       float64\n",
       "DAX        float64\n",
       "dtype: object"
      ]
     },
     "execution_count": 3,
     "metadata": {},
     "output_type": "execute_result"
    }
   ],
   "source": [
    "len(data_set)\n",
    "data_set.isna().sum()\n",
    "data_set.dtypes"
   ]
  },
  {
   "cell_type": "code",
   "execution_count": 4,
   "id": "99397fc7",
   "metadata": {},
   "outputs": [
    {
     "data": {
      "text/plain": [
       "Index(['Date', 'SP500', 'Futures', 'Nikkei', 'FTSE', 'DAX'], dtype='object')"
      ]
     },
     "execution_count": 4,
     "metadata": {},
     "output_type": "execute_result"
    },
    {
     "data": {
      "text/html": [
       "<div>\n",
       "<style scoped>\n",
       "    .dataframe tbody tr th:only-of-type {\n",
       "        vertical-align: middle;\n",
       "    }\n",
       "\n",
       "    .dataframe tbody tr th {\n",
       "        vertical-align: top;\n",
       "    }\n",
       "\n",
       "    .dataframe thead th {\n",
       "        text-align: right;\n",
       "    }\n",
       "</style>\n",
       "<table border=\"1\" class=\"dataframe\">\n",
       "  <thead>\n",
       "    <tr style=\"text-align: right;\">\n",
       "      <th></th>\n",
       "      <th>Date</th>\n",
       "      <th>SP500</th>\n",
       "      <th>Futures</th>\n",
       "      <th>Nikkei</th>\n",
       "      <th>FTSE</th>\n",
       "      <th>DAX</th>\n",
       "      <th>day_of_week</th>\n",
       "    </tr>\n",
       "  </thead>\n",
       "  <tbody>\n",
       "    <tr>\n",
       "      <th>1504</th>\n",
       "      <td>1554768000</td>\n",
       "      <td>2,878.20</td>\n",
       "      <td>2,882.50</td>\n",
       "      <td>21,802.59</td>\n",
       "      <td>7,425.57</td>\n",
       "      <td>11,850.57</td>\n",
       "      <td>1</td>\n",
       "    </tr>\n",
       "    <tr>\n",
       "      <th>1505</th>\n",
       "      <td>1554681600</td>\n",
       "      <td>2,895.77</td>\n",
       "      <td>2,898.25</td>\n",
       "      <td>21,761.65</td>\n",
       "      <td>7,451.89</td>\n",
       "      <td>11,963.40</td>\n",
       "      <td>0</td>\n",
       "    </tr>\n",
       "    <tr>\n",
       "      <th>1506</th>\n",
       "      <td>1554422400</td>\n",
       "      <td>2,892.74</td>\n",
       "      <td>2,896.00</td>\n",
       "      <td>21,807.50</td>\n",
       "      <td>7,446.87</td>\n",
       "      <td>12,009.75</td>\n",
       "      <td>4</td>\n",
       "    </tr>\n",
       "    <tr>\n",
       "      <th>1507</th>\n",
       "      <td>1554336000</td>\n",
       "      <td>2,879.39</td>\n",
       "      <td>2,882.75</td>\n",
       "      <td>21,724.95</td>\n",
       "      <td>7,401.94</td>\n",
       "      <td>11,988.01</td>\n",
       "      <td>3</td>\n",
       "    </tr>\n",
       "    <tr>\n",
       "      <th>1508</th>\n",
       "      <td>1554249600</td>\n",
       "      <td>2,873.40</td>\n",
       "      <td>2,879.75</td>\n",
       "      <td>21,713.21</td>\n",
       "      <td>7,418.28</td>\n",
       "      <td>11,954.40</td>\n",
       "      <td>2</td>\n",
       "    </tr>\n",
       "  </tbody>\n",
       "</table>\n",
       "</div>"
      ],
      "text/plain": [
       "            Date    SP500  Futures    Nikkei     FTSE       DAX  day_of_week\n",
       "1504  1554768000 2,878.20 2,882.50 21,802.59 7,425.57 11,850.57            1\n",
       "1505  1554681600 2,895.77 2,898.25 21,761.65 7,451.89 11,963.40            0\n",
       "1506  1554422400 2,892.74 2,896.00 21,807.50 7,446.87 12,009.75            4\n",
       "1507  1554336000 2,879.39 2,882.75 21,724.95 7,401.94 11,988.01            3\n",
       "1508  1554249600 2,873.40 2,879.75 21,713.21 7,418.28 11,954.40            2"
      ]
     },
     "execution_count": 4,
     "metadata": {},
     "output_type": "execute_result"
    }
   ],
   "source": [
    "data_set.columns\n",
    "\n",
    "# Step 1: Convert to datetime\n",
    "data_set['Date'] = pd.to_datetime(data_set['Date'])\n",
    "\n",
    "# ✅ Step 2: Extract day of week\n",
    "data_set['day_of_week'] = data_set['Date'].dt.dayofweek  # 0=Mon, ..., 6=Sun\n",
    "\n",
    "# Step 3 (optional): If you still want UNIX timestamp\n",
    "data_set['Date'] = data_set['Date'].astype(np.int64) // 10**9\n",
    "\n",
    "data_set.tail()"
   ]
  },
  {
   "cell_type": "code",
   "execution_count": 5,
   "id": "bf9ca739",
   "metadata": {},
   "outputs": [
    {
     "ename": "TypeError",
     "evalue": "OneHotEncoder.__init__() got an unexpected keyword argument 'sparse'",
     "output_type": "error",
     "traceback": [
      "\u001b[31m---------------------------------------------------------------------------\u001b[39m",
      "\u001b[31mTypeError\u001b[39m                                 Traceback (most recent call last)",
      "\u001b[36mCell\u001b[39m\u001b[36m \u001b[39m\u001b[32mIn[5]\u001b[39m\u001b[32m, line 2\u001b[39m\n\u001b[32m      1\u001b[39m \u001b[38;5;66;03m# Reshape to 2D as required by OneHotEncoder\u001b[39;00m\n\u001b[32m----> \u001b[39m\u001b[32m2\u001b[39m encoder = \u001b[43mOneHotEncoder\u001b[49m\u001b[43m(\u001b[49m\u001b[43mhandle_unknown\u001b[49m\u001b[43m=\u001b[49m\u001b[33;43m'\u001b[39;49m\u001b[33;43mignore\u001b[39;49m\u001b[33;43m'\u001b[39;49m\u001b[43m,\u001b[49m\u001b[43m \u001b[49m\u001b[43msparse\u001b[49m\u001b[43m=\u001b[49m\u001b[38;5;28;43;01mFalse\u001b[39;49;00m\u001b[43m)\u001b[49m\n\u001b[32m      3\u001b[39m day_of_week_encoded = encoder.fit_transform(data_set[[\u001b[33m'\u001b[39m\u001b[33mday_of_week\u001b[39m\u001b[33m'\u001b[39m]])\n",
      "\u001b[31mTypeError\u001b[39m: OneHotEncoder.__init__() got an unexpected keyword argument 'sparse'"
     ]
    }
   ],
   "source": [
    "# Reshape to 2D as required by OneHotEncoder\n",
    "encoder = OneHotEncoder(handle_unknown='ignore')\n",
    "day_of_week_encoded = encoder.fit_transform(data_set[['day_of_week']])"
   ]
  },
  {
   "cell_type": "code",
   "execution_count": null,
   "id": "c8c747d7",
   "metadata": {},
   "outputs": [],
   "source": [
    "# Get feature names like ['day_of_week_0', 'day_of_week_1', ...]\n",
    "encoded_cols = encoder.get_feature_names_out(['day_of_week'])\n",
    "encoded_df = pd.DataFrame(day_of_week_encoded, columns=encoded_cols, index=data_set.index)\n",
    "data_set = pd.concat([data_set.drop(columns=['day_of_week']), encoded_df], axis=1)"
   ]
  },
  {
   "cell_type": "code",
   "execution_count": null,
   "id": "df584e06",
   "metadata": {},
   "outputs": [],
   "source": [
    "def add_lag_features(df, columns, lags):\n",
    "    \"\"\"\n",
    "    Adds lag features for given columns and lag days.\n",
    "\n",
    "    Parameters:\n",
    "    df (pd.DataFrame): Original dataset\n",
    "    columns (list): Columns for which to create lag features\n",
    "    lags (list): List of lag values (e.g., [1, 2, 3])\n",
    "\n",
    "    Returns:\n",
    "    pd.DataFrame: Dataset with new lag features\n",
    "    \"\"\"\n",
    "    for col in columns:\n",
    "        for lag in lags:\n",
    "            df[f'{col}_lag_{lag}'] = df[col].shift(lag)\n",
    "    return df\n",
    "\n",
    "\n",
    "lag_columns = ['SP500', 'DAX', 'FTSE', 'Nikkei']\n",
    "lag_days = [1, 2, 3] \n",
    "\n",
    "data_set = add_lag_features(data_set, lag_columns, lag_days)\n",
    "data_set = data_set.dropna()  # Drop rows with NaNs from lags\n",
    "data_set.head()\n",
    "\n",
    "\n",
    "data_set = data_set.sort_values(by='Date').reset_index(drop=True)\n",
    "\n"
   ]
  },
  {
   "cell_type": "code",
   "execution_count": null,
   "id": "cab5d80b",
   "metadata": {},
   "outputs": [],
   "source": [
    "data_set['SP500_next'] = data_set['SP500'].shift(-1)\n",
    "data_set = data_set.dropna()\n"
   ]
  },
  {
   "cell_type": "code",
   "execution_count": null,
   "id": "280e82d6",
   "metadata": {},
   "outputs": [],
   "source": [
    "X_train, X_test, y_train, y_test = train_test_split(data_set.drop(columns = ['SP500_next']), data_set['SP500_next'], test_size=0.2,shuffle = False)\n",
    "## Removing the Date feature resulted in higher Mean Absolute Error (MAE) across all models\n",
    "X_train\n",
    "X_test\n",
    "y_train\n",
    "y_test"
   ]
  },
  {
   "cell_type": "markdown",
   "id": "9d422bca",
   "metadata": {},
   "source": [
    "# Decison tree\n"
   ]
  },
  {
   "cell_type": "code",
   "execution_count": null,
   "id": "e7b21b98",
   "metadata": {},
   "outputs": [],
   "source": [
    "clf = DecisionTreeRegressor(random_state=50)\n",
    "\n",
    "clf = clf.fit(X_train, y_train) "
   ]
  },
  {
   "cell_type": "code",
   "execution_count": null,
   "id": "1e80b198",
   "metadata": {},
   "outputs": [],
   "source": [
    "X_train.columns\n",
    "clf.feature_importances_"
   ]
  },
  {
   "cell_type": "code",
   "execution_count": null,
   "id": "5f160e8a",
   "metadata": {},
   "outputs": [],
   "source": [
    "test_output = pd.DataFrame(clf.predict(X_test), index = X_test.index, columns = ['pred_SP500_next'])\n",
    "test_output = test_output.merge(y_test, left_index = True, right_index = True)\n",
    "test_output.head()\n",
    "mean_absolute_error = abs(test_output['pred_SP500_next'] - test_output['SP500_next']).mean()\n",
    "print('Mean absolute error is ')\n",
    "print(mean_absolute_error)\n",
    "mean_absolute_percentage_error = abs(test_output['pred_SP500_next'] - test_output['SP500_next']).mean() / test_output['SP500_next'].mean()\n",
    "print('Mean absolute percentage error is ')\n",
    "print(mean_absolute_percentage_error)\n",
    "\n",
    "model_names.append(\"Decision Tree\")\n",
    "model_maes.append(mean_absolute_error)\n",
    "model_mabs.append(mean_absolute_percentage_error)"
   ]
  },
  {
   "cell_type": "markdown",
   "id": "21b60116",
   "metadata": {},
   "source": [
    "## Bagging Regressor ## "
   ]
  },
  {
   "cell_type": "code",
   "execution_count": null,
   "id": "6a9699be",
   "metadata": {},
   "outputs": [],
   "source": [
    "regr = BaggingRegressor(random_state=50, n_estimators = 200, max_samples = 800)\n",
    "\n",
    "regr = regr.fit(X_train, y_train) "
   ]
  },
  {
   "cell_type": "code",
   "execution_count": null,
   "id": "7598e234",
   "metadata": {},
   "outputs": [],
   "source": [
    "test_output = pd.DataFrame(regr.predict(X_test), index = X_test.index, columns = ['pred_SP500_next'])\n",
    "test_output = test_output.merge(y_test, left_index = True, right_index = True)\n",
    "test_output.head()\n",
    "mean_absolute_error = abs(test_output['pred_SP500_next'] - test_output['SP500_next']).mean()\n",
    "print('Mean absolute error is ')\n",
    "print(mean_absolute_error)\n",
    "mean_absolute_percentage_error = abs(test_output['pred_SP500_next'] - test_output['SP500_next']).mean() / test_output['SP500_next'].mean()\n",
    "print('Mean absolute percentage error is ')\n",
    "print(mean_absolute_percentage_error)\n",
    "\n",
    "model_names.append(\"Bagging Regressor\")\n",
    "model_maes.append(mean_absolute_error)\n",
    "model_mabs.append(mean_absolute_percentage_error)"
   ]
  },
  {
   "cell_type": "markdown",
   "id": "51327dc2",
   "metadata": {},
   "source": [
    "## Random Forest Regressor "
   ]
  },
  {
   "cell_type": "code",
   "execution_count": null,
   "id": "628133a6",
   "metadata": {},
   "outputs": [],
   "source": [
    "rf = RandomForestRegressor(random_state=50, min_samples_leaf = 3, max_features = \"sqrt\")\n",
    "\n",
    "rf = rf.fit(X_train, y_train) \n"
   ]
  },
  {
   "cell_type": "code",
   "execution_count": null,
   "id": "5b6b1dc8",
   "metadata": {},
   "outputs": [],
   "source": [
    "X_train.columns\n",
    "rf.feature_importances_"
   ]
  },
  {
   "cell_type": "code",
   "execution_count": null,
   "id": "b48d974c",
   "metadata": {},
   "outputs": [],
   "source": [
    "test_output = pd.DataFrame(rf.predict(X_test), index = X_test.index, columns = ['pred_SP500_next'])\n",
    "test_output = test_output.merge(y_test, left_index = True, right_index = True)\n",
    "test_output.head()\n",
    "mean_absolute_error = abs(test_output['pred_SP500_next'] - test_output['SP500_next']).mean()\n",
    "print('Mean absolute error is ')\n",
    "print(mean_absolute_error)\n",
    "mean_absolute_percentage_error = abs(test_output['pred_SP500_next'] - test_output['SP500_next']).mean() / test_output['SP500_next'].mean()\n",
    "print('Mean absolute percentage error is ')\n",
    "print(mean_absolute_percentage_error)\n",
    "\n",
    "model_names.append(\"Random Forest Regressor\")\n",
    "model_maes.append(mean_absolute_error)\n",
    "model_mabs.append(mean_absolute_percentage_error)"
   ]
  },
  {
   "cell_type": "markdown",
   "id": "69f14b76",
   "metadata": {},
   "source": [
    "## Gradeint Boosting Regressor"
   ]
  },
  {
   "cell_type": "code",
   "execution_count": null,
   "id": "47b50efb",
   "metadata": {},
   "outputs": [],
   "source": [
    "gb = GradientBoostingRegressor(random_state=50, min_samples_leaf = 2, max_depth = 4)\n",
    "\n",
    "gb = gb.fit(X_train, y_train) \n"
   ]
  },
  {
   "cell_type": "code",
   "execution_count": null,
   "id": "dacef454",
   "metadata": {},
   "outputs": [],
   "source": [
    "X_train.columns\n",
    "gb.feature_importances_"
   ]
  },
  {
   "cell_type": "code",
   "execution_count": null,
   "id": "873bce22",
   "metadata": {},
   "outputs": [],
   "source": [
    "test_output = pd.DataFrame(gb.predict(X_test), index = X_test.index, columns = ['pred_SP500_next'])\n",
    "test_output = test_output.merge(y_test, left_index = True, right_index = True)\n",
    "test_output.head()\n",
    "mean_absolute_error = abs(test_output['pred_SP500_next'] - test_output['SP500_next']).mean()\n",
    "print('Mean absolute error is ')\n",
    "print(mean_absolute_error)\n",
    "mean_absolute_percentage_error = abs(test_output['pred_SP500_next'] - test_output['SP500_next']).mean() / test_output['SP500_next'].mean()\n",
    "print('Mean absolute percentage error is ')\n",
    "print(mean_absolute_percentage_error)\n",
    "\n",
    "model_names.append(\"Gradeint Boosting Regressor\")\n",
    "model_maes.append(mean_absolute_error)\n",
    "model_mabs.append(mean_absolute_percentage_error)"
   ]
  },
  {
   "cell_type": "markdown",
   "id": "f49e7d98",
   "metadata": {},
   "source": [
    "## XGBoost Regressor "
   ]
  },
  {
   "cell_type": "code",
   "execution_count": null,
   "id": "9509409c",
   "metadata": {},
   "outputs": [],
   "source": [
    "# XGBoost comes with its own class for storing datasets called DMatrix. \n",
    "# It is a highly optimized class for memory and speed. \n",
    "# That's why converting datasets into this format is a requirement for the native XGBoost API:\n",
    "\n",
    "\n",
    "# Create regression matrices\n",
    "\n",
    "dtrain_reg = xgb.DMatrix(X_train, y_train, enable_categorical=True)\n",
    "\n",
    "dtest_reg = xgb.DMatrix(X_test, y_test, enable_categorical=True)"
   ]
  },
  {
   "cell_type": "code",
   "execution_count": null,
   "id": "4705ea0f",
   "metadata": {},
   "outputs": [],
   "source": [
    "params = {\"objective\": \"reg:squarederror\", \"tree_method\": \"exact\", \"max_depth\" : 4, \"learning_rate\" : 0.1} # use \"tree_method\" : \"hist\" if you need speed"
   ]
  },
  {
   "cell_type": "code",
   "execution_count": null,
   "id": "cb137954",
   "metadata": {},
   "outputs": [],
   "source": [
    "n = 100\n",
    "\n",
    "model = xgb.train(\n",
    "\n",
    "   params=params,\n",
    "\n",
    "   dtrain=dtrain_reg,\n",
    "\n",
    "   num_boost_round=n,\n",
    "\n",
    ")"
   ]
  },
  {
   "cell_type": "code",
   "execution_count": null,
   "id": "82db493d",
   "metadata": {},
   "outputs": [],
   "source": [
    "from sklearn.metrics import mean_squared_error\n",
    "preds = model.predict(dtest_reg)\n"
   ]
  },
  {
   "cell_type": "code",
   "execution_count": null,
   "id": "ea95f735",
   "metadata": {},
   "outputs": [],
   "source": [
    "test_output = pd.DataFrame(preds, index = X_test.index, columns = ['pred_SP500_next'])\n",
    "test_output = test_output.merge(y_test, left_index = True, right_index = True)\n",
    "test_output.head()\n",
    "mean_absolute_error = abs(test_output['pred_SP500_next'] - test_output['SP500_next']).mean()\n",
    "print('Mean absolute error is ')\n",
    "print(mean_absolute_error)\n",
    "mean_absolute_percentage_error = abs(test_output['pred_SP500_next'] - test_output['SP500_next']).mean() / test_output['SP500_next'].mean()\n",
    "print('Mean absolute percentage error is ')\n",
    "print(mean_absolute_percentage_error)\n",
    "\n",
    "model_names.append(\"XGBoost Regressor\")\n",
    "model_maes.append(mean_absolute_error)\n",
    "model_mabs.append(mean_absolute_percentage_error)"
   ]
  },
  {
   "cell_type": "markdown",
   "id": "54cfb086",
   "metadata": {},
   "source": [
    "## Hybrid Model "
   ]
  },
  {
   "cell_type": "code",
   "execution_count": null,
   "id": "2f0e35d9",
   "metadata": {},
   "outputs": [],
   "source": [
    "model = LinearRegression(fit_intercept = True)\n",
    "model.fit(X_train, y_train) \n",
    "\n",
    "# The following gives the R-square score\n",
    "model.score(X_train, y_train) "
   ]
  },
  {
   "cell_type": "code",
   "execution_count": null,
   "id": "09d740b6",
   "metadata": {},
   "outputs": [],
   "source": [
    "training_residuals = y_train - model.predict(X_train)"
   ]
  },
  {
   "cell_type": "code",
   "execution_count": null,
   "id": "2e218242",
   "metadata": {},
   "outputs": [],
   "source": [
    "rf = RandomForestRegressor(random_state=50, min_samples_leaf = 3, max_features = \"sqrt\")\n",
    "\n",
    "rf = rf.fit(X_train, training_residuals) "
   ]
  },
  {
   "cell_type": "code",
   "execution_count": null,
   "id": "cb735f23",
   "metadata": {},
   "outputs": [],
   "source": [
    "pred_residuals = rf.predict(X_test)\n",
    "y_pred = pred_residuals + model.predict(X_test)"
   ]
  },
  {
   "cell_type": "code",
   "execution_count": null,
   "id": "f450ee73",
   "metadata": {
    "scrolled": true
   },
   "outputs": [],
   "source": [
    "test_output = pd.DataFrame(y_pred, index = X_test.index, columns = ['pred_SP500_next'])\n",
    "test_output = test_output.merge(y_test, left_index = True, right_index = True)\n",
    "test_output.head()\n",
    "mean_absolute_error = abs(test_output['pred_SP500_next'] - test_output['SP500_next']).mean()\n",
    "print('Mean absolute error is ')\n",
    "print(mean_absolute_error)\n",
    "mean_absolute_percentage_error = abs(test_output['pred_SP500_next'] - test_output['SP500_next']).mean() / test_output['SP500_next'].mean()\n",
    "print('Mean absolute percentage error is ')\n",
    "print(mean_absolute_percentage_error)\n",
    "\n",
    "model_names.append(\"Hybrid Model\")\n",
    "model_maes.append(mean_absolute_error)\n",
    "model_mabs.append(mean_absolute_percentage_error)"
   ]
  },
  {
   "cell_type": "markdown",
   "id": "32a1cedd",
   "metadata": {},
   "source": [
    "# Hybrid (XGBoost)"
   ]
  },
  {
   "cell_type": "code",
   "execution_count": null,
   "id": "8db52441",
   "metadata": {},
   "outputs": [],
   "source": [
    "# XGBoost on residuals\n",
    "dtrain_resid = xgb.DMatrix(X_train, label=training_residuals, enable_categorical=True)\n",
    "dtest_resid = xgb.DMatrix(X_test, enable_categorical=True)"
   ]
  },
  {
   "cell_type": "code",
   "execution_count": null,
   "id": "be2b8b06",
   "metadata": {},
   "outputs": [],
   "source": [
    "params = {\"objective\": \"reg:squarederror\", \"tree_method\": \"exact\", \"max_depth\" : 4, \"learning_rate\" : 0.1} # use \"tree_method\" : \"hist\" if you need speed\n",
    "num_round = 100"
   ]
  },
  {
   "cell_type": "code",
   "execution_count": null,
   "id": "0fc59d1e",
   "metadata": {},
   "outputs": [],
   "source": [
    "residual_model = xgb.train(params, dtrain_resid, num_boost_round=num_round)\n",
    "\n",
    "# Predict residuals on test set using XGBoost\n",
    "pred_residuals = residual_model.predict(dtest_resid)\n",
    "\n",
    "# Final hybrid prediction = linear prediction + xgboost residual prediction\n",
    "yy_pred = model.predict(X_test) + pred_residuals"
   ]
  },
  {
   "cell_type": "code",
   "execution_count": null,
   "id": "fb80684c",
   "metadata": {},
   "outputs": [],
   "source": [
    "test_output = pd.DataFrame(yy_pred, index = X_test.index, columns = ['pred_SP500_next'])\n",
    "test_output = test_output.merge(y_test, left_index = True, right_index = True)\n",
    "test_output.head()\n",
    "mean_absolute_error = abs(test_output['pred_SP500_next'] - test_output['SP500_next']).mean()\n",
    "print('Mean absolute error is ')\n",
    "print(mean_absolute_error)\n",
    "mean_absolute_percentage_error = abs(test_output['pred_SP500_next'] - test_output['SP500_next']).mean() / test_output['SP500_next'].mean()\n",
    "print('Mean absolute percentage error is ')\n",
    "print(mean_absolute_percentage_error)\n",
    "\n",
    "model_names.append(\"Hybrid (XGBoost)\")\n",
    "model_maes.append(mean_absolute_error)\n",
    "model_mabs.append(mean_absolute_percentage_error)"
   ]
  },
  {
   "cell_type": "markdown",
   "id": "f190866e",
   "metadata": {},
   "source": [
    "## Plotting a Graph for Comparing Results\n"
   ]
  },
  {
   "cell_type": "code",
   "execution_count": null,
   "id": "e2b6fa09",
   "metadata": {},
   "outputs": [],
   "source": [
    "import matplotlib.pyplot as plt\n",
    "import pandas as pd\n",
    "\n",
    "df = pd.DataFrame({'Model': model_names, 'MAE': model_maes})\n",
    "\n",
    "plt.figure(figsize=(10, 6))\n",
    "bars = plt.bar(df['Model'], df['MAE'], color='cornflowerblue', edgecolor='black')\n",
    "plt.title('Comparison of Mean Absolute Error (MAE) Across Models', fontsize=14)\n",
    "plt.xlabel('Models')\n",
    "plt.ylabel('MAE (lower is better)')\n",
    "plt.xticks(rotation=45)\n",
    "\n",
    "# Annotate bars\n",
    "for bar in bars:\n",
    "    yval = bar.get_height()\n",
    "    plt.text(bar.get_x() + bar.get_width()/2.0, yval + 0.5, f'{yval:.2f}', ha='center', va='bottom')\n",
    "\n",
    "plt.tight_layout()\n",
    "plt.show();\n"
   ]
  },
  {
   "cell_type": "markdown",
   "id": "4fb54d36",
   "metadata": {},
   "source": [
    "# Plotting a Graph using MAPE"
   ]
  },
  {
   "cell_type": "code",
   "execution_count": null,
   "id": "d762298a",
   "metadata": {},
   "outputs": [],
   "source": [
    "import matplotlib.pyplot as plt\n",
    "import pandas as pd\n",
    "\n",
    "# Create DataFrame with model names and MAPE values\n",
    "df = pd.DataFrame({'Model': model_names, 'MAPE': model_mabs})\n",
    "\n",
    "# Create the plot\n",
    "plt.figure(figsize=(10, 6))\n",
    "bars = plt.bar(df['Model'], df['MAPE'], color='cornflowerblue', edgecolor='black')\n",
    "\n",
    "# Add title and axis labels\n",
    "plt.title('Comparison of MAPE Across Models', fontsize=16)\n",
    "plt.xlabel('Machine Learning Models', fontsize=12)\n",
    "plt.ylabel('MAPE (Lower is better)', fontsize=12)\n",
    "plt.xticks(rotation=45)\n",
    "\n",
    "# Annotate each bar with its height (as percentage)\n",
    "for bar in bars:\n",
    "    yval = bar.get_height()\n",
    "    plt.text(bar.get_x() + bar.get_width() / 2.0, yval + 0.0005, f\"{yval:.2%}\", \n",
    "             ha='center', va='bottom', fontsize=10)\n",
    "\n",
    "# Improve layout\n",
    "plt.tight_layout()\n",
    "plt.show();\n"
   ]
  },
  {
   "cell_type": "code",
   "execution_count": null,
   "id": "498ba868",
   "metadata": {},
   "outputs": [],
   "source": []
  },
  {
   "cell_type": "code",
   "execution_count": null,
   "id": "766ac12c",
   "metadata": {},
   "outputs": [],
   "source": []
  },
  {
   "cell_type": "code",
   "execution_count": null,
   "id": "7e529de9",
   "metadata": {},
   "outputs": [],
   "source": []
  },
  {
   "cell_type": "code",
   "execution_count": null,
   "id": "0ead0d58",
   "metadata": {},
   "outputs": [],
   "source": []
  },
  {
   "cell_type": "code",
   "execution_count": null,
   "id": "c3886b0c",
   "metadata": {},
   "outputs": [],
   "source": []
  },
  {
   "cell_type": "code",
   "execution_count": null,
   "id": "d23b26bd",
   "metadata": {},
   "outputs": [],
   "source": []
  },
  {
   "cell_type": "code",
   "execution_count": null,
   "id": "07f78f8d",
   "metadata": {},
   "outputs": [],
   "source": []
  },
  {
   "cell_type": "code",
   "execution_count": null,
   "id": "b26af4b4",
   "metadata": {},
   "outputs": [],
   "source": []
  },
  {
   "cell_type": "code",
   "execution_count": null,
   "id": "b2198283",
   "metadata": {},
   "outputs": [],
   "source": []
  },
  {
   "cell_type": "code",
   "execution_count": null,
   "id": "0b26f715",
   "metadata": {},
   "outputs": [],
   "source": []
  },
  {
   "cell_type": "code",
   "execution_count": null,
   "id": "c08d61fb",
   "metadata": {},
   "outputs": [],
   "source": []
  },
  {
   "cell_type": "code",
   "execution_count": null,
   "id": "60f30952",
   "metadata": {},
   "outputs": [],
   "source": []
  }
 ],
 "metadata": {
  "kernelspec": {
   "display_name": "Python 3 (ipykernel)",
   "language": "python",
   "name": "python3"
  },
  "language_info": {
   "codemirror_mode": {
    "name": "ipython",
    "version": 3
   },
   "file_extension": ".py",
   "mimetype": "text/x-python",
   "name": "python",
   "nbconvert_exporter": "python",
   "pygments_lexer": "ipython3",
   "version": "3.13.2"
  }
 },
 "nbformat": 4,
 "nbformat_minor": 5
}
