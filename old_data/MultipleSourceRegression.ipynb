{
 "cells": [
  {
   "cell_type": "code",
   "execution_count": 1,
   "id": "e540ef62",
   "metadata": {},
   "outputs": [],
   "source": [
    "# Generic inputs for most ML tasks\n",
    "import pandas as pd\n",
    "import numpy as np\n",
    "import matplotlib.pyplot as plt\n",
    "from sklearn.model_selection import train_test_split\n",
    "#from sklearn.linear_model import LinearRegression - we have NaNs so this and GB Regressor won't work\n",
    "\n",
    "from sklearn import tree\n",
    "from sklearn.tree import DecisionTreeRegressor\n",
    "from sklearn.ensemble import BaggingRegressor\n",
    "from sklearn.ensemble import RandomForestRegressor\n",
    "#from sklearn.ensemble import GradientBoostingRegressor\n",
    "from sklearn.ensemble import HistGradientBoostingRegressor\n",
    "import xgboost as xgb\n",
    "\n",
    "pd.options.display.float_format = '{:,.2f}'.format\n",
    "\n",
    "# setup interactive notebook mode\n",
    "from IPython.core.interactiveshell import InteractiveShell\n",
    "InteractiveShell.ast_node_interactivity = \"all\"\n",
    "\n",
    "from IPython.display import display, HTML"
   ]
  },
  {
   "cell_type": "markdown",
   "id": "55ab7652",
   "metadata": {},
   "source": [
    "# Read, pre-process and visualize data"
   ]
  },
  {
   "cell_type": "code",
   "execution_count": 2,
   "id": "c64881c8",
   "metadata": {},
   "outputs": [
    {
     "data": {
      "text/html": [
       "<div>\n",
       "<style scoped>\n",
       "    .dataframe tbody tr th:only-of-type {\n",
       "        vertical-align: middle;\n",
       "    }\n",
       "\n",
       "    .dataframe tbody tr th {\n",
       "        vertical-align: top;\n",
       "    }\n",
       "\n",
       "    .dataframe thead th {\n",
       "        text-align: right;\n",
       "    }\n",
       "</style>\n",
       "<table border=\"1\" class=\"dataframe\">\n",
       "  <thead>\n",
       "    <tr style=\"text-align: right;\">\n",
       "      <th></th>\n",
       "      <th>Date</th>\n",
       "      <th>SP500</th>\n",
       "      <th>Futures</th>\n",
       "      <th>Nikkei</th>\n",
       "      <th>FTSE</th>\n",
       "      <th>DAX</th>\n",
       "    </tr>\n",
       "  </thead>\n",
       "  <tbody>\n",
       "    <tr>\n",
       "      <th>0</th>\n",
       "      <td>04/03/19</td>\n",
       "      <td>2,873.40</td>\n",
       "      <td>2,879.75</td>\n",
       "      <td>21,713.21</td>\n",
       "      <td>7,418.28</td>\n",
       "      <td>11,954.40</td>\n",
       "    </tr>\n",
       "    <tr>\n",
       "      <th>1</th>\n",
       "      <td>04/04/19</td>\n",
       "      <td>2,879.39</td>\n",
       "      <td>2,882.75</td>\n",
       "      <td>21,724.95</td>\n",
       "      <td>7,401.94</td>\n",
       "      <td>11,988.01</td>\n",
       "    </tr>\n",
       "    <tr>\n",
       "      <th>2</th>\n",
       "      <td>04/05/19</td>\n",
       "      <td>2,892.74</td>\n",
       "      <td>2,896.00</td>\n",
       "      <td>21,807.50</td>\n",
       "      <td>7,446.87</td>\n",
       "      <td>12,009.75</td>\n",
       "    </tr>\n",
       "    <tr>\n",
       "      <th>3</th>\n",
       "      <td>04/08/19</td>\n",
       "      <td>2,895.77</td>\n",
       "      <td>2,898.25</td>\n",
       "      <td>21,761.65</td>\n",
       "      <td>7,451.89</td>\n",
       "      <td>11,963.40</td>\n",
       "    </tr>\n",
       "    <tr>\n",
       "      <th>4</th>\n",
       "      <td>04/09/19</td>\n",
       "      <td>2,878.20</td>\n",
       "      <td>2,882.50</td>\n",
       "      <td>21,802.59</td>\n",
       "      <td>7,425.57</td>\n",
       "      <td>11,850.57</td>\n",
       "    </tr>\n",
       "  </tbody>\n",
       "</table>\n",
       "</div>"
      ],
      "text/plain": [
       "       Date    SP500  Futures    Nikkei     FTSE       DAX\n",
       "0  04/03/19 2,873.40 2,879.75 21,713.21 7,418.28 11,954.40\n",
       "1  04/04/19 2,879.39 2,882.75 21,724.95 7,401.94 11,988.01\n",
       "2  04/05/19 2,892.74 2,896.00 21,807.50 7,446.87 12,009.75\n",
       "3  04/08/19 2,895.77 2,898.25 21,761.65 7,451.89 11,963.40\n",
       "4  04/09/19 2,878.20 2,882.50 21,802.59 7,425.57 11,850.57"
      ]
     },
     "execution_count": 2,
     "metadata": {},
     "output_type": "execute_result"
    }
   ],
   "source": [
    "data_set = pd.read_csv(\"MultipleSources-2019-2025-Ascending.csv\")\n",
    "data_set.head()"
   ]
  },
  {
   "cell_type": "code",
   "execution_count": 3,
   "id": "3570ddaf",
   "metadata": {},
   "outputs": [
    {
     "data": {
      "text/plain": [
       "1511"
      ]
     },
     "execution_count": 3,
     "metadata": {},
     "output_type": "execute_result"
    },
    {
     "data": {
      "text/plain": [
       "Date        0\n",
       "SP500       0\n",
       "Futures     0\n",
       "Nikkei     99\n",
       "FTSE       30\n",
       "DAX        24\n",
       "dtype: int64"
      ]
     },
     "execution_count": 3,
     "metadata": {},
     "output_type": "execute_result"
    },
    {
     "data": {
      "text/plain": [
       "Date        object\n",
       "SP500      float64\n",
       "Futures    float64\n",
       "Nikkei     float64\n",
       "FTSE       float64\n",
       "DAX        float64\n",
       "dtype: object"
      ]
     },
     "execution_count": 3,
     "metadata": {},
     "output_type": "execute_result"
    }
   ],
   "source": [
    "len(data_set)\n",
    "data_set.isna().sum()\n",
    "data_set.dtypes"
   ]
  },
  {
   "cell_type": "code",
   "execution_count": 4,
   "id": "99397fc7",
   "metadata": {
    "scrolled": true
   },
   "outputs": [
    {
     "data": {
      "text/plain": [
       "Index(['Date', 'SP500', 'Futures', 'Nikkei', 'FTSE', 'DAX'], dtype='object')"
      ]
     },
     "execution_count": 4,
     "metadata": {},
     "output_type": "execute_result"
    },
    {
     "data": {
      "text/html": [
       "<div>\n",
       "<style scoped>\n",
       "    .dataframe tbody tr th:only-of-type {\n",
       "        vertical-align: middle;\n",
       "    }\n",
       "\n",
       "    .dataframe tbody tr th {\n",
       "        vertical-align: top;\n",
       "    }\n",
       "\n",
       "    .dataframe thead th {\n",
       "        text-align: right;\n",
       "    }\n",
       "</style>\n",
       "<table border=\"1\" class=\"dataframe\">\n",
       "  <thead>\n",
       "    <tr style=\"text-align: right;\">\n",
       "      <th></th>\n",
       "      <th>Date</th>\n",
       "      <th>SP500</th>\n",
       "      <th>Futures</th>\n",
       "      <th>Nikkei</th>\n",
       "      <th>FTSE</th>\n",
       "      <th>DAX</th>\n",
       "    </tr>\n",
       "  </thead>\n",
       "  <tbody>\n",
       "    <tr>\n",
       "      <th>1506</th>\n",
       "      <td>1743379200</td>\n",
       "      <td>5,611.85</td>\n",
       "      <td>5,653.25</td>\n",
       "      <td>35,617.56</td>\n",
       "      <td>8,582.81</td>\n",
       "      <td>22,163.49</td>\n",
       "    </tr>\n",
       "    <tr>\n",
       "      <th>1507</th>\n",
       "      <td>1743465600</td>\n",
       "      <td>5,633.07</td>\n",
       "      <td>5,674.50</td>\n",
       "      <td>35,624.48</td>\n",
       "      <td>8,634.80</td>\n",
       "      <td>22,539.98</td>\n",
       "    </tr>\n",
       "    <tr>\n",
       "      <th>1508</th>\n",
       "      <td>1743552000</td>\n",
       "      <td>5,670.97</td>\n",
       "      <td>5,512.00</td>\n",
       "      <td>35,725.87</td>\n",
       "      <td>8,608.48</td>\n",
       "      <td>22,390.84</td>\n",
       "    </tr>\n",
       "    <tr>\n",
       "      <th>1509</th>\n",
       "      <td>1743638400</td>\n",
       "      <td>5,396.52</td>\n",
       "      <td>5,432.75</td>\n",
       "      <td>33,780.58</td>\n",
       "      <td>8,474.74</td>\n",
       "      <td>21,717.39</td>\n",
       "    </tr>\n",
       "    <tr>\n",
       "      <th>1510</th>\n",
       "      <td>1743724800</td>\n",
       "      <td>5,074.05</td>\n",
       "      <td>5,110.25</td>\n",
       "      <td>NaN</td>\n",
       "      <td>8,054.98</td>\n",
       "      <td>20,641.72</td>\n",
       "    </tr>\n",
       "  </tbody>\n",
       "</table>\n",
       "</div>"
      ],
      "text/plain": [
       "            Date    SP500  Futures    Nikkei     FTSE       DAX\n",
       "1506  1743379200 5,611.85 5,653.25 35,617.56 8,582.81 22,163.49\n",
       "1507  1743465600 5,633.07 5,674.50 35,624.48 8,634.80 22,539.98\n",
       "1508  1743552000 5,670.97 5,512.00 35,725.87 8,608.48 22,390.84\n",
       "1509  1743638400 5,396.52 5,432.75 33,780.58 8,474.74 21,717.39\n",
       "1510  1743724800 5,074.05 5,110.25       NaN 8,054.98 20,641.72"
      ]
     },
     "execution_count": 4,
     "metadata": {},
     "output_type": "execute_result"
    }
   ],
   "source": [
    "data_set.columns\n",
    "\n",
    "# Step 1: Ensure the 'Date' column is in datetime format\n",
    "data_set['Date'] = pd.to_datetime(data_set['Date'], format='%m/%d/%y')\n",
    "\n",
    "# Step 2: Convert datetime to integer timestamp (in seconds)\n",
    "data_set['Date'] = data_set['Date'].astype(np.int64) // 10**9\n",
    "\n",
    "data_set.tail()\n",
    "\n",
    "scores = {'hybrid':0, 'xg':0, 'dt':0, 'bg':0, 'rf':0, 'hist':0}"
   ]
  },
  {
   "cell_type": "code",
   "execution_count": 5,
   "id": "280e82d6",
   "metadata": {},
   "outputs": [
    {
     "data": {
      "text/html": [
       "<div>\n",
       "<style scoped>\n",
       "    .dataframe tbody tr th:only-of-type {\n",
       "        vertical-align: middle;\n",
       "    }\n",
       "\n",
       "    .dataframe tbody tr th {\n",
       "        vertical-align: top;\n",
       "    }\n",
       "\n",
       "    .dataframe thead th {\n",
       "        text-align: right;\n",
       "    }\n",
       "</style>\n",
       "<table border=\"1\" class=\"dataframe\">\n",
       "  <thead>\n",
       "    <tr style=\"text-align: right;\">\n",
       "      <th></th>\n",
       "      <th>Date</th>\n",
       "      <th>Futures</th>\n",
       "      <th>Nikkei</th>\n",
       "      <th>FTSE</th>\n",
       "      <th>DAX</th>\n",
       "    </tr>\n",
       "  </thead>\n",
       "  <tbody>\n",
       "    <tr>\n",
       "      <th>1495</th>\n",
       "      <td>1741910400</td>\n",
       "      <td>5,692.25</td>\n",
       "      <td>37,053.10</td>\n",
       "      <td>8,632.33</td>\n",
       "      <td>22,986.82</td>\n",
       "    </tr>\n",
       "    <tr>\n",
       "      <th>232</th>\n",
       "      <td>1583366400</td>\n",
       "      <td>3,015.50</td>\n",
       "      <td>21,329.12</td>\n",
       "      <td>6,705.43</td>\n",
       "      <td>11,944.72</td>\n",
       "    </tr>\n",
       "    <tr>\n",
       "      <th>830</th>\n",
       "      <td>1658275200</td>\n",
       "      <td>3,962.50</td>\n",
       "      <td>27,680.26</td>\n",
       "      <td>7,264.31</td>\n",
       "      <td>13,281.98</td>\n",
       "    </tr>\n",
       "    <tr>\n",
       "      <th>456</th>\n",
       "      <td>1611532800</td>\n",
       "      <td>3,848.50</td>\n",
       "      <td>28,822.29</td>\n",
       "      <td>6,638.85</td>\n",
       "      <td>13,643.95</td>\n",
       "    </tr>\n",
       "    <tr>\n",
       "      <th>1265</th>\n",
       "      <td>1712880000</td>\n",
       "      <td>5,167.50</td>\n",
       "      <td>39,523.55</td>\n",
       "      <td>7,995.58</td>\n",
       "      <td>17,930.32</td>\n",
       "    </tr>\n",
       "    <tr>\n",
       "      <th>...</th>\n",
       "      <td>...</td>\n",
       "      <td>...</td>\n",
       "      <td>...</td>\n",
       "      <td>...</td>\n",
       "      <td>...</td>\n",
       "    </tr>\n",
       "    <tr>\n",
       "      <th>70</th>\n",
       "      <td>1563148800</td>\n",
       "      <td>3,017.25</td>\n",
       "      <td>NaN</td>\n",
       "      <td>7,531.72</td>\n",
       "      <td>12,387.34</td>\n",
       "    </tr>\n",
       "    <tr>\n",
       "      <th>132</th>\n",
       "      <td>1570665600</td>\n",
       "      <td>2,941.00</td>\n",
       "      <td>21,551.98</td>\n",
       "      <td>7,186.36</td>\n",
       "      <td>12,164.20</td>\n",
       "    </tr>\n",
       "    <tr>\n",
       "      <th>1313</th>\n",
       "      <td>1718928000</td>\n",
       "      <td>5,471.89</td>\n",
       "      <td>38,596.47</td>\n",
       "      <td>8,237.72</td>\n",
       "      <td>18,163.52</td>\n",
       "    </tr>\n",
       "    <tr>\n",
       "      <th>109</th>\n",
       "      <td>1567987200</td>\n",
       "      <td>2,978.25</td>\n",
       "      <td>21,318.42</td>\n",
       "      <td>7,235.81</td>\n",
       "      <td>12,226.10</td>\n",
       "    </tr>\n",
       "    <tr>\n",
       "      <th>1504</th>\n",
       "      <td>1743033600</td>\n",
       "      <td>5,739.25</td>\n",
       "      <td>37,799.97</td>\n",
       "      <td>8,666.12</td>\n",
       "      <td>22,678.74</td>\n",
       "    </tr>\n",
       "  </tbody>\n",
       "</table>\n",
       "<p>1208 rows × 5 columns</p>\n",
       "</div>"
      ],
      "text/plain": [
       "            Date  Futures    Nikkei     FTSE       DAX\n",
       "1495  1741910400 5,692.25 37,053.10 8,632.33 22,986.82\n",
       "232   1583366400 3,015.50 21,329.12 6,705.43 11,944.72\n",
       "830   1658275200 3,962.50 27,680.26 7,264.31 13,281.98\n",
       "456   1611532800 3,848.50 28,822.29 6,638.85 13,643.95\n",
       "1265  1712880000 5,167.50 39,523.55 7,995.58 17,930.32\n",
       "...          ...      ...       ...      ...       ...\n",
       "70    1563148800 3,017.25       NaN 7,531.72 12,387.34\n",
       "132   1570665600 2,941.00 21,551.98 7,186.36 12,164.20\n",
       "1313  1718928000 5,471.89 38,596.47 8,237.72 18,163.52\n",
       "109   1567987200 2,978.25 21,318.42 7,235.81 12,226.10\n",
       "1504  1743033600 5,739.25 37,799.97 8,666.12 22,678.74\n",
       "\n",
       "[1208 rows x 5 columns]"
      ]
     },
     "execution_count": 5,
     "metadata": {},
     "output_type": "execute_result"
    },
    {
     "data": {
      "text/html": [
       "<div>\n",
       "<style scoped>\n",
       "    .dataframe tbody tr th:only-of-type {\n",
       "        vertical-align: middle;\n",
       "    }\n",
       "\n",
       "    .dataframe tbody tr th {\n",
       "        vertical-align: top;\n",
       "    }\n",
       "\n",
       "    .dataframe thead th {\n",
       "        text-align: right;\n",
       "    }\n",
       "</style>\n",
       "<table border=\"1\" class=\"dataframe\">\n",
       "  <thead>\n",
       "    <tr style=\"text-align: right;\">\n",
       "      <th></th>\n",
       "      <th>Date</th>\n",
       "      <th>Futures</th>\n",
       "      <th>Nikkei</th>\n",
       "      <th>FTSE</th>\n",
       "      <th>DAX</th>\n",
       "    </tr>\n",
       "  </thead>\n",
       "  <tbody>\n",
       "    <tr>\n",
       "      <th>969</th>\n",
       "      <td>1675728000</td>\n",
       "      <td>4,175.75</td>\n",
       "      <td>27,685.47</td>\n",
       "      <td>7,864.71</td>\n",
       "      <td>15,320.88</td>\n",
       "    </tr>\n",
       "    <tr>\n",
       "      <th>721</th>\n",
       "      <td>1644451200</td>\n",
       "      <td>4,497.50</td>\n",
       "      <td>27,696.08</td>\n",
       "      <td>7,672.40</td>\n",
       "      <td>15,490.44</td>\n",
       "    </tr>\n",
       "    <tr>\n",
       "      <th>1271</th>\n",
       "      <td>1713744000</td>\n",
       "      <td>5,047.50</td>\n",
       "      <td>37,438.61</td>\n",
       "      <td>8,023.87</td>\n",
       "      <td>17,860.80</td>\n",
       "    </tr>\n",
       "    <tr>\n",
       "      <th>1234</th>\n",
       "      <td>1709078400</td>\n",
       "      <td>5,081.00</td>\n",
       "      <td>39,208.03</td>\n",
       "      <td>7,624.98</td>\n",
       "      <td>17,601.22</td>\n",
       "    </tr>\n",
       "    <tr>\n",
       "      <th>1407</th>\n",
       "      <td>1730678400</td>\n",
       "      <td>5,743.25</td>\n",
       "      <td>NaN</td>\n",
       "      <td>8,184.24</td>\n",
       "      <td>19,147.85</td>\n",
       "    </tr>\n",
       "    <tr>\n",
       "      <th>...</th>\n",
       "      <td>...</td>\n",
       "      <td>...</td>\n",
       "      <td>...</td>\n",
       "      <td>...</td>\n",
       "      <td>...</td>\n",
       "    </tr>\n",
       "    <tr>\n",
       "      <th>1418</th>\n",
       "      <td>1731974400</td>\n",
       "      <td>5,938.75</td>\n",
       "      <td>38,414.43</td>\n",
       "      <td>8,099.02</td>\n",
       "      <td>19,060.31</td>\n",
       "    </tr>\n",
       "    <tr>\n",
       "      <th>1435</th>\n",
       "      <td>1734048000</td>\n",
       "      <td>6,055.50</td>\n",
       "      <td>39,470.44</td>\n",
       "      <td>8,300.33</td>\n",
       "      <td>20,405.92</td>\n",
       "    </tr>\n",
       "    <tr>\n",
       "      <th>1237</th>\n",
       "      <td>1709510400</td>\n",
       "      <td>5,138.25</td>\n",
       "      <td>40,109.23</td>\n",
       "      <td>7,640.33</td>\n",
       "      <td>17,716.17</td>\n",
       "    </tr>\n",
       "    <tr>\n",
       "      <th>501</th>\n",
       "      <td>1617062400</td>\n",
       "      <td>3,947.75</td>\n",
       "      <td>29,432.70</td>\n",
       "      <td>6,772.12</td>\n",
       "      <td>15,008.61</td>\n",
       "    </tr>\n",
       "    <tr>\n",
       "      <th>296</th>\n",
       "      <td>1591315200</td>\n",
       "      <td>3,186.75</td>\n",
       "      <td>22,863.73</td>\n",
       "      <td>6,484.30</td>\n",
       "      <td>12,847.68</td>\n",
       "    </tr>\n",
       "  </tbody>\n",
       "</table>\n",
       "<p>303 rows × 5 columns</p>\n",
       "</div>"
      ],
      "text/plain": [
       "            Date  Futures    Nikkei     FTSE       DAX\n",
       "969   1675728000 4,175.75 27,685.47 7,864.71 15,320.88\n",
       "721   1644451200 4,497.50 27,696.08 7,672.40 15,490.44\n",
       "1271  1713744000 5,047.50 37,438.61 8,023.87 17,860.80\n",
       "1234  1709078400 5,081.00 39,208.03 7,624.98 17,601.22\n",
       "1407  1730678400 5,743.25       NaN 8,184.24 19,147.85\n",
       "...          ...      ...       ...      ...       ...\n",
       "1418  1731974400 5,938.75 38,414.43 8,099.02 19,060.31\n",
       "1435  1734048000 6,055.50 39,470.44 8,300.33 20,405.92\n",
       "1237  1709510400 5,138.25 40,109.23 7,640.33 17,716.17\n",
       "501   1617062400 3,947.75 29,432.70 6,772.12 15,008.61\n",
       "296   1591315200 3,186.75 22,863.73 6,484.30 12,847.68\n",
       "\n",
       "[303 rows x 5 columns]"
      ]
     },
     "execution_count": 5,
     "metadata": {},
     "output_type": "execute_result"
    },
    {
     "data": {
      "text/plain": [
       "1495   5,638.94\n",
       "232    3,023.94\n",
       "830    3,959.90\n",
       "456    3,855.36\n",
       "1265   5,123.41\n",
       "         ...   \n",
       "70     3,014.30\n",
       "132    2,938.13\n",
       "1313   5,464.62\n",
       "109    2,978.43\n",
       "1504   5,693.31\n",
       "Name: SP500, Length: 1208, dtype: float64"
      ]
     },
     "execution_count": 5,
     "metadata": {},
     "output_type": "execute_result"
    },
    {
     "data": {
      "text/plain": [
       "969    4,164.00\n",
       "721    4,504.08\n",
       "1271   5,010.60\n",
       "1234   5,069.76\n",
       "1407   5,712.69\n",
       "         ...   \n",
       "1418   5,916.98\n",
       "1435   6,051.09\n",
       "1237   5,130.95\n",
       "501    3,958.55\n",
       "296    3,193.93\n",
       "Name: SP500, Length: 303, dtype: float64"
      ]
     },
     "execution_count": 5,
     "metadata": {},
     "output_type": "execute_result"
    }
   ],
   "source": [
    "X_train, X_test, y_train, y_test = train_test_split(data_set.drop(columns = ['SP500']), data_set['SP500'], test_size=0.2, random_state=50)\n",
    "X_train\n",
    "X_test\n",
    "y_train\n",
    "y_test"
   ]
  },
  {
   "cell_type": "markdown",
   "id": "9d422bca",
   "metadata": {},
   "source": [
    "# Decison tree\n"
   ]
  },
  {
   "cell_type": "code",
   "execution_count": 6,
   "id": "e7b21b98",
   "metadata": {},
   "outputs": [],
   "source": [
    "clf = DecisionTreeRegressor(random_state=50)\n",
    "\n",
    "clf = clf.fit(X_train, y_train) "
   ]
  },
  {
   "cell_type": "code",
   "execution_count": 7,
   "id": "1e80b198",
   "metadata": {},
   "outputs": [
    {
     "data": {
      "text/plain": [
       "Index(['Date', 'Futures', 'Nikkei', 'FTSE', 'DAX'], dtype='object')"
      ]
     },
     "execution_count": 7,
     "metadata": {},
     "output_type": "execute_result"
    },
    {
     "data": {
      "text/plain": [
       "array([4.57128881e-05, 9.99758422e-01, 5.86308238e-05, 1.03027577e-04,\n",
       "       3.42063398e-05])"
      ]
     },
     "execution_count": 7,
     "metadata": {},
     "output_type": "execute_result"
    }
   ],
   "source": [
    "X_train.columns\n",
    "clf.feature_importances_"
   ]
  },
  {
   "cell_type": "code",
   "execution_count": 8,
   "id": "5f160e8a",
   "metadata": {},
   "outputs": [
    {
     "data": {
      "text/html": [
       "<div>\n",
       "<style scoped>\n",
       "    .dataframe tbody tr th:only-of-type {\n",
       "        vertical-align: middle;\n",
       "    }\n",
       "\n",
       "    .dataframe tbody tr th {\n",
       "        vertical-align: top;\n",
       "    }\n",
       "\n",
       "    .dataframe thead th {\n",
       "        text-align: right;\n",
       "    }\n",
       "</style>\n",
       "<table border=\"1\" class=\"dataframe\">\n",
       "  <thead>\n",
       "    <tr style=\"text-align: right;\">\n",
       "      <th></th>\n",
       "      <th>pred_spx</th>\n",
       "      <th>SP500</th>\n",
       "    </tr>\n",
       "  </thead>\n",
       "  <tbody>\n",
       "    <tr>\n",
       "      <th>969</th>\n",
       "      <td>4,175.48</td>\n",
       "      <td>4,164.00</td>\n",
       "    </tr>\n",
       "    <tr>\n",
       "      <th>721</th>\n",
       "      <td>4,486.23</td>\n",
       "      <td>4,504.08</td>\n",
       "    </tr>\n",
       "    <tr>\n",
       "      <th>1271</th>\n",
       "      <td>5,018.39</td>\n",
       "      <td>5,010.60</td>\n",
       "    </tr>\n",
       "    <tr>\n",
       "      <th>1234</th>\n",
       "      <td>5,069.53</td>\n",
       "      <td>5,069.76</td>\n",
       "    </tr>\n",
       "    <tr>\n",
       "      <th>1407</th>\n",
       "      <td>5,695.94</td>\n",
       "      <td>5,712.69</td>\n",
       "    </tr>\n",
       "  </tbody>\n",
       "</table>\n",
       "</div>"
      ],
      "text/plain": [
       "      pred_spx    SP500\n",
       "969   4,175.48 4,164.00\n",
       "721   4,486.23 4,504.08\n",
       "1271  5,018.39 5,010.60\n",
       "1234  5,069.53 5,069.76\n",
       "1407  5,695.94 5,712.69"
      ]
     },
     "execution_count": 8,
     "metadata": {},
     "output_type": "execute_result"
    },
    {
     "name": "stdout",
     "output_type": "stream",
     "text": [
      "Mean absolute error is \n",
      "9.088844884488429\n"
     ]
    },
    {
     "data": {
      "text/plain": [
       "{'hybrid': 0,\n",
       " 'xg': 0,\n",
       " 'dt': np.float64(9.088844884488429),\n",
       " 'bg': 0,\n",
       " 'rf': 0,\n",
       " 'hist': 0}"
      ]
     },
     "execution_count": 8,
     "metadata": {},
     "output_type": "execute_result"
    }
   ],
   "source": [
    "test_output = pd.DataFrame(clf.predict(X_test), index = X_test.index, columns = ['pred_spx'])\n",
    "test_output = test_output.merge(y_test, left_index = True, right_index = True)\n",
    "test_output.head()\n",
    "mean_absolute_error = abs(test_output['pred_spx'] - test_output['SP500']).mean()\n",
    "print('Mean absolute error is ')\n",
    "print(mean_absolute_error)\n",
    "dt = abs(test_output['pred_spx'] - test_output['SP500']).mean()/test_output['SP500'].mean()\n",
    "\n",
    "scores['dt'] = mean_absolute_error\n",
    "scores"
   ]
  },
  {
   "cell_type": "markdown",
   "id": "21b60116",
   "metadata": {},
   "source": [
    "## Bagging Regressor ## "
   ]
  },
  {
   "cell_type": "code",
   "execution_count": 9,
   "id": "6a9699be",
   "metadata": {},
   "outputs": [],
   "source": [
    "regr = BaggingRegressor(random_state=50, n_estimators = 200, max_samples = 1000)\n",
    "\n",
    "regr = regr.fit(X_train, y_train) "
   ]
  },
  {
   "cell_type": "code",
   "execution_count": 10,
   "id": "7598e234",
   "metadata": {},
   "outputs": [
    {
     "data": {
      "text/html": [
       "<div>\n",
       "<style scoped>\n",
       "    .dataframe tbody tr th:only-of-type {\n",
       "        vertical-align: middle;\n",
       "    }\n",
       "\n",
       "    .dataframe tbody tr th {\n",
       "        vertical-align: top;\n",
       "    }\n",
       "\n",
       "    .dataframe thead th {\n",
       "        text-align: right;\n",
       "    }\n",
       "</style>\n",
       "<table border=\"1\" class=\"dataframe\">\n",
       "  <thead>\n",
       "    <tr style=\"text-align: right;\">\n",
       "      <th></th>\n",
       "      <th>pred_spx</th>\n",
       "      <th>SP500</th>\n",
       "    </tr>\n",
       "  </thead>\n",
       "  <tbody>\n",
       "    <tr>\n",
       "      <th>969</th>\n",
       "      <td>4,161.68</td>\n",
       "      <td>4,164.00</td>\n",
       "    </tr>\n",
       "    <tr>\n",
       "      <th>721</th>\n",
       "      <td>4,485.60</td>\n",
       "      <td>4,504.08</td>\n",
       "    </tr>\n",
       "    <tr>\n",
       "      <th>1271</th>\n",
       "      <td>5,020.93</td>\n",
       "      <td>5,010.60</td>\n",
       "    </tr>\n",
       "    <tr>\n",
       "      <th>1234</th>\n",
       "      <td>5,073.75</td>\n",
       "      <td>5,069.76</td>\n",
       "    </tr>\n",
       "    <tr>\n",
       "      <th>1407</th>\n",
       "      <td>5,706.59</td>\n",
       "      <td>5,712.69</td>\n",
       "    </tr>\n",
       "  </tbody>\n",
       "</table>\n",
       "</div>"
      ],
      "text/plain": [
       "      pred_spx    SP500\n",
       "969   4,161.68 4,164.00\n",
       "721   4,485.60 4,504.08\n",
       "1271  5,020.93 5,010.60\n",
       "1234  5,073.75 5,069.76\n",
       "1407  5,706.59 5,712.69"
      ]
     },
     "execution_count": 10,
     "metadata": {},
     "output_type": "execute_result"
    },
    {
     "name": "stdout",
     "output_type": "stream",
     "text": [
      "Mean absolute error is \n",
      "8.015044059406495\n"
     ]
    }
   ],
   "source": [
    "test_output = pd.DataFrame(regr.predict(X_test), index = X_test.index, columns = ['pred_spx'])\n",
    "test_output = test_output.merge(y_test, left_index = True, right_index = True)\n",
    "test_output.head()\n",
    "mean_absolute_error = abs(test_output['pred_spx'] - test_output['SP500']).mean()\n",
    "print('Mean absolute error is ')\n",
    "print(mean_absolute_error)\n",
    "bg = abs(test_output['pred_spx'] - test_output['SP500']).mean()/test_output['SP500'].mean()\n",
    "\n",
    "scores['bg'] = mean_absolute_error"
   ]
  },
  {
   "cell_type": "markdown",
   "id": "51327dc2",
   "metadata": {},
   "source": [
    "## Random Forest Regressor "
   ]
  },
  {
   "cell_type": "code",
   "execution_count": 11,
   "id": "628133a6",
   "metadata": {},
   "outputs": [],
   "source": [
    "rf = RandomForestRegressor(random_state=50, min_samples_leaf = 3, max_features = \"sqrt\")\n",
    "\n",
    "rf = rf.fit(X_train, y_train) \n"
   ]
  },
  {
   "cell_type": "code",
   "execution_count": 12,
   "id": "5b6b1dc8",
   "metadata": {},
   "outputs": [
    {
     "data": {
      "text/plain": [
       "Index(['Date', 'Futures', 'Nikkei', 'FTSE', 'DAX'], dtype='object')"
      ]
     },
     "execution_count": 12,
     "metadata": {},
     "output_type": "execute_result"
    },
    {
     "data": {
      "text/plain": [
       "array([0.28457093, 0.43080921, 0.11360047, 0.04031329, 0.1307061 ])"
      ]
     },
     "execution_count": 12,
     "metadata": {},
     "output_type": "execute_result"
    }
   ],
   "source": [
    "X_train.columns\n",
    "rf.feature_importances_"
   ]
  },
  {
   "cell_type": "code",
   "execution_count": 13,
   "id": "b48d974c",
   "metadata": {},
   "outputs": [
    {
     "data": {
      "text/html": [
       "<div>\n",
       "<style scoped>\n",
       "    .dataframe tbody tr th:only-of-type {\n",
       "        vertical-align: middle;\n",
       "    }\n",
       "\n",
       "    .dataframe tbody tr th {\n",
       "        vertical-align: top;\n",
       "    }\n",
       "\n",
       "    .dataframe thead th {\n",
       "        text-align: right;\n",
       "    }\n",
       "</style>\n",
       "<table border=\"1\" class=\"dataframe\">\n",
       "  <thead>\n",
       "    <tr style=\"text-align: right;\">\n",
       "      <th></th>\n",
       "      <th>pred_spx</th>\n",
       "      <th>SP500</th>\n",
       "    </tr>\n",
       "  </thead>\n",
       "  <tbody>\n",
       "    <tr>\n",
       "      <th>969</th>\n",
       "      <td>4,142.57</td>\n",
       "      <td>4,164.00</td>\n",
       "    </tr>\n",
       "    <tr>\n",
       "      <th>721</th>\n",
       "      <td>4,498.50</td>\n",
       "      <td>4,504.08</td>\n",
       "    </tr>\n",
       "    <tr>\n",
       "      <th>1271</th>\n",
       "      <td>5,048.62</td>\n",
       "      <td>5,010.60</td>\n",
       "    </tr>\n",
       "    <tr>\n",
       "      <th>1234</th>\n",
       "      <td>5,073.93</td>\n",
       "      <td>5,069.76</td>\n",
       "    </tr>\n",
       "    <tr>\n",
       "      <th>1407</th>\n",
       "      <td>5,713.27</td>\n",
       "      <td>5,712.69</td>\n",
       "    </tr>\n",
       "  </tbody>\n",
       "</table>\n",
       "</div>"
      ],
      "text/plain": [
       "      pred_spx    SP500\n",
       "969   4,142.57 4,164.00\n",
       "721   4,498.50 4,504.08\n",
       "1271  5,048.62 5,010.60\n",
       "1234  5,073.93 5,069.76\n",
       "1407  5,713.27 5,712.69"
      ]
     },
     "execution_count": 13,
     "metadata": {},
     "output_type": "execute_result"
    },
    {
     "name": "stdout",
     "output_type": "stream",
     "text": [
      "Mean absolute error is \n",
      "14.01738480138765\n"
     ]
    }
   ],
   "source": [
    "test_output = pd.DataFrame(rf.predict(X_test), index = X_test.index, columns = ['pred_spx'])\n",
    "test_output = test_output.merge(y_test, left_index = True, right_index = True)\n",
    "test_output.head()\n",
    "mean_absolute_error = abs(test_output['pred_spx'] - test_output['SP500']).mean()\n",
    "print('Mean absolute error is ')\n",
    "print(mean_absolute_error)\n",
    "rf = abs(test_output['pred_spx'] - test_output['SP500']).mean()/test_output['SP500'].mean()\n",
    "\n",
    "scores['rf'] = mean_absolute_error"
   ]
  },
  {
   "cell_type": "markdown",
   "id": "69f14b76",
   "metadata": {},
   "source": [
    "## HistGradBoosting Regressor"
   ]
  },
  {
   "cell_type": "code",
   "execution_count": 14,
   "id": "47b50efb",
   "metadata": {},
   "outputs": [],
   "source": [
    "gb = HistGradientBoostingRegressor(random_state=50, min_samples_leaf = 2, max_depth = 4) #GradientBoostingRegressor(random_state=50, min_samples_leaf = 2, max_depth = 4)\n",
    "\n",
    "gb = gb.fit(X_train, y_train) \n"
   ]
  },
  {
   "cell_type": "code",
   "execution_count": 15,
   "id": "dacef454",
   "metadata": {},
   "outputs": [
    {
     "data": {
      "text/plain": [
       "Index(['Date', 'Futures', 'Nikkei', 'FTSE', 'DAX'], dtype='object')"
      ]
     },
     "execution_count": 15,
     "metadata": {},
     "output_type": "execute_result"
    }
   ],
   "source": [
    "X_train.columns\n",
    "#gb.feature_importances_"
   ]
  },
  {
   "cell_type": "code",
   "execution_count": 16,
   "id": "873bce22",
   "metadata": {},
   "outputs": [
    {
     "data": {
      "text/html": [
       "<div>\n",
       "<style scoped>\n",
       "    .dataframe tbody tr th:only-of-type {\n",
       "        vertical-align: middle;\n",
       "    }\n",
       "\n",
       "    .dataframe tbody tr th {\n",
       "        vertical-align: top;\n",
       "    }\n",
       "\n",
       "    .dataframe thead th {\n",
       "        text-align: right;\n",
       "    }\n",
       "</style>\n",
       "<table border=\"1\" class=\"dataframe\">\n",
       "  <thead>\n",
       "    <tr style=\"text-align: right;\">\n",
       "      <th></th>\n",
       "      <th>pred_spx</th>\n",
       "      <th>SP500</th>\n",
       "    </tr>\n",
       "  </thead>\n",
       "  <tbody>\n",
       "    <tr>\n",
       "      <th>969</th>\n",
       "      <td>4,160.29</td>\n",
       "      <td>4,164.00</td>\n",
       "    </tr>\n",
       "    <tr>\n",
       "      <th>721</th>\n",
       "      <td>4,482.04</td>\n",
       "      <td>4,504.08</td>\n",
       "    </tr>\n",
       "    <tr>\n",
       "      <th>1271</th>\n",
       "      <td>5,008.67</td>\n",
       "      <td>5,010.60</td>\n",
       "    </tr>\n",
       "    <tr>\n",
       "      <th>1234</th>\n",
       "      <td>5,065.66</td>\n",
       "      <td>5,069.76</td>\n",
       "    </tr>\n",
       "    <tr>\n",
       "      <th>1407</th>\n",
       "      <td>5,713.52</td>\n",
       "      <td>5,712.69</td>\n",
       "    </tr>\n",
       "  </tbody>\n",
       "</table>\n",
       "</div>"
      ],
      "text/plain": [
       "      pred_spx    SP500\n",
       "969   4,160.29 4,164.00\n",
       "721   4,482.04 4,504.08\n",
       "1271  5,008.67 5,010.60\n",
       "1234  5,065.66 5,069.76\n",
       "1407  5,713.52 5,712.69"
      ]
     },
     "execution_count": 16,
     "metadata": {},
     "output_type": "execute_result"
    },
    {
     "name": "stdout",
     "output_type": "stream",
     "text": [
      "Mean absolute error is \n",
      "7.6612200627916325\n"
     ]
    }
   ],
   "source": [
    "test_output = pd.DataFrame(gb.predict(X_test), index = X_test.index, columns = ['pred_spx'])\n",
    "test_output = test_output.merge(y_test, left_index = True, right_index = True)\n",
    "test_output.head()\n",
    "mean_absolute_error = abs(test_output['pred_spx'] - test_output['SP500']).mean()\n",
    "print('Mean absolute error is ')\n",
    "print(mean_absolute_error)\n",
    "hist = abs(test_output['pred_spx'] - test_output['SP500']).mean()/test_output['SP500'].mean()\n",
    "\n",
    "scores['hist'] = mean_absolute_error"
   ]
  },
  {
   "cell_type": "markdown",
   "id": "f49e7d98",
   "metadata": {},
   "source": [
    "## XGBoost Regressor "
   ]
  },
  {
   "cell_type": "code",
   "execution_count": 17,
   "id": "9509409c",
   "metadata": {},
   "outputs": [],
   "source": [
    "# XGBoost comes with its own class for storing datasets called DMatrix. \n",
    "# It is a highly optimized class for memory and speed. \n",
    "# That's why converting datasets into this format is a requirement for the native XGBoost API:\n",
    "\n",
    "\n",
    "# Create regression matrices\n",
    "\n",
    "dtrain_reg = xgb.DMatrix(X_train, y_train, enable_categorical=True)\n",
    "\n",
    "dtest_reg = xgb.DMatrix(X_test, y_test, enable_categorical=True)"
   ]
  },
  {
   "cell_type": "code",
   "execution_count": 18,
   "id": "4705ea0f",
   "metadata": {},
   "outputs": [],
   "source": [
    "params = {\"objective\": \"reg:squarederror\", \"tree_method\": \"exact\", \"max_depth\" : 4, \"learning_rate\" : 0.1} # use \"tree_method\" : \"hist\" if you need speed"
   ]
  },
  {
   "cell_type": "code",
   "execution_count": 19,
   "id": "cb137954",
   "metadata": {},
   "outputs": [],
   "source": [
    "n = 100\n",
    "\n",
    "model = xgb.train(\n",
    "\n",
    "   params=params,\n",
    "\n",
    "   dtrain=dtrain_reg,\n",
    "\n",
    "   num_boost_round=n,\n",
    "\n",
    ")"
   ]
  },
  {
   "cell_type": "code",
   "execution_count": 20,
   "id": "82db493d",
   "metadata": {},
   "outputs": [],
   "source": [
    "from sklearn.metrics import mean_squared_error\n",
    "preds = model.predict(dtest_reg)\n"
   ]
  },
  {
   "cell_type": "code",
   "execution_count": 21,
   "id": "ea95f735",
   "metadata": {},
   "outputs": [
    {
     "data": {
      "text/html": [
       "<div>\n",
       "<style scoped>\n",
       "    .dataframe tbody tr th:only-of-type {\n",
       "        vertical-align: middle;\n",
       "    }\n",
       "\n",
       "    .dataframe tbody tr th {\n",
       "        vertical-align: top;\n",
       "    }\n",
       "\n",
       "    .dataframe thead th {\n",
       "        text-align: right;\n",
       "    }\n",
       "</style>\n",
       "<table border=\"1\" class=\"dataframe\">\n",
       "  <thead>\n",
       "    <tr style=\"text-align: right;\">\n",
       "      <th></th>\n",
       "      <th>pred_spx</th>\n",
       "      <th>SP500</th>\n",
       "    </tr>\n",
       "  </thead>\n",
       "  <tbody>\n",
       "    <tr>\n",
       "      <th>969</th>\n",
       "      <td>4,159.93</td>\n",
       "      <td>4,164.00</td>\n",
       "    </tr>\n",
       "    <tr>\n",
       "      <th>721</th>\n",
       "      <td>4,479.68</td>\n",
       "      <td>4,504.08</td>\n",
       "    </tr>\n",
       "    <tr>\n",
       "      <th>1271</th>\n",
       "      <td>5,018.24</td>\n",
       "      <td>5,010.60</td>\n",
       "    </tr>\n",
       "    <tr>\n",
       "      <th>1234</th>\n",
       "      <td>5,060.10</td>\n",
       "      <td>5,069.76</td>\n",
       "    </tr>\n",
       "    <tr>\n",
       "      <th>1407</th>\n",
       "      <td>5,713.11</td>\n",
       "      <td>5,712.69</td>\n",
       "    </tr>\n",
       "  </tbody>\n",
       "</table>\n",
       "</div>"
      ],
      "text/plain": [
       "      pred_spx    SP500\n",
       "969   4,159.93 4,164.00\n",
       "721   4,479.68 4,504.08\n",
       "1271  5,018.24 5,010.60\n",
       "1234  5,060.10 5,069.76\n",
       "1407  5,713.11 5,712.69"
      ]
     },
     "execution_count": 21,
     "metadata": {},
     "output_type": "execute_result"
    },
    {
     "name": "stdout",
     "output_type": "stream",
     "text": [
      "Mean absolute error is \n",
      "7.278389445389856\n",
      "0.0017529357041819553\n",
      "{'hybrid': 0, 'xg': np.float64(7.278389445389856), 'dt': np.float64(9.088844884488429), 'bg': np.float64(8.015044059406495), 'rf': np.float64(14.01738480138765), 'hist': np.float64(7.6612200627916325)}\n"
     ]
    }
   ],
   "source": [
    "test_output = pd.DataFrame(preds, index = X_test.index, columns = ['pred_spx'])\n",
    "test_output = test_output.merge(y_test, left_index = True, right_index = True)\n",
    "test_output.head()\n",
    "mean_absolute_error = abs(test_output['pred_spx'] - test_output['SP500']).mean()\n",
    "print('Mean absolute error is ')\n",
    "print(mean_absolute_error)\n",
    "xg = abs(test_output['pred_spx'] - test_output['SP500']).mean()/test_output['SP500'].mean()\n",
    "print(xg)\n",
    "\n",
    "scores['xg'] = mean_absolute_error\n",
    "print(scores)\n",
    "\n",
    "XGBmodel = model # for later use"
   ]
  },
  {
   "cell_type": "markdown",
   "id": "54cfb086",
   "metadata": {},
   "source": [
    "## Hybrid Model "
   ]
  },
  {
   "cell_type": "code",
   "execution_count": 22,
   "id": "2f0e35d9",
   "metadata": {},
   "outputs": [
    {
     "data": {
      "text/html": [
       "<style>#sk-container-id-1 {\n",
       "  /* Definition of color scheme common for light and dark mode */\n",
       "  --sklearn-color-text: #000;\n",
       "  --sklearn-color-text-muted: #666;\n",
       "  --sklearn-color-line: gray;\n",
       "  /* Definition of color scheme for unfitted estimators */\n",
       "  --sklearn-color-unfitted-level-0: #fff5e6;\n",
       "  --sklearn-color-unfitted-level-1: #f6e4d2;\n",
       "  --sklearn-color-unfitted-level-2: #ffe0b3;\n",
       "  --sklearn-color-unfitted-level-3: chocolate;\n",
       "  /* Definition of color scheme for fitted estimators */\n",
       "  --sklearn-color-fitted-level-0: #f0f8ff;\n",
       "  --sklearn-color-fitted-level-1: #d4ebff;\n",
       "  --sklearn-color-fitted-level-2: #b3dbfd;\n",
       "  --sklearn-color-fitted-level-3: cornflowerblue;\n",
       "\n",
       "  /* Specific color for light theme */\n",
       "  --sklearn-color-text-on-default-background: var(--sg-text-color, var(--theme-code-foreground, var(--jp-content-font-color1, black)));\n",
       "  --sklearn-color-background: var(--sg-background-color, var(--theme-background, var(--jp-layout-color0, white)));\n",
       "  --sklearn-color-border-box: var(--sg-text-color, var(--theme-code-foreground, var(--jp-content-font-color1, black)));\n",
       "  --sklearn-color-icon: #696969;\n",
       "\n",
       "  @media (prefers-color-scheme: dark) {\n",
       "    /* Redefinition of color scheme for dark theme */\n",
       "    --sklearn-color-text-on-default-background: var(--sg-text-color, var(--theme-code-foreground, var(--jp-content-font-color1, white)));\n",
       "    --sklearn-color-background: var(--sg-background-color, var(--theme-background, var(--jp-layout-color0, #111)));\n",
       "    --sklearn-color-border-box: var(--sg-text-color, var(--theme-code-foreground, var(--jp-content-font-color1, white)));\n",
       "    --sklearn-color-icon: #878787;\n",
       "  }\n",
       "}\n",
       "\n",
       "#sk-container-id-1 {\n",
       "  color: var(--sklearn-color-text);\n",
       "}\n",
       "\n",
       "#sk-container-id-1 pre {\n",
       "  padding: 0;\n",
       "}\n",
       "\n",
       "#sk-container-id-1 input.sk-hidden--visually {\n",
       "  border: 0;\n",
       "  clip: rect(1px 1px 1px 1px);\n",
       "  clip: rect(1px, 1px, 1px, 1px);\n",
       "  height: 1px;\n",
       "  margin: -1px;\n",
       "  overflow: hidden;\n",
       "  padding: 0;\n",
       "  position: absolute;\n",
       "  width: 1px;\n",
       "}\n",
       "\n",
       "#sk-container-id-1 div.sk-dashed-wrapped {\n",
       "  border: 1px dashed var(--sklearn-color-line);\n",
       "  margin: 0 0.4em 0.5em 0.4em;\n",
       "  box-sizing: border-box;\n",
       "  padding-bottom: 0.4em;\n",
       "  background-color: var(--sklearn-color-background);\n",
       "}\n",
       "\n",
       "#sk-container-id-1 div.sk-container {\n",
       "  /* jupyter's `normalize.less` sets `[hidden] { display: none; }`\n",
       "     but bootstrap.min.css set `[hidden] { display: none !important; }`\n",
       "     so we also need the `!important` here to be able to override the\n",
       "     default hidden behavior on the sphinx rendered scikit-learn.org.\n",
       "     See: https://github.com/scikit-learn/scikit-learn/issues/21755 */\n",
       "  display: inline-block !important;\n",
       "  position: relative;\n",
       "}\n",
       "\n",
       "#sk-container-id-1 div.sk-text-repr-fallback {\n",
       "  display: none;\n",
       "}\n",
       "\n",
       "div.sk-parallel-item,\n",
       "div.sk-serial,\n",
       "div.sk-item {\n",
       "  /* draw centered vertical line to link estimators */\n",
       "  background-image: linear-gradient(var(--sklearn-color-text-on-default-background), var(--sklearn-color-text-on-default-background));\n",
       "  background-size: 2px 100%;\n",
       "  background-repeat: no-repeat;\n",
       "  background-position: center center;\n",
       "}\n",
       "\n",
       "/* Parallel-specific style estimator block */\n",
       "\n",
       "#sk-container-id-1 div.sk-parallel-item::after {\n",
       "  content: \"\";\n",
       "  width: 100%;\n",
       "  border-bottom: 2px solid var(--sklearn-color-text-on-default-background);\n",
       "  flex-grow: 1;\n",
       "}\n",
       "\n",
       "#sk-container-id-1 div.sk-parallel {\n",
       "  display: flex;\n",
       "  align-items: stretch;\n",
       "  justify-content: center;\n",
       "  background-color: var(--sklearn-color-background);\n",
       "  position: relative;\n",
       "}\n",
       "\n",
       "#sk-container-id-1 div.sk-parallel-item {\n",
       "  display: flex;\n",
       "  flex-direction: column;\n",
       "}\n",
       "\n",
       "#sk-container-id-1 div.sk-parallel-item:first-child::after {\n",
       "  align-self: flex-end;\n",
       "  width: 50%;\n",
       "}\n",
       "\n",
       "#sk-container-id-1 div.sk-parallel-item:last-child::after {\n",
       "  align-self: flex-start;\n",
       "  width: 50%;\n",
       "}\n",
       "\n",
       "#sk-container-id-1 div.sk-parallel-item:only-child::after {\n",
       "  width: 0;\n",
       "}\n",
       "\n",
       "/* Serial-specific style estimator block */\n",
       "\n",
       "#sk-container-id-1 div.sk-serial {\n",
       "  display: flex;\n",
       "  flex-direction: column;\n",
       "  align-items: center;\n",
       "  background-color: var(--sklearn-color-background);\n",
       "  padding-right: 1em;\n",
       "  padding-left: 1em;\n",
       "}\n",
       "\n",
       "\n",
       "/* Toggleable style: style used for estimator/Pipeline/ColumnTransformer box that is\n",
       "clickable and can be expanded/collapsed.\n",
       "- Pipeline and ColumnTransformer use this feature and define the default style\n",
       "- Estimators will overwrite some part of the style using the `sk-estimator` class\n",
       "*/\n",
       "\n",
       "/* Pipeline and ColumnTransformer style (default) */\n",
       "\n",
       "#sk-container-id-1 div.sk-toggleable {\n",
       "  /* Default theme specific background. It is overwritten whether we have a\n",
       "  specific estimator or a Pipeline/ColumnTransformer */\n",
       "  background-color: var(--sklearn-color-background);\n",
       "}\n",
       "\n",
       "/* Toggleable label */\n",
       "#sk-container-id-1 label.sk-toggleable__label {\n",
       "  cursor: pointer;\n",
       "  display: flex;\n",
       "  width: 100%;\n",
       "  margin-bottom: 0;\n",
       "  padding: 0.5em;\n",
       "  box-sizing: border-box;\n",
       "  text-align: center;\n",
       "  align-items: start;\n",
       "  justify-content: space-between;\n",
       "  gap: 0.5em;\n",
       "}\n",
       "\n",
       "#sk-container-id-1 label.sk-toggleable__label .caption {\n",
       "  font-size: 0.6rem;\n",
       "  font-weight: lighter;\n",
       "  color: var(--sklearn-color-text-muted);\n",
       "}\n",
       "\n",
       "#sk-container-id-1 label.sk-toggleable__label-arrow:before {\n",
       "  /* Arrow on the left of the label */\n",
       "  content: \"▸\";\n",
       "  float: left;\n",
       "  margin-right: 0.25em;\n",
       "  color: var(--sklearn-color-icon);\n",
       "}\n",
       "\n",
       "#sk-container-id-1 label.sk-toggleable__label-arrow:hover:before {\n",
       "  color: var(--sklearn-color-text);\n",
       "}\n",
       "\n",
       "/* Toggleable content - dropdown */\n",
       "\n",
       "#sk-container-id-1 div.sk-toggleable__content {\n",
       "  max-height: 0;\n",
       "  max-width: 0;\n",
       "  overflow: hidden;\n",
       "  text-align: left;\n",
       "  /* unfitted */\n",
       "  background-color: var(--sklearn-color-unfitted-level-0);\n",
       "}\n",
       "\n",
       "#sk-container-id-1 div.sk-toggleable__content.fitted {\n",
       "  /* fitted */\n",
       "  background-color: var(--sklearn-color-fitted-level-0);\n",
       "}\n",
       "\n",
       "#sk-container-id-1 div.sk-toggleable__content pre {\n",
       "  margin: 0.2em;\n",
       "  border-radius: 0.25em;\n",
       "  color: var(--sklearn-color-text);\n",
       "  /* unfitted */\n",
       "  background-color: var(--sklearn-color-unfitted-level-0);\n",
       "}\n",
       "\n",
       "#sk-container-id-1 div.sk-toggleable__content.fitted pre {\n",
       "  /* unfitted */\n",
       "  background-color: var(--sklearn-color-fitted-level-0);\n",
       "}\n",
       "\n",
       "#sk-container-id-1 input.sk-toggleable__control:checked~div.sk-toggleable__content {\n",
       "  /* Expand drop-down */\n",
       "  max-height: 200px;\n",
       "  max-width: 100%;\n",
       "  overflow: auto;\n",
       "}\n",
       "\n",
       "#sk-container-id-1 input.sk-toggleable__control:checked~label.sk-toggleable__label-arrow:before {\n",
       "  content: \"▾\";\n",
       "}\n",
       "\n",
       "/* Pipeline/ColumnTransformer-specific style */\n",
       "\n",
       "#sk-container-id-1 div.sk-label input.sk-toggleable__control:checked~label.sk-toggleable__label {\n",
       "  color: var(--sklearn-color-text);\n",
       "  background-color: var(--sklearn-color-unfitted-level-2);\n",
       "}\n",
       "\n",
       "#sk-container-id-1 div.sk-label.fitted input.sk-toggleable__control:checked~label.sk-toggleable__label {\n",
       "  background-color: var(--sklearn-color-fitted-level-2);\n",
       "}\n",
       "\n",
       "/* Estimator-specific style */\n",
       "\n",
       "/* Colorize estimator box */\n",
       "#sk-container-id-1 div.sk-estimator input.sk-toggleable__control:checked~label.sk-toggleable__label {\n",
       "  /* unfitted */\n",
       "  background-color: var(--sklearn-color-unfitted-level-2);\n",
       "}\n",
       "\n",
       "#sk-container-id-1 div.sk-estimator.fitted input.sk-toggleable__control:checked~label.sk-toggleable__label {\n",
       "  /* fitted */\n",
       "  background-color: var(--sklearn-color-fitted-level-2);\n",
       "}\n",
       "\n",
       "#sk-container-id-1 div.sk-label label.sk-toggleable__label,\n",
       "#sk-container-id-1 div.sk-label label {\n",
       "  /* The background is the default theme color */\n",
       "  color: var(--sklearn-color-text-on-default-background);\n",
       "}\n",
       "\n",
       "/* On hover, darken the color of the background */\n",
       "#sk-container-id-1 div.sk-label:hover label.sk-toggleable__label {\n",
       "  color: var(--sklearn-color-text);\n",
       "  background-color: var(--sklearn-color-unfitted-level-2);\n",
       "}\n",
       "\n",
       "/* Label box, darken color on hover, fitted */\n",
       "#sk-container-id-1 div.sk-label.fitted:hover label.sk-toggleable__label.fitted {\n",
       "  color: var(--sklearn-color-text);\n",
       "  background-color: var(--sklearn-color-fitted-level-2);\n",
       "}\n",
       "\n",
       "/* Estimator label */\n",
       "\n",
       "#sk-container-id-1 div.sk-label label {\n",
       "  font-family: monospace;\n",
       "  font-weight: bold;\n",
       "  display: inline-block;\n",
       "  line-height: 1.2em;\n",
       "}\n",
       "\n",
       "#sk-container-id-1 div.sk-label-container {\n",
       "  text-align: center;\n",
       "}\n",
       "\n",
       "/* Estimator-specific */\n",
       "#sk-container-id-1 div.sk-estimator {\n",
       "  font-family: monospace;\n",
       "  border: 1px dotted var(--sklearn-color-border-box);\n",
       "  border-radius: 0.25em;\n",
       "  box-sizing: border-box;\n",
       "  margin-bottom: 0.5em;\n",
       "  /* unfitted */\n",
       "  background-color: var(--sklearn-color-unfitted-level-0);\n",
       "}\n",
       "\n",
       "#sk-container-id-1 div.sk-estimator.fitted {\n",
       "  /* fitted */\n",
       "  background-color: var(--sklearn-color-fitted-level-0);\n",
       "}\n",
       "\n",
       "/* on hover */\n",
       "#sk-container-id-1 div.sk-estimator:hover {\n",
       "  /* unfitted */\n",
       "  background-color: var(--sklearn-color-unfitted-level-2);\n",
       "}\n",
       "\n",
       "#sk-container-id-1 div.sk-estimator.fitted:hover {\n",
       "  /* fitted */\n",
       "  background-color: var(--sklearn-color-fitted-level-2);\n",
       "}\n",
       "\n",
       "/* Specification for estimator info (e.g. \"i\" and \"?\") */\n",
       "\n",
       "/* Common style for \"i\" and \"?\" */\n",
       "\n",
       ".sk-estimator-doc-link,\n",
       "a:link.sk-estimator-doc-link,\n",
       "a:visited.sk-estimator-doc-link {\n",
       "  float: right;\n",
       "  font-size: smaller;\n",
       "  line-height: 1em;\n",
       "  font-family: monospace;\n",
       "  background-color: var(--sklearn-color-background);\n",
       "  border-radius: 1em;\n",
       "  height: 1em;\n",
       "  width: 1em;\n",
       "  text-decoration: none !important;\n",
       "  margin-left: 0.5em;\n",
       "  text-align: center;\n",
       "  /* unfitted */\n",
       "  border: var(--sklearn-color-unfitted-level-1) 1pt solid;\n",
       "  color: var(--sklearn-color-unfitted-level-1);\n",
       "}\n",
       "\n",
       ".sk-estimator-doc-link.fitted,\n",
       "a:link.sk-estimator-doc-link.fitted,\n",
       "a:visited.sk-estimator-doc-link.fitted {\n",
       "  /* fitted */\n",
       "  border: var(--sklearn-color-fitted-level-1) 1pt solid;\n",
       "  color: var(--sklearn-color-fitted-level-1);\n",
       "}\n",
       "\n",
       "/* On hover */\n",
       "div.sk-estimator:hover .sk-estimator-doc-link:hover,\n",
       ".sk-estimator-doc-link:hover,\n",
       "div.sk-label-container:hover .sk-estimator-doc-link:hover,\n",
       ".sk-estimator-doc-link:hover {\n",
       "  /* unfitted */\n",
       "  background-color: var(--sklearn-color-unfitted-level-3);\n",
       "  color: var(--sklearn-color-background);\n",
       "  text-decoration: none;\n",
       "}\n",
       "\n",
       "div.sk-estimator.fitted:hover .sk-estimator-doc-link.fitted:hover,\n",
       ".sk-estimator-doc-link.fitted:hover,\n",
       "div.sk-label-container:hover .sk-estimator-doc-link.fitted:hover,\n",
       ".sk-estimator-doc-link.fitted:hover {\n",
       "  /* fitted */\n",
       "  background-color: var(--sklearn-color-fitted-level-3);\n",
       "  color: var(--sklearn-color-background);\n",
       "  text-decoration: none;\n",
       "}\n",
       "\n",
       "/* Span, style for the box shown on hovering the info icon */\n",
       ".sk-estimator-doc-link span {\n",
       "  display: none;\n",
       "  z-index: 9999;\n",
       "  position: relative;\n",
       "  font-weight: normal;\n",
       "  right: .2ex;\n",
       "  padding: .5ex;\n",
       "  margin: .5ex;\n",
       "  width: min-content;\n",
       "  min-width: 20ex;\n",
       "  max-width: 50ex;\n",
       "  color: var(--sklearn-color-text);\n",
       "  box-shadow: 2pt 2pt 4pt #999;\n",
       "  /* unfitted */\n",
       "  background: var(--sklearn-color-unfitted-level-0);\n",
       "  border: .5pt solid var(--sklearn-color-unfitted-level-3);\n",
       "}\n",
       "\n",
       ".sk-estimator-doc-link.fitted span {\n",
       "  /* fitted */\n",
       "  background: var(--sklearn-color-fitted-level-0);\n",
       "  border: var(--sklearn-color-fitted-level-3);\n",
       "}\n",
       "\n",
       ".sk-estimator-doc-link:hover span {\n",
       "  display: block;\n",
       "}\n",
       "\n",
       "/* \"?\"-specific style due to the `<a>` HTML tag */\n",
       "\n",
       "#sk-container-id-1 a.estimator_doc_link {\n",
       "  float: right;\n",
       "  font-size: 1rem;\n",
       "  line-height: 1em;\n",
       "  font-family: monospace;\n",
       "  background-color: var(--sklearn-color-background);\n",
       "  border-radius: 1rem;\n",
       "  height: 1rem;\n",
       "  width: 1rem;\n",
       "  text-decoration: none;\n",
       "  /* unfitted */\n",
       "  color: var(--sklearn-color-unfitted-level-1);\n",
       "  border: var(--sklearn-color-unfitted-level-1) 1pt solid;\n",
       "}\n",
       "\n",
       "#sk-container-id-1 a.estimator_doc_link.fitted {\n",
       "  /* fitted */\n",
       "  border: var(--sklearn-color-fitted-level-1) 1pt solid;\n",
       "  color: var(--sklearn-color-fitted-level-1);\n",
       "}\n",
       "\n",
       "/* On hover */\n",
       "#sk-container-id-1 a.estimator_doc_link:hover {\n",
       "  /* unfitted */\n",
       "  background-color: var(--sklearn-color-unfitted-level-3);\n",
       "  color: var(--sklearn-color-background);\n",
       "  text-decoration: none;\n",
       "}\n",
       "\n",
       "#sk-container-id-1 a.estimator_doc_link.fitted:hover {\n",
       "  /* fitted */\n",
       "  background-color: var(--sklearn-color-fitted-level-3);\n",
       "}\n",
       "</style><div id=\"sk-container-id-1\" class=\"sk-top-container\"><div class=\"sk-text-repr-fallback\"><pre>HistGradientBoostingRegressor(max_depth=4, min_samples_leaf=2, random_state=50)</pre><b>In a Jupyter environment, please rerun this cell to show the HTML representation or trust the notebook. <br />On GitHub, the HTML representation is unable to render, please try loading this page with nbviewer.org.</b></div><div class=\"sk-container\" hidden><div class=\"sk-item\"><div class=\"sk-estimator fitted sk-toggleable\"><input class=\"sk-toggleable__control sk-hidden--visually\" id=\"sk-estimator-id-1\" type=\"checkbox\" checked><label for=\"sk-estimator-id-1\" class=\"sk-toggleable__label fitted sk-toggleable__label-arrow\"><div><div>HistGradientBoostingRegressor</div></div><div><a class=\"sk-estimator-doc-link fitted\" rel=\"noreferrer\" target=\"_blank\" href=\"https://scikit-learn.org/1.6/modules/generated/sklearn.ensemble.HistGradientBoostingRegressor.html\">?<span>Documentation for HistGradientBoostingRegressor</span></a><span class=\"sk-estimator-doc-link fitted\">i<span>Fitted</span></span></div></label><div class=\"sk-toggleable__content fitted\"><pre>HistGradientBoostingRegressor(max_depth=4, min_samples_leaf=2, random_state=50)</pre></div> </div></div></div></div>"
      ],
      "text/plain": [
       "HistGradientBoostingRegressor(max_depth=4, min_samples_leaf=2, random_state=50)"
      ]
     },
     "execution_count": 22,
     "metadata": {},
     "output_type": "execute_result"
    },
    {
     "data": {
      "text/plain": [
       "0.9999064538203064"
      ]
     },
     "execution_count": 22,
     "metadata": {},
     "output_type": "execute_result"
    }
   ],
   "source": [
    "model = HistGradientBoostingRegressor(random_state=50, min_samples_leaf = 2, max_depth = 4) #LinearRegression(fit_intercept = True)\n",
    "model.fit(X_train, y_train) \n",
    "\n",
    "# The following gives the R-square score\n",
    "model.score(X_train, y_train) "
   ]
  },
  {
   "cell_type": "code",
   "execution_count": 23,
   "id": "09d740b6",
   "metadata": {},
   "outputs": [],
   "source": [
    "training_residuals = y_train - model.predict(X_train)"
   ]
  },
  {
   "cell_type": "code",
   "execution_count": 24,
   "id": "2e218242",
   "metadata": {},
   "outputs": [],
   "source": [
    "rf = RandomForestRegressor(random_state=50, min_samples_leaf = 3, max_features = \"sqrt\")\n",
    "\n",
    "rf = rf.fit(X_train, training_residuals) "
   ]
  },
  {
   "cell_type": "code",
   "execution_count": 25,
   "id": "cb735f23",
   "metadata": {},
   "outputs": [],
   "source": [
    "pred_residuals = rf.predict(X_test)\n",
    "y_pred = pred_residuals + model.predict(X_test)"
   ]
  },
  {
   "cell_type": "code",
   "execution_count": 26,
   "id": "f450ee73",
   "metadata": {},
   "outputs": [
    {
     "data": {
      "text/html": [
       "<div>\n",
       "<style scoped>\n",
       "    .dataframe tbody tr th:only-of-type {\n",
       "        vertical-align: middle;\n",
       "    }\n",
       "\n",
       "    .dataframe tbody tr th {\n",
       "        vertical-align: top;\n",
       "    }\n",
       "\n",
       "    .dataframe thead th {\n",
       "        text-align: right;\n",
       "    }\n",
       "</style>\n",
       "<table border=\"1\" class=\"dataframe\">\n",
       "  <thead>\n",
       "    <tr style=\"text-align: right;\">\n",
       "      <th></th>\n",
       "      <th>pred_spx</th>\n",
       "      <th>SP500</th>\n",
       "    </tr>\n",
       "  </thead>\n",
       "  <tbody>\n",
       "    <tr>\n",
       "      <th>969</th>\n",
       "      <td>4,160.03</td>\n",
       "      <td>4,164.00</td>\n",
       "    </tr>\n",
       "    <tr>\n",
       "      <th>721</th>\n",
       "      <td>4,483.03</td>\n",
       "      <td>4,504.08</td>\n",
       "    </tr>\n",
       "    <tr>\n",
       "      <th>1271</th>\n",
       "      <td>5,004.19</td>\n",
       "      <td>5,010.60</td>\n",
       "    </tr>\n",
       "    <tr>\n",
       "      <th>1234</th>\n",
       "      <td>5,072.64</td>\n",
       "      <td>5,069.76</td>\n",
       "    </tr>\n",
       "    <tr>\n",
       "      <th>1407</th>\n",
       "      <td>5,717.68</td>\n",
       "      <td>5,712.69</td>\n",
       "    </tr>\n",
       "  </tbody>\n",
       "</table>\n",
       "</div>"
      ],
      "text/plain": [
       "      pred_spx    SP500\n",
       "969   4,160.03 4,164.00\n",
       "721   4,483.03 4,504.08\n",
       "1271  5,004.19 5,010.60\n",
       "1234  5,072.64 5,069.76\n",
       "1407  5,717.68 5,712.69"
      ]
     },
     "execution_count": 26,
     "metadata": {},
     "output_type": "execute_result"
    },
    {
     "name": "stdout",
     "output_type": "stream",
     "text": [
      "Mean absolute error is \n",
      "7.463054618506222\n"
     ]
    }
   ],
   "source": [
    "test_output = pd.DataFrame(y_pred, index = X_test.index, columns = ['pred_spx'])\n",
    "test_output = test_output.merge(y_test, left_index = True, right_index = True)\n",
    "test_output.head()\n",
    "mean_absolute_error = abs(test_output['pred_spx'] - test_output['SP500']).mean()\n",
    "print('Mean absolute error is ')\n",
    "print(mean_absolute_error)\n",
    "hybrid = abs(test_output['pred_spx'] - test_output['SP500']).mean()/test_output['SP500'].mean()\n",
    "\n",
    "scores['hybrid'] = mean_absolute_error"
   ]
  },
  {
   "cell_type": "markdown",
   "id": "f190866e",
   "metadata": {},
   "source": [
    "## Plotting a Graph for Comparing Results\n"
   ]
  },
  {
   "cell_type": "code",
   "execution_count": 27,
   "id": "e2b6fa09",
   "metadata": {},
   "outputs": [
    {
     "name": "stdout",
     "output_type": "stream",
     "text": [
      "{'hybrid': np.float64(7.463054618506222), 'xg': np.float64(7.278389445389856), 'dt': np.float64(9.088844884488429), 'bg': np.float64(8.015044059406495), 'rf': np.float64(14.01738480138765), 'hist': np.float64(7.6612200627916325)}\n",
      "['hybrid', 'xg', 'dt', 'bg', 'rf', 'hist']\n",
      "[np.float64(7.463054618506222), np.float64(7.278389445389856), np.float64(9.088844884488429), np.float64(8.015044059406495), np.float64(14.01738480138765), np.float64(7.6612200627916325)]\n"
     ]
    },
    {
     "data": {
      "text/plain": [
       "<Figure size 1000x600 with 0 Axes>"
      ]
     },
     "execution_count": 27,
     "metadata": {},
     "output_type": "execute_result"
    },
    {
     "data": {
      "text/plain": [
       "Text(0.5, 1.0, 'Comparison of Mean Absolute Error (MAE) Across Models')"
      ]
     },
     "execution_count": 27,
     "metadata": {},
     "output_type": "execute_result"
    },
    {
     "data": {
      "text/plain": [
       "Text(0.5, 0, 'Models')"
      ]
     },
     "execution_count": 27,
     "metadata": {},
     "output_type": "execute_result"
    },
    {
     "data": {
      "text/plain": [
       "Text(0, 0.5, 'MAE (lower is better)')"
      ]
     },
     "execution_count": 27,
     "metadata": {},
     "output_type": "execute_result"
    },
    {
     "data": {
      "text/plain": [
       "([0, 1, 2, 3, 4, 5],\n",
       " [Text(0, 0, 'hybrid'),\n",
       "  Text(1, 0, 'xg'),\n",
       "  Text(2, 0, 'dt'),\n",
       "  Text(3, 0, 'bg'),\n",
       "  Text(4, 0, 'rf'),\n",
       "  Text(5, 0, 'hist')])"
      ]
     },
     "execution_count": 27,
     "metadata": {},
     "output_type": "execute_result"
    },
    {
     "data": {
      "text/plain": [
       "Text(0.0, 7.963054618506222, '7.46')"
      ]
     },
     "execution_count": 27,
     "metadata": {},
     "output_type": "execute_result"
    },
    {
     "data": {
      "text/plain": [
       "Text(1.0, 7.778389445389856, '7.28')"
      ]
     },
     "execution_count": 27,
     "metadata": {},
     "output_type": "execute_result"
    },
    {
     "data": {
      "text/plain": [
       "Text(2.0, 9.588844884488429, '9.09')"
      ]
     },
     "execution_count": 27,
     "metadata": {},
     "output_type": "execute_result"
    },
    {
     "data": {
      "text/plain": [
       "Text(3.0, 8.515044059406495, '8.02')"
      ]
     },
     "execution_count": 27,
     "metadata": {},
     "output_type": "execute_result"
    },
    {
     "data": {
      "text/plain": [
       "Text(4.0, 14.51738480138765, '14.02')"
      ]
     },
     "execution_count": 27,
     "metadata": {},
     "output_type": "execute_result"
    },
    {
     "data": {
      "text/plain": [
       "Text(5.0, 8.161220062791632, '7.66')"
      ]
     },
     "execution_count": 27,
     "metadata": {},
     "output_type": "execute_result"
    },
    {
     "data": {
      "image/png": "[encoded data removed]",
      "text/plain": [
       "<Figure size 1000x600 with 1 Axes>"
      ]
     },
     "metadata": {},
     "output_type": "display_data"
    }
   ],
   "source": [
    "import matplotlib.pyplot as plt\n",
    "# import pandas as pd\n",
    "\n",
    "print(scores)\n",
    "\n",
    "model_names = []\n",
    "mae = []\n",
    "for key in scores:\n",
    "    model_names.append(key)\n",
    "    mae.append(scores[key])\n",
    "\n",
    "print(model_names)\n",
    "print(mae)\n",
    "\n",
    "\n",
    "# Plot\n",
    "plt.figure(figsize=(10, 6))\n",
    "bars = plt.bar(model_names, mae, color='cornflowerblue', edgecolor='black')\n",
    "plt.title('Comparison of Mean Absolute Error (MAE) Across Models', fontsize=14)\n",
    "plt.xlabel('Models')\n",
    "plt.ylabel('MAE (lower is better)')\n",
    "plt.xticks(rotation=45)\n",
    "\n",
    "# Annotate bars\n",
    "for bar in bars:\n",
    "    yval = bar.get_height()\n",
    "    plt.text(bar.get_x() + bar.get_width()/2.0, yval + 0.5, f'{yval:.2f}', ha='center', va='bottom')\n",
    "\n",
    "plt.tight_layout()\n",
    "plt.show()\n"
   ]
  },
  {
   "cell_type": "code",
   "execution_count": null,
   "id": "a01068b0-c375-4218-ac5e-bb8946b20633",
   "metadata": {},
   "outputs": [],
   "source": []
  },
  {
   "cell_type": "code",
   "execution_count": 28,
   "id": "0757a9ff-111b-45ab-a839-d5dfe3002233",
   "metadata": {},
   "outputs": [
    {
     "ename": "KeyError",
     "evalue": "'Date'",
     "output_type": "error",
     "traceback": [
      "\u001b[31m---------------------------------------------------------------------------\u001b[39m",
      "\u001b[31mKeyError\u001b[39m                                  Traceback (most recent call last)",
      "\u001b[36mFile \u001b[39m\u001b[32m~/.local/lib/python3.13/site-packages/pandas/core/indexes/base.py:3805\u001b[39m, in \u001b[36mIndex.get_loc\u001b[39m\u001b[34m(self, key)\u001b[39m\n\u001b[32m   3804\u001b[39m \u001b[38;5;28;01mtry\u001b[39;00m:\n\u001b[32m-> \u001b[39m\u001b[32m3805\u001b[39m     \u001b[38;5;28;01mreturn\u001b[39;00m \u001b[38;5;28;43mself\u001b[39;49m\u001b[43m.\u001b[49m\u001b[43m_engine\u001b[49m\u001b[43m.\u001b[49m\u001b[43mget_loc\u001b[49m\u001b[43m(\u001b[49m\u001b[43mcasted_key\u001b[49m\u001b[43m)\u001b[49m\n\u001b[32m   3806\u001b[39m \u001b[38;5;28;01mexcept\u001b[39;00m \u001b[38;5;167;01mKeyError\u001b[39;00m \u001b[38;5;28;01mas\u001b[39;00m err:\n",
      "\u001b[36mFile \u001b[39m\u001b[32mindex.pyx:167\u001b[39m, in \u001b[36mpandas._libs.index.IndexEngine.get_loc\u001b[39m\u001b[34m()\u001b[39m\n",
      "\u001b[36mFile \u001b[39m\u001b[32mindex.pyx:196\u001b[39m, in \u001b[36mpandas._libs.index.IndexEngine.get_loc\u001b[39m\u001b[34m()\u001b[39m\n",
      "\u001b[36mFile \u001b[39m\u001b[32mpandas/_libs/hashtable_class_helper.pxi:7081\u001b[39m, in \u001b[36mpandas._libs.hashtable.PyObjectHashTable.get_item\u001b[39m\u001b[34m()\u001b[39m\n",
      "\u001b[36mFile \u001b[39m\u001b[32mpandas/_libs/hashtable_class_helper.pxi:7089\u001b[39m, in \u001b[36mpandas._libs.hashtable.PyObjectHashTable.get_item\u001b[39m\u001b[34m()\u001b[39m\n",
      "\u001b[31mKeyError\u001b[39m: 'Date'",
      "\nThe above exception was the direct cause of the following exception:\n",
      "\u001b[31mKeyError\u001b[39m                                  Traceback (most recent call last)",
      "\u001b[36mCell\u001b[39m\u001b[36m \u001b[39m\u001b[32mIn[28]\u001b[39m\u001b[32m, line 6\u001b[39m\n\u001b[32m      3\u001b[39m data_set[\u001b[33m'\u001b[39m\u001b[33mDate\u001b[39m\u001b[33m'\u001b[39m] = pd.to_datetime(data_set[\u001b[33m'\u001b[39m\u001b[33mDate\u001b[39m\u001b[33m'\u001b[39m])\n\u001b[32m      4\u001b[39m data_set.set_index(\u001b[33m'\u001b[39m\u001b[33mDate\u001b[39m\u001b[33m'\u001b[39m, inplace=\u001b[38;5;28;01mTrue\u001b[39;00m)\n\u001b[32m----> \u001b[39m\u001b[32m6\u001b[39m \u001b[43mdata_set\u001b[49m\u001b[43m[\u001b[49m\u001b[33;43m'\u001b[39;49m\u001b[33;43mDate\u001b[39;49m\u001b[33;43m'\u001b[39;49m\u001b[43m]\u001b[49m.iloc(-\u001b[32m1\u001b[39m)\n\u001b[32m      8\u001b[39m \u001b[38;5;66;03m# Feed last N rows into model, get predictions and use those values\u001b[39;00m\n\u001b[32m      9\u001b[39m \u001b[38;5;66;03m# as input for future predictions\u001b[39;00m\n\u001b[32m     10\u001b[39m \u001b[38;5;66;03m# using last 10 rows here\u001b[39;00m\n\u001b[32m     11\u001b[39m last_known = data_set.iloc[-\u001b[32m10\u001b[39m:].copy()\n",
      "\u001b[36mFile \u001b[39m\u001b[32m~/.local/lib/python3.13/site-packages/pandas/core/frame.py:4102\u001b[39m, in \u001b[36mDataFrame.__getitem__\u001b[39m\u001b[34m(self, key)\u001b[39m\n\u001b[32m   4100\u001b[39m \u001b[38;5;28;01mif\u001b[39;00m \u001b[38;5;28mself\u001b[39m.columns.nlevels > \u001b[32m1\u001b[39m:\n\u001b[32m   4101\u001b[39m     \u001b[38;5;28;01mreturn\u001b[39;00m \u001b[38;5;28mself\u001b[39m._getitem_multilevel(key)\n\u001b[32m-> \u001b[39m\u001b[32m4102\u001b[39m indexer = \u001b[38;5;28;43mself\u001b[39;49m\u001b[43m.\u001b[49m\u001b[43mcolumns\u001b[49m\u001b[43m.\u001b[49m\u001b[43mget_loc\u001b[49m\u001b[43m(\u001b[49m\u001b[43mkey\u001b[49m\u001b[43m)\u001b[49m\n\u001b[32m   4103\u001b[39m \u001b[38;5;28;01mif\u001b[39;00m is_integer(indexer):\n\u001b[32m   4104\u001b[39m     indexer = [indexer]\n",
      "\u001b[36mFile \u001b[39m\u001b[32m~/.local/lib/python3.13/site-packages/pandas/core/indexes/base.py:3812\u001b[39m, in \u001b[36mIndex.get_loc\u001b[39m\u001b[34m(self, key)\u001b[39m\n\u001b[32m   3807\u001b[39m     \u001b[38;5;28;01mif\u001b[39;00m \u001b[38;5;28misinstance\u001b[39m(casted_key, \u001b[38;5;28mslice\u001b[39m) \u001b[38;5;129;01mor\u001b[39;00m (\n\u001b[32m   3808\u001b[39m         \u001b[38;5;28misinstance\u001b[39m(casted_key, abc.Iterable)\n\u001b[32m   3809\u001b[39m         \u001b[38;5;129;01mand\u001b[39;00m \u001b[38;5;28many\u001b[39m(\u001b[38;5;28misinstance\u001b[39m(x, \u001b[38;5;28mslice\u001b[39m) \u001b[38;5;28;01mfor\u001b[39;00m x \u001b[38;5;129;01min\u001b[39;00m casted_key)\n\u001b[32m   3810\u001b[39m     ):\n\u001b[32m   3811\u001b[39m         \u001b[38;5;28;01mraise\u001b[39;00m InvalidIndexError(key)\n\u001b[32m-> \u001b[39m\u001b[32m3812\u001b[39m     \u001b[38;5;28;01mraise\u001b[39;00m \u001b[38;5;167;01mKeyError\u001b[39;00m(key) \u001b[38;5;28;01mfrom\u001b[39;00m\u001b[38;5;250m \u001b[39m\u001b[34;01merr\u001b[39;00m\n\u001b[32m   3813\u001b[39m \u001b[38;5;28;01mexcept\u001b[39;00m \u001b[38;5;167;01mTypeError\u001b[39;00m:\n\u001b[32m   3814\u001b[39m     \u001b[38;5;66;03m# If we have a listlike key, _check_indexing_error will raise\u001b[39;00m\n\u001b[32m   3815\u001b[39m     \u001b[38;5;66;03m#  InvalidIndexError. Otherwise we fall through and re-raise\u001b[39;00m\n\u001b[32m   3816\u001b[39m     \u001b[38;5;66;03m#  the TypeError.\u001b[39;00m\n\u001b[32m   3817\u001b[39m     \u001b[38;5;28mself\u001b[39m._check_indexing_error(key)\n",
      "\u001b[31mKeyError\u001b[39m: 'Date'"
     ]
    }
   ],
   "source": [
    "from datetime import timedelta\n",
    "\n",
    "data_set['Date'] = pd.to_datetime(data_set['Date'])\n",
    "data_set.set_index('Date', inplace=True)\n",
    "\n",
    "data_set['Date'].iloc(-1)\n",
    "\n",
    "# Feed last N rows into model, get predictions and use those values\n",
    "# as input for future predictions\n",
    "# using last 10 rows here\n",
    "last_known = data_set.iloc[-10:].copy()\n",
    "predictions = []\n",
    "prediction_dates = []\n",
    "\n",
    "# predicting 7 days ahead\n",
    "for i in range(7):\n",
    "    # take current last day\n",
    "    prev_row = last_known.iloc[-1]\n",
    "\n",
    "    input_df = pd.DataFrame([{\n",
    "        'Date' : prev_row['Date'],\n",
    "        #'SP500': prev_row['SP500'],\n",
    "        'Futures': prev_row['Futures'],\n",
    "        'Nikkei': prev_row['Nikkei'],\n",
    "        'FTSE': prev_row['FTSE'],\n",
    "        'DAX': prev_row['DAX']\n",
    "    }])\n",
    "\n",
    "    \n",
    "    # create DMatrix for XGBoost \n",
    "    dmatrix_input = xgb.DMatrix(input_df)\n",
    "\n",
    "    dmatrix_input\n",
    "    \n",
    "    pred = XGBmodel.predict(dmatrix_input)[0]\n",
    "    predictions.append(pred)\n",
    "\n",
    "    lastdate = last_known.index[-1]\n",
    "    new_date =  lastdate + timedelta(days=1)\n",
    "    dates.append(new_date)\n",
    "\n",
    "    # Simulate new feature values\n",
    "    new_row = pd.DataFrame({\n",
    "        'Date' : new_date,\n",
    "        #'SP500': [pred], \n",
    "        'Futures': [futures], \n",
    "        'Nikkei': [nikkei], \n",
    "        'FTSE': [ftse], \n",
    "        'DAX': [dax]}, \n",
    "        index=[new_date])\n",
    "\n",
    "    # Append the new prediction to last_known for the next iteration\n",
    "    last_known = pd.concat([last_known, new_row])\n",
    "\n",
    "\n",
    "# Plot only the predicted S&P 500 prices\n",
    "plt.figure(figsize=(10, 5))\n",
    "plt.plot(dates, predictions, marker='o', linestyle='-', color='blue', label='Predicted S&P 500')\n",
    "plt.title('Predicted S&P 500 Closing Prices for Next 7 Days')\n",
    "plt.xlabel('Date')\n",
    "plt.ylabel('Predicted Close Price')\n",
    "plt.grid(True)\n",
    "plt.legend()\n",
    "plt.show()\n",
    "\n",
    "# Output predictions\n",
    "for date, price in zip(dates, predictions):\n",
    "    print(f\"{date.date()}: ${price:.2f}\")\n"
   ]
  },
  {
   "cell_type": "code",
   "execution_count": null,
   "id": "d617c341-3655-4629-bf31-f194e4b9243e",
   "metadata": {},
   "outputs": [],
   "source": []
  }
 ],
 "metadata": {
  "kernelspec": {
   "display_name": "Python 3 (ipykernel)",
   "language": "python",
   "name": "python3"
  },
  "language_info": {
   "codemirror_mode": {
    "name": "ipython",
    "version": 3
   },
   "file_extension": ".py",
   "mimetype": "text/x-python",
   "name": "python",
   "nbconvert_exporter": "python",
   "pygments_lexer": "ipython3",
   "version": "3.13.2"
  }
 },
 "nbformat": 4,
 "nbformat_minor": 5
}
