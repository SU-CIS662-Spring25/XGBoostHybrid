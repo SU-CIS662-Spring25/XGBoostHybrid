{
 "cells": [
  {
   "cell_type": "code",
   "execution_count": 1,
   "id": "e540ef62",
   "metadata": {},
   "outputs": [
    {
     "ename": "RuntimeError",
     "evalue": "module was compiled against NumPy C-API version 0x10 (NumPy 1.23) but the running NumPy has C-API version 0xf. Check the section C-API incompatibility at the Troubleshooting ImportError section at https://numpy.org/devdocs/user/troubleshooting-importerror.html#c-api-incompatibility for indications on how to solve this problem.",
     "output_type": "error",
     "traceback": [
      "\u001b[1;31m---------------------------------------------------------------------------\u001b[0m",
      "\u001b[1;31mRuntimeError\u001b[0m                              Traceback (most recent call last)",
      "\u001b[1;31mRuntimeError\u001b[0m: module was compiled against NumPy C-API version 0x10 (NumPy 1.23) but the running NumPy has C-API version 0xf. Check the section C-API incompatibility at the Troubleshooting ImportError section at https://numpy.org/devdocs/user/troubleshooting-importerror.html#c-api-incompatibility for indications on how to solve this problem."
     ]
    }
   ],
   "source": [
    "# Generic inputs for most ML tasks\n",
    "import pandas as pd\n",
    "import numpy as np\n",
    "import matplotlib.pyplot as plt\n",
    "from sklearn.model_selection import train_test_split\n",
    "from sklearn.linear_model import LinearRegression\n",
    "from sklearn.linear_model import Ridge\n",
    "from sklearn.linear_model import Lasso\n",
    "\n",
    "from sklearn import tree\n",
    "from sklearn.tree import DecisionTreeClassifier\n",
    "from sklearn.tree import DecisionTreeRegressor\n",
    "from sklearn.ensemble import BaggingRegressor\n",
    "from sklearn.ensemble import RandomForestRegressor\n",
    "from sklearn.ensemble import GradientBoostingRegressor\n",
    "# from sklearn.ensemble import HistGradientBoostingRegressor\n",
    "import xgboost as xgb\n",
    "\n",
    "pd.options.display.float_format = '{:,.2f}'.format\n",
    "\n",
    "# setup interactive notebook mode\n",
    "from IPython.core.interactiveshell import InteractiveShell\n",
    "InteractiveShell.ast_node_interactivity = \"all\"\n",
    "\n",
    "from IPython.display import display, HTML"
   ]
  },
  {
   "cell_type": "markdown",
   "id": "55ab7652",
   "metadata": {},
   "source": [
    "# Read, pre-process and visualize data"
   ]
  },
  {
   "cell_type": "code",
   "execution_count": 2,
   "id": "c64881c8",
   "metadata": {},
   "outputs": [
    {
     "data": {
      "text/html": [
       "<div>\n",
       "<style scoped>\n",
       "    .dataframe tbody tr th:only-of-type {\n",
       "        vertical-align: middle;\n",
       "    }\n",
       "\n",
       "    .dataframe tbody tr th {\n",
       "        vertical-align: top;\n",
       "    }\n",
       "\n",
       "    .dataframe thead th {\n",
       "        text-align: right;\n",
       "    }\n",
       "</style>\n",
       "<table border=\"1\" class=\"dataframe\">\n",
       "  <thead>\n",
       "    <tr style=\"text-align: right;\">\n",
       "      <th></th>\n",
       "      <th>Date</th>\n",
       "      <th>spx</th>\n",
       "      <th>dax</th>\n",
       "      <th>ftse</th>\n",
       "      <th>nikkei</th>\n",
       "    </tr>\n",
       "  </thead>\n",
       "  <tbody>\n",
       "    <tr>\n",
       "      <th>0</th>\n",
       "      <td>1994-01-07</td>\n",
       "      <td>469.90</td>\n",
       "      <td>2,224.95</td>\n",
       "      <td>3,446.00</td>\n",
       "      <td>18,124.01</td>\n",
       "    </tr>\n",
       "    <tr>\n",
       "      <th>1</th>\n",
       "      <td>1994-01-10</td>\n",
       "      <td>475.27</td>\n",
       "      <td>2,225.00</td>\n",
       "      <td>3,440.60</td>\n",
       "      <td>18,443.44</td>\n",
       "    </tr>\n",
       "    <tr>\n",
       "      <th>2</th>\n",
       "      <td>1994-01-11</td>\n",
       "      <td>474.13</td>\n",
       "      <td>2,228.10</td>\n",
       "      <td>3,413.80</td>\n",
       "      <td>18,485.25</td>\n",
       "    </tr>\n",
       "    <tr>\n",
       "      <th>3</th>\n",
       "      <td>1994-01-12</td>\n",
       "      <td>474.17</td>\n",
       "      <td>2,182.06</td>\n",
       "      <td>3,372.00</td>\n",
       "      <td>18,793.88</td>\n",
       "    </tr>\n",
       "    <tr>\n",
       "      <th>4</th>\n",
       "      <td>1994-01-13</td>\n",
       "      <td>472.47</td>\n",
       "      <td>2,142.37</td>\n",
       "      <td>3,360.00</td>\n",
       "      <td>18,577.26</td>\n",
       "    </tr>\n",
       "  </tbody>\n",
       "</table>\n",
       "</div>"
      ],
      "text/plain": [
       "         Date    spx      dax     ftse    nikkei\n",
       "0  1994-01-07 469.90 2,224.95 3,446.00 18,124.01\n",
       "1  1994-01-10 475.27 2,225.00 3,440.60 18,443.44\n",
       "2  1994-01-11 474.13 2,228.10 3,413.80 18,485.25\n",
       "3  1994-01-12 474.17 2,182.06 3,372.00 18,793.88\n",
       "4  1994-01-13 472.47 2,142.37 3,360.00 18,577.26"
      ]
     },
     "execution_count": 2,
     "metadata": {},
     "output_type": "execute_result"
    }
   ],
   "source": [
    "data_set = pd.read_csv('Index closing price from 1994 to 2021.csv')\n",
    "data_set.head()"
   ]
  },
  {
   "cell_type": "code",
   "execution_count": 3,
   "id": "3570ddaf",
   "metadata": {},
   "outputs": [
    {
     "data": {
      "text/plain": [
       "7255"
      ]
     },
     "execution_count": 3,
     "metadata": {},
     "output_type": "execute_result"
    },
    {
     "data": {
      "text/plain": [
       "Date      0\n",
       "spx       0\n",
       "dax       0\n",
       "ftse      0\n",
       "nikkei    0\n",
       "dtype: int64"
      ]
     },
     "execution_count": 3,
     "metadata": {},
     "output_type": "execute_result"
    }
   ],
   "source": [
    "len(data_set)\n",
    "data_set.isna().sum()"
   ]
  },
  {
   "cell_type": "code",
   "execution_count": 4,
   "id": "99397fc7",
   "metadata": {},
   "outputs": [
    {
     "data": {
      "text/plain": [
       "Index(['Date', 'spx', 'dax', 'ftse', 'nikkei'], dtype='object')"
      ]
     },
     "execution_count": 4,
     "metadata": {},
     "output_type": "execute_result"
    }
   ],
   "source": [
    "data_set.columns"
   ]
  },
  {
   "cell_type": "code",
   "execution_count": 5,
   "id": "8d67eecd",
   "metadata": {},
   "outputs": [],
   "source": [
    "data_set['Date'] = pd.to_datetime(data_set['Date'])\n",
    "\n",
    "# Extract features\n",
    "data_set['year'] = data_set['Date'].dt.year\n",
    "data_set['month'] = data_set['Date'].dt.month\n",
    "data_set['day'] = data_set['Date'].dt.day\n",
    "data_set['dayofweek'] = data_set['Date'].dt.dayofweek\n",
    "\n",
    "# Now drop original Date\n",
    "X = data_set.drop(columns=['spx', 'Date'])\n",
    "y = data_set['spx']"
   ]
  },
  {
   "cell_type": "code",
   "execution_count": 6,
   "id": "bcb1c3bf",
   "metadata": {
    "scrolled": true
   },
   "outputs": [
    {
     "data": {
      "text/html": [
       "<div>\n",
       "<style scoped>\n",
       "    .dataframe tbody tr th:only-of-type {\n",
       "        vertical-align: middle;\n",
       "    }\n",
       "\n",
       "    .dataframe tbody tr th {\n",
       "        vertical-align: top;\n",
       "    }\n",
       "\n",
       "    .dataframe thead th {\n",
       "        text-align: right;\n",
       "    }\n",
       "</style>\n",
       "<table border=\"1\" class=\"dataframe\">\n",
       "  <thead>\n",
       "    <tr style=\"text-align: right;\">\n",
       "      <th></th>\n",
       "      <th>dax</th>\n",
       "      <th>ftse</th>\n",
       "      <th>nikkei</th>\n",
       "      <th>year</th>\n",
       "      <th>month</th>\n",
       "      <th>day</th>\n",
       "      <th>dayofweek</th>\n",
       "    </tr>\n",
       "  </thead>\n",
       "  <tbody>\n",
       "    <tr>\n",
       "      <th>2168</th>\n",
       "      <td>5,041.20</td>\n",
       "      <td>5,125.50</td>\n",
       "      <td>11,552.79</td>\n",
       "      <td>2002</td>\n",
       "      <td>5</td>\n",
       "      <td>1</td>\n",
       "      <td>2</td>\n",
       "    </tr>\n",
       "    <tr>\n",
       "      <th>403</th>\n",
       "      <td>2,237.73</td>\n",
       "      <td>3,454.30</td>\n",
       "      <td>16,387.25</td>\n",
       "      <td>1995</td>\n",
       "      <td>7</td>\n",
       "      <td>26</td>\n",
       "      <td>2</td>\n",
       "    </tr>\n",
       "    <tr>\n",
       "      <th>5835</th>\n",
       "      <td>9,916.02</td>\n",
       "      <td>6,156.30</td>\n",
       "      <td>16,736.35</td>\n",
       "      <td>2016</td>\n",
       "      <td>5</td>\n",
       "      <td>20</td>\n",
       "      <td>4</td>\n",
       "    </tr>\n",
       "    <tr>\n",
       "      <th>100</th>\n",
       "      <td>2,112.80</td>\n",
       "      <td>2,966.40</td>\n",
       "      <td>20,777.16</td>\n",
       "      <td>1994</td>\n",
       "      <td>5</td>\n",
       "      <td>27</td>\n",
       "      <td>4</td>\n",
       "    </tr>\n",
       "    <tr>\n",
       "      <th>1452</th>\n",
       "      <td>5,107.68</td>\n",
       "      <td>6,250.70</td>\n",
       "      <td>17,969.93</td>\n",
       "      <td>1999</td>\n",
       "      <td>8</td>\n",
       "      <td>3</td>\n",
       "      <td>1</td>\n",
       "    </tr>\n",
       "    <tr>\n",
       "      <th>...</th>\n",
       "      <td>...</td>\n",
       "      <td>...</td>\n",
       "      <td>...</td>\n",
       "      <td>...</td>\n",
       "      <td>...</td>\n",
       "      <td>...</td>\n",
       "      <td>...</td>\n",
       "    </tr>\n",
       "    <tr>\n",
       "      <th>2014</th>\n",
       "      <td>4,184.50</td>\n",
       "      <td>4,763.60</td>\n",
       "      <td>9,696.53</td>\n",
       "      <td>2001</td>\n",
       "      <td>9</td>\n",
       "      <td>27</td>\n",
       "      <td>3</td>\n",
       "    </tr>\n",
       "    <tr>\n",
       "      <th>6253</th>\n",
       "      <td>13,070.02</td>\n",
       "      <td>7,620.70</td>\n",
       "      <td>22,911.21</td>\n",
       "      <td>2017</td>\n",
       "      <td>12</td>\n",
       "      <td>27</td>\n",
       "      <td>2</td>\n",
       "    </tr>\n",
       "    <tr>\n",
       "      <th>1931</th>\n",
       "      <td>6,177.74</td>\n",
       "      <td>5,856.50</td>\n",
       "      <td>13,312.35</td>\n",
       "      <td>2001</td>\n",
       "      <td>6</td>\n",
       "      <td>4</td>\n",
       "      <td>0</td>\n",
       "    </tr>\n",
       "    <tr>\n",
       "      <th>5600</th>\n",
       "      <td>11,492.43</td>\n",
       "      <td>6,753.70</td>\n",
       "      <td>20,706.15</td>\n",
       "      <td>2015</td>\n",
       "      <td>6</td>\n",
       "      <td>26</td>\n",
       "      <td>4</td>\n",
       "    </tr>\n",
       "    <tr>\n",
       "      <th>5808</th>\n",
       "      <td>10,026.10</td>\n",
       "      <td>6,362.90</td>\n",
       "      <td>16,381.22</td>\n",
       "      <td>2016</td>\n",
       "      <td>4</td>\n",
       "      <td>13</td>\n",
       "      <td>2</td>\n",
       "    </tr>\n",
       "  </tbody>\n",
       "</table>\n",
       "<p>5804 rows × 7 columns</p>\n",
       "</div>"
      ],
      "text/plain": [
       "           dax     ftse    nikkei  year  month  day  dayofweek\n",
       "2168  5,041.20 5,125.50 11,552.79  2002      5    1          2\n",
       "403   2,237.73 3,454.30 16,387.25  1995      7   26          2\n",
       "5835  9,916.02 6,156.30 16,736.35  2016      5   20          4\n",
       "100   2,112.80 2,966.40 20,777.16  1994      5   27          4\n",
       "1452  5,107.68 6,250.70 17,969.93  1999      8    3          1\n",
       "...        ...      ...       ...   ...    ...  ...        ...\n",
       "2014  4,184.50 4,763.60  9,696.53  2001      9   27          3\n",
       "6253 13,070.02 7,620.70 22,911.21  2017     12   27          2\n",
       "1931  6,177.74 5,856.50 13,312.35  2001      6    4          0\n",
       "5600 11,492.43 6,753.70 20,706.15  2015      6   26          4\n",
       "5808 10,026.10 6,362.90 16,381.22  2016      4   13          2\n",
       "\n",
       "[5804 rows x 7 columns]"
      ]
     },
     "execution_count": 6,
     "metadata": {},
     "output_type": "execute_result"
    },
    {
     "data": {
      "text/html": [
       "<div>\n",
       "<style scoped>\n",
       "    .dataframe tbody tr th:only-of-type {\n",
       "        vertical-align: middle;\n",
       "    }\n",
       "\n",
       "    .dataframe tbody tr th {\n",
       "        vertical-align: top;\n",
       "    }\n",
       "\n",
       "    .dataframe thead th {\n",
       "        text-align: right;\n",
       "    }\n",
       "</style>\n",
       "<table border=\"1\" class=\"dataframe\">\n",
       "  <thead>\n",
       "    <tr style=\"text-align: right;\">\n",
       "      <th></th>\n",
       "      <th>dax</th>\n",
       "      <th>ftse</th>\n",
       "      <th>nikkei</th>\n",
       "      <th>year</th>\n",
       "      <th>month</th>\n",
       "      <th>day</th>\n",
       "      <th>dayofweek</th>\n",
       "    </tr>\n",
       "  </thead>\n",
       "  <tbody>\n",
       "    <tr>\n",
       "      <th>7067</th>\n",
       "      <td>14,011.80</td>\n",
       "      <td>6,531.60</td>\n",
       "      <td>29,505.93</td>\n",
       "      <td>2021</td>\n",
       "      <td>2</td>\n",
       "      <td>9</td>\n",
       "      <td>1</td>\n",
       "    </tr>\n",
       "    <tr>\n",
       "      <th>6311</th>\n",
       "      <td>12,217.02</td>\n",
       "      <td>7,042.90</td>\n",
       "      <td>21,480.90</td>\n",
       "      <td>2018</td>\n",
       "      <td>3</td>\n",
       "      <td>19</td>\n",
       "      <td>0</td>\n",
       "    </tr>\n",
       "    <tr>\n",
       "      <th>5469</th>\n",
       "      <td>9,922.11</td>\n",
       "      <td>6,598.20</td>\n",
       "      <td>17,808.75</td>\n",
       "      <td>2014</td>\n",
       "      <td>12</td>\n",
       "      <td>25</td>\n",
       "      <td>3</td>\n",
       "    </tr>\n",
       "    <tr>\n",
       "      <th>809</th>\n",
       "      <td>3,256.86</td>\n",
       "      <td>4,327.10</td>\n",
       "      <td>18,688.06</td>\n",
       "      <td>1997</td>\n",
       "      <td>2</td>\n",
       "      <td>13</td>\n",
       "      <td>3</td>\n",
       "    </tr>\n",
       "    <tr>\n",
       "      <th>6801</th>\n",
       "      <td>13,045.19</td>\n",
       "      <td>7,326.30</td>\n",
       "      <td>22,971.94</td>\n",
       "      <td>2020</td>\n",
       "      <td>2</td>\n",
       "      <td>3</td>\n",
       "      <td>0</td>\n",
       "    </tr>\n",
       "    <tr>\n",
       "      <th>...</th>\n",
       "      <td>...</td>\n",
       "      <td>...</td>\n",
       "      <td>...</td>\n",
       "      <td>...</td>\n",
       "      <td>...</td>\n",
       "      <td>...</td>\n",
       "      <td>...</td>\n",
       "    </tr>\n",
       "    <tr>\n",
       "      <th>4113</th>\n",
       "      <td>5,854.14</td>\n",
       "      <td>5,256.10</td>\n",
       "      <td>10,060.21</td>\n",
       "      <td>2009</td>\n",
       "      <td>10</td>\n",
       "      <td>14</td>\n",
       "      <td>2</td>\n",
       "    </tr>\n",
       "    <tr>\n",
       "      <th>73</th>\n",
       "      <td>2,194.09</td>\n",
       "      <td>3,098.30</td>\n",
       "      <td>19,882.18</td>\n",
       "      <td>1994</td>\n",
       "      <td>4</td>\n",
       "      <td>20</td>\n",
       "      <td>2</td>\n",
       "    </tr>\n",
       "    <tr>\n",
       "      <th>4751</th>\n",
       "      <td>7,079.23</td>\n",
       "      <td>5,902.70</td>\n",
       "      <td>10,018.24</td>\n",
       "      <td>2012</td>\n",
       "      <td>3</td>\n",
       "      <td>26</td>\n",
       "      <td>0</td>\n",
       "    </tr>\n",
       "    <tr>\n",
       "      <th>810</th>\n",
       "      <td>3,249.17</td>\n",
       "      <td>4,341.00</td>\n",
       "      <td>18,722.00</td>\n",
       "      <td>1997</td>\n",
       "      <td>2</td>\n",
       "      <td>14</td>\n",
       "      <td>4</td>\n",
       "    </tr>\n",
       "    <tr>\n",
       "      <th>1438</th>\n",
       "      <td>5,610.89</td>\n",
       "      <td>6,473.10</td>\n",
       "      <td>18,357.86</td>\n",
       "      <td>1999</td>\n",
       "      <td>7</td>\n",
       "      <td>14</td>\n",
       "      <td>2</td>\n",
       "    </tr>\n",
       "  </tbody>\n",
       "</table>\n",
       "<p>1451 rows × 7 columns</p>\n",
       "</div>"
      ],
      "text/plain": [
       "           dax     ftse    nikkei  year  month  day  dayofweek\n",
       "7067 14,011.80 6,531.60 29,505.93  2021      2    9          1\n",
       "6311 12,217.02 7,042.90 21,480.90  2018      3   19          0\n",
       "5469  9,922.11 6,598.20 17,808.75  2014     12   25          3\n",
       "809   3,256.86 4,327.10 18,688.06  1997      2   13          3\n",
       "6801 13,045.19 7,326.30 22,971.94  2020      2    3          0\n",
       "...        ...      ...       ...   ...    ...  ...        ...\n",
       "4113  5,854.14 5,256.10 10,060.21  2009     10   14          2\n",
       "73    2,194.09 3,098.30 19,882.18  1994      4   20          2\n",
       "4751  7,079.23 5,902.70 10,018.24  2012      3   26          0\n",
       "810   3,249.17 4,341.00 18,722.00  1997      2   14          4\n",
       "1438  5,610.89 6,473.10 18,357.86  1999      7   14          2\n",
       "\n",
       "[1451 rows x 7 columns]"
      ]
     },
     "execution_count": 6,
     "metadata": {},
     "output_type": "execute_result"
    },
    {
     "data": {
      "text/plain": [
       "2168   1,086.46\n",
       "403      561.61\n",
       "5835   2,052.32\n",
       "100      457.33\n",
       "1452   1,322.18\n",
       "         ...   \n",
       "2014   1,018.61\n",
       "6253   2,682.62\n",
       "1931   1,267.11\n",
       "5600   2,101.49\n",
       "5808   2,082.42\n",
       "Name: spx, Length: 5804, dtype: float64"
      ]
     },
     "execution_count": 6,
     "metadata": {},
     "output_type": "execute_result"
    },
    {
     "data": {
      "text/plain": [
       "7067   3,911.23\n",
       "6311   2,712.92\n",
       "5469   2,081.88\n",
       "809      811.82\n",
       "6801   3,248.92\n",
       "         ...   \n",
       "4113   1,092.02\n",
       "73       441.96\n",
       "4751   1,416.51\n",
       "810      808.48\n",
       "1438   1,398.17\n",
       "Name: spx, Length: 1451, dtype: float64"
      ]
     },
     "execution_count": 6,
     "metadata": {},
     "output_type": "execute_result"
    }
   ],
   "source": [
    "X_train, X_test, y_train, y_test = train_test_split(data_set.drop(columns = ['spx','Date']), data_set['spx'], test_size=0.2, random_state=50)\n",
    "X_train\n",
    "X_test\n",
    "y_train\n",
    "y_test"
   ]
  },
  {
   "cell_type": "markdown",
   "id": "9d422bca",
   "metadata": {},
   "source": [
    "# Decison tree\n"
   ]
  },
  {
   "cell_type": "code",
   "execution_count": 7,
   "id": "e7b21b98",
   "metadata": {},
   "outputs": [],
   "source": [
    "clf = DecisionTreeRegressor(random_state=50)\n",
    "\n",
    "clf = clf.fit(X_train, y_train) "
   ]
  },
  {
   "cell_type": "code",
   "execution_count": 8,
   "id": "1e80b198",
   "metadata": {},
   "outputs": [
    {
     "data": {
      "text/plain": [
       "Index(['dax', 'ftse', 'nikkei', 'year', 'month', 'day', 'dayofweek'], dtype='object')"
      ]
     },
     "execution_count": 8,
     "metadata": {},
     "output_type": "execute_result"
    },
    {
     "data": {
      "text/plain": [
       "array([1.80130676e-02, 6.90790795e-02, 1.45202956e-01, 7.64980584e-01,\n",
       "       2.53228041e-03, 1.66467609e-04, 2.55655924e-05])"
      ]
     },
     "execution_count": 8,
     "metadata": {},
     "output_type": "execute_result"
    }
   ],
   "source": [
    "X_train.columns\n",
    "clf.feature_importances_"
   ]
  },
  {
   "cell_type": "code",
   "execution_count": 9,
   "id": "5f160e8a",
   "metadata": {},
   "outputs": [
    {
     "data": {
      "text/html": [
       "<div>\n",
       "<style scoped>\n",
       "    .dataframe tbody tr th:only-of-type {\n",
       "        vertical-align: middle;\n",
       "    }\n",
       "\n",
       "    .dataframe tbody tr th {\n",
       "        vertical-align: top;\n",
       "    }\n",
       "\n",
       "    .dataframe thead th {\n",
       "        text-align: right;\n",
       "    }\n",
       "</style>\n",
       "<table border=\"1\" class=\"dataframe\">\n",
       "  <thead>\n",
       "    <tr style=\"text-align: right;\">\n",
       "      <th></th>\n",
       "      <th>pred_spx</th>\n",
       "      <th>spx</th>\n",
       "    </tr>\n",
       "  </thead>\n",
       "  <tbody>\n",
       "    <tr>\n",
       "      <th>7067</th>\n",
       "      <td>3,870.29</td>\n",
       "      <td>3,911.23</td>\n",
       "    </tr>\n",
       "    <tr>\n",
       "      <th>6311</th>\n",
       "      <td>2,716.94</td>\n",
       "      <td>2,712.92</td>\n",
       "    </tr>\n",
       "    <tr>\n",
       "      <th>5469</th>\n",
       "      <td>2,081.88</td>\n",
       "      <td>2,081.88</td>\n",
       "    </tr>\n",
       "    <tr>\n",
       "      <th>809</th>\n",
       "      <td>801.77</td>\n",
       "      <td>811.82</td>\n",
       "    </tr>\n",
       "    <tr>\n",
       "      <th>6801</th>\n",
       "      <td>3,232.39</td>\n",
       "      <td>3,248.92</td>\n",
       "    </tr>\n",
       "  </tbody>\n",
       "</table>\n",
       "</div>"
      ],
      "text/plain": [
       "      pred_spx      spx\n",
       "7067  3,870.29 3,911.23\n",
       "6311  2,716.94 2,712.92\n",
       "5469  2,081.88 2,081.88\n",
       "809     801.77   811.82\n",
       "6801  3,232.39 3,248.92"
      ]
     },
     "execution_count": 9,
     "metadata": {},
     "output_type": "execute_result"
    },
    {
     "name": "stdout",
     "output_type": "stream",
     "text": [
      "Mean absolute error is \n",
      "15.982175357747414\n"
     ]
    },
    {
     "data": {
      "text/plain": [
       "0.010271817179704261"
      ]
     },
     "execution_count": 9,
     "metadata": {},
     "output_type": "execute_result"
    }
   ],
   "source": [
    "test_output = pd.DataFrame(clf.predict(X_test), index = X_test.index, columns = ['pred_spx'])\n",
    "test_output = test_output.merge(y_test, left_index = True, right_index = True)\n",
    "test_output.head()\n",
    "mean_absolute_error = abs(test_output['pred_spx'] - test_output['spx']).mean()\n",
    "print('Mean absolute error is ')\n",
    "print(mean_absolute_error)\n",
    "abs(test_output['pred_spx'] - test_output['spx']).mean()/test_output['spx'].mean()"
   ]
  },
  {
   "cell_type": "markdown",
   "id": "21b60116",
   "metadata": {},
   "source": [
    "## Bagging Regressor ## "
   ]
  },
  {
   "cell_type": "code",
   "execution_count": 10,
   "id": "6a9699be",
   "metadata": {},
   "outputs": [],
   "source": [
    "regr = BaggingRegressor(random_state=50, n_estimators = 200, max_samples = 1000)\n",
    "\n",
    "regr = regr.fit(X_train, y_train) "
   ]
  },
  {
   "cell_type": "code",
   "execution_count": 11,
   "id": "7598e234",
   "metadata": {},
   "outputs": [
    {
     "data": {
      "text/html": [
       "<div>\n",
       "<style scoped>\n",
       "    .dataframe tbody tr th:only-of-type {\n",
       "        vertical-align: middle;\n",
       "    }\n",
       "\n",
       "    .dataframe tbody tr th {\n",
       "        vertical-align: top;\n",
       "    }\n",
       "\n",
       "    .dataframe thead th {\n",
       "        text-align: right;\n",
       "    }\n",
       "</style>\n",
       "<table border=\"1\" class=\"dataframe\">\n",
       "  <thead>\n",
       "    <tr style=\"text-align: right;\">\n",
       "      <th></th>\n",
       "      <th>pred_spx</th>\n",
       "      <th>spx</th>\n",
       "    </tr>\n",
       "  </thead>\n",
       "  <tbody>\n",
       "    <tr>\n",
       "      <th>7067</th>\n",
       "      <td>3,886.69</td>\n",
       "      <td>3,911.23</td>\n",
       "    </tr>\n",
       "    <tr>\n",
       "      <th>6311</th>\n",
       "      <td>2,678.00</td>\n",
       "      <td>2,712.92</td>\n",
       "    </tr>\n",
       "    <tr>\n",
       "      <th>5469</th>\n",
       "      <td>2,059.33</td>\n",
       "      <td>2,081.88</td>\n",
       "    </tr>\n",
       "    <tr>\n",
       "      <th>809</th>\n",
       "      <td>796.31</td>\n",
       "      <td>811.82</td>\n",
       "    </tr>\n",
       "    <tr>\n",
       "      <th>6801</th>\n",
       "      <td>3,198.22</td>\n",
       "      <td>3,248.92</td>\n",
       "    </tr>\n",
       "  </tbody>\n",
       "</table>\n",
       "</div>"
      ],
      "text/plain": [
       "      pred_spx      spx\n",
       "7067  3,886.69 3,911.23\n",
       "6311  2,678.00 2,712.92\n",
       "5469  2,059.33 2,081.88\n",
       "809     796.31   811.82\n",
       "6801  3,198.22 3,248.92"
      ]
     },
     "execution_count": 11,
     "metadata": {},
     "output_type": "execute_result"
    },
    {
     "name": "stdout",
     "output_type": "stream",
     "text": [
      "Mean absolute error is \n",
      "16.98255014410354\n"
     ]
    },
    {
     "data": {
      "text/plain": [
       "0.01091476262903289"
      ]
     },
     "execution_count": 11,
     "metadata": {},
     "output_type": "execute_result"
    }
   ],
   "source": [
    "test_output = pd.DataFrame(regr.predict(X_test), index = X_test.index, columns = ['pred_spx'])\n",
    "test_output = test_output.merge(y_test, left_index = True, right_index = True)\n",
    "test_output.head()\n",
    "mean_absolute_error = abs(test_output['pred_spx'] - test_output['spx']).mean()\n",
    "print('Mean absolute error is ')\n",
    "print(mean_absolute_error)\n",
    "abs(test_output['pred_spx'] - test_output['spx']).mean()/test_output['spx'].mean()"
   ]
  },
  {
   "cell_type": "markdown",
   "id": "51327dc2",
   "metadata": {},
   "source": [
    "## Random Forest Regressor "
   ]
  },
  {
   "cell_type": "code",
   "execution_count": 12,
   "id": "628133a6",
   "metadata": {},
   "outputs": [],
   "source": [
    "rf = RandomForestRegressor(random_state=50, min_samples_leaf = 3, max_features = \"sqrt\")\n",
    "\n",
    "rf = rf.fit(X_train, y_train) \n"
   ]
  },
  {
   "cell_type": "code",
   "execution_count": 13,
   "id": "5b6b1dc8",
   "metadata": {},
   "outputs": [
    {
     "data": {
      "text/plain": [
       "Index(['dax', 'ftse', 'nikkei', 'year', 'month', 'day', 'dayofweek'], dtype='object')"
      ]
     },
     "execution_count": 13,
     "metadata": {},
     "output_type": "execute_result"
    },
    {
     "data": {
      "text/plain": [
       "array([3.50030134e-01, 1.70860318e-01, 1.51710791e-01, 3.22554660e-01,\n",
       "       3.95373328e-03, 7.44566338e-04, 1.45797729e-04])"
      ]
     },
     "execution_count": 13,
     "metadata": {},
     "output_type": "execute_result"
    }
   ],
   "source": [
    "X_train.columns\n",
    "rf.feature_importances_"
   ]
  },
  {
   "cell_type": "code",
   "execution_count": 14,
   "id": "b48d974c",
   "metadata": {},
   "outputs": [
    {
     "data": {
      "text/html": [
       "<div>\n",
       "<style scoped>\n",
       "    .dataframe tbody tr th:only-of-type {\n",
       "        vertical-align: middle;\n",
       "    }\n",
       "\n",
       "    .dataframe tbody tr th {\n",
       "        vertical-align: top;\n",
       "    }\n",
       "\n",
       "    .dataframe thead th {\n",
       "        text-align: right;\n",
       "    }\n",
       "</style>\n",
       "<table border=\"1\" class=\"dataframe\">\n",
       "  <thead>\n",
       "    <tr style=\"text-align: right;\">\n",
       "      <th></th>\n",
       "      <th>pred_spx</th>\n",
       "      <th>spx</th>\n",
       "    </tr>\n",
       "  </thead>\n",
       "  <tbody>\n",
       "    <tr>\n",
       "      <th>7067</th>\n",
       "      <td>3,884.57</td>\n",
       "      <td>3,911.23</td>\n",
       "    </tr>\n",
       "    <tr>\n",
       "      <th>6311</th>\n",
       "      <td>2,669.53</td>\n",
       "      <td>2,712.92</td>\n",
       "    </tr>\n",
       "    <tr>\n",
       "      <th>5469</th>\n",
       "      <td>2,065.46</td>\n",
       "      <td>2,081.88</td>\n",
       "    </tr>\n",
       "    <tr>\n",
       "      <th>809</th>\n",
       "      <td>797.33</td>\n",
       "      <td>811.82</td>\n",
       "    </tr>\n",
       "    <tr>\n",
       "      <th>6801</th>\n",
       "      <td>3,088.12</td>\n",
       "      <td>3,248.92</td>\n",
       "    </tr>\n",
       "  </tbody>\n",
       "</table>\n",
       "</div>"
      ],
      "text/plain": [
       "      pred_spx      spx\n",
       "7067  3,884.57 3,911.23\n",
       "6311  2,669.53 2,712.92\n",
       "5469  2,065.46 2,081.88\n",
       "809     797.33   811.82\n",
       "6801  3,088.12 3,248.92"
      ]
     },
     "execution_count": 14,
     "metadata": {},
     "output_type": "execute_result"
    },
    {
     "name": "stdout",
     "output_type": "stream",
     "text": [
      "Mean absolute error is \n",
      "16.05147668270628\n"
     ]
    },
    {
     "data": {
      "text/plain": [
       "0.010316357458130357"
      ]
     },
     "execution_count": 14,
     "metadata": {},
     "output_type": "execute_result"
    }
   ],
   "source": [
    "test_output = pd.DataFrame(rf.predict(X_test), index = X_test.index, columns = ['pred_spx'])\n",
    "test_output = test_output.merge(y_test, left_index = True, right_index = True)\n",
    "test_output.head()\n",
    "mean_absolute_error = abs(test_output['pred_spx'] - test_output['spx']).mean()\n",
    "print('Mean absolute error is ')\n",
    "print(mean_absolute_error)\n",
    "abs(test_output['pred_spx'] - test_output['spx']).mean()/test_output['spx'].mean()"
   ]
  },
  {
   "cell_type": "markdown",
   "id": "69f14b76",
   "metadata": {},
   "source": [
    "## Gradeint Boosting Regressor"
   ]
  },
  {
   "cell_type": "code",
   "execution_count": 15,
   "id": "47b50efb",
   "metadata": {},
   "outputs": [],
   "source": [
    "gb = GradientBoostingRegressor(random_state=50, min_samples_leaf = 2, max_depth = 4)\n",
    "\n",
    "gb = gb.fit(X_train, y_train) \n"
   ]
  },
  {
   "cell_type": "code",
   "execution_count": 16,
   "id": "dacef454",
   "metadata": {},
   "outputs": [
    {
     "data": {
      "text/plain": [
       "Index(['dax', 'ftse', 'nikkei', 'year', 'month', 'day', 'dayofweek'], dtype='object')"
      ]
     },
     "execution_count": 16,
     "metadata": {},
     "output_type": "execute_result"
    },
    {
     "data": {
      "text/plain": [
       "array([1.91315419e-01, 8.08723653e-02, 9.78540147e-02, 6.28323719e-01,\n",
       "       1.60879045e-03, 2.43336033e-05, 1.35734536e-06])"
      ]
     },
     "execution_count": 16,
     "metadata": {},
     "output_type": "execute_result"
    }
   ],
   "source": [
    "X_train.columns\n",
    "gb.feature_importances_"
   ]
  },
  {
   "cell_type": "code",
   "execution_count": 17,
   "id": "873bce22",
   "metadata": {},
   "outputs": [
    {
     "data": {
      "text/html": [
       "<div>\n",
       "<style scoped>\n",
       "    .dataframe tbody tr th:only-of-type {\n",
       "        vertical-align: middle;\n",
       "    }\n",
       "\n",
       "    .dataframe tbody tr th {\n",
       "        vertical-align: top;\n",
       "    }\n",
       "\n",
       "    .dataframe thead th {\n",
       "        text-align: right;\n",
       "    }\n",
       "</style>\n",
       "<table border=\"1\" class=\"dataframe\">\n",
       "  <thead>\n",
       "    <tr style=\"text-align: right;\">\n",
       "      <th></th>\n",
       "      <th>pred_spx</th>\n",
       "      <th>spx</th>\n",
       "    </tr>\n",
       "  </thead>\n",
       "  <tbody>\n",
       "    <tr>\n",
       "      <th>7067</th>\n",
       "      <td>3,889.93</td>\n",
       "      <td>3,911.23</td>\n",
       "    </tr>\n",
       "    <tr>\n",
       "      <th>6311</th>\n",
       "      <td>2,670.57</td>\n",
       "      <td>2,712.92</td>\n",
       "    </tr>\n",
       "    <tr>\n",
       "      <th>5469</th>\n",
       "      <td>2,036.53</td>\n",
       "      <td>2,081.88</td>\n",
       "    </tr>\n",
       "    <tr>\n",
       "      <th>809</th>\n",
       "      <td>778.71</td>\n",
       "      <td>811.82</td>\n",
       "    </tr>\n",
       "    <tr>\n",
       "      <th>6801</th>\n",
       "      <td>3,279.06</td>\n",
       "      <td>3,248.92</td>\n",
       "    </tr>\n",
       "  </tbody>\n",
       "</table>\n",
       "</div>"
      ],
      "text/plain": [
       "      pred_spx      spx\n",
       "7067  3,889.93 3,911.23\n",
       "6311  2,670.57 2,712.92\n",
       "5469  2,036.53 2,081.88\n",
       "809     778.71   811.82\n",
       "6801  3,279.06 3,248.92"
      ]
     },
     "execution_count": 17,
     "metadata": {},
     "output_type": "execute_result"
    },
    {
     "name": "stdout",
     "output_type": "stream",
     "text": [
      "Mean absolute error is \n",
      "20.01974493524916\n"
     ]
    },
    {
     "data": {
      "text/plain": [
       "0.01286678160864412"
      ]
     },
     "execution_count": 17,
     "metadata": {},
     "output_type": "execute_result"
    }
   ],
   "source": [
    "test_output = pd.DataFrame(gb.predict(X_test), index = X_test.index, columns = ['pred_spx'])\n",
    "test_output = test_output.merge(y_test, left_index = True, right_index = True)\n",
    "test_output.head()\n",
    "mean_absolute_error = abs(test_output['pred_spx'] - test_output['spx']).mean()\n",
    "print('Mean absolute error is ')\n",
    "print(mean_absolute_error)\n",
    "abs(test_output['pred_spx'] - test_output['spx']).mean()/test_output['spx'].mean()"
   ]
  },
  {
   "cell_type": "markdown",
   "id": "f49e7d98",
   "metadata": {},
   "source": [
    "## XGBoost Regressor "
   ]
  },
  {
   "cell_type": "code",
   "execution_count": 18,
   "id": "9509409c",
   "metadata": {},
   "outputs": [],
   "source": [
    "# XGBoost comes with its own class for storing datasets called DMatrix. \n",
    "# It is a highly optimized class for memory and speed. \n",
    "# That's why converting datasets into this format is a requirement for the native XGBoost API:\n",
    "\n",
    "\n",
    "# Create regression matrices\n",
    "\n",
    "dtrain_reg = xgb.DMatrix(X_train, y_train, enable_categorical=True)\n",
    "\n",
    "dtest_reg = xgb.DMatrix(X_test, y_test, enable_categorical=True)"
   ]
  },
  {
   "cell_type": "code",
   "execution_count": 19,
   "id": "4705ea0f",
   "metadata": {},
   "outputs": [],
   "source": [
    "params = {\"objective\": \"reg:squarederror\", \"tree_method\": \"exact\", \"max_depth\" : 4, \"learning_rate\" : 0.1} # use \"tree_method\" : \"hist\" if you need speed"
   ]
  },
  {
   "cell_type": "code",
   "execution_count": 20,
   "id": "cb137954",
   "metadata": {},
   "outputs": [],
   "source": [
    "n = 100\n",
    "\n",
    "model = xgb.train(\n",
    "\n",
    "   params=params,\n",
    "\n",
    "   dtrain=dtrain_reg,\n",
    "\n",
    "   num_boost_round=n,\n",
    "\n",
    ")"
   ]
  },
  {
   "cell_type": "code",
   "execution_count": 21,
   "id": "82db493d",
   "metadata": {},
   "outputs": [],
   "source": [
    "from sklearn.metrics import mean_squared_error\n",
    "preds = model.predict(dtest_reg)\n"
   ]
  },
  {
   "cell_type": "code",
   "execution_count": 22,
   "id": "ea95f735",
   "metadata": {},
   "outputs": [
    {
     "data": {
      "text/html": [
       "<div>\n",
       "<style scoped>\n",
       "    .dataframe tbody tr th:only-of-type {\n",
       "        vertical-align: middle;\n",
       "    }\n",
       "\n",
       "    .dataframe tbody tr th {\n",
       "        vertical-align: top;\n",
       "    }\n",
       "\n",
       "    .dataframe thead th {\n",
       "        text-align: right;\n",
       "    }\n",
       "</style>\n",
       "<table border=\"1\" class=\"dataframe\">\n",
       "  <thead>\n",
       "    <tr style=\"text-align: right;\">\n",
       "      <th></th>\n",
       "      <th>pred_spx</th>\n",
       "      <th>spx</th>\n",
       "    </tr>\n",
       "  </thead>\n",
       "  <tbody>\n",
       "    <tr>\n",
       "      <th>7067</th>\n",
       "      <td>3,892.08</td>\n",
       "      <td>3,911.23</td>\n",
       "    </tr>\n",
       "    <tr>\n",
       "      <th>6311</th>\n",
       "      <td>2,666.89</td>\n",
       "      <td>2,712.92</td>\n",
       "    </tr>\n",
       "    <tr>\n",
       "      <th>5469</th>\n",
       "      <td>2,036.56</td>\n",
       "      <td>2,081.88</td>\n",
       "    </tr>\n",
       "    <tr>\n",
       "      <th>809</th>\n",
       "      <td>783.10</td>\n",
       "      <td>811.82</td>\n",
       "    </tr>\n",
       "    <tr>\n",
       "      <th>6801</th>\n",
       "      <td>3,270.21</td>\n",
       "      <td>3,248.92</td>\n",
       "    </tr>\n",
       "  </tbody>\n",
       "</table>\n",
       "</div>"
      ],
      "text/plain": [
       "      pred_spx      spx\n",
       "7067  3,892.08 3,911.23\n",
       "6311  2,666.89 2,712.92\n",
       "5469  2,036.56 2,081.88\n",
       "809     783.10   811.82\n",
       "6801  3,270.21 3,248.92"
      ]
     },
     "execution_count": 22,
     "metadata": {},
     "output_type": "execute_result"
    },
    {
     "name": "stdout",
     "output_type": "stream",
     "text": [
      "Mean absolute error is \n",
      "20.76825962815931\n"
     ]
    },
    {
     "data": {
      "text/plain": [
       "0.013347855424303917"
      ]
     },
     "execution_count": 22,
     "metadata": {},
     "output_type": "execute_result"
    }
   ],
   "source": [
    "test_output = pd.DataFrame(preds, index = X_test.index, columns = ['pred_spx'])\n",
    "test_output = test_output.merge(y_test, left_index = True, right_index = True)\n",
    "test_output.head()\n",
    "mean_absolute_error = abs(test_output['pred_spx'] - test_output['spx']).mean()\n",
    "print('Mean absolute error is ')\n",
    "print(mean_absolute_error)\n",
    "abs(test_output['pred_spx'] - test_output['spx']).mean()/test_output['spx'].mean()"
   ]
  },
  {
   "cell_type": "markdown",
   "id": "54cfb086",
   "metadata": {},
   "source": [
    "## Hybrid Model "
   ]
  },
  {
   "cell_type": "code",
   "execution_count": 23,
   "id": "2f0e35d9",
   "metadata": {},
   "outputs": [
    {
     "data": {
      "text/plain": [
       "LinearRegression()"
      ]
     },
     "execution_count": 23,
     "metadata": {},
     "output_type": "execute_result"
    },
    {
     "data": {
      "text/plain": [
       "0.9323702921822077"
      ]
     },
     "execution_count": 23,
     "metadata": {},
     "output_type": "execute_result"
    }
   ],
   "source": [
    "model = LinearRegression(fit_intercept = True)\n",
    "model.fit(X_train, y_train) \n",
    "\n",
    "# The following gives the R-square score\n",
    "model.score(X_train, y_train) "
   ]
  },
  {
   "cell_type": "code",
   "execution_count": 24,
   "id": "09d740b6",
   "metadata": {},
   "outputs": [],
   "source": [
    "training_residuals = y_train - model.predict(X_train)"
   ]
  },
  {
   "cell_type": "code",
   "execution_count": 25,
   "id": "2e218242",
   "metadata": {},
   "outputs": [],
   "source": [
    "rf = RandomForestRegressor(random_state=50, min_samples_leaf = 3, max_features = \"sqrt\")\n",
    "\n",
    "rf = rf.fit(X_train, training_residuals) "
   ]
  },
  {
   "cell_type": "code",
   "execution_count": 26,
   "id": "cb735f23",
   "metadata": {},
   "outputs": [],
   "source": [
    "pred_residuals = rf.predict(X_test)\n",
    "y_pred = pred_residuals + model.predict(X_test)"
   ]
  },
  {
   "cell_type": "code",
   "execution_count": 27,
   "id": "f450ee73",
   "metadata": {},
   "outputs": [
    {
     "data": {
      "text/html": [
       "<div>\n",
       "<style scoped>\n",
       "    .dataframe tbody tr th:only-of-type {\n",
       "        vertical-align: middle;\n",
       "    }\n",
       "\n",
       "    .dataframe tbody tr th {\n",
       "        vertical-align: top;\n",
       "    }\n",
       "\n",
       "    .dataframe thead th {\n",
       "        text-align: right;\n",
       "    }\n",
       "</style>\n",
       "<table border=\"1\" class=\"dataframe\">\n",
       "  <thead>\n",
       "    <tr style=\"text-align: right;\">\n",
       "      <th></th>\n",
       "      <th>pred_spx</th>\n",
       "      <th>spx</th>\n",
       "    </tr>\n",
       "  </thead>\n",
       "  <tbody>\n",
       "    <tr>\n",
       "      <th>7067</th>\n",
       "      <td>3,898.89</td>\n",
       "      <td>3,911.23</td>\n",
       "    </tr>\n",
       "    <tr>\n",
       "      <th>6311</th>\n",
       "      <td>2,703.73</td>\n",
       "      <td>2,712.92</td>\n",
       "    </tr>\n",
       "    <tr>\n",
       "      <th>5469</th>\n",
       "      <td>2,082.67</td>\n",
       "      <td>2,081.88</td>\n",
       "    </tr>\n",
       "    <tr>\n",
       "      <th>809</th>\n",
       "      <td>801.13</td>\n",
       "      <td>811.82</td>\n",
       "    </tr>\n",
       "    <tr>\n",
       "      <th>6801</th>\n",
       "      <td>3,189.67</td>\n",
       "      <td>3,248.92</td>\n",
       "    </tr>\n",
       "  </tbody>\n",
       "</table>\n",
       "</div>"
      ],
      "text/plain": [
       "      pred_spx      spx\n",
       "7067  3,898.89 3,911.23\n",
       "6311  2,703.73 2,712.92\n",
       "5469  2,082.67 2,081.88\n",
       "809     801.13   811.82\n",
       "6801  3,189.67 3,248.92"
      ]
     },
     "execution_count": 27,
     "metadata": {},
     "output_type": "execute_result"
    },
    {
     "name": "stdout",
     "output_type": "stream",
     "text": [
      "Mean absolute error is \n",
      "17.053470287482643\n"
     ]
    },
    {
     "data": {
      "text/plain": [
       "0.010960343329459594"
      ]
     },
     "execution_count": 27,
     "metadata": {},
     "output_type": "execute_result"
    }
   ],
   "source": [
    "test_output = pd.DataFrame(y_pred, index = X_test.index, columns = ['pred_spx'])\n",
    "test_output = test_output.merge(y_test, left_index = True, right_index = True)\n",
    "test_output.head()\n",
    "mean_absolute_error = abs(test_output['pred_spx'] - test_output['spx']).mean()\n",
    "print('Mean absolute error is ')\n",
    "print(mean_absolute_error)\n",
    "abs(test_output['pred_spx'] - test_output['spx']).mean()/test_output['spx'].mean()"
   ]
  },
  {
   "cell_type": "markdown",
   "id": "f190866e",
   "metadata": {},
   "source": [
    "## Plotting a Graph for Comparing Results\n"
   ]
  },
  {
   "cell_type": "code",
   "execution_count": 37,
   "id": "e2b6fa09",
   "metadata": {},
   "outputs": [
    {
     "data": {
      "text/plain": [
       "<Figure size 720x432 with 0 Axes>"
      ]
     },
     "execution_count": 37,
     "metadata": {},
     "output_type": "execute_result"
    },
    {
     "data": {
      "text/plain": [
       "Text(0.5, 1.0, 'Comparison of Mean Absolute Error (MAE) Across Models')"
      ]
     },
     "execution_count": 37,
     "metadata": {},
     "output_type": "execute_result"
    },
    {
     "data": {
      "text/plain": [
       "Text(0.5, 0, 'Models')"
      ]
     },
     "execution_count": 37,
     "metadata": {},
     "output_type": "execute_result"
    },
    {
     "data": {
      "text/plain": [
       "Text(0, 0.5, 'MAE (lower is better)')"
      ]
     },
     "execution_count": 37,
     "metadata": {},
     "output_type": "execute_result"
    },
    {
     "data": {
      "text/plain": [
       "([0, 1, 2, 3, 4],\n",
       " [Text(0, 0, ''),\n",
       "  Text(0, 0, ''),\n",
       "  Text(0, 0, ''),\n",
       "  Text(0, 0, ''),\n",
       "  Text(0, 0, '')])"
      ]
     },
     "execution_count": 37,
     "metadata": {},
     "output_type": "execute_result"
    },
    {
     "data": {
      "text/plain": [
       "Text(0.0, 16.490000000000002, '15.99')"
      ]
     },
     "execution_count": 37,
     "metadata": {},
     "output_type": "execute_result"
    },
    {
     "data": {
      "text/plain": [
       "Text(1.0, 17.48, '16.98')"
      ]
     },
     "execution_count": 37,
     "metadata": {},
     "output_type": "execute_result"
    },
    {
     "data": {
      "text/plain": [
       "Text(2.0, 17.55, '17.05')"
      ]
     },
     "execution_count": 37,
     "metadata": {},
     "output_type": "execute_result"
    },
    {
     "data": {
      "text/plain": [
       "Text(3.0, 17.7, '17.20')"
      ]
     },
     "execution_count": 37,
     "metadata": {},
     "output_type": "execute_result"
    },
    {
     "data": {
      "text/plain": [
       "Text(4.0, 20.51, '20.01')"
      ]
     },
     "execution_count": 37,
     "metadata": {},
     "output_type": "execute_result"
    },
    {
     "data": {
      "image/png": "[encoded data removed]",
      "text/plain": [
       "<Figure size 720x432 with 1 Axes>"
      ]
     },
     "metadata": {
      "needs_background": "light"
     },
     "output_type": "display_data"
    }
   ],
   "source": [
    "import matplotlib.pyplot as plt\n",
    "import pandas as pd\n",
    "\n",
    "# Replace these with actual MAE or R² scores from your runs\n",
    "model_names = [\n",
    "    \"Decision Tree\", \n",
    "    \"Bagging Regressor\", \n",
    "    \"Hybrid Model\", \n",
    "    \"XGBoost Regressor\", \n",
    "    \"Gradient Boosting Regressor\"\n",
    "]\n",
    "\n",
    "# Example scores — update with your real MAEs or R² values\n",
    "model_scores = [\n",
    "    15.99,   # Decision Tree\n",
    "    16.98,   # Bagging Regressor\n",
    "    17.05,   # Hybrid Model\n",
    "    17.20,   # XGBoost Regressor\n",
    "    20.01,   # Gradient Boosting Regressor\n",
    "]\n",
    "\n",
    "# Create DataFrame\n",
    "df = pd.DataFrame({'Model': model_names, 'MAE': model_scores})\n",
    "\n",
    "# Plot\n",
    "plt.figure(figsize=(10, 6))\n",
    "bars = plt.bar(df['Model'], df['MAE'], color='cornflowerblue', edgecolor='black')\n",
    "plt.title('Comparison of Mean Absolute Error (MAE) Across Models', fontsize=14)\n",
    "plt.xlabel('Models')\n",
    "plt.ylabel('MAE (lower is better)')\n",
    "plt.xticks(rotation=45)\n",
    "\n",
    "# Annotate bars\n",
    "for bar in bars:\n",
    "    yval = bar.get_height()\n",
    "    plt.text(bar.get_x() + bar.get_width()/2.0, yval + 0.5, f'{yval:.2f}', ha='center', va='bottom')\n",
    "\n",
    "plt.tight_layout()\n",
    "plt.show()\n"
   ]
  },
  {
   "cell_type": "code",
   "execution_count": null,
   "id": "bcfd5ec8",
   "metadata": {},
   "outputs": [],
   "source": []
  }
 ],
 "metadata": {
  "kernelspec": {
   "display_name": "Python 3 (ipykernel)",
   "language": "python",
   "name": "python3"
  },
  "language_info": {
   "codemirror_mode": {
    "name": "ipython",
    "version": 3
   },
   "file_extension": ".py",
   "mimetype": "text/x-python",
   "name": "python",
   "nbconvert_exporter": "python",
   "pygments_lexer": "ipython3",
   "version": "3.9.12"
  }
 },
 "nbformat": 4,
 "nbformat_minor": 5
}
