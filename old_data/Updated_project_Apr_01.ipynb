{
 "cells": [
  {
   "cell_type": "code",
   "execution_count": 1,
   "id": "e540ef62",
   "metadata": {},
   "outputs": [],
   "source": [
    "# Generic inputs for most ML tasks\n",
    "import pandas as pd\n",
    "import numpy as np\n",
    "import matplotlib.pyplot as plt\n",
    "from sklearn.model_selection import train_test_split\n",
    "from sklearn.linear_model import LinearRegression\n",
    "from sklearn.linear_model import Ridge\n",
    "from sklearn.linear_model import Lasso\n",
    "\n",
    "from sklearn import tree\n",
    "from sklearn.tree import DecisionTreeClassifier\n",
    "from sklearn.tree import DecisionTreeRegressor\n",
    "from sklearn.ensemble import BaggingRegressor\n",
    "from sklearn.ensemble import RandomForestRegressor\n",
    "from sklearn.ensemble import GradientBoostingRegressor\n",
    "from sklearn.ensemble import HistGradientBoostingRegressor\n",
    "import xgboost as xgb\n",
    "\n",
    "pd.options.display.float_format = '{:,.2f}'.format\n",
    "\n",
    "# setup interactive notebook mode\n",
    "from IPython.core.interactiveshell import InteractiveShell\n",
    "InteractiveShell.ast_node_interactivity = \"all\"\n",
    "\n",
    "from IPython.display import display, HTML"
   ]
  },
  {
   "cell_type": "markdown",
   "id": "55ab7652",
   "metadata": {},
   "source": [
    "# Read, pre-process and visualize data"
   ]
  },
  {
   "cell_type": "code",
   "execution_count": 2,
   "id": "c64881c8",
   "metadata": {},
   "outputs": [
    {
     "data": {
      "text/html": [
       "<div>\n",
       "<style scoped>\n",
       "    .dataframe tbody tr th:only-of-type {\n",
       "        vertical-align: middle;\n",
       "    }\n",
       "\n",
       "    .dataframe tbody tr th {\n",
       "        vertical-align: top;\n",
       "    }\n",
       "\n",
       "    .dataframe thead th {\n",
       "        text-align: right;\n",
       "    }\n",
       "</style>\n",
       "<table border=\"1\" class=\"dataframe\">\n",
       "  <thead>\n",
       "    <tr style=\"text-align: right;\">\n",
       "      <th></th>\n",
       "      <th>Date</th>\n",
       "      <th>SP500</th>\n",
       "      <th>Futures</th>\n",
       "      <th>Nikkei</th>\n",
       "      <th>FTSE</th>\n",
       "      <th>DAX</th>\n",
       "    </tr>\n",
       "  </thead>\n",
       "  <tbody>\n",
       "    <tr>\n",
       "      <th>0</th>\n",
       "      <td>2025-04-02</td>\n",
       "      <td>5,670.97</td>\n",
       "      <td>5,512.00</td>\n",
       "      <td>35,725.87</td>\n",
       "      <td>8,608.48</td>\n",
       "      <td>22,390.84</td>\n",
       "    </tr>\n",
       "    <tr>\n",
       "      <th>1</th>\n",
       "      <td>2025-04-01</td>\n",
       "      <td>5,633.07</td>\n",
       "      <td>5,674.50</td>\n",
       "      <td>35,624.48</td>\n",
       "      <td>8,634.80</td>\n",
       "      <td>22,539.98</td>\n",
       "    </tr>\n",
       "    <tr>\n",
       "      <th>2</th>\n",
       "      <td>2025-03-31</td>\n",
       "      <td>5,611.85</td>\n",
       "      <td>5,653.25</td>\n",
       "      <td>35,617.56</td>\n",
       "      <td>8,582.81</td>\n",
       "      <td>22,163.49</td>\n",
       "    </tr>\n",
       "    <tr>\n",
       "      <th>3</th>\n",
       "      <td>2025-03-28</td>\n",
       "      <td>5,580.94</td>\n",
       "      <td>5,623.00</td>\n",
       "      <td>37,120.33</td>\n",
       "      <td>8,658.85</td>\n",
       "      <td>22,461.52</td>\n",
       "    </tr>\n",
       "    <tr>\n",
       "      <th>4</th>\n",
       "      <td>2025-03-27</td>\n",
       "      <td>5,693.31</td>\n",
       "      <td>5,739.25</td>\n",
       "      <td>37,799.97</td>\n",
       "      <td>8,666.12</td>\n",
       "      <td>22,678.74</td>\n",
       "    </tr>\n",
       "  </tbody>\n",
       "</table>\n",
       "</div>"
      ],
      "text/plain": [
       "         Date    SP500  Futures    Nikkei     FTSE       DAX\n",
       "0  2025-04-02 5,670.97 5,512.00 35,725.87 8,608.48 22,390.84\n",
       "1  2025-04-01 5,633.07 5,674.50 35,624.48 8,634.80 22,539.98\n",
       "2  2025-03-31 5,611.85 5,653.25 35,617.56 8,582.81 22,163.49\n",
       "3  2025-03-28 5,580.94 5,623.00 37,120.33 8,658.85 22,461.52\n",
       "4  2025-03-27 5,693.31 5,739.25 37,799.97 8,666.12 22,678.74"
      ]
     },
     "execution_count": 2,
     "metadata": {},
     "output_type": "execute_result"
    }
   ],
   "source": [
    "data_set = pd.read_csv(\"/home/manu/git/XGBoostHybrid/MultipleSources-2019-2025.csv\")\n",
    "data_set.head()"
   ]
  },
  {
   "cell_type": "code",
   "execution_count": 3,
   "id": "3570ddaf",
   "metadata": {},
   "outputs": [
    {
     "data": {
      "text/plain": [
       "1509"
      ]
     },
     "execution_count": 3,
     "metadata": {},
     "output_type": "execute_result"
    },
    {
     "data": {
      "text/plain": [
       "Date        0\n",
       "SP500       0\n",
       "Futures     0\n",
       "Nikkei     98\n",
       "FTSE       30\n",
       "DAX        24\n",
       "dtype: int64"
      ]
     },
     "execution_count": 3,
     "metadata": {},
     "output_type": "execute_result"
    },
    {
     "data": {
      "text/plain": [
       "Date        object\n",
       "SP500      float64\n",
       "Futures    float64\n",
       "Nikkei     float64\n",
       "FTSE       float64\n",
       "DAX        float64\n",
       "dtype: object"
      ]
     },
     "execution_count": 3,
     "metadata": {},
     "output_type": "execute_result"
    }
   ],
   "source": [
    "len(data_set)\n",
    "data_set.isna().sum()\n",
    "data_set.dtypes"
   ]
  },
  {
   "cell_type": "code",
   "execution_count": 4,
   "id": "99397fc7",
   "metadata": {
    "scrolled": true
   },
   "outputs": [
    {
     "data": {
      "text/plain": [
       "Index(['Date', 'SP500', 'Futures', 'Nikkei', 'FTSE', 'DAX'], dtype='object')"
      ]
     },
     "execution_count": 4,
     "metadata": {},
     "output_type": "execute_result"
    },
    {
     "data": {
      "text/html": [
       "<div>\n",
       "<style scoped>\n",
       "    .dataframe tbody tr th:only-of-type {\n",
       "        vertical-align: middle;\n",
       "    }\n",
       "\n",
       "    .dataframe tbody tr th {\n",
       "        vertical-align: top;\n",
       "    }\n",
       "\n",
       "    .dataframe thead th {\n",
       "        text-align: right;\n",
       "    }\n",
       "</style>\n",
       "<table border=\"1\" class=\"dataframe\">\n",
       "  <thead>\n",
       "    <tr style=\"text-align: right;\">\n",
       "      <th></th>\n",
       "      <th>Date</th>\n",
       "      <th>SP500</th>\n",
       "      <th>Futures</th>\n",
       "      <th>Nikkei</th>\n",
       "      <th>FTSE</th>\n",
       "      <th>DAX</th>\n",
       "    </tr>\n",
       "  </thead>\n",
       "  <tbody>\n",
       "    <tr>\n",
       "      <th>1504</th>\n",
       "      <td>1554768000</td>\n",
       "      <td>2,878.20</td>\n",
       "      <td>2,882.50</td>\n",
       "      <td>21,802.59</td>\n",
       "      <td>7,425.57</td>\n",
       "      <td>11,850.57</td>\n",
       "    </tr>\n",
       "    <tr>\n",
       "      <th>1505</th>\n",
       "      <td>1554681600</td>\n",
       "      <td>2,895.77</td>\n",
       "      <td>2,898.25</td>\n",
       "      <td>21,761.65</td>\n",
       "      <td>7,451.89</td>\n",
       "      <td>11,963.40</td>\n",
       "    </tr>\n",
       "    <tr>\n",
       "      <th>1506</th>\n",
       "      <td>1554422400</td>\n",
       "      <td>2,892.74</td>\n",
       "      <td>2,896.00</td>\n",
       "      <td>21,807.50</td>\n",
       "      <td>7,446.87</td>\n",
       "      <td>12,009.75</td>\n",
       "    </tr>\n",
       "    <tr>\n",
       "      <th>1507</th>\n",
       "      <td>1554336000</td>\n",
       "      <td>2,879.39</td>\n",
       "      <td>2,882.75</td>\n",
       "      <td>21,724.95</td>\n",
       "      <td>7,401.94</td>\n",
       "      <td>11,988.01</td>\n",
       "    </tr>\n",
       "    <tr>\n",
       "      <th>1508</th>\n",
       "      <td>1554249600</td>\n",
       "      <td>2,873.40</td>\n",
       "      <td>2,879.75</td>\n",
       "      <td>21,713.21</td>\n",
       "      <td>7,418.28</td>\n",
       "      <td>11,954.40</td>\n",
       "    </tr>\n",
       "  </tbody>\n",
       "</table>\n",
       "</div>"
      ],
      "text/plain": [
       "            Date    SP500  Futures    Nikkei     FTSE       DAX\n",
       "1504  1554768000 2,878.20 2,882.50 21,802.59 7,425.57 11,850.57\n",
       "1505  1554681600 2,895.77 2,898.25 21,761.65 7,451.89 11,963.40\n",
       "1506  1554422400 2,892.74 2,896.00 21,807.50 7,446.87 12,009.75\n",
       "1507  1554336000 2,879.39 2,882.75 21,724.95 7,401.94 11,988.01\n",
       "1508  1554249600 2,873.40 2,879.75 21,713.21 7,418.28 11,954.40"
      ]
     },
     "execution_count": 4,
     "metadata": {},
     "output_type": "execute_result"
    }
   ],
   "source": [
    "data_set.columns\n",
    "\n",
    "# Step 1: Ensure the 'Date' column is in datetime format\n",
    "data_set['Date'] = pd.to_datetime(data_set['Date'])\n",
    "\n",
    "# Step 2: Convert datetime to integer timestamp (in seconds)\n",
    "data_set['Date'] = data_set['Date'].astype(np.int64) // 10**9\n",
    "\n",
    "data_set.tail()"
   ]
  },
  {
   "cell_type": "code",
   "execution_count": 5,
   "id": "280e82d6",
   "metadata": {},
   "outputs": [
    {
     "data": {
      "text/html": [
       "<div>\n",
       "<style scoped>\n",
       "    .dataframe tbody tr th:only-of-type {\n",
       "        vertical-align: middle;\n",
       "    }\n",
       "\n",
       "    .dataframe tbody tr th {\n",
       "        vertical-align: top;\n",
       "    }\n",
       "\n",
       "    .dataframe thead th {\n",
       "        text-align: right;\n",
       "    }\n",
       "</style>\n",
       "<table border=\"1\" class=\"dataframe\">\n",
       "  <thead>\n",
       "    <tr style=\"text-align: right;\">\n",
       "      <th></th>\n",
       "      <th>Date</th>\n",
       "      <th>Futures</th>\n",
       "      <th>Nikkei</th>\n",
       "      <th>FTSE</th>\n",
       "      <th>DAX</th>\n",
       "    </tr>\n",
       "  </thead>\n",
       "  <tbody>\n",
       "    <tr>\n",
       "      <th>232</th>\n",
       "      <td>1714348800</td>\n",
       "      <td>5,147.00</td>\n",
       "      <td>NaN</td>\n",
       "      <td>8,147.03</td>\n",
       "      <td>18,118.32</td>\n",
       "    </tr>\n",
       "    <tr>\n",
       "      <th>1314</th>\n",
       "      <td>1578528000</td>\n",
       "      <td>3,276.00</td>\n",
       "      <td>23,739.87</td>\n",
       "      <td>7,598.12</td>\n",
       "      <td>13,495.06</td>\n",
       "    </tr>\n",
       "    <tr>\n",
       "      <th>741</th>\n",
       "      <td>1650326400</td>\n",
       "      <td>4,459.25</td>\n",
       "      <td>26,985.09</td>\n",
       "      <td>7,601.28</td>\n",
       "      <td>14,153.46</td>\n",
       "    </tr>\n",
       "    <tr>\n",
       "      <th>1231</th>\n",
       "      <td>1588896000</td>\n",
       "      <td>2,928.50</td>\n",
       "      <td>20,179.09</td>\n",
       "      <td>NaN</td>\n",
       "      <td>10,904.48</td>\n",
       "    </tr>\n",
       "    <tr>\n",
       "      <th>610</th>\n",
       "      <td>1666656000</td>\n",
       "      <td>3,870.25</td>\n",
       "      <td>27,250.28</td>\n",
       "      <td>7,013.48</td>\n",
       "      <td>13,052.96</td>\n",
       "    </tr>\n",
       "    <tr>\n",
       "      <th>...</th>\n",
       "      <td>...</td>\n",
       "      <td>...</td>\n",
       "      <td>...</td>\n",
       "      <td>...</td>\n",
       "      <td>...</td>\n",
       "    </tr>\n",
       "    <tr>\n",
       "      <th>70</th>\n",
       "      <td>1734480000</td>\n",
       "      <td>5,872.25</td>\n",
       "      <td>39,081.71</td>\n",
       "      <td>8,199.11</td>\n",
       "      <td>20,242.57</td>\n",
       "    </tr>\n",
       "    <tr>\n",
       "      <th>132</th>\n",
       "      <td>1726790400</td>\n",
       "      <td>5,699.99</td>\n",
       "      <td>37,723.91</td>\n",
       "      <td>8,229.99</td>\n",
       "      <td>18,720.01</td>\n",
       "    </tr>\n",
       "    <tr>\n",
       "      <th>1313</th>\n",
       "      <td>1578614400</td>\n",
       "      <td>3,264.75</td>\n",
       "      <td>23,850.57</td>\n",
       "      <td>7,587.85</td>\n",
       "      <td>13,483.31</td>\n",
       "    </tr>\n",
       "    <tr>\n",
       "      <th>109</th>\n",
       "      <td>1729641600</td>\n",
       "      <td>5,837.75</td>\n",
       "      <td>38,104.86</td>\n",
       "      <td>8,258.64</td>\n",
       "      <td>19,377.62</td>\n",
       "    </tr>\n",
       "    <tr>\n",
       "      <th>1504</th>\n",
       "      <td>1554768000</td>\n",
       "      <td>2,882.50</td>\n",
       "      <td>21,802.59</td>\n",
       "      <td>7,425.57</td>\n",
       "      <td>11,850.57</td>\n",
       "    </tr>\n",
       "  </tbody>\n",
       "</table>\n",
       "<p>1207 rows × 5 columns</p>\n",
       "</div>"
      ],
      "text/plain": [
       "            Date  Futures    Nikkei     FTSE       DAX\n",
       "232   1714348800 5,147.00       NaN 8,147.03 18,118.32\n",
       "1314  1578528000 3,276.00 23,739.87 7,598.12 13,495.06\n",
       "741   1650326400 4,459.25 26,985.09 7,601.28 14,153.46\n",
       "1231  1588896000 2,928.50 20,179.09      NaN 10,904.48\n",
       "610   1666656000 3,870.25 27,250.28 7,013.48 13,052.96\n",
       "...          ...      ...       ...      ...       ...\n",
       "70    1734480000 5,872.25 39,081.71 8,199.11 20,242.57\n",
       "132   1726790400 5,699.99 37,723.91 8,229.99 18,720.01\n",
       "1313  1578614400 3,264.75 23,850.57 7,587.85 13,483.31\n",
       "109   1729641600 5,837.75 38,104.86 8,258.64 19,377.62\n",
       "1504  1554768000 2,882.50 21,802.59 7,425.57 11,850.57\n",
       "\n",
       "[1207 rows x 5 columns]"
      ]
     },
     "execution_count": 5,
     "metadata": {},
     "output_type": "execute_result"
    },
    {
     "data": {
      "text/html": [
       "<div>\n",
       "<style scoped>\n",
       "    .dataframe tbody tr th:only-of-type {\n",
       "        vertical-align: middle;\n",
       "    }\n",
       "\n",
       "    .dataframe tbody tr th {\n",
       "        vertical-align: top;\n",
       "    }\n",
       "\n",
       "    .dataframe thead th {\n",
       "        text-align: right;\n",
       "    }\n",
       "</style>\n",
       "<table border=\"1\" class=\"dataframe\">\n",
       "  <thead>\n",
       "    <tr style=\"text-align: right;\">\n",
       "      <th></th>\n",
       "      <th>Date</th>\n",
       "      <th>Futures</th>\n",
       "      <th>Nikkei</th>\n",
       "      <th>FTSE</th>\n",
       "      <th>DAX</th>\n",
       "    </tr>\n",
       "  </thead>\n",
       "  <tbody>\n",
       "    <tr>\n",
       "      <th>288</th>\n",
       "      <td>1707264000</td>\n",
       "      <td>5,015.25</td>\n",
       "      <td>36,119.92</td>\n",
       "      <td>7,628.75</td>\n",
       "      <td>16,921.96</td>\n",
       "    </tr>\n",
       "    <tr>\n",
       "      <th>965</th>\n",
       "      <td>1622160000</td>\n",
       "      <td>4,202.50</td>\n",
       "      <td>29,149.41</td>\n",
       "      <td>7,022.61</td>\n",
       "      <td>15,519.98</td>\n",
       "    </tr>\n",
       "    <tr>\n",
       "      <th>1090</th>\n",
       "      <td>1606435200</td>\n",
       "      <td>3,636.50</td>\n",
       "      <td>26,644.71</td>\n",
       "      <td>6,367.58</td>\n",
       "      <td>13,335.68</td>\n",
       "    </tr>\n",
       "    <tr>\n",
       "      <th>191</th>\n",
       "      <td>1719446400</td>\n",
       "      <td>5,546.00</td>\n",
       "      <td>39,341.54</td>\n",
       "      <td>8,179.68</td>\n",
       "      <td>18,210.55</td>\n",
       "    </tr>\n",
       "    <tr>\n",
       "      <th>453</th>\n",
       "      <td>1686528000</td>\n",
       "      <td>4,342.75</td>\n",
       "      <td>32,434.00</td>\n",
       "      <td>7,570.69</td>\n",
       "      <td>16,097.87</td>\n",
       "    </tr>\n",
       "    <tr>\n",
       "      <th>...</th>\n",
       "      <td>...</td>\n",
       "      <td>...</td>\n",
       "      <td>...</td>\n",
       "      <td>...</td>\n",
       "      <td>...</td>\n",
       "    </tr>\n",
       "    <tr>\n",
       "      <th>539</th>\n",
       "      <td>1675728000</td>\n",
       "      <td>4,175.75</td>\n",
       "      <td>27,685.47</td>\n",
       "      <td>7,864.71</td>\n",
       "      <td>15,320.88</td>\n",
       "    </tr>\n",
       "    <tr>\n",
       "      <th>1235</th>\n",
       "      <td>1588550400</td>\n",
       "      <td>2,825.25</td>\n",
       "      <td>NaN</td>\n",
       "      <td>5,753.78</td>\n",
       "      <td>10,466.80</td>\n",
       "    </tr>\n",
       "    <tr>\n",
       "      <th>497</th>\n",
       "      <td>1681084800</td>\n",
       "      <td>4,136.25</td>\n",
       "      <td>27,633.66</td>\n",
       "      <td>NaN</td>\n",
       "      <td>NaN</td>\n",
       "    </tr>\n",
       "    <tr>\n",
       "      <th>296</th>\n",
       "      <td>1706227200</td>\n",
       "      <td>4,916.25</td>\n",
       "      <td>35,751.07</td>\n",
       "      <td>7,635.09</td>\n",
       "      <td>16,961.39</td>\n",
       "    </tr>\n",
       "    <tr>\n",
       "      <th>1038</th>\n",
       "      <td>1613088000</td>\n",
       "      <td>3,931.00</td>\n",
       "      <td>29,520.07</td>\n",
       "      <td>6,589.79</td>\n",
       "      <td>14,049.89</td>\n",
       "    </tr>\n",
       "  </tbody>\n",
       "</table>\n",
       "<p>302 rows × 5 columns</p>\n",
       "</div>"
      ],
      "text/plain": [
       "            Date  Futures    Nikkei     FTSE       DAX\n",
       "288   1707264000 5,015.25 36,119.92 7,628.75 16,921.96\n",
       "965   1622160000 4,202.50 29,149.41 7,022.61 15,519.98\n",
       "1090  1606435200 3,636.50 26,644.71 6,367.58 13,335.68\n",
       "191   1719446400 5,546.00 39,341.54 8,179.68 18,210.55\n",
       "453   1686528000 4,342.75 32,434.00 7,570.69 16,097.87\n",
       "...          ...      ...       ...      ...       ...\n",
       "539   1675728000 4,175.75 27,685.47 7,864.71 15,320.88\n",
       "1235  1588550400 2,825.25       NaN 5,753.78 10,466.80\n",
       "497   1681084800 4,136.25 27,633.66      NaN       NaN\n",
       "296   1706227200 4,916.25 35,751.07 7,635.09 16,961.39\n",
       "1038  1613088000 3,931.00 29,520.07 6,589.79 14,049.89\n",
       "\n",
       "[302 rows x 5 columns]"
      ]
     },
     "execution_count": 5,
     "metadata": {},
     "output_type": "execute_result"
    },
    {
     "data": {
      "text/plain": [
       "232    5,116.17\n",
       "1314   3,274.70\n",
       "741    4,462.21\n",
       "1231   2,929.80\n",
       "610    3,859.11\n",
       "         ...   \n",
       "70     5,872.16\n",
       "132    5,702.55\n",
       "1313   3,265.35\n",
       "109    5,797.42\n",
       "1504   2,878.20\n",
       "Name: SP500, Length: 1207, dtype: float64"
      ]
     },
     "execution_count": 5,
     "metadata": {},
     "output_type": "execute_result"
    },
    {
     "data": {
      "text/plain": [
       "288    4,995.06\n",
       "965    4,204.11\n",
       "1090   3,638.35\n",
       "191    5,482.87\n",
       "453    4,338.93\n",
       "         ...   \n",
       "539    4,164.00\n",
       "1235   2,842.74\n",
       "497    4,109.11\n",
       "296    4,890.97\n",
       "1038   3,934.83\n",
       "Name: SP500, Length: 302, dtype: float64"
      ]
     },
     "execution_count": 5,
     "metadata": {},
     "output_type": "execute_result"
    }
   ],
   "source": [
    "X_train, X_test, y_train, y_test = train_test_split(data_set.drop(columns = ['SP500']), data_set['SP500'], test_size=0.2, random_state=50)\n",
    "X_train\n",
    "X_test\n",
    "y_train\n",
    "y_test"
   ]
  },
  {
   "cell_type": "markdown",
   "id": "9d422bca",
   "metadata": {},
   "source": [
    "# Decison tree\n"
   ]
  },
  {
   "cell_type": "code",
   "execution_count": 6,
   "id": "e7b21b98",
   "metadata": {},
   "outputs": [],
   "source": [
    "clf = DecisionTreeRegressor(random_state=50)\n",
    "\n",
    "clf = clf.fit(X_train, y_train) "
   ]
  },
  {
   "cell_type": "code",
   "execution_count": 7,
   "id": "1e80b198",
   "metadata": {},
   "outputs": [
    {
     "data": {
      "text/plain": [
       "Index(['Date', 'Futures', 'Nikkei', 'FTSE', 'DAX'], dtype='object')"
      ]
     },
     "execution_count": 7,
     "metadata": {},
     "output_type": "execute_result"
    },
    {
     "data": {
      "text/plain": [
       "array([7.60832339e-05, 9.99658237e-01, 1.81359688e-04, 6.22487369e-05,\n",
       "       2.20711814e-05])"
      ]
     },
     "execution_count": 7,
     "metadata": {},
     "output_type": "execute_result"
    }
   ],
   "source": [
    "X_train.columns\n",
    "clf.feature_importances_"
   ]
  },
  {
   "cell_type": "code",
   "execution_count": 8,
   "id": "5f160e8a",
   "metadata": {},
   "outputs": [
    {
     "data": {
      "text/html": [
       "<div>\n",
       "<style scoped>\n",
       "    .dataframe tbody tr th:only-of-type {\n",
       "        vertical-align: middle;\n",
       "    }\n",
       "\n",
       "    .dataframe tbody tr th {\n",
       "        vertical-align: top;\n",
       "    }\n",
       "\n",
       "    .dataframe thead th {\n",
       "        text-align: right;\n",
       "    }\n",
       "</style>\n",
       "<table border=\"1\" class=\"dataframe\">\n",
       "  <thead>\n",
       "    <tr style=\"text-align: right;\">\n",
       "      <th></th>\n",
       "      <th>pred_spx</th>\n",
       "      <th>SP500</th>\n",
       "    </tr>\n",
       "  </thead>\n",
       "  <tbody>\n",
       "    <tr>\n",
       "      <th>288</th>\n",
       "      <td>5,000.62</td>\n",
       "      <td>4,995.06</td>\n",
       "    </tr>\n",
       "    <tr>\n",
       "      <th>965</th>\n",
       "      <td>4,195.99</td>\n",
       "      <td>4,204.11</td>\n",
       "    </tr>\n",
       "    <tr>\n",
       "      <th>1090</th>\n",
       "      <td>3,635.41</td>\n",
       "      <td>3,638.35</td>\n",
       "    </tr>\n",
       "    <tr>\n",
       "      <th>191</th>\n",
       "      <td>5,475.09</td>\n",
       "      <td>5,482.87</td>\n",
       "    </tr>\n",
       "    <tr>\n",
       "      <th>453</th>\n",
       "      <td>4,327.78</td>\n",
       "      <td>4,338.93</td>\n",
       "    </tr>\n",
       "  </tbody>\n",
       "</table>\n",
       "</div>"
      ],
      "text/plain": [
       "      pred_spx    SP500\n",
       "288   5,000.62 4,995.06\n",
       "965   4,195.99 4,204.11\n",
       "1090  3,635.41 3,638.35\n",
       "191   5,475.09 5,482.87\n",
       "453   4,327.78 4,338.93"
      ]
     },
     "execution_count": 8,
     "metadata": {},
     "output_type": "execute_result"
    },
    {
     "name": "stdout",
     "output_type": "stream",
     "text": [
      "Mean absolute error is \n",
      "9.033476821192066\n"
     ]
    },
    {
     "data": {
      "text/plain": [
       "np.float64(0.002149933263340384)"
      ]
     },
     "execution_count": 8,
     "metadata": {},
     "output_type": "execute_result"
    }
   ],
   "source": [
    "test_output = pd.DataFrame(clf.predict(X_test), index = X_test.index, columns = ['pred_spx'])\n",
    "test_output = test_output.merge(y_test, left_index = True, right_index = True)\n",
    "test_output.head()\n",
    "mean_absolute_error = abs(test_output['pred_spx'] - test_output['SP500']).mean()\n",
    "print('Mean absolute error is ')\n",
    "print(mean_absolute_error)\n",
    "abs(test_output['pred_spx'] - test_output['SP500']).mean()/test_output['SP500'].mean()"
   ]
  },
  {
   "cell_type": "markdown",
   "id": "21b60116",
   "metadata": {},
   "source": [
    "## Bagging Regressor ## "
   ]
  },
  {
   "cell_type": "code",
   "execution_count": 9,
   "id": "6a9699be",
   "metadata": {},
   "outputs": [],
   "source": [
    "regr = BaggingRegressor(random_state=50, n_estimators = 200, max_samples = 1000)\n",
    "\n",
    "regr = regr.fit(X_train, y_train) "
   ]
  },
  {
   "cell_type": "code",
   "execution_count": 10,
   "id": "7598e234",
   "metadata": {},
   "outputs": [
    {
     "data": {
      "text/html": [
       "<div>\n",
       "<style scoped>\n",
       "    .dataframe tbody tr th:only-of-type {\n",
       "        vertical-align: middle;\n",
       "    }\n",
       "\n",
       "    .dataframe tbody tr th {\n",
       "        vertical-align: top;\n",
       "    }\n",
       "\n",
       "    .dataframe thead th {\n",
       "        text-align: right;\n",
       "    }\n",
       "</style>\n",
       "<table border=\"1\" class=\"dataframe\">\n",
       "  <thead>\n",
       "    <tr style=\"text-align: right;\">\n",
       "      <th></th>\n",
       "      <th>pred_spx</th>\n",
       "      <th>SP500</th>\n",
       "    </tr>\n",
       "  </thead>\n",
       "  <tbody>\n",
       "    <tr>\n",
       "      <th>288</th>\n",
       "      <td>4,981.59</td>\n",
       "      <td>4,995.06</td>\n",
       "    </tr>\n",
       "    <tr>\n",
       "      <th>965</th>\n",
       "      <td>4,198.88</td>\n",
       "      <td>4,204.11</td>\n",
       "    </tr>\n",
       "    <tr>\n",
       "      <th>1090</th>\n",
       "      <td>3,634.11</td>\n",
       "      <td>3,638.35</td>\n",
       "    </tr>\n",
       "    <tr>\n",
       "      <th>191</th>\n",
       "      <td>5,485.06</td>\n",
       "      <td>5,482.87</td>\n",
       "    </tr>\n",
       "    <tr>\n",
       "      <th>453</th>\n",
       "      <td>4,336.93</td>\n",
       "      <td>4,338.93</td>\n",
       "    </tr>\n",
       "  </tbody>\n",
       "</table>\n",
       "</div>"
      ],
      "text/plain": [
       "      pred_spx    SP500\n",
       "288   4,981.59 4,995.06\n",
       "965   4,198.88 4,204.11\n",
       "1090  3,634.11 3,638.35\n",
       "191   5,485.06 5,482.87\n",
       "453   4,336.93 4,338.93"
      ]
     },
     "execution_count": 10,
     "metadata": {},
     "output_type": "execute_result"
    },
    {
     "name": "stdout",
     "output_type": "stream",
     "text": [
      "Mean absolute error is \n",
      "8.152711092715036\n"
     ]
    },
    {
     "data": {
      "text/plain": [
       "np.float64(0.0019403143564295105)"
      ]
     },
     "execution_count": 10,
     "metadata": {},
     "output_type": "execute_result"
    }
   ],
   "source": [
    "test_output = pd.DataFrame(regr.predict(X_test), index = X_test.index, columns = ['pred_spx'])\n",
    "test_output = test_output.merge(y_test, left_index = True, right_index = True)\n",
    "test_output.head()\n",
    "mean_absolute_error = abs(test_output['pred_spx'] - test_output['SP500']).mean()\n",
    "print('Mean absolute error is ')\n",
    "print(mean_absolute_error)\n",
    "abs(test_output['pred_spx'] - test_output['SP500']).mean()/test_output['SP500'].mean()"
   ]
  },
  {
   "cell_type": "markdown",
   "id": "51327dc2",
   "metadata": {},
   "source": [
    "## Random Forest Regressor "
   ]
  },
  {
   "cell_type": "code",
   "execution_count": 11,
   "id": "628133a6",
   "metadata": {},
   "outputs": [],
   "source": [
    "rf = RandomForestRegressor(random_state=50, min_samples_leaf = 3, max_features = \"sqrt\")\n",
    "\n",
    "rf = rf.fit(X_train, y_train) \n"
   ]
  },
  {
   "cell_type": "code",
   "execution_count": 12,
   "id": "5b6b1dc8",
   "metadata": {},
   "outputs": [
    {
     "data": {
      "text/plain": [
       "Index(['Date', 'Futures', 'Nikkei', 'FTSE', 'DAX'], dtype='object')"
      ]
     },
     "execution_count": 12,
     "metadata": {},
     "output_type": "execute_result"
    },
    {
     "data": {
      "text/plain": [
       "array([0.29595133, 0.4259416 , 0.11283519, 0.01997037, 0.14530151])"
      ]
     },
     "execution_count": 12,
     "metadata": {},
     "output_type": "execute_result"
    }
   ],
   "source": [
    "X_train.columns\n",
    "rf.feature_importances_"
   ]
  },
  {
   "cell_type": "code",
   "execution_count": 13,
   "id": "b48d974c",
   "metadata": {},
   "outputs": [
    {
     "data": {
      "text/html": [
       "<div>\n",
       "<style scoped>\n",
       "    .dataframe tbody tr th:only-of-type {\n",
       "        vertical-align: middle;\n",
       "    }\n",
       "\n",
       "    .dataframe tbody tr th {\n",
       "        vertical-align: top;\n",
       "    }\n",
       "\n",
       "    .dataframe thead th {\n",
       "        text-align: right;\n",
       "    }\n",
       "</style>\n",
       "<table border=\"1\" class=\"dataframe\">\n",
       "  <thead>\n",
       "    <tr style=\"text-align: right;\">\n",
       "      <th></th>\n",
       "      <th>pred_spx</th>\n",
       "      <th>SP500</th>\n",
       "    </tr>\n",
       "  </thead>\n",
       "  <tbody>\n",
       "    <tr>\n",
       "      <th>288</th>\n",
       "      <td>4,965.60</td>\n",
       "      <td>4,995.06</td>\n",
       "    </tr>\n",
       "    <tr>\n",
       "      <th>965</th>\n",
       "      <td>4,202.48</td>\n",
       "      <td>4,204.11</td>\n",
       "    </tr>\n",
       "    <tr>\n",
       "      <th>1090</th>\n",
       "      <td>3,625.72</td>\n",
       "      <td>3,638.35</td>\n",
       "    </tr>\n",
       "    <tr>\n",
       "      <th>191</th>\n",
       "      <td>5,474.76</td>\n",
       "      <td>5,482.87</td>\n",
       "    </tr>\n",
       "    <tr>\n",
       "      <th>453</th>\n",
       "      <td>4,343.72</td>\n",
       "      <td>4,338.93</td>\n",
       "    </tr>\n",
       "  </tbody>\n",
       "</table>\n",
       "</div>"
      ],
      "text/plain": [
       "      pred_spx    SP500\n",
       "288   4,965.60 4,995.06\n",
       "965   4,202.48 4,204.11\n",
       "1090  3,625.72 3,638.35\n",
       "191   5,474.76 5,482.87\n",
       "453   4,343.72 4,338.93"
      ]
     },
     "execution_count": 13,
     "metadata": {},
     "output_type": "execute_result"
    },
    {
     "name": "stdout",
     "output_type": "stream",
     "text": [
      "Mean absolute error is \n",
      "14.605712320374524\n"
     ]
    },
    {
     "data": {
      "text/plain": [
       "np.float64(0.0034761042037200806)"
      ]
     },
     "execution_count": 13,
     "metadata": {},
     "output_type": "execute_result"
    }
   ],
   "source": [
    "test_output = pd.DataFrame(rf.predict(X_test), index = X_test.index, columns = ['pred_spx'])\n",
    "test_output = test_output.merge(y_test, left_index = True, right_index = True)\n",
    "test_output.head()\n",
    "mean_absolute_error = abs(test_output['pred_spx'] - test_output['SP500']).mean()\n",
    "print('Mean absolute error is ')\n",
    "print(mean_absolute_error)\n",
    "abs(test_output['pred_spx'] - test_output['SP500']).mean()/test_output['SP500'].mean()"
   ]
  },
  {
   "cell_type": "markdown",
   "id": "69f14b76",
   "metadata": {},
   "source": [
    "## Gradeint Boosting Regressor"
   ]
  },
  {
   "cell_type": "code",
   "execution_count": 14,
   "id": "47b50efb",
   "metadata": {},
   "outputs": [],
   "source": [
    "gb = HistGradientBoostingRegressor(random_state=50, min_samples_leaf = 2, max_depth = 4) #GradientBoostingRegressor(random_state=50, min_samples_leaf = 2, max_depth = 4)\n",
    "\n",
    "gb = gb.fit(X_train, y_train) \n"
   ]
  },
  {
   "cell_type": "code",
   "execution_count": 16,
   "id": "dacef454",
   "metadata": {},
   "outputs": [
    {
     "data": {
      "text/plain": [
       "Index(['Date', 'Futures', 'Nikkei', 'FTSE', 'DAX'], dtype='object')"
      ]
     },
     "execution_count": 16,
     "metadata": {},
     "output_type": "execute_result"
    }
   ],
   "source": [
    "X_train.columns\n",
    "#gb.feature_importances_"
   ]
  },
  {
   "cell_type": "code",
   "execution_count": 17,
   "id": "873bce22",
   "metadata": {},
   "outputs": [
    {
     "data": {
      "text/html": [
       "<div>\n",
       "<style scoped>\n",
       "    .dataframe tbody tr th:only-of-type {\n",
       "        vertical-align: middle;\n",
       "    }\n",
       "\n",
       "    .dataframe tbody tr th {\n",
       "        vertical-align: top;\n",
       "    }\n",
       "\n",
       "    .dataframe thead th {\n",
       "        text-align: right;\n",
       "    }\n",
       "</style>\n",
       "<table border=\"1\" class=\"dataframe\">\n",
       "  <thead>\n",
       "    <tr style=\"text-align: right;\">\n",
       "      <th></th>\n",
       "      <th>pred_spx</th>\n",
       "      <th>SP500</th>\n",
       "    </tr>\n",
       "  </thead>\n",
       "  <tbody>\n",
       "    <tr>\n",
       "      <th>288</th>\n",
       "      <td>4,967.02</td>\n",
       "      <td>4,995.06</td>\n",
       "    </tr>\n",
       "    <tr>\n",
       "      <th>965</th>\n",
       "      <td>4,208.56</td>\n",
       "      <td>4,204.11</td>\n",
       "    </tr>\n",
       "    <tr>\n",
       "      <th>1090</th>\n",
       "      <td>3,628.26</td>\n",
       "      <td>3,638.35</td>\n",
       "    </tr>\n",
       "    <tr>\n",
       "      <th>191</th>\n",
       "      <td>5,503.11</td>\n",
       "      <td>5,482.87</td>\n",
       "    </tr>\n",
       "    <tr>\n",
       "      <th>453</th>\n",
       "      <td>4,333.92</td>\n",
       "      <td>4,338.93</td>\n",
       "    </tr>\n",
       "  </tbody>\n",
       "</table>\n",
       "</div>"
      ],
      "text/plain": [
       "      pred_spx    SP500\n",
       "288   4,967.02 4,995.06\n",
       "965   4,208.56 4,204.11\n",
       "1090  3,628.26 3,638.35\n",
       "191   5,503.11 5,482.87\n",
       "453   4,333.92 4,338.93"
      ]
     },
     "execution_count": 17,
     "metadata": {},
     "output_type": "execute_result"
    },
    {
     "name": "stdout",
     "output_type": "stream",
     "text": [
      "Mean absolute error is \n",
      "8.669035481129013\n"
     ]
    },
    {
     "data": {
      "text/plain": [
       "np.float64(0.002063197604961343)"
      ]
     },
     "execution_count": 17,
     "metadata": {},
     "output_type": "execute_result"
    }
   ],
   "source": [
    "test_output = pd.DataFrame(gb.predict(X_test), index = X_test.index, columns = ['pred_spx'])\n",
    "test_output = test_output.merge(y_test, left_index = True, right_index = True)\n",
    "test_output.head()\n",
    "mean_absolute_error = abs(test_output['pred_spx'] - test_output['SP500']).mean()\n",
    "print('Mean absolute error is ')\n",
    "print(mean_absolute_error)\n",
    "abs(test_output['pred_spx'] - test_output['SP500']).mean()/test_output['SP500'].mean()"
   ]
  },
  {
   "cell_type": "markdown",
   "id": "f49e7d98",
   "metadata": {},
   "source": [
    "## XGBoost Regressor "
   ]
  },
  {
   "cell_type": "code",
   "execution_count": 18,
   "id": "9509409c",
   "metadata": {},
   "outputs": [],
   "source": [
    "# XGBoost comes with its own class for storing datasets called DMatrix. \n",
    "# It is a highly optimized class for memory and speed. \n",
    "# That's why converting datasets into this format is a requirement for the native XGBoost API:\n",
    "\n",
    "\n",
    "# Create regression matrices\n",
    "\n",
    "dtrain_reg = xgb.DMatrix(X_train, y_train, enable_categorical=True)\n",
    "\n",
    "dtest_reg = xgb.DMatrix(X_test, y_test, enable_categorical=True)"
   ]
  },
  {
   "cell_type": "code",
   "execution_count": 19,
   "id": "4705ea0f",
   "metadata": {},
   "outputs": [],
   "source": [
    "params = {\"objective\": \"reg:squarederror\", \"tree_method\": \"exact\", \"max_depth\" : 4, \"learning_rate\" : 0.1} # use \"tree_method\" : \"hist\" if you need speed"
   ]
  },
  {
   "cell_type": "code",
   "execution_count": 20,
   "id": "cb137954",
   "metadata": {},
   "outputs": [],
   "source": [
    "n = 100\n",
    "\n",
    "model = xgb.train(\n",
    "\n",
    "   params=params,\n",
    "\n",
    "   dtrain=dtrain_reg,\n",
    "\n",
    "   num_boost_round=n,\n",
    "\n",
    ")"
   ]
  },
  {
   "cell_type": "code",
   "execution_count": 21,
   "id": "82db493d",
   "metadata": {},
   "outputs": [],
   "source": [
    "from sklearn.metrics import mean_squared_error\n",
    "preds = model.predict(dtest_reg)\n"
   ]
  },
  {
   "cell_type": "code",
   "execution_count": 22,
   "id": "ea95f735",
   "metadata": {},
   "outputs": [
    {
     "data": {
      "text/html": [
       "<div>\n",
       "<style scoped>\n",
       "    .dataframe tbody tr th:only-of-type {\n",
       "        vertical-align: middle;\n",
       "    }\n",
       "\n",
       "    .dataframe tbody tr th {\n",
       "        vertical-align: top;\n",
       "    }\n",
       "\n",
       "    .dataframe thead th {\n",
       "        text-align: right;\n",
       "    }\n",
       "</style>\n",
       "<table border=\"1\" class=\"dataframe\">\n",
       "  <thead>\n",
       "    <tr style=\"text-align: right;\">\n",
       "      <th></th>\n",
       "      <th>pred_spx</th>\n",
       "      <th>SP500</th>\n",
       "    </tr>\n",
       "  </thead>\n",
       "  <tbody>\n",
       "    <tr>\n",
       "      <th>288</th>\n",
       "      <td>4,980.50</td>\n",
       "      <td>4,995.06</td>\n",
       "    </tr>\n",
       "    <tr>\n",
       "      <th>965</th>\n",
       "      <td>4,208.14</td>\n",
       "      <td>4,204.11</td>\n",
       "    </tr>\n",
       "    <tr>\n",
       "      <th>1090</th>\n",
       "      <td>3,640.04</td>\n",
       "      <td>3,638.35</td>\n",
       "    </tr>\n",
       "    <tr>\n",
       "      <th>191</th>\n",
       "      <td>5,480.75</td>\n",
       "      <td>5,482.87</td>\n",
       "    </tr>\n",
       "    <tr>\n",
       "      <th>453</th>\n",
       "      <td>4,342.12</td>\n",
       "      <td>4,338.93</td>\n",
       "    </tr>\n",
       "  </tbody>\n",
       "</table>\n",
       "</div>"
      ],
      "text/plain": [
       "      pred_spx    SP500\n",
       "288   4,980.50 4,995.06\n",
       "965   4,208.14 4,204.11\n",
       "1090  3,640.04 3,638.35\n",
       "191   5,480.75 5,482.87\n",
       "453   4,342.12 4,338.93"
      ]
     },
     "execution_count": 22,
     "metadata": {},
     "output_type": "execute_result"
    },
    {
     "name": "stdout",
     "output_type": "stream",
     "text": [
      "Mean absolute error is \n",
      "8.028752360564981\n"
     ]
    },
    {
     "data": {
      "text/plain": [
       "np.float64(0.0019108126477512194)"
      ]
     },
     "execution_count": 22,
     "metadata": {},
     "output_type": "execute_result"
    }
   ],
   "source": [
    "test_output = pd.DataFrame(preds, index = X_test.index, columns = ['pred_spx'])\n",
    "test_output = test_output.merge(y_test, left_index = True, right_index = True)\n",
    "test_output.head()\n",
    "mean_absolute_error = abs(test_output['pred_spx'] - test_output['SP500']).mean()\n",
    "print('Mean absolute error is ')\n",
    "print(mean_absolute_error)\n",
    "abs(test_output['pred_spx'] - test_output['SP500']).mean()/test_output['SP500'].mean()"
   ]
  },
  {
   "cell_type": "markdown",
   "id": "54cfb086",
   "metadata": {},
   "source": [
    "## Hybrid Model "
   ]
  },
  {
   "cell_type": "code",
   "execution_count": 23,
   "id": "2f0e35d9",
   "metadata": {},
   "outputs": [
    {
     "ename": "ValueError",
     "evalue": "Input X contains NaN.\nLinearRegression does not accept missing values encoded as NaN natively. For supervised learning, you might want to consider sklearn.ensemble.HistGradientBoostingClassifier and Regressor which accept missing values encoded as NaNs natively. Alternatively, it is possible to preprocess the data, for instance by using an imputer transformer in a pipeline or drop samples with missing values. See https://scikit-learn.org/stable/modules/impute.html You can find a list of all estimators that handle NaN values at the following page: https://scikit-learn.org/stable/modules/impute.html#estimators-that-handle-nan-values",
     "output_type": "error",
     "traceback": [
      "\u001b[31m---------------------------------------------------------------------------\u001b[39m",
      "\u001b[31mValueError\u001b[39m                                Traceback (most recent call last)",
      "\u001b[36mCell\u001b[39m\u001b[36m \u001b[39m\u001b[32mIn[23]\u001b[39m\u001b[32m, line 2\u001b[39m\n\u001b[32m      1\u001b[39m model = LinearRegression(fit_intercept = \u001b[38;5;28;01mTrue\u001b[39;00m)\n\u001b[32m----> \u001b[39m\u001b[32m2\u001b[39m \u001b[43mmodel\u001b[49m\u001b[43m.\u001b[49m\u001b[43mfit\u001b[49m\u001b[43m(\u001b[49m\u001b[43mX_train\u001b[49m\u001b[43m,\u001b[49m\u001b[43m \u001b[49m\u001b[43my_train\u001b[49m\u001b[43m)\u001b[49m \n\u001b[32m      4\u001b[39m \u001b[38;5;66;03m# The following gives the R-square score\u001b[39;00m\n\u001b[32m      5\u001b[39m model.score(X_train, y_train) \n",
      "\u001b[36mFile \u001b[39m\u001b[32m~/.local/lib/python3.13/site-packages/sklearn/base.py:1389\u001b[39m, in \u001b[36m_fit_context.<locals>.decorator.<locals>.wrapper\u001b[39m\u001b[34m(estimator, *args, **kwargs)\u001b[39m\n\u001b[32m   1382\u001b[39m     estimator._validate_params()\n\u001b[32m   1384\u001b[39m \u001b[38;5;28;01mwith\u001b[39;00m config_context(\n\u001b[32m   1385\u001b[39m     skip_parameter_validation=(\n\u001b[32m   1386\u001b[39m         prefer_skip_nested_validation \u001b[38;5;129;01mor\u001b[39;00m global_skip_validation\n\u001b[32m   1387\u001b[39m     )\n\u001b[32m   1388\u001b[39m ):\n\u001b[32m-> \u001b[39m\u001b[32m1389\u001b[39m     \u001b[38;5;28;01mreturn\u001b[39;00m \u001b[43mfit_method\u001b[49m\u001b[43m(\u001b[49m\u001b[43mestimator\u001b[49m\u001b[43m,\u001b[49m\u001b[43m \u001b[49m\u001b[43m*\u001b[49m\u001b[43margs\u001b[49m\u001b[43m,\u001b[49m\u001b[43m \u001b[49m\u001b[43m*\u001b[49m\u001b[43m*\u001b[49m\u001b[43mkwargs\u001b[49m\u001b[43m)\u001b[49m\n",
      "\u001b[36mFile \u001b[39m\u001b[32m~/.local/lib/python3.13/site-packages/sklearn/linear_model/_base.py:601\u001b[39m, in \u001b[36mLinearRegression.fit\u001b[39m\u001b[34m(self, X, y, sample_weight)\u001b[39m\n\u001b[32m    597\u001b[39m n_jobs_ = \u001b[38;5;28mself\u001b[39m.n_jobs\n\u001b[32m    599\u001b[39m accept_sparse = \u001b[38;5;28;01mFalse\u001b[39;00m \u001b[38;5;28;01mif\u001b[39;00m \u001b[38;5;28mself\u001b[39m.positive \u001b[38;5;28;01melse\u001b[39;00m [\u001b[33m\"\u001b[39m\u001b[33mcsr\u001b[39m\u001b[33m\"\u001b[39m, \u001b[33m\"\u001b[39m\u001b[33mcsc\u001b[39m\u001b[33m\"\u001b[39m, \u001b[33m\"\u001b[39m\u001b[33mcoo\u001b[39m\u001b[33m\"\u001b[39m]\n\u001b[32m--> \u001b[39m\u001b[32m601\u001b[39m X, y = \u001b[43mvalidate_data\u001b[49m\u001b[43m(\u001b[49m\n\u001b[32m    602\u001b[39m \u001b[43m    \u001b[49m\u001b[38;5;28;43mself\u001b[39;49m\u001b[43m,\u001b[49m\n\u001b[32m    603\u001b[39m \u001b[43m    \u001b[49m\u001b[43mX\u001b[49m\u001b[43m,\u001b[49m\n\u001b[32m    604\u001b[39m \u001b[43m    \u001b[49m\u001b[43my\u001b[49m\u001b[43m,\u001b[49m\n\u001b[32m    605\u001b[39m \u001b[43m    \u001b[49m\u001b[43maccept_sparse\u001b[49m\u001b[43m=\u001b[49m\u001b[43maccept_sparse\u001b[49m\u001b[43m,\u001b[49m\n\u001b[32m    606\u001b[39m \u001b[43m    \u001b[49m\u001b[43my_numeric\u001b[49m\u001b[43m=\u001b[49m\u001b[38;5;28;43;01mTrue\u001b[39;49;00m\u001b[43m,\u001b[49m\n\u001b[32m    607\u001b[39m \u001b[43m    \u001b[49m\u001b[43mmulti_output\u001b[49m\u001b[43m=\u001b[49m\u001b[38;5;28;43;01mTrue\u001b[39;49;00m\u001b[43m,\u001b[49m\n\u001b[32m    608\u001b[39m \u001b[43m    \u001b[49m\u001b[43mforce_writeable\u001b[49m\u001b[43m=\u001b[49m\u001b[38;5;28;43;01mTrue\u001b[39;49;00m\u001b[43m,\u001b[49m\n\u001b[32m    609\u001b[39m \u001b[43m\u001b[49m\u001b[43m)\u001b[49m\n\u001b[32m    611\u001b[39m has_sw = sample_weight \u001b[38;5;129;01mis\u001b[39;00m \u001b[38;5;129;01mnot\u001b[39;00m \u001b[38;5;28;01mNone\u001b[39;00m\n\u001b[32m    612\u001b[39m \u001b[38;5;28;01mif\u001b[39;00m has_sw:\n",
      "\u001b[36mFile \u001b[39m\u001b[32m~/.local/lib/python3.13/site-packages/sklearn/utils/validation.py:2961\u001b[39m, in \u001b[36mvalidate_data\u001b[39m\u001b[34m(_estimator, X, y, reset, validate_separately, skip_check_array, **check_params)\u001b[39m\n\u001b[32m   2959\u001b[39m         y = check_array(y, input_name=\u001b[33m\"\u001b[39m\u001b[33my\u001b[39m\u001b[33m\"\u001b[39m, **check_y_params)\n\u001b[32m   2960\u001b[39m     \u001b[38;5;28;01melse\u001b[39;00m:\n\u001b[32m-> \u001b[39m\u001b[32m2961\u001b[39m         X, y = \u001b[43mcheck_X_y\u001b[49m\u001b[43m(\u001b[49m\u001b[43mX\u001b[49m\u001b[43m,\u001b[49m\u001b[43m \u001b[49m\u001b[43my\u001b[49m\u001b[43m,\u001b[49m\u001b[43m \u001b[49m\u001b[43m*\u001b[49m\u001b[43m*\u001b[49m\u001b[43mcheck_params\u001b[49m\u001b[43m)\u001b[49m\n\u001b[32m   2962\u001b[39m     out = X, y\n\u001b[32m   2964\u001b[39m \u001b[38;5;28;01mif\u001b[39;00m \u001b[38;5;129;01mnot\u001b[39;00m no_val_X \u001b[38;5;129;01mand\u001b[39;00m check_params.get(\u001b[33m\"\u001b[39m\u001b[33mensure_2d\u001b[39m\u001b[33m\"\u001b[39m, \u001b[38;5;28;01mTrue\u001b[39;00m):\n",
      "\u001b[36mFile \u001b[39m\u001b[32m~/.local/lib/python3.13/site-packages/sklearn/utils/validation.py:1370\u001b[39m, in \u001b[36mcheck_X_y\u001b[39m\u001b[34m(X, y, accept_sparse, accept_large_sparse, dtype, order, copy, force_writeable, force_all_finite, ensure_all_finite, ensure_2d, allow_nd, multi_output, ensure_min_samples, ensure_min_features, y_numeric, estimator)\u001b[39m\n\u001b[32m   1364\u001b[39m     \u001b[38;5;28;01mraise\u001b[39;00m \u001b[38;5;167;01mValueError\u001b[39;00m(\n\u001b[32m   1365\u001b[39m         \u001b[33mf\u001b[39m\u001b[33m\"\u001b[39m\u001b[38;5;132;01m{\u001b[39;00mestimator_name\u001b[38;5;132;01m}\u001b[39;00m\u001b[33m requires y to be passed, but the target y is None\u001b[39m\u001b[33m\"\u001b[39m\n\u001b[32m   1366\u001b[39m     )\n\u001b[32m   1368\u001b[39m ensure_all_finite = _deprecate_force_all_finite(force_all_finite, ensure_all_finite)\n\u001b[32m-> \u001b[39m\u001b[32m1370\u001b[39m X = \u001b[43mcheck_array\u001b[49m\u001b[43m(\u001b[49m\n\u001b[32m   1371\u001b[39m \u001b[43m    \u001b[49m\u001b[43mX\u001b[49m\u001b[43m,\u001b[49m\n\u001b[32m   1372\u001b[39m \u001b[43m    \u001b[49m\u001b[43maccept_sparse\u001b[49m\u001b[43m=\u001b[49m\u001b[43maccept_sparse\u001b[49m\u001b[43m,\u001b[49m\n\u001b[32m   1373\u001b[39m \u001b[43m    \u001b[49m\u001b[43maccept_large_sparse\u001b[49m\u001b[43m=\u001b[49m\u001b[43maccept_large_sparse\u001b[49m\u001b[43m,\u001b[49m\n\u001b[32m   1374\u001b[39m \u001b[43m    \u001b[49m\u001b[43mdtype\u001b[49m\u001b[43m=\u001b[49m\u001b[43mdtype\u001b[49m\u001b[43m,\u001b[49m\n\u001b[32m   1375\u001b[39m \u001b[43m    \u001b[49m\u001b[43morder\u001b[49m\u001b[43m=\u001b[49m\u001b[43morder\u001b[49m\u001b[43m,\u001b[49m\n\u001b[32m   1376\u001b[39m \u001b[43m    \u001b[49m\u001b[43mcopy\u001b[49m\u001b[43m=\u001b[49m\u001b[43mcopy\u001b[49m\u001b[43m,\u001b[49m\n\u001b[32m   1377\u001b[39m \u001b[43m    \u001b[49m\u001b[43mforce_writeable\u001b[49m\u001b[43m=\u001b[49m\u001b[43mforce_writeable\u001b[49m\u001b[43m,\u001b[49m\n\u001b[32m   1378\u001b[39m \u001b[43m    \u001b[49m\u001b[43mensure_all_finite\u001b[49m\u001b[43m=\u001b[49m\u001b[43mensure_all_finite\u001b[49m\u001b[43m,\u001b[49m\n\u001b[32m   1379\u001b[39m \u001b[43m    \u001b[49m\u001b[43mensure_2d\u001b[49m\u001b[43m=\u001b[49m\u001b[43mensure_2d\u001b[49m\u001b[43m,\u001b[49m\n\u001b[32m   1380\u001b[39m \u001b[43m    \u001b[49m\u001b[43mallow_nd\u001b[49m\u001b[43m=\u001b[49m\u001b[43mallow_nd\u001b[49m\u001b[43m,\u001b[49m\n\u001b[32m   1381\u001b[39m \u001b[43m    \u001b[49m\u001b[43mensure_min_samples\u001b[49m\u001b[43m=\u001b[49m\u001b[43mensure_min_samples\u001b[49m\u001b[43m,\u001b[49m\n\u001b[32m   1382\u001b[39m \u001b[43m    \u001b[49m\u001b[43mensure_min_features\u001b[49m\u001b[43m=\u001b[49m\u001b[43mensure_min_features\u001b[49m\u001b[43m,\u001b[49m\n\u001b[32m   1383\u001b[39m \u001b[43m    \u001b[49m\u001b[43mestimator\u001b[49m\u001b[43m=\u001b[49m\u001b[43mestimator\u001b[49m\u001b[43m,\u001b[49m\n\u001b[32m   1384\u001b[39m \u001b[43m    \u001b[49m\u001b[43minput_name\u001b[49m\u001b[43m=\u001b[49m\u001b[33;43m\"\u001b[39;49m\u001b[33;43mX\u001b[39;49m\u001b[33;43m\"\u001b[39;49m\u001b[43m,\u001b[49m\n\u001b[32m   1385\u001b[39m \u001b[43m\u001b[49m\u001b[43m)\u001b[49m\n\u001b[32m   1387\u001b[39m y = _check_y(y, multi_output=multi_output, y_numeric=y_numeric, estimator=estimator)\n\u001b[32m   1389\u001b[39m check_consistent_length(X, y)\n",
      "\u001b[36mFile \u001b[39m\u001b[32m~/.local/lib/python3.13/site-packages/sklearn/utils/validation.py:1107\u001b[39m, in \u001b[36mcheck_array\u001b[39m\u001b[34m(array, accept_sparse, accept_large_sparse, dtype, order, copy, force_writeable, force_all_finite, ensure_all_finite, ensure_non_negative, ensure_2d, allow_nd, ensure_min_samples, ensure_min_features, estimator, input_name)\u001b[39m\n\u001b[32m   1101\u001b[39m     \u001b[38;5;28;01mraise\u001b[39;00m \u001b[38;5;167;01mValueError\u001b[39;00m(\n\u001b[32m   1102\u001b[39m         \u001b[33m\"\u001b[39m\u001b[33mFound array with dim \u001b[39m\u001b[38;5;132;01m%d\u001b[39;00m\u001b[33m. \u001b[39m\u001b[38;5;132;01m%s\u001b[39;00m\u001b[33m expected <= 2.\u001b[39m\u001b[33m\"\u001b[39m\n\u001b[32m   1103\u001b[39m         % (array.ndim, estimator_name)\n\u001b[32m   1104\u001b[39m     )\n\u001b[32m   1106\u001b[39m \u001b[38;5;28;01mif\u001b[39;00m ensure_all_finite:\n\u001b[32m-> \u001b[39m\u001b[32m1107\u001b[39m     \u001b[43m_assert_all_finite\u001b[49m\u001b[43m(\u001b[49m\n\u001b[32m   1108\u001b[39m \u001b[43m        \u001b[49m\u001b[43marray\u001b[49m\u001b[43m,\u001b[49m\n\u001b[32m   1109\u001b[39m \u001b[43m        \u001b[49m\u001b[43minput_name\u001b[49m\u001b[43m=\u001b[49m\u001b[43minput_name\u001b[49m\u001b[43m,\u001b[49m\n\u001b[32m   1110\u001b[39m \u001b[43m        \u001b[49m\u001b[43mestimator_name\u001b[49m\u001b[43m=\u001b[49m\u001b[43mestimator_name\u001b[49m\u001b[43m,\u001b[49m\n\u001b[32m   1111\u001b[39m \u001b[43m        \u001b[49m\u001b[43mallow_nan\u001b[49m\u001b[43m=\u001b[49m\u001b[43mensure_all_finite\u001b[49m\u001b[43m \u001b[49m\u001b[43m==\u001b[49m\u001b[43m \u001b[49m\u001b[33;43m\"\u001b[39;49m\u001b[33;43mallow-nan\u001b[39;49m\u001b[33;43m\"\u001b[39;49m\u001b[43m,\u001b[49m\n\u001b[32m   1112\u001b[39m \u001b[43m    \u001b[49m\u001b[43m)\u001b[49m\n\u001b[32m   1114\u001b[39m \u001b[38;5;28;01mif\u001b[39;00m copy:\n\u001b[32m   1115\u001b[39m     \u001b[38;5;28;01mif\u001b[39;00m _is_numpy_namespace(xp):\n\u001b[32m   1116\u001b[39m         \u001b[38;5;66;03m# only make a copy if `array` and `array_orig` may share memory`\u001b[39;00m\n",
      "\u001b[36mFile \u001b[39m\u001b[32m~/.local/lib/python3.13/site-packages/sklearn/utils/validation.py:120\u001b[39m, in \u001b[36m_assert_all_finite\u001b[39m\u001b[34m(X, allow_nan, msg_dtype, estimator_name, input_name)\u001b[39m\n\u001b[32m    117\u001b[39m \u001b[38;5;28;01mif\u001b[39;00m first_pass_isfinite:\n\u001b[32m    118\u001b[39m     \u001b[38;5;28;01mreturn\u001b[39;00m\n\u001b[32m--> \u001b[39m\u001b[32m120\u001b[39m \u001b[43m_assert_all_finite_element_wise\u001b[49m\u001b[43m(\u001b[49m\n\u001b[32m    121\u001b[39m \u001b[43m    \u001b[49m\u001b[43mX\u001b[49m\u001b[43m,\u001b[49m\n\u001b[32m    122\u001b[39m \u001b[43m    \u001b[49m\u001b[43mxp\u001b[49m\u001b[43m=\u001b[49m\u001b[43mxp\u001b[49m\u001b[43m,\u001b[49m\n\u001b[32m    123\u001b[39m \u001b[43m    \u001b[49m\u001b[43mallow_nan\u001b[49m\u001b[43m=\u001b[49m\u001b[43mallow_nan\u001b[49m\u001b[43m,\u001b[49m\n\u001b[32m    124\u001b[39m \u001b[43m    \u001b[49m\u001b[43mmsg_dtype\u001b[49m\u001b[43m=\u001b[49m\u001b[43mmsg_dtype\u001b[49m\u001b[43m,\u001b[49m\n\u001b[32m    125\u001b[39m \u001b[43m    \u001b[49m\u001b[43mestimator_name\u001b[49m\u001b[43m=\u001b[49m\u001b[43mestimator_name\u001b[49m\u001b[43m,\u001b[49m\n\u001b[32m    126\u001b[39m \u001b[43m    \u001b[49m\u001b[43minput_name\u001b[49m\u001b[43m=\u001b[49m\u001b[43minput_name\u001b[49m\u001b[43m,\u001b[49m\n\u001b[32m    127\u001b[39m \u001b[43m\u001b[49m\u001b[43m)\u001b[49m\n",
      "\u001b[36mFile \u001b[39m\u001b[32m~/.local/lib/python3.13/site-packages/sklearn/utils/validation.py:169\u001b[39m, in \u001b[36m_assert_all_finite_element_wise\u001b[39m\u001b[34m(X, xp, allow_nan, msg_dtype, estimator_name, input_name)\u001b[39m\n\u001b[32m    152\u001b[39m \u001b[38;5;28;01mif\u001b[39;00m estimator_name \u001b[38;5;129;01mand\u001b[39;00m input_name == \u001b[33m\"\u001b[39m\u001b[33mX\u001b[39m\u001b[33m\"\u001b[39m \u001b[38;5;129;01mand\u001b[39;00m has_nan_error:\n\u001b[32m    153\u001b[39m     \u001b[38;5;66;03m# Improve the error message on how to handle missing values in\u001b[39;00m\n\u001b[32m    154\u001b[39m     \u001b[38;5;66;03m# scikit-learn.\u001b[39;00m\n\u001b[32m    155\u001b[39m     msg_err += (\n\u001b[32m    156\u001b[39m         \u001b[33mf\u001b[39m\u001b[33m\"\u001b[39m\u001b[38;5;130;01m\\n\u001b[39;00m\u001b[38;5;132;01m{\u001b[39;00mestimator_name\u001b[38;5;132;01m}\u001b[39;00m\u001b[33m does not accept missing values\u001b[39m\u001b[33m\"\u001b[39m\n\u001b[32m    157\u001b[39m         \u001b[33m\"\u001b[39m\u001b[33m encoded as NaN natively. For supervised learning, you might want\u001b[39m\u001b[33m\"\u001b[39m\n\u001b[32m   (...)\u001b[39m\u001b[32m    167\u001b[39m         \u001b[33m\"\u001b[39m\u001b[33m#estimators-that-handle-nan-values\u001b[39m\u001b[33m\"\u001b[39m\n\u001b[32m    168\u001b[39m     )\n\u001b[32m--> \u001b[39m\u001b[32m169\u001b[39m \u001b[38;5;28;01mraise\u001b[39;00m \u001b[38;5;167;01mValueError\u001b[39;00m(msg_err)\n",
      "\u001b[31mValueError\u001b[39m: Input X contains NaN.\nLinearRegression does not accept missing values encoded as NaN natively. For supervised learning, you might want to consider sklearn.ensemble.HistGradientBoostingClassifier and Regressor which accept missing values encoded as NaNs natively. Alternatively, it is possible to preprocess the data, for instance by using an imputer transformer in a pipeline or drop samples with missing values. See https://scikit-learn.org/stable/modules/impute.html You can find a list of all estimators that handle NaN values at the following page: https://scikit-learn.org/stable/modules/impute.html#estimators-that-handle-nan-values"
     ]
    }
   ],
   "source": [
    "model = HistGradientBoostingRegressor(random_state=50, min_samples_leaf = 2, max_depth = 4) #LinearRegression(fit_intercept = True)\n",
    "model.fit(X_train, y_train) \n",
    "\n",
    "# The following gives the R-square score\n",
    "model.score(X_train, y_train) "
   ]
  },
  {
   "cell_type": "code",
   "execution_count": null,
   "id": "09d740b6",
   "metadata": {},
   "outputs": [],
   "source": [
    "training_residuals = y_train - model.predict(X_train)"
   ]
  },
  {
   "cell_type": "code",
   "execution_count": null,
   "id": "2e218242",
   "metadata": {},
   "outputs": [],
   "source": [
    "rf = RandomForestRegressor(random_state=50, min_samples_leaf = 3, max_features = \"sqrt\")\n",
    "\n",
    "rf = rf.fit(X_train, training_residuals) "
   ]
  },
  {
   "cell_type": "code",
   "execution_count": null,
   "id": "cb735f23",
   "metadata": {},
   "outputs": [],
   "source": [
    "pred_residuals = rf.predict(X_test)\n",
    "y_pred = pred_residuals + model.predict(X_test)"
   ]
  },
  {
   "cell_type": "code",
   "execution_count": null,
   "id": "f450ee73",
   "metadata": {},
   "outputs": [],
   "source": [
    "test_output = pd.DataFrame(y_pred, index = X_test.index, columns = ['pred_spx'])\n",
    "test_output = test_output.merge(y_test, left_index = True, right_index = True)\n",
    "test_output.head()\n",
    "mean_absolute_error = abs(test_output['pred_spx'] - test_output['SP500']).mean()\n",
    "print('Mean absolute error is ')\n",
    "print(mean_absolute_error)\n",
    "abs(test_output['pred_spx'] - test_output['SP500']).mean()/test_output['SP500'].mean()"
   ]
  },
  {
   "cell_type": "markdown",
   "id": "f190866e",
   "metadata": {},
   "source": [
    "## Plotting a Graph for Comparing Results\n"
   ]
  },
  {
   "cell_type": "code",
   "execution_count": null,
   "id": "e2b6fa09",
   "metadata": {},
   "outputs": [],
   "source": [
    "import matplotlib.pyplot as plt\n",
    "import pandas as pd\n",
    "\n",
    "# Replace these with actual MAE or R² scores from your runs\n",
    "model_names = [\n",
    "    \"Decision Tree\", \n",
    "    \"Bagging Regressor\", \n",
    "    \"Random Forest Regressor\", \n",
    "    \"Gradient Boosting Regressor\",\n",
    "    \"XGBoost Regressor\",\n",
    "    \"Hybrid Model\"\n",
    "]\n",
    "\n",
    "# Example scores — update with your real MAEs or R² values\n",
    "model_scores = [\n",
    "    13.27,   # Decision Tree\n",
    "    13.93,   # Bagging Regressor\n",
    "    11.63,   # Random Forest Regressor\n",
    "    16.42,   # Gradient Boosting Regressor\n",
    "    16.46,   # XGBoost Regressor\n",
    "    12.39,   # Hybrid Model\n",
    "]\n",
    "\n",
    "# Create DataFrame\n",
    "df = pd.DataFrame({'Model': model_names, 'MAE': model_scores})\n",
    "\n",
    "# Plot\n",
    "plt.figure(figsize=(10, 6))\n",
    "bars = plt.bar(df['Model'], df['MAE'], color='cornflowerblue', edgecolor='black')\n",
    "plt.title('Comparison of Mean Absolute Error (MAE) Across Models', fontsize=14)\n",
    "plt.xlabel('Models')\n",
    "plt.ylabel('MAE (lower is better)')\n",
    "plt.xticks(rotation=45)\n",
    "\n",
    "# Annotate bars\n",
    "for bar in bars:\n",
    "    yval = bar.get_height()\n",
    "    plt.text(bar.get_x() + bar.get_width()/2.0, yval + 0.5, f'{yval:.2f}', ha='center', va='bottom')\n",
    "\n",
    "plt.tight_layout()\n",
    "plt.show()\n"
   ]
  },
  {
   "cell_type": "markdown",
   "id": "4fb54d36",
   "metadata": {},
   "source": [
    "# Plotting a Graph using MAPE"
   ]
  },
  {
   "cell_type": "code",
   "execution_count": null,
   "id": "d762298a",
   "metadata": {},
   "outputs": [],
   "source": [
    "import matplotlib.pyplot as plt\n",
    "import pandas as pd\n",
    "\n",
    "# 1. Replace with your actual model names and MAPE values\n",
    "model_names = [\n",
    "    \"Decision Tree\",\n",
    "    \"Bagging Regressor\",\n",
    "    \"Random Forest\",\n",
    "    \"Gradient Boosting\",\n",
    "    \"XGBoost\",\n",
    "    \"Hybrid Model\"\n",
    "]\n",
    "\n",
    "mape_scores = [\n",
    "    0.008531494740122672,\n",
    "    0.008956134667946088,\n",
    "    0.007480228486074053,\n",
    "    0.010555821477945771,\n",
    "    0.010580599231789816,\n",
    "    0.007966035152265596\n",
    "]\n",
    "\n",
    "# 2. Create a DataFrame\n",
    "df = pd.DataFrame({\n",
    "    \"Model\": model_names,\n",
    "    \"MAPE\": [score * 100 for score in mape_scores]  # convert to %\n",
    "})\n",
    "\n",
    "# 3. Plot\n",
    "plt.figure(figsize=(10, 6))\n",
    "bars = plt.bar(df[\"Model\"], df[\"MAPE\"], color='skyblue', edgecolor='black')\n",
    "\n",
    "# 4. Annotate each bar\n",
    "for bar in bars:\n",
    "    yval = bar.get_height()\n",
    "    plt.text(bar.get_x() + bar.get_width()/2.0, yval + 0.3, f\"{yval:.2f}%\", ha='center', va='bottom')\n",
    "\n",
    "plt.title(\"Comparison of MAPE Across Models\", fontsize=14)\n",
    "plt.ylabel(\"MAPE (%)\", fontsize=12)\n",
    "plt.xlabel(\"Machine Learning Models\", fontsize=12)\n",
    "plt.xticks(rotation=45)\n",
    "plt.ylim(0, max(df[\"MAPE\"]) + 5)\n",
    "plt.tight_layout()\n",
    "plt.show()\n"
   ]
  },
  {
   "cell_type": "code",
   "execution_count": null,
   "id": "498ba868",
   "metadata": {},
   "outputs": [],
   "source": []
  }
 ],
 "metadata": {
  "kernelspec": {
   "display_name": "Python 3 (ipykernel)",
   "language": "python",
   "name": "python3"
  },
  "language_info": {
   "codemirror_mode": {
    "name": "ipython",
    "version": 3
   },
   "file_extension": ".py",
   "mimetype": "text/x-python",
   "name": "python",
   "nbconvert_exporter": "python",
   "pygments_lexer": "ipython3",
   "version": "3.13.2"
  }
 },
 "nbformat": 4,
 "nbformat_minor": 5
}
