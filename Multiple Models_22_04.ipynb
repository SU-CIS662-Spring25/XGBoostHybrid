{
 "cells": [
  {
   "cell_type": "code",
   "execution_count": 1,
   "id": "befff3de",
   "metadata": {},
   "outputs": [
    {
     "ename": "RuntimeError",
     "evalue": "module was compiled against NumPy C-API version 0x10 (NumPy 1.23) but the running NumPy has C-API version 0xf. Check the section C-API incompatibility at the Troubleshooting ImportError section at https://numpy.org/devdocs/user/troubleshooting-importerror.html#c-api-incompatibility for indications on how to solve this problem.",
     "output_type": "error",
     "traceback": [
      "\u001b[1;31m---------------------------------------------------------------------------\u001b[0m",
      "\u001b[1;31mRuntimeError\u001b[0m                              Traceback (most recent call last)",
      "\u001b[1;31mRuntimeError\u001b[0m: module was compiled against NumPy C-API version 0x10 (NumPy 1.23) but the running NumPy has C-API version 0xf. Check the section C-API incompatibility at the Troubleshooting ImportError section at https://numpy.org/devdocs/user/troubleshooting-importerror.html#c-api-incompatibility for indications on how to solve this problem."
     ]
    }
   ],
   "source": [
    "# Generic inputs for most ML tasks\n",
    "import pandas as pd\n",
    "import numpy as np\n",
    "import matplotlib.pyplot as plt\n",
    "from sklearn.model_selection import train_test_split\n",
    "from sklearn.linear_model import LinearRegression\n",
    "from sklearn.linear_model import Ridge\n",
    "from sklearn.linear_model import Lasso\n",
    "from sklearn.preprocessing import OneHotEncoder\n",
    "from sklearn.preprocessing import LabelEncoder\n",
    "import datetime\n",
    "\n",
    "\n",
    "from sklearn import tree\n",
    "from sklearn.tree import DecisionTreeClassifier\n",
    "from sklearn.tree import DecisionTreeRegressor\n",
    "from sklearn.ensemble import BaggingRegressor\n",
    "from xgboost import XGBRegressor\n",
    "from sklearn.ensemble import RandomForestRegressor\n",
    "from sklearn.ensemble import GradientBoostingRegressor\n",
    "# from sklearn.ensemble import HistGradientBoostingRegressor\n",
    "import xgboost as xgb\n",
    "\n",
    "pd.options.display.float_format = '{:,.2f}'.format\n",
    "\n",
    "# setup interactive notebook mode\n",
    "from IPython.core.interactiveshell import InteractiveShell\n",
    "InteractiveShell.ast_node_interactivity = \"all\"\n",
    "\n",
    "from IPython.display import display, HTML\n",
    "\n",
    "# Initialize lists to collect model performance\n",
    "model_names = []\n",
    "model_maes = []\n",
    "model_mabs = []"
   ]
  },
  {
   "cell_type": "code",
   "execution_count": 2,
   "id": "b8ddb3e5",
   "metadata": {},
   "outputs": [
    {
     "data": {
      "text/html": [
       "<div>\n",
       "<style scoped>\n",
       "    .dataframe tbody tr th:only-of-type {\n",
       "        vertical-align: middle;\n",
       "    }\n",
       "\n",
       "    .dataframe tbody tr th {\n",
       "        vertical-align: top;\n",
       "    }\n",
       "\n",
       "    .dataframe thead th {\n",
       "        text-align: right;\n",
       "    }\n",
       "</style>\n",
       "<table border=\"1\" class=\"dataframe\">\n",
       "  <thead>\n",
       "    <tr style=\"text-align: right;\">\n",
       "      <th></th>\n",
       "      <th>Date</th>\n",
       "      <th>SP500</th>\n",
       "      <th>Futures</th>\n",
       "      <th>Nikkei</th>\n",
       "      <th>FTSE</th>\n",
       "      <th>DAX</th>\n",
       "    </tr>\n",
       "  </thead>\n",
       "  <tbody>\n",
       "    <tr>\n",
       "      <th>0</th>\n",
       "      <td>04/03/19</td>\n",
       "      <td>2,873.40</td>\n",
       "      <td>2,879.75</td>\n",
       "      <td>21,713.21</td>\n",
       "      <td>7,418.28</td>\n",
       "      <td>11,954.40</td>\n",
       "    </tr>\n",
       "    <tr>\n",
       "      <th>1</th>\n",
       "      <td>04/04/19</td>\n",
       "      <td>2,879.39</td>\n",
       "      <td>2,882.75</td>\n",
       "      <td>21,724.95</td>\n",
       "      <td>7,401.94</td>\n",
       "      <td>11,988.01</td>\n",
       "    </tr>\n",
       "    <tr>\n",
       "      <th>2</th>\n",
       "      <td>04/05/19</td>\n",
       "      <td>2,892.74</td>\n",
       "      <td>2,896.00</td>\n",
       "      <td>21,807.50</td>\n",
       "      <td>7,446.87</td>\n",
       "      <td>12,009.75</td>\n",
       "    </tr>\n",
       "    <tr>\n",
       "      <th>3</th>\n",
       "      <td>04/08/19</td>\n",
       "      <td>2,895.77</td>\n",
       "      <td>2,898.25</td>\n",
       "      <td>21,761.65</td>\n",
       "      <td>7,451.89</td>\n",
       "      <td>11,963.40</td>\n",
       "    </tr>\n",
       "    <tr>\n",
       "      <th>4</th>\n",
       "      <td>04/09/19</td>\n",
       "      <td>2,878.20</td>\n",
       "      <td>2,882.50</td>\n",
       "      <td>21,802.59</td>\n",
       "      <td>7,425.57</td>\n",
       "      <td>11,850.57</td>\n",
       "    </tr>\n",
       "  </tbody>\n",
       "</table>\n",
       "</div>"
      ],
      "text/plain": [
       "       Date    SP500  Futures    Nikkei     FTSE       DAX\n",
       "0  04/03/19 2,873.40 2,879.75 21,713.21 7,418.28 11,954.40\n",
       "1  04/04/19 2,879.39 2,882.75 21,724.95 7,401.94 11,988.01\n",
       "2  04/05/19 2,892.74 2,896.00 21,807.50 7,446.87 12,009.75\n",
       "3  04/08/19 2,895.77 2,898.25 21,761.65 7,451.89 11,963.40\n",
       "4  04/09/19 2,878.20 2,882.50 21,802.59 7,425.57 11,850.57"
      ]
     },
     "execution_count": 2,
     "metadata": {},
     "output_type": "execute_result"
    },
    {
     "data": {
      "text/html": [
       "<div>\n",
       "<style scoped>\n",
       "    .dataframe tbody tr th:only-of-type {\n",
       "        vertical-align: middle;\n",
       "    }\n",
       "\n",
       "    .dataframe tbody tr th {\n",
       "        vertical-align: top;\n",
       "    }\n",
       "\n",
       "    .dataframe thead th {\n",
       "        text-align: right;\n",
       "    }\n",
       "</style>\n",
       "<table border=\"1\" class=\"dataframe\">\n",
       "  <thead>\n",
       "    <tr style=\"text-align: right;\">\n",
       "      <th></th>\n",
       "      <th>Date</th>\n",
       "      <th>SP500</th>\n",
       "      <th>Futures</th>\n",
       "      <th>Nikkei</th>\n",
       "      <th>FTSE</th>\n",
       "      <th>DAX</th>\n",
       "    </tr>\n",
       "  </thead>\n",
       "  <tbody>\n",
       "    <tr>\n",
       "      <th>1511</th>\n",
       "      <td>04/07/25</td>\n",
       "      <td>5,062.25</td>\n",
       "      <td>5,149.75</td>\n",
       "      <td>31,136.58</td>\n",
       "      <td>7,702.08</td>\n",
       "      <td>19,789.62</td>\n",
       "    </tr>\n",
       "    <tr>\n",
       "      <th>1512</th>\n",
       "      <td>04/08/25</td>\n",
       "      <td>4,982.77</td>\n",
       "      <td>5,020.25</td>\n",
       "      <td>33,012.58</td>\n",
       "      <td>7,910.53</td>\n",
       "      <td>20,280.26</td>\n",
       "    </tr>\n",
       "    <tr>\n",
       "      <th>1513</th>\n",
       "      <td>04/09/25</td>\n",
       "      <td>5,456.90</td>\n",
       "      <td>5,491.00</td>\n",
       "      <td>31,714.03</td>\n",
       "      <td>7,679.48</td>\n",
       "      <td>19,670.88</td>\n",
       "    </tr>\n",
       "    <tr>\n",
       "      <th>1514</th>\n",
       "      <td>04/10/25</td>\n",
       "      <td>5,268.05</td>\n",
       "      <td>5,302.00</td>\n",
       "      <td>34,609.00</td>\n",
       "      <td>7,913.25</td>\n",
       "      <td>20,562.73</td>\n",
       "    </tr>\n",
       "    <tr>\n",
       "      <th>1515</th>\n",
       "      <td>04/11/25</td>\n",
       "      <td>5,363.36</td>\n",
       "      <td>5,391.25</td>\n",
       "      <td>33,585.58</td>\n",
       "      <td>7,964.18</td>\n",
       "      <td>20,374.10</td>\n",
       "    </tr>\n",
       "  </tbody>\n",
       "</table>\n",
       "</div>"
      ],
      "text/plain": [
       "          Date    SP500  Futures    Nikkei     FTSE       DAX\n",
       "1511  04/07/25 5,062.25 5,149.75 31,136.58 7,702.08 19,789.62\n",
       "1512  04/08/25 4,982.77 5,020.25 33,012.58 7,910.53 20,280.26\n",
       "1513  04/09/25 5,456.90 5,491.00 31,714.03 7,679.48 19,670.88\n",
       "1514  04/10/25 5,268.05 5,302.00 34,609.00 7,913.25 20,562.73\n",
       "1515  04/11/25 5,363.36 5,391.25 33,585.58 7,964.18 20,374.10"
      ]
     },
     "execution_count": 2,
     "metadata": {},
     "output_type": "execute_result"
    }
   ],
   "source": [
    "data_set = pd.read_csv('1.csv')\n",
    "data_set.head()\n",
    "data_set.tail()"
   ]
  },
  {
   "cell_type": "code",
   "execution_count": 3,
   "id": "1b40dece",
   "metadata": {},
   "outputs": [
    {
     "data": {
      "text/plain": [
       "Index(['Date', 'SP500', 'Futures', 'Nikkei', 'FTSE', 'DAX'], dtype='object')"
      ]
     },
     "execution_count": 3,
     "metadata": {},
     "output_type": "execute_result"
    },
    {
     "name": "stderr",
     "output_type": "stream",
     "text": [
      "C:\\Users\\rajni\\AppData\\Local\\Temp\\ipykernel_21372\\866144551.py:4: UserWarning: Could not infer format, so each element will be parsed individually, falling back to `dateutil`. To ensure parsing is consistent and as-expected, please specify a format.\n",
      "  data_set['Date'] = pd.to_datetime(data_set['Date'])\n"
     ]
    },
    {
     "data": {
      "text/html": [
       "<div>\n",
       "<style scoped>\n",
       "    .dataframe tbody tr th:only-of-type {\n",
       "        vertical-align: middle;\n",
       "    }\n",
       "\n",
       "    .dataframe tbody tr th {\n",
       "        vertical-align: top;\n",
       "    }\n",
       "\n",
       "    .dataframe thead th {\n",
       "        text-align: right;\n",
       "    }\n",
       "</style>\n",
       "<table border=\"1\" class=\"dataframe\">\n",
       "  <thead>\n",
       "    <tr style=\"text-align: right;\">\n",
       "      <th></th>\n",
       "      <th>Date</th>\n",
       "      <th>SP500</th>\n",
       "      <th>Futures</th>\n",
       "      <th>Nikkei</th>\n",
       "      <th>FTSE</th>\n",
       "      <th>DAX</th>\n",
       "      <th>day_of_week</th>\n",
       "    </tr>\n",
       "  </thead>\n",
       "  <tbody>\n",
       "    <tr>\n",
       "      <th>1511</th>\n",
       "      <td>1743984000</td>\n",
       "      <td>5,062.25</td>\n",
       "      <td>5,149.75</td>\n",
       "      <td>31,136.58</td>\n",
       "      <td>7,702.08</td>\n",
       "      <td>19,789.62</td>\n",
       "      <td>0</td>\n",
       "    </tr>\n",
       "    <tr>\n",
       "      <th>1512</th>\n",
       "      <td>1744070400</td>\n",
       "      <td>4,982.77</td>\n",
       "      <td>5,020.25</td>\n",
       "      <td>33,012.58</td>\n",
       "      <td>7,910.53</td>\n",
       "      <td>20,280.26</td>\n",
       "      <td>1</td>\n",
       "    </tr>\n",
       "    <tr>\n",
       "      <th>1513</th>\n",
       "      <td>1744156800</td>\n",
       "      <td>5,456.90</td>\n",
       "      <td>5,491.00</td>\n",
       "      <td>31,714.03</td>\n",
       "      <td>7,679.48</td>\n",
       "      <td>19,670.88</td>\n",
       "      <td>2</td>\n",
       "    </tr>\n",
       "    <tr>\n",
       "      <th>1514</th>\n",
       "      <td>1744243200</td>\n",
       "      <td>5,268.05</td>\n",
       "      <td>5,302.00</td>\n",
       "      <td>34,609.00</td>\n",
       "      <td>7,913.25</td>\n",
       "      <td>20,562.73</td>\n",
       "      <td>3</td>\n",
       "    </tr>\n",
       "    <tr>\n",
       "      <th>1515</th>\n",
       "      <td>1744329600</td>\n",
       "      <td>5,363.36</td>\n",
       "      <td>5,391.25</td>\n",
       "      <td>33,585.58</td>\n",
       "      <td>7,964.18</td>\n",
       "      <td>20,374.10</td>\n",
       "      <td>4</td>\n",
       "    </tr>\n",
       "  </tbody>\n",
       "</table>\n",
       "</div>"
      ],
      "text/plain": [
       "            Date    SP500  Futures    Nikkei     FTSE       DAX  day_of_week\n",
       "1511  1743984000 5,062.25 5,149.75 31,136.58 7,702.08 19,789.62            0\n",
       "1512  1744070400 4,982.77 5,020.25 33,012.58 7,910.53 20,280.26            1\n",
       "1513  1744156800 5,456.90 5,491.00 31,714.03 7,679.48 19,670.88            2\n",
       "1514  1744243200 5,268.05 5,302.00 34,609.00 7,913.25 20,562.73            3\n",
       "1515  1744329600 5,363.36 5,391.25 33,585.58 7,964.18 20,374.10            4"
      ]
     },
     "execution_count": 3,
     "metadata": {},
     "output_type": "execute_result"
    }
   ],
   "source": [
    "data_set.columns\n",
    "\n",
    "# Step 1: Convert to datetime\n",
    "data_set['Date'] = pd.to_datetime(data_set['Date'])\n",
    "\n",
    "# ✅ Step 2: Extract day of week\n",
    "data_set['day_of_week'] = data_set['Date'].dt.dayofweek  # 0=Mon, ..., 6=Sun\n",
    "\n",
    "# Step 3 (optional): If you still want UNIX timestamp\n",
    "data_set['Date'] = data_set['Date'].astype(np.int64) // 10**9\n",
    "\n",
    "data_set.tail()"
   ]
  },
  {
   "cell_type": "code",
   "execution_count": 4,
   "id": "0567387e",
   "metadata": {},
   "outputs": [],
   "source": [
    "# Reshape to 2D as required by OneHotEncoder\n",
    "encoder = OneHotEncoder(handle_unknown='ignore', sparse=False)\n",
    "day_of_week_encoded = encoder.fit_transform(data_set[['day_of_week']])\n"
   ]
  },
  {
   "cell_type": "code",
   "execution_count": 5,
   "id": "df6c44a8",
   "metadata": {},
   "outputs": [],
   "source": [
    "# Get feature names like ['day_of_week_0', 'day_of_week_1', ...]\n",
    "encoded_cols = encoder.get_feature_names_out(['day_of_week'])\n",
    "encoded_df = pd.DataFrame(day_of_week_encoded, columns=encoded_cols, index=data_set.index)\n",
    "data_set = pd.concat([data_set.drop(columns=['day_of_week']), encoded_df], axis=1)"
   ]
  },
  {
   "cell_type": "code",
   "execution_count": 6,
   "id": "854b6293",
   "metadata": {
    "scrolled": true
   },
   "outputs": [
    {
     "data": {
      "text/html": [
       "<div>\n",
       "<style scoped>\n",
       "    .dataframe tbody tr th:only-of-type {\n",
       "        vertical-align: middle;\n",
       "    }\n",
       "\n",
       "    .dataframe tbody tr th {\n",
       "        vertical-align: top;\n",
       "    }\n",
       "\n",
       "    .dataframe thead th {\n",
       "        text-align: right;\n",
       "    }\n",
       "</style>\n",
       "<table border=\"1\" class=\"dataframe\">\n",
       "  <thead>\n",
       "    <tr style=\"text-align: right;\">\n",
       "      <th></th>\n",
       "      <th>Date</th>\n",
       "      <th>SP500</th>\n",
       "      <th>Futures</th>\n",
       "      <th>Nikkei</th>\n",
       "      <th>FTSE</th>\n",
       "      <th>DAX</th>\n",
       "      <th>day_of_week_0</th>\n",
       "      <th>day_of_week_1</th>\n",
       "      <th>day_of_week_2</th>\n",
       "      <th>day_of_week_3</th>\n",
       "      <th>...</th>\n",
       "      <th>SP500_lag_3</th>\n",
       "      <th>DAX_lag_1</th>\n",
       "      <th>DAX_lag_2</th>\n",
       "      <th>DAX_lag_3</th>\n",
       "      <th>FTSE_lag_1</th>\n",
       "      <th>FTSE_lag_2</th>\n",
       "      <th>FTSE_lag_3</th>\n",
       "      <th>Nikkei_lag_1</th>\n",
       "      <th>Nikkei_lag_2</th>\n",
       "      <th>Nikkei_lag_3</th>\n",
       "    </tr>\n",
       "  </thead>\n",
       "  <tbody>\n",
       "    <tr>\n",
       "      <th>3</th>\n",
       "      <td>1554681600</td>\n",
       "      <td>2,895.77</td>\n",
       "      <td>2,898.25</td>\n",
       "      <td>21,761.65</td>\n",
       "      <td>7,451.89</td>\n",
       "      <td>11,963.40</td>\n",
       "      <td>1.00</td>\n",
       "      <td>0.00</td>\n",
       "      <td>0.00</td>\n",
       "      <td>0.00</td>\n",
       "      <td>...</td>\n",
       "      <td>2,873.40</td>\n",
       "      <td>12,009.75</td>\n",
       "      <td>11,988.01</td>\n",
       "      <td>11,954.40</td>\n",
       "      <td>7,446.87</td>\n",
       "      <td>7,401.94</td>\n",
       "      <td>7,418.28</td>\n",
       "      <td>21,807.50</td>\n",
       "      <td>21,724.95</td>\n",
       "      <td>21,713.21</td>\n",
       "    </tr>\n",
       "    <tr>\n",
       "      <th>4</th>\n",
       "      <td>1554768000</td>\n",
       "      <td>2,878.20</td>\n",
       "      <td>2,882.50</td>\n",
       "      <td>21,802.59</td>\n",
       "      <td>7,425.57</td>\n",
       "      <td>11,850.57</td>\n",
       "      <td>0.00</td>\n",
       "      <td>1.00</td>\n",
       "      <td>0.00</td>\n",
       "      <td>0.00</td>\n",
       "      <td>...</td>\n",
       "      <td>2,879.39</td>\n",
       "      <td>11,963.40</td>\n",
       "      <td>12,009.75</td>\n",
       "      <td>11,988.01</td>\n",
       "      <td>7,451.89</td>\n",
       "      <td>7,446.87</td>\n",
       "      <td>7,401.94</td>\n",
       "      <td>21,761.65</td>\n",
       "      <td>21,807.50</td>\n",
       "      <td>21,724.95</td>\n",
       "    </tr>\n",
       "    <tr>\n",
       "      <th>5</th>\n",
       "      <td>1554854400</td>\n",
       "      <td>2,888.21</td>\n",
       "      <td>2,894.50</td>\n",
       "      <td>21,687.57</td>\n",
       "      <td>7,421.91</td>\n",
       "      <td>11,905.91</td>\n",
       "      <td>0.00</td>\n",
       "      <td>0.00</td>\n",
       "      <td>1.00</td>\n",
       "      <td>0.00</td>\n",
       "      <td>...</td>\n",
       "      <td>2,892.74</td>\n",
       "      <td>11,850.57</td>\n",
       "      <td>11,963.40</td>\n",
       "      <td>12,009.75</td>\n",
       "      <td>7,425.57</td>\n",
       "      <td>7,451.89</td>\n",
       "      <td>7,446.87</td>\n",
       "      <td>21,802.59</td>\n",
       "      <td>21,761.65</td>\n",
       "      <td>21,807.50</td>\n",
       "    </tr>\n",
       "    <tr>\n",
       "      <th>6</th>\n",
       "      <td>1554940800</td>\n",
       "      <td>2,888.32</td>\n",
       "      <td>2,891.75</td>\n",
       "      <td>21,711.38</td>\n",
       "      <td>7,417.95</td>\n",
       "      <td>11,935.20</td>\n",
       "      <td>0.00</td>\n",
       "      <td>0.00</td>\n",
       "      <td>0.00</td>\n",
       "      <td>1.00</td>\n",
       "      <td>...</td>\n",
       "      <td>2,895.77</td>\n",
       "      <td>11,905.91</td>\n",
       "      <td>11,850.57</td>\n",
       "      <td>11,963.40</td>\n",
       "      <td>7,421.91</td>\n",
       "      <td>7,425.57</td>\n",
       "      <td>7,451.89</td>\n",
       "      <td>21,687.57</td>\n",
       "      <td>21,802.59</td>\n",
       "      <td>21,761.65</td>\n",
       "    </tr>\n",
       "    <tr>\n",
       "      <th>7</th>\n",
       "      <td>1555027200</td>\n",
       "      <td>2,907.41</td>\n",
       "      <td>2,912.50</td>\n",
       "      <td>21,870.56</td>\n",
       "      <td>7,437.06</td>\n",
       "      <td>11,999.93</td>\n",
       "      <td>0.00</td>\n",
       "      <td>0.00</td>\n",
       "      <td>0.00</td>\n",
       "      <td>0.00</td>\n",
       "      <td>...</td>\n",
       "      <td>2,878.20</td>\n",
       "      <td>11,935.20</td>\n",
       "      <td>11,905.91</td>\n",
       "      <td>11,850.57</td>\n",
       "      <td>7,417.95</td>\n",
       "      <td>7,421.91</td>\n",
       "      <td>7,425.57</td>\n",
       "      <td>21,711.38</td>\n",
       "      <td>21,687.57</td>\n",
       "      <td>21,802.59</td>\n",
       "    </tr>\n",
       "  </tbody>\n",
       "</table>\n",
       "<p>5 rows × 23 columns</p>\n",
       "</div>"
      ],
      "text/plain": [
       "         Date    SP500  Futures    Nikkei     FTSE       DAX  day_of_week_0  \\\n",
       "3  1554681600 2,895.77 2,898.25 21,761.65 7,451.89 11,963.40           1.00   \n",
       "4  1554768000 2,878.20 2,882.50 21,802.59 7,425.57 11,850.57           0.00   \n",
       "5  1554854400 2,888.21 2,894.50 21,687.57 7,421.91 11,905.91           0.00   \n",
       "6  1554940800 2,888.32 2,891.75 21,711.38 7,417.95 11,935.20           0.00   \n",
       "7  1555027200 2,907.41 2,912.50 21,870.56 7,437.06 11,999.93           0.00   \n",
       "\n",
       "   day_of_week_1  day_of_week_2  day_of_week_3  ...  SP500_lag_3  DAX_lag_1  \\\n",
       "3           0.00           0.00           0.00  ...     2,873.40  12,009.75   \n",
       "4           1.00           0.00           0.00  ...     2,879.39  11,963.40   \n",
       "5           0.00           1.00           0.00  ...     2,892.74  11,850.57   \n",
       "6           0.00           0.00           1.00  ...     2,895.77  11,905.91   \n",
       "7           0.00           0.00           0.00  ...     2,878.20  11,935.20   \n",
       "\n",
       "   DAX_lag_2  DAX_lag_3  FTSE_lag_1  FTSE_lag_2  FTSE_lag_3  Nikkei_lag_1  \\\n",
       "3  11,988.01  11,954.40    7,446.87    7,401.94    7,418.28     21,807.50   \n",
       "4  12,009.75  11,988.01    7,451.89    7,446.87    7,401.94     21,761.65   \n",
       "5  11,963.40  12,009.75    7,425.57    7,451.89    7,446.87     21,802.59   \n",
       "6  11,850.57  11,963.40    7,421.91    7,425.57    7,451.89     21,687.57   \n",
       "7  11,905.91  11,850.57    7,417.95    7,421.91    7,425.57     21,711.38   \n",
       "\n",
       "   Nikkei_lag_2  Nikkei_lag_3  \n",
       "3     21,724.95     21,713.21  \n",
       "4     21,807.50     21,724.95  \n",
       "5     21,761.65     21,807.50  \n",
       "6     21,802.59     21,761.65  \n",
       "7     21,687.57     21,802.59  \n",
       "\n",
       "[5 rows x 23 columns]"
      ]
     },
     "execution_count": 6,
     "metadata": {},
     "output_type": "execute_result"
    }
   ],
   "source": [
    "def add_lag_features(df, columns, lags):\n",
    "    \"\"\"\n",
    "    Adds lag features for given columns and lag days.\n",
    "\n",
    "    Parameters:\n",
    "    df (pd.DataFrame): Original dataset\n",
    "    columns (list): Columns for which to create lag features\n",
    "    lags (list): List of lag values (e.g., [1, 2, 3])\n",
    "\n",
    "    Returns:\n",
    "    pd.DataFrame: Dataset with new lag features\n",
    "    \"\"\"\n",
    "    for col in columns:\n",
    "        for lag in lags:\n",
    "            df[f'{col}_lag_{lag}'] = df[col].shift(lag)\n",
    "    return df\n",
    "\n",
    "\n",
    "lag_columns = ['SP500', 'DAX', 'FTSE', 'Nikkei']\n",
    "lag_days = [1, 2, 3] \n",
    "\n",
    "data_set = add_lag_features(data_set, lag_columns, lag_days)\n",
    "data_set = data_set.dropna()  # Drop rows with NaNs from lags\n",
    "data_set.head()\n",
    "\n",
    "\n",
    "data_set = data_set.sort_values(by='Date').reset_index(drop=True)\n",
    "\n"
   ]
  },
  {
   "cell_type": "code",
   "execution_count": 7,
   "id": "00728891",
   "metadata": {},
   "outputs": [
    {
     "name": "stdout",
     "output_type": "stream",
     "text": [
      "Index(['Date', 'SP500', 'Futures', 'Nikkei', 'FTSE', 'DAX', 'day_of_week_0',\n",
      "       'day_of_week_1', 'day_of_week_2', 'day_of_week_3', 'day_of_week_4',\n",
      "       'SP500_lag_1', 'SP500_lag_2', 'SP500_lag_3', 'DAX_lag_1', 'DAX_lag_2',\n",
      "       'DAX_lag_3', 'FTSE_lag_1', 'FTSE_lag_2', 'FTSE_lag_3', 'Nikkei_lag_1',\n",
      "       'Nikkei_lag_2', 'Nikkei_lag_3'],\n",
      "      dtype='object')\n"
     ]
    }
   ],
   "source": [
    "print(data_set.columns)"
   ]
  },
  {
   "cell_type": "code",
   "execution_count": 8,
   "id": "cbf52db5",
   "metadata": {},
   "outputs": [],
   "source": [
    "# Create target columns first\n",
    "data_set['SP500_next'] = data_set['SP500'].shift(-1)\n",
    "data_set['Nikkei_next'] = data_set['Nikkei'].shift(-1)\n",
    "data_set['FTSE_next'] = data_set['FTSE'].shift(-1)\n",
    "data_set['DAX_next'] = data_set['DAX'].shift(-1)\n",
    "\n",
    "# Now drop any rows with NaNs\n",
    "data_set = data_set.dropna()\n"
   ]
  },
  {
   "cell_type": "code",
   "execution_count": 9,
   "id": "a2aca72b",
   "metadata": {
    "scrolled": true
   },
   "outputs": [
    {
     "data": {
      "text/html": [
       "<div>\n",
       "<style scoped>\n",
       "    .dataframe tbody tr th:only-of-type {\n",
       "        vertical-align: middle;\n",
       "    }\n",
       "\n",
       "    .dataframe tbody tr th {\n",
       "        vertical-align: top;\n",
       "    }\n",
       "\n",
       "    .dataframe thead th {\n",
       "        text-align: right;\n",
       "    }\n",
       "</style>\n",
       "<table border=\"1\" class=\"dataframe\">\n",
       "  <thead>\n",
       "    <tr style=\"text-align: right;\">\n",
       "      <th></th>\n",
       "      <th>SP500</th>\n",
       "      <th>Futures</th>\n",
       "      <th>Nikkei</th>\n",
       "      <th>FTSE</th>\n",
       "      <th>DAX</th>\n",
       "      <th>day_of_week_0</th>\n",
       "      <th>day_of_week_1</th>\n",
       "      <th>day_of_week_2</th>\n",
       "      <th>day_of_week_3</th>\n",
       "      <th>day_of_week_4</th>\n",
       "      <th>...</th>\n",
       "      <th>FTSE_lag_1</th>\n",
       "      <th>FTSE_lag_2</th>\n",
       "      <th>FTSE_lag_3</th>\n",
       "      <th>Nikkei_lag_1</th>\n",
       "      <th>Nikkei_lag_2</th>\n",
       "      <th>Nikkei_lag_3</th>\n",
       "      <th>SP500_next</th>\n",
       "      <th>Nikkei_next</th>\n",
       "      <th>FTSE_next</th>\n",
       "      <th>DAX_next</th>\n",
       "    </tr>\n",
       "  </thead>\n",
       "  <tbody>\n",
       "    <tr>\n",
       "      <th>0</th>\n",
       "      <td>-1.46</td>\n",
       "      <td>-1.45</td>\n",
       "      <td>-1.26</td>\n",
       "      <td>0.17</td>\n",
       "      <td>-1.19</td>\n",
       "      <td>2.17</td>\n",
       "      <td>-0.49</td>\n",
       "      <td>-0.50</td>\n",
       "      <td>-0.49</td>\n",
       "      <td>-0.55</td>\n",
       "      <td>...</td>\n",
       "      <td>0.17</td>\n",
       "      <td>0.10</td>\n",
       "      <td>0.12</td>\n",
       "      <td>-1.25</td>\n",
       "      <td>-1.26</td>\n",
       "      <td>-1.26</td>\n",
       "      <td>-1.48</td>\n",
       "      <td>-1.25</td>\n",
       "      <td>0.14</td>\n",
       "      <td>-1.23</td>\n",
       "    </tr>\n",
       "    <tr>\n",
       "      <th>1</th>\n",
       "      <td>-1.48</td>\n",
       "      <td>-1.47</td>\n",
       "      <td>-1.25</td>\n",
       "      <td>0.14</td>\n",
       "      <td>-1.23</td>\n",
       "      <td>-0.46</td>\n",
       "      <td>2.03</td>\n",
       "      <td>-0.50</td>\n",
       "      <td>-0.49</td>\n",
       "      <td>-0.55</td>\n",
       "      <td>...</td>\n",
       "      <td>0.17</td>\n",
       "      <td>0.16</td>\n",
       "      <td>0.10</td>\n",
       "      <td>-1.26</td>\n",
       "      <td>-1.25</td>\n",
       "      <td>-1.26</td>\n",
       "      <td>-1.47</td>\n",
       "      <td>-1.27</td>\n",
       "      <td>0.13</td>\n",
       "      <td>-1.21</td>\n",
       "    </tr>\n",
       "    <tr>\n",
       "      <th>2</th>\n",
       "      <td>-1.47</td>\n",
       "      <td>-1.46</td>\n",
       "      <td>-1.27</td>\n",
       "      <td>0.13</td>\n",
       "      <td>-1.21</td>\n",
       "      <td>-0.46</td>\n",
       "      <td>-0.49</td>\n",
       "      <td>2.00</td>\n",
       "      <td>-0.49</td>\n",
       "      <td>-0.55</td>\n",
       "      <td>...</td>\n",
       "      <td>0.13</td>\n",
       "      <td>0.17</td>\n",
       "      <td>0.16</td>\n",
       "      <td>-1.25</td>\n",
       "      <td>-1.26</td>\n",
       "      <td>-1.25</td>\n",
       "      <td>-1.47</td>\n",
       "      <td>-1.27</td>\n",
       "      <td>0.12</td>\n",
       "      <td>-1.20</td>\n",
       "    </tr>\n",
       "    <tr>\n",
       "      <th>3</th>\n",
       "      <td>-1.47</td>\n",
       "      <td>-1.46</td>\n",
       "      <td>-1.26</td>\n",
       "      <td>0.13</td>\n",
       "      <td>-1.20</td>\n",
       "      <td>-0.46</td>\n",
       "      <td>-0.49</td>\n",
       "      <td>-0.50</td>\n",
       "      <td>2.02</td>\n",
       "      <td>-0.55</td>\n",
       "      <td>...</td>\n",
       "      <td>0.13</td>\n",
       "      <td>0.13</td>\n",
       "      <td>0.17</td>\n",
       "      <td>-1.27</td>\n",
       "      <td>-1.25</td>\n",
       "      <td>-1.26</td>\n",
       "      <td>-1.45</td>\n",
       "      <td>-1.24</td>\n",
       "      <td>0.15</td>\n",
       "      <td>-1.18</td>\n",
       "    </tr>\n",
       "    <tr>\n",
       "      <th>4</th>\n",
       "      <td>-1.45</td>\n",
       "      <td>-1.44</td>\n",
       "      <td>-1.24</td>\n",
       "      <td>0.15</td>\n",
       "      <td>-1.18</td>\n",
       "      <td>-0.46</td>\n",
       "      <td>-0.49</td>\n",
       "      <td>-0.50</td>\n",
       "      <td>-0.49</td>\n",
       "      <td>1.82</td>\n",
       "      <td>...</td>\n",
       "      <td>0.12</td>\n",
       "      <td>0.13</td>\n",
       "      <td>0.13</td>\n",
       "      <td>-1.26</td>\n",
       "      <td>-1.27</td>\n",
       "      <td>-1.25</td>\n",
       "      <td>-1.45</td>\n",
       "      <td>-1.19</td>\n",
       "      <td>0.15</td>\n",
       "      <td>-1.17</td>\n",
       "    </tr>\n",
       "  </tbody>\n",
       "</table>\n",
       "<p>5 rows × 26 columns</p>\n",
       "</div>"
      ],
      "text/plain": [
       "   SP500  Futures  Nikkei  FTSE   DAX  day_of_week_0  day_of_week_1  \\\n",
       "0  -1.46    -1.45   -1.26  0.17 -1.19           2.17          -0.49   \n",
       "1  -1.48    -1.47   -1.25  0.14 -1.23          -0.46           2.03   \n",
       "2  -1.47    -1.46   -1.27  0.13 -1.21          -0.46          -0.49   \n",
       "3  -1.47    -1.46   -1.26  0.13 -1.20          -0.46          -0.49   \n",
       "4  -1.45    -1.44   -1.24  0.15 -1.18          -0.46          -0.49   \n",
       "\n",
       "   day_of_week_2  day_of_week_3  day_of_week_4  ...  FTSE_lag_1  FTSE_lag_2  \\\n",
       "0          -0.50          -0.49          -0.55  ...        0.17        0.10   \n",
       "1          -0.50          -0.49          -0.55  ...        0.17        0.16   \n",
       "2           2.00          -0.49          -0.55  ...        0.13        0.17   \n",
       "3          -0.50           2.02          -0.55  ...        0.13        0.13   \n",
       "4          -0.50          -0.49           1.82  ...        0.12        0.13   \n",
       "\n",
       "   FTSE_lag_3  Nikkei_lag_1  Nikkei_lag_2  Nikkei_lag_3  SP500_next  \\\n",
       "0        0.12         -1.25         -1.26         -1.26       -1.48   \n",
       "1        0.10         -1.26         -1.25         -1.26       -1.47   \n",
       "2        0.16         -1.25         -1.26         -1.25       -1.47   \n",
       "3        0.17         -1.27         -1.25         -1.26       -1.45   \n",
       "4        0.13         -1.26         -1.27         -1.25       -1.45   \n",
       "\n",
       "   Nikkei_next  FTSE_next  DAX_next  \n",
       "0        -1.25       0.14     -1.23  \n",
       "1        -1.27       0.13     -1.21  \n",
       "2        -1.27       0.12     -1.20  \n",
       "3        -1.24       0.15     -1.18  \n",
       "4        -1.19       0.15     -1.17  \n",
       "\n",
       "[5 rows x 26 columns]"
      ]
     },
     "execution_count": 9,
     "metadata": {},
     "output_type": "execute_result"
    }
   ],
   "source": [
    "from sklearn.preprocessing import StandardScaler\n",
    "\n",
    "# Drop the 'Date' column\n",
    "data_scaled_input = data_set.drop(columns=['Date'])\n",
    "\n",
    "# Apply StandardScaler\n",
    "scaler = StandardScaler()\n",
    "scaled_array = scaler.fit_transform(data_scaled_input)\n",
    "\n",
    "# Convert the scaled data back to DataFrame\n",
    "data_scaled = pd.DataFrame(scaled_array, columns=data_scaled_input.columns)\n",
    "\n",
    "# Preview the result\n",
    "data_scaled.head()"
   ]
  },
  {
   "cell_type": "code",
   "execution_count": 43,
   "id": "b7aaf685",
   "metadata": {},
   "outputs": [
    {
     "name": "stdout",
     "output_type": "stream",
     "text": [
      "Index(['SP500', 'Futures', 'Nikkei', 'FTSE', 'DAX', 'day_of_week_0',\n",
      "       'day_of_week_1', 'day_of_week_2', 'day_of_week_3', 'day_of_week_4',\n",
      "       'SP500_lag_1', 'SP500_lag_2', 'SP500_lag_3', 'DAX_lag_1', 'DAX_lag_2',\n",
      "       'DAX_lag_3', 'FTSE_lag_1', 'FTSE_lag_2', 'FTSE_lag_3', 'Nikkei_lag_1',\n",
      "       'Nikkei_lag_2', 'Nikkei_lag_3', 'SP500_next', 'Nikkei_next',\n",
      "       'FTSE_next', 'DAX_next'],\n",
      "      dtype='object')\n"
     ]
    }
   ],
   "source": [
    "print(data_scaled.columns)"
   ]
  },
  {
   "cell_type": "code",
   "execution_count": 10,
   "id": "1bbc23db",
   "metadata": {},
   "outputs": [],
   "source": [
    "\n",
    "# Parameters for sliding window\n",
    "window_size = 10\n",
    "train_size = 8\n",
    "test_size = 2\n",
    "\n",
    "X_full = data_scaled.drop(columns=['SP500_next'])\n",
    "y_full = data_scaled['SP500_next']\n",
    "\n",
    "# Containers to hold concatenated training and testing data\n",
    "X_train_list, X_test_list = [], []\n",
    "y_train_list, y_test_list = [], []\n",
    "\n",
    "# Sliding window generation\n",
    "for start in range(0, len(X_full) - window_size + 1, test_size):  # step by test size\n",
    "    end = start + window_size\n",
    "    X_window = X_full.iloc[start:end]\n",
    "    y_window = y_full.iloc[start:end]\n",
    "    \n",
    "    X_train_list.append(X_window.iloc[:train_size])\n",
    "    y_train_list.append(y_window.iloc[:train_size])\n",
    "    X_test_list.append(X_window.iloc[train_size:])\n",
    "    y_test_list.append(y_window.iloc[train_size:])\n",
    "\n",
    "# Concatenate all windows together to get final train-test sets\n",
    "X_train = pd.concat(X_train_list, ignore_index=True)\n",
    "y_train = pd.concat(y_train_list, ignore_index=True)\n",
    "X_test = pd.concat(X_test_list, ignore_index=True)\n",
    "y_test = pd.concat(y_test_list, ignore_index=True)\n"
   ]
  },
  {
   "cell_type": "code",
   "execution_count": 11,
   "id": "e08bb98d",
   "metadata": {},
   "outputs": [],
   "source": [
    "# Parameters for sliding window\n",
    "window_size = 10\n",
    "train_size = 8\n",
    "test_size = 2\n",
    "\n",
    "X_full_nk = data_scaled.drop(columns=['Nikkei_next'])\n",
    "y_full_nk = data_scaled['Nikkei_next']\n",
    "\n",
    "# Containers to hold concatenated training and testing data\n",
    "X_train_list_nk, X_test_list_nk = [], []\n",
    "y_train_list_nk, y_test_list_nk = [], []\n",
    "\n",
    "# Sliding window generation\n",
    "for start in range(0, len(X_full_nk) - window_size + 1, test_size):  # step by test size\n",
    "    end = start + window_size\n",
    "    X_window_nk = X_full_nk.iloc[start:end]\n",
    "    y_window_nk = y_full_nk.iloc[start:end]\n",
    "\n",
    "    X_train_list_nk.append(X_window_nk.iloc[:train_size])\n",
    "    y_train_list_nk.append(y_window_nk.iloc[:train_size])\n",
    "    X_test_list_nk.append(X_window_nk.iloc[train_size:])\n",
    "    y_test_list_nk.append(y_window_nk.iloc[train_size:])\n",
    "\n",
    "# Concatenate all windows together to get final train-test sets\n",
    "X_train_nk = pd.concat(X_train_list_nk, ignore_index=True)\n",
    "y_train_nk = pd.concat(y_train_list_nk, ignore_index=True)\n",
    "X_test_nk = pd.concat(X_test_list_nk, ignore_index=True)\n",
    "y_test_nk = pd.concat(y_test_list_nk, ignore_index=True)\n"
   ]
  },
  {
   "cell_type": "code",
   "execution_count": 12,
   "id": "dd8e41f9",
   "metadata": {},
   "outputs": [],
   "source": [
    "# Parameters for sliding window\n",
    "window_size = 10\n",
    "train_size = 8\n",
    "test_size = 2\n",
    "\n",
    "# Drop target from features and extract y values\n",
    "X_full_fs = data_scaled.drop(columns=['FTSE_next'])\n",
    "y_full_fs = data_scaled['FTSE_next']\n",
    "\n",
    "# Lists to hold the training and testing splits\n",
    "X_train_list_fs, X_test_list_fs = [], []\n",
    "y_train_list_fs, y_test_list_fs = [], []\n",
    "\n",
    "# Sliding window generation loop\n",
    "for start in range(0, len(X_full_fs) - window_size + 1, test_size):  # step by test_size\n",
    "    end = start + window_size\n",
    "    X_window_fs = X_full_fs.iloc[start:end]\n",
    "    y_window_fs = y_full_fs.iloc[start:end]\n",
    "\n",
    "    X_train_list_fs.append(X_window_fs.iloc[:train_size])\n",
    "    y_train_list_fs.append(y_window_fs.iloc[:train_size])\n",
    "    X_test_list_fs.append(X_window_fs.iloc[train_size:])\n",
    "    y_test_list_fs.append(y_window_fs.iloc[train_size:])\n",
    "\n",
    "# Concatenate all windows together\n",
    "X_train_fs = pd.concat(X_train_list_fs, ignore_index=True)\n",
    "y_train_fs = pd.concat(y_train_list_fs, ignore_index=True)\n",
    "X_test_fs = pd.concat(X_test_list_fs, ignore_index=True)\n",
    "y_test_fs = pd.concat(y_test_list_fs, ignore_index=True)\n"
   ]
  },
  {
   "cell_type": "code",
   "execution_count": 13,
   "id": "1b9a58cc",
   "metadata": {},
   "outputs": [],
   "source": [
    "# Parameters for sliding window\n",
    "window_size = 10\n",
    "train_size = 8\n",
    "test_size = 2\n",
    "\n",
    "# Drop target from features and extract y values\n",
    "X_full_dx = data_scaled.drop(columns=['DAX_next'])\n",
    "y_full_dx = data_scaled['DAX_next']\n",
    "\n",
    "# Lists to hold the training and testing splits\n",
    "X_train_list_dx, X_test_list_dx = [], []\n",
    "y_train_list_dx, y_test_list_dx = [], []\n",
    "\n",
    "# Sliding window generation loop\n",
    "for start in range(0, len(X_full_dx) - window_size + 1, test_size):  # step by test_size\n",
    "    end = start + window_size\n",
    "    X_window_dx = X_full_dx.iloc[start:end]\n",
    "    y_window_dx = y_full_dx.iloc[start:end]\n",
    "\n",
    "    X_train_list_dx.append(X_window_dx.iloc[:train_size])\n",
    "    y_train_list_dx.append(y_window_dx.iloc[:train_size])\n",
    "    X_test_list_dx.append(X_window_dx.iloc[train_size:])\n",
    "    y_test_list_dx.append(y_window_dx.iloc[train_size:])\n",
    "\n",
    "# Concatenate all windows together\n",
    "X_train_dx = pd.concat(X_train_list_dx, ignore_index=True)\n",
    "y_train_dx = pd.concat(y_train_list_dx, ignore_index=True)\n",
    "X_test_dx = pd.concat(X_test_list_dx, ignore_index=True)\n",
    "y_test_dx = pd.concat(y_test_list_dx, ignore_index=True)\n"
   ]
  },
  {
   "cell_type": "markdown",
   "id": "2eb29405",
   "metadata": {},
   "source": [
    "# Hybrid for S&P500"
   ]
  },
  {
   "cell_type": "code",
   "execution_count": 14,
   "id": "79799af4",
   "metadata": {},
   "outputs": [
    {
     "data": {
      "text/plain": [
       "LinearRegression()"
      ]
     },
     "execution_count": 14,
     "metadata": {},
     "output_type": "execute_result"
    },
    {
     "data": {
      "text/plain": [
       "0.9977129875863636"
      ]
     },
     "execution_count": 14,
     "metadata": {},
     "output_type": "execute_result"
    }
   ],
   "source": [
    "model = LinearRegression(fit_intercept = True)\n",
    "model.fit(X_train, y_train) \n",
    "\n",
    "# The following gives the R-square score\n",
    "model.score(X_train, y_train) "
   ]
  },
  {
   "cell_type": "code",
   "execution_count": 15,
   "id": "af4b84ef",
   "metadata": {},
   "outputs": [],
   "source": [
    "training_residuals = y_train - model.predict(X_train)"
   ]
  },
  {
   "cell_type": "code",
   "execution_count": 16,
   "id": "802b744e",
   "metadata": {},
   "outputs": [],
   "source": [
    "rf = RandomForestRegressor(random_state=50, min_samples_leaf = 3, max_features = \"sqrt\")\n",
    "\n",
    "rf = rf.fit(X_train, training_residuals) "
   ]
  },
  {
   "cell_type": "code",
   "execution_count": 17,
   "id": "8b4ef415",
   "metadata": {},
   "outputs": [],
   "source": [
    "pred_residuals = rf.predict(X_test)\n",
    "y_pred = pred_residuals + model.predict(X_test)"
   ]
  },
  {
   "cell_type": "code",
   "execution_count": 18,
   "id": "75df1dd2",
   "metadata": {},
   "outputs": [
    {
     "data": {
      "text/html": [
       "<div>\n",
       "<style scoped>\n",
       "    .dataframe tbody tr th:only-of-type {\n",
       "        vertical-align: middle;\n",
       "    }\n",
       "\n",
       "    .dataframe tbody tr th {\n",
       "        vertical-align: top;\n",
       "    }\n",
       "\n",
       "    .dataframe thead th {\n",
       "        text-align: right;\n",
       "    }\n",
       "</style>\n",
       "<table border=\"1\" class=\"dataframe\">\n",
       "  <thead>\n",
       "    <tr style=\"text-align: right;\">\n",
       "      <th></th>\n",
       "      <th>pred_SP500_next</th>\n",
       "      <th>SP500_next</th>\n",
       "    </tr>\n",
       "  </thead>\n",
       "  <tbody>\n",
       "    <tr>\n",
       "      <th>0</th>\n",
       "      <td>-1.42</td>\n",
       "      <td>-1.41</td>\n",
       "    </tr>\n",
       "    <tr>\n",
       "      <th>1</th>\n",
       "      <td>-1.48</td>\n",
       "      <td>-1.48</td>\n",
       "    </tr>\n",
       "    <tr>\n",
       "      <th>2</th>\n",
       "      <td>-1.55</td>\n",
       "      <td>-1.56</td>\n",
       "    </tr>\n",
       "    <tr>\n",
       "      <th>3</th>\n",
       "      <td>-1.53</td>\n",
       "      <td>-1.53</td>\n",
       "    </tr>\n",
       "    <tr>\n",
       "      <th>4</th>\n",
       "      <td>-1.52</td>\n",
       "      <td>-1.52</td>\n",
       "    </tr>\n",
       "  </tbody>\n",
       "</table>\n",
       "</div>"
      ],
      "text/plain": [
       "   pred_SP500_next  SP500_next\n",
       "0            -1.42       -1.41\n",
       "1            -1.48       -1.48\n",
       "2            -1.55       -1.56\n",
       "3            -1.53       -1.53\n",
       "4            -1.52       -1.52"
      ]
     },
     "execution_count": 18,
     "metadata": {},
     "output_type": "execute_result"
    },
    {
     "name": "stdout",
     "output_type": "stream",
     "text": [
      "Mean absolute error is \n",
      "0.0048956114905216305\n",
      "Mean absolute percentage error is \n",
      "0.45609317464218363\n"
     ]
    }
   ],
   "source": [
    "test_output = pd.DataFrame(y_pred, index = X_test.index, columns = ['pred_SP500_next'])\n",
    "test_output = test_output.merge(y_test, left_index = True, right_index = True)\n",
    "test_output.head()\n",
    "mean_absolute_error = abs(test_output['pred_SP500_next'] - test_output['SP500_next']).mean()\n",
    "print('Mean absolute error is ')\n",
    "print(mean_absolute_error)\n",
    "mean_absolute_percentage_error = abs(test_output['pred_SP500_next'] - test_output['SP500_next']).mean() / test_output['SP500_next'].mean()\n",
    "print('Mean absolute percentage error is ')\n",
    "print(mean_absolute_percentage_error)\n",
    "\n",
    "model_names.append(\"Hybrid Model\")\n",
    "model_maes.append(mean_absolute_error)\n",
    "model_mabs.append(mean_absolute_percentage_error)"
   ]
  },
  {
   "cell_type": "code",
   "execution_count": 19,
   "id": "a6266203",
   "metadata": {},
   "outputs": [
    {
     "name": "stdout",
     "output_type": "stream",
     "text": [
      "Hybrid Model R² score on training set: 0.9999\n",
      "Hybrid Model R² score on test set: 0.9996\n"
     ]
    }
   ],
   "source": [
    "from sklearn.metrics import r2_score\n",
    "\n",
    "# Training R²\n",
    "train_hybrid_pred = model.predict(X_train) + rf.predict(X_train)\n",
    "hybrid_r2_train = r2_score(y_train, train_hybrid_pred)\n",
    "print(f\"Hybrid Model R² score on training set: {hybrid_r2_train:.4f}\")\n",
    "\n",
    "# Test R² (y_pred is already calculated above)\n",
    "hybrid_r2_test = r2_score(y_test, y_pred)\n",
    "print(f\"Hybrid Model R² score on test set: {hybrid_r2_test:.4f}\")\n"
   ]
  },
  {
   "cell_type": "markdown",
   "id": "a8c4b9b2",
   "metadata": {},
   "source": [
    "# Hybrid Model for Nikkei"
   ]
  },
  {
   "cell_type": "code",
   "execution_count": 20,
   "id": "90f7af0a",
   "metadata": {},
   "outputs": [
    {
     "data": {
      "text/plain": [
       "LinearRegression()"
      ]
     },
     "execution_count": 20,
     "metadata": {},
     "output_type": "execute_result"
    },
    {
     "data": {
      "text/plain": [
       "0.9958868135766856"
      ]
     },
     "execution_count": 20,
     "metadata": {},
     "output_type": "execute_result"
    }
   ],
   "source": [
    "model_nk = LinearRegression(fit_intercept = True)\n",
    "model_nk.fit(X_train_nk, y_train_nk) \n",
    "\n",
    "# The following gives the R-square score\n",
    "model_nk.score(X_train_nk, y_train_nk) "
   ]
  },
  {
   "cell_type": "code",
   "execution_count": 21,
   "id": "0779d6cf",
   "metadata": {},
   "outputs": [],
   "source": [
    "training_residuals_nk = y_train_nk - model_nk.predict(X_train_nk)"
   ]
  },
  {
   "cell_type": "code",
   "execution_count": 22,
   "id": "1ac9a807",
   "metadata": {},
   "outputs": [],
   "source": [
    "rf_nk = RandomForestRegressor(random_state=50, min_samples_leaf = 3, max_features = \"sqrt\")\n",
    "\n",
    "rf_nk = rf_nk.fit(X_train_nk, training_residuals_nk) "
   ]
  },
  {
   "cell_type": "code",
   "execution_count": 23,
   "id": "45346c5f",
   "metadata": {},
   "outputs": [],
   "source": [
    "pred_residuals_nk = rf_nk.predict(X_test_nk)\n",
    "y_pred_nk = pred_residuals_nk + model_nk.predict(X_test_nk)"
   ]
  },
  {
   "cell_type": "code",
   "execution_count": 24,
   "id": "627daf22",
   "metadata": {},
   "outputs": [
    {
     "data": {
      "text/html": [
       "<div>\n",
       "<style scoped>\n",
       "    .dataframe tbody tr th:only-of-type {\n",
       "        vertical-align: middle;\n",
       "    }\n",
       "\n",
       "    .dataframe tbody tr th {\n",
       "        vertical-align: top;\n",
       "    }\n",
       "\n",
       "    .dataframe thead th {\n",
       "        text-align: right;\n",
       "    }\n",
       "</style>\n",
       "<table border=\"1\" class=\"dataframe\">\n",
       "  <thead>\n",
       "    <tr style=\"text-align: right;\">\n",
       "      <th></th>\n",
       "      <th>pred_Nikkei_next</th>\n",
       "      <th>Nikkei_next</th>\n",
       "    </tr>\n",
       "  </thead>\n",
       "  <tbody>\n",
       "    <tr>\n",
       "      <th>0</th>\n",
       "      <td>-1.18</td>\n",
       "      <td>-1.17</td>\n",
       "    </tr>\n",
       "    <tr>\n",
       "      <th>1</th>\n",
       "      <td>-1.30</td>\n",
       "      <td>-1.33</td>\n",
       "    </tr>\n",
       "    <tr>\n",
       "      <th>2</th>\n",
       "      <td>-1.35</td>\n",
       "      <td>-1.36</td>\n",
       "    </tr>\n",
       "    <tr>\n",
       "      <th>3</th>\n",
       "      <td>-1.38</td>\n",
       "      <td>-1.38</td>\n",
       "    </tr>\n",
       "    <tr>\n",
       "      <th>4</th>\n",
       "      <td>-1.36</td>\n",
       "      <td>-1.36</td>\n",
       "    </tr>\n",
       "  </tbody>\n",
       "</table>\n",
       "</div>"
      ],
      "text/plain": [
       "   pred_Nikkei_next  Nikkei_next\n",
       "0             -1.18        -1.17\n",
       "1             -1.30        -1.33\n",
       "2             -1.35        -1.36\n",
       "3             -1.38        -1.38\n",
       "4             -1.36        -1.36"
      ]
     },
     "execution_count": 24,
     "metadata": {},
     "output_type": "execute_result"
    },
    {
     "name": "stdout",
     "output_type": "stream",
     "text": [
      "Mean absolute error is \n",
      "0.006176728467144619\n",
      "Mean absolute percentage error is \n",
      "0.689044196642292\n"
     ]
    }
   ],
   "source": [
    "test_output = pd.DataFrame(y_pred_nk, index = X_test_nk.index, columns = ['pred_Nikkei_next'])\n",
    "test_output = test_output.merge(y_test_nk, left_index = True, right_index = True)\n",
    "test_output.head()\n",
    "mean_absolute_error = abs(test_output['pred_Nikkei_next'] - test_output['Nikkei_next']).mean()\n",
    "print('Mean absolute error is ')\n",
    "print(mean_absolute_error)\n",
    "mean_absolute_percentage_error = abs(test_output['pred_Nikkei_next'] - test_output['Nikkei_next']).mean() / test_output['Nikkei_next'].mean()\n",
    "print('Mean absolute percentage error is ')\n",
    "print(mean_absolute_percentage_error)\n",
    "\n",
    "model_names.append(\"Hybrid Model\")\n",
    "model_maes.append(mean_absolute_error)\n",
    "model_mabs.append(mean_absolute_percentage_error)"
   ]
  },
  {
   "cell_type": "code",
   "execution_count": 25,
   "id": "4c346558",
   "metadata": {},
   "outputs": [
    {
     "name": "stdout",
     "output_type": "stream",
     "text": [
      "Hybrid Model R² score on training set (Nikkei): 0.9999\n",
      "Hybrid Model R² score on test set (Nikkei): 0.9997\n"
     ]
    }
   ],
   "source": [
    "from sklearn.metrics import r2_score\n",
    "\n",
    "# Predict hybrid values on training set\n",
    "train_hybrid_pred_nk = model_nk.predict(X_train_nk) + rf_nk.predict(X_train_nk)\n",
    "hybrid_r2_train_nk = r2_score(y_train_nk, train_hybrid_pred_nk)\n",
    "print(f\"Hybrid Model R² score on training set (Nikkei): {hybrid_r2_train_nk:.4f}\")\n",
    "\n",
    "# Predict hybrid values on test set (y_pred_nk is already calculated)\n",
    "hybrid_r2_test_nk = r2_score(y_test_nk, y_pred_nk)\n",
    "print(f\"Hybrid Model R² score on test set (Nikkei): {hybrid_r2_test_nk:.4f}\")\n"
   ]
  },
  {
   "cell_type": "markdown",
   "id": "ec1f766d",
   "metadata": {},
   "source": [
    "# Hybrid for FTSE "
   ]
  },
  {
   "cell_type": "code",
   "execution_count": 26,
   "id": "c2c3b10c",
   "metadata": {},
   "outputs": [
    {
     "data": {
      "text/plain": [
       "LinearRegression()"
      ]
     },
     "execution_count": 26,
     "metadata": {},
     "output_type": "execute_result"
    },
    {
     "data": {
      "text/plain": [
       "0.9949807345866856"
      ]
     },
     "execution_count": 26,
     "metadata": {},
     "output_type": "execute_result"
    }
   ],
   "source": [
    "model_fs = LinearRegression(fit_intercept = True)\n",
    "model_fs.fit(X_train_fs, y_train_fs) \n",
    "\n",
    "# The following gives the R-square score\n",
    "model_fs.score(X_train_fs, y_train_fs) "
   ]
  },
  {
   "cell_type": "code",
   "execution_count": 27,
   "id": "81d1d75f",
   "metadata": {},
   "outputs": [],
   "source": [
    "training_residuals_fs = y_train_fs - model_fs.predict(X_train_fs)"
   ]
  },
  {
   "cell_type": "code",
   "execution_count": 28,
   "id": "55e2fecf",
   "metadata": {},
   "outputs": [],
   "source": [
    "rf_fs = RandomForestRegressor(random_state=50, min_samples_leaf = 3, max_features = \"sqrt\")\n",
    "\n",
    "rf_fs = rf_fs.fit(X_train_fs, training_residuals_fs) "
   ]
  },
  {
   "cell_type": "code",
   "execution_count": 29,
   "id": "7eddd9e0",
   "metadata": {},
   "outputs": [],
   "source": [
    "pred_residuals_fs = rf_fs.predict(X_test_fs)\n",
    "y_pred_fs = pred_residuals_fs + model_fs.predict(X_test_fs)"
   ]
  },
  {
   "cell_type": "code",
   "execution_count": 30,
   "id": "3aa6797a",
   "metadata": {},
   "outputs": [
    {
     "data": {
      "text/html": [
       "<div>\n",
       "<style scoped>\n",
       "    .dataframe tbody tr th:only-of-type {\n",
       "        vertical-align: middle;\n",
       "    }\n",
       "\n",
       "    .dataframe tbody tr th {\n",
       "        vertical-align: top;\n",
       "    }\n",
       "\n",
       "    .dataframe thead th {\n",
       "        text-align: right;\n",
       "    }\n",
       "</style>\n",
       "<table border=\"1\" class=\"dataframe\">\n",
       "  <thead>\n",
       "    <tr style=\"text-align: right;\">\n",
       "      <th></th>\n",
       "      <th>pred_FTSE_next</th>\n",
       "      <th>FTSE_next</th>\n",
       "    </tr>\n",
       "  </thead>\n",
       "  <tbody>\n",
       "    <tr>\n",
       "      <th>0</th>\n",
       "      <td>0.15</td>\n",
       "      <td>0.14</td>\n",
       "    </tr>\n",
       "    <tr>\n",
       "      <th>1</th>\n",
       "      <td>-0.16</td>\n",
       "      <td>-0.19</td>\n",
       "    </tr>\n",
       "    <tr>\n",
       "      <th>2</th>\n",
       "      <td>-0.25</td>\n",
       "      <td>-0.24</td>\n",
       "    </tr>\n",
       "    <tr>\n",
       "      <th>3</th>\n",
       "      <td>-0.14</td>\n",
       "      <td>-0.13</td>\n",
       "    </tr>\n",
       "    <tr>\n",
       "      <th>4</th>\n",
       "      <td>-0.05</td>\n",
       "      <td>-0.05</td>\n",
       "    </tr>\n",
       "  </tbody>\n",
       "</table>\n",
       "</div>"
      ],
      "text/plain": [
       "   pred_FTSE_next  FTSE_next\n",
       "0            0.15       0.14\n",
       "1           -0.16      -0.19\n",
       "2           -0.25      -0.24\n",
       "3           -0.14      -0.13\n",
       "4           -0.05      -0.05"
      ]
     },
     "execution_count": 30,
     "metadata": {},
     "output_type": "execute_result"
    },
    {
     "name": "stdout",
     "output_type": "stream",
     "text": [
      "Mean absolute error is \n",
      "0.006644434121253117\n",
      "Mean absolute percentage error is \n",
      "-5.651069329802366\n"
     ]
    }
   ],
   "source": [
    "test_output = pd.DataFrame(y_pred_fs, index = X_test_fs.index, columns = ['pred_FTSE_next'])\n",
    "test_output = test_output.merge(y_test_fs, left_index = True, right_index = True)\n",
    "test_output.head()\n",
    "mean_absolute_error = abs(test_output['pred_FTSE_next'] - test_output['FTSE_next']).mean()\n",
    "print('Mean absolute error is ')\n",
    "print(mean_absolute_error)\n",
    "mean_absolute_percentage_error = abs(test_output['pred_FTSE_next'] - test_output['FTSE_next']).mean() / test_output['FTSE_next'].mean()\n",
    "print('Mean absolute percentage error is ')\n",
    "print(mean_absolute_percentage_error)\n",
    "\n",
    "model_names.append(\"Gradient Boosting Regressor\")\n",
    "model_maes.append(mean_absolute_error)\n",
    "model_mabs.append(mean_absolute_percentage_error)"
   ]
  },
  {
   "cell_type": "code",
   "execution_count": 31,
   "id": "6bb72426",
   "metadata": {},
   "outputs": [
    {
     "name": "stdout",
     "output_type": "stream",
     "text": [
      "Hybrid Model R² score on training set (FTSE): 0.9999\n",
      "Hybrid Model R² score on test set (FTSE): 0.9998\n"
     ]
    }
   ],
   "source": [
    "from sklearn.metrics import r2_score\n",
    "\n",
    "# Predict hybrid values on training set\n",
    "train_hybrid_pred_fs = model_fs.predict(X_train_fs) + rf_fs.predict(X_train_fs)\n",
    "hybrid_r2_train_fs = r2_score(y_train_fs, train_hybrid_pred_fs)\n",
    "print(f\"Hybrid Model R² score on training set (FTSE): {hybrid_r2_train_fs:.4f}\")\n",
    "\n",
    "# Predict hybrid values on test set\n",
    "hybrid_r2_test_fs = r2_score(y_test_fs, y_pred_fs)\n",
    "print(f\"Hybrid Model R² score on test set (FTSE): {hybrid_r2_test_fs:.4f}\")\n",
    "\n"
   ]
  },
  {
   "cell_type": "markdown",
   "id": "ff3b0e7d",
   "metadata": {},
   "source": [
    "# Hybrid for DAX"
   ]
  },
  {
   "cell_type": "code",
   "execution_count": 32,
   "id": "5520515a",
   "metadata": {},
   "outputs": [
    {
     "data": {
      "text/plain": [
       "LinearRegression()"
      ]
     },
     "execution_count": 32,
     "metadata": {},
     "output_type": "execute_result"
    },
    {
     "data": {
      "text/plain": [
       "0.9980306172287206"
      ]
     },
     "execution_count": 32,
     "metadata": {},
     "output_type": "execute_result"
    }
   ],
   "source": [
    "model_dx = LinearRegression(fit_intercept = True)\n",
    "model_dx.fit(X_train_dx, y_train_dx) \n",
    "\n",
    "# The following gives the R-square score\n",
    "model_dx.score(X_train_dx, y_train_dx) "
   ]
  },
  {
   "cell_type": "code",
   "execution_count": 33,
   "id": "98e51457",
   "metadata": {},
   "outputs": [],
   "source": [
    "training_residuals_dx = y_train_dx - model_dx.predict(X_train_dx)"
   ]
  },
  {
   "cell_type": "code",
   "execution_count": 34,
   "id": "e5faf008",
   "metadata": {},
   "outputs": [],
   "source": [
    "rf_dx = RandomForestRegressor(random_state=50, min_samples_leaf = 3, max_features = \"sqrt\")\n",
    "\n",
    "rf_dx = rf_dx.fit(X_train_dx, training_residuals_dx) "
   ]
  },
  {
   "cell_type": "code",
   "execution_count": 35,
   "id": "cbcf62ea",
   "metadata": {},
   "outputs": [],
   "source": [
    "pred_residuals_dx = rf_dx.predict(X_test_dx)\n",
    "y_pred_dx = pred_residuals_dx + model_dx.predict(X_test_dx)"
   ]
  },
  {
   "cell_type": "code",
   "execution_count": 36,
   "id": "dade287c",
   "metadata": {},
   "outputs": [
    {
     "data": {
      "text/html": [
       "<div>\n",
       "<style scoped>\n",
       "    .dataframe tbody tr th:only-of-type {\n",
       "        vertical-align: middle;\n",
       "    }\n",
       "\n",
       "    .dataframe tbody tr th {\n",
       "        vertical-align: top;\n",
       "    }\n",
       "\n",
       "    .dataframe thead th {\n",
       "        text-align: right;\n",
       "    }\n",
       "</style>\n",
       "<table border=\"1\" class=\"dataframe\">\n",
       "  <thead>\n",
       "    <tr style=\"text-align: right;\">\n",
       "      <th></th>\n",
       "      <th>pred_DAX_next</th>\n",
       "      <th>DAX_next</th>\n",
       "    </tr>\n",
       "  </thead>\n",
       "  <tbody>\n",
       "    <tr>\n",
       "      <th>0</th>\n",
       "      <td>-1.06</td>\n",
       "      <td>-1.06</td>\n",
       "    </tr>\n",
       "    <tr>\n",
       "      <th>1</th>\n",
       "      <td>-1.16</td>\n",
       "      <td>-1.15</td>\n",
       "    </tr>\n",
       "    <tr>\n",
       "      <th>2</th>\n",
       "      <td>-1.22</td>\n",
       "      <td>-1.22</td>\n",
       "    </tr>\n",
       "    <tr>\n",
       "      <th>3</th>\n",
       "      <td>-1.18</td>\n",
       "      <td>-1.18</td>\n",
       "    </tr>\n",
       "    <tr>\n",
       "      <th>4</th>\n",
       "      <td>-1.14</td>\n",
       "      <td>-1.14</td>\n",
       "    </tr>\n",
       "  </tbody>\n",
       "</table>\n",
       "</div>"
      ],
      "text/plain": [
       "   pred_DAX_next  DAX_next\n",
       "0          -1.06     -1.06\n",
       "1          -1.16     -1.15\n",
       "2          -1.22     -1.22\n",
       "3          -1.18     -1.18\n",
       "4          -1.14     -1.14"
      ]
     },
     "execution_count": 36,
     "metadata": {},
     "output_type": "execute_result"
    },
    {
     "name": "stdout",
     "output_type": "stream",
     "text": [
      "Mean absolute error is \n",
      "0.004154191720627976\n",
      "Mean absolute percentage error is \n",
      "0.4843725032052141\n"
     ]
    }
   ],
   "source": [
    "test_output = pd.DataFrame(y_pred_dx, index = X_test_dx.index, columns = ['pred_DAX_next'])\n",
    "test_output = test_output.merge(y_test_dx, left_index = True, right_index = True)\n",
    "test_output.head()\n",
    "mean_absolute_error = abs(test_output['pred_DAX_next'] - test_output['DAX_next']).mean()\n",
    "print('Mean absolute error is ')\n",
    "print(mean_absolute_error)\n",
    "mean_absolute_percentage_error = abs(test_output['pred_DAX_next'] - test_output['DAX_next']).mean() / test_output['DAX_next'].mean()\n",
    "print('Mean absolute percentage error is ')\n",
    "print(mean_absolute_percentage_error)\n",
    "\n",
    "model_names.append(\"Hybrid Model DAX\")\n",
    "model_maes.append(mean_absolute_error)\n",
    "model_mabs.append(mean_absolute_percentage_error)"
   ]
  },
  {
   "cell_type": "code",
   "execution_count": 37,
   "id": "576658a3",
   "metadata": {},
   "outputs": [
    {
     "name": "stdout",
     "output_type": "stream",
     "text": [
      "Hybrid Model R² score on training set (DAX): 0.9999\n",
      "Hybrid Model R² score on test set (DAX): 0.9999\n"
     ]
    }
   ],
   "source": [
    "from sklearn.metrics import r2_score\n",
    "\n",
    "# Predict hybrid values on training set\n",
    "train_hybrid_pred_dx = model_dx.predict(X_train_dx) + rf_dx.predict(X_train_dx)\n",
    "hybrid_r2_train_dx = r2_score(y_train_dx, train_hybrid_pred_dx)\n",
    "print(f\"Hybrid Model R² score on training set (DAX): {hybrid_r2_train_dx:.4f}\")\n",
    "\n",
    "# Predict hybrid values on test set\n",
    "hybrid_r2_test_dx = r2_score(y_test_dx, y_pred_dx)\n",
    "print(f\"Hybrid Model R² score on test set (DAX): {hybrid_r2_test_dx:.4f}\")\n"
   ]
  },
  {
   "cell_type": "code",
   "execution_count": 44,
   "id": "24709b2e",
   "metadata": {
    "scrolled": false
   },
   "outputs": [
    {
     "name": "stdout",
     "output_type": "stream",
     "text": [
      "Predicted S&P500 for 2025-04-23 = 5591.74\n"
     ]
    }
   ],
   "source": [
    "import datetime\n",
    "import pandas as pd\n",
    "\n",
    "# Step 1: Get full feature list model was trained on\n",
    "required_features = model.feature_names_in_\n",
    "\n",
    "# Step 2: Get last row\n",
    "last_known = data_set.iloc[-1].copy()\n",
    "\n",
    "# Step 3: Generate day_of_week features\n",
    "future_date = pd.to_datetime(datetime.date.today()) + pd.Timedelta(days=1)\n",
    "dow = future_date.weekday()\n",
    "dow_features = {f'day_of_week_{i}': int(i == dow) for i in range(5)}\n",
    "\n",
    "# Step 4: Prepare dictionary for all 25 features expected by the model\n",
    "input_dict = {}\n",
    "for col in required_features:\n",
    "    if col in dow_features:\n",
    "        input_dict[col] = dow_features[col]\n",
    "    else:\n",
    "        input_dict[col] = last_known[col]\n",
    "\n",
    "# Step 5: Predict\n",
    "input_df = pd.DataFrame([input_dict])[required_features]\n",
    "base_pred = model.predict(input_df)[0]\n",
    "residual_pred = rf.predict(input_df)[0]\n",
    "hybrid_pred = base_pred + residual_pred\n",
    "\n",
    "# Step 6: Output\n",
    "print(f\"Predicted S&P500 for {future_date.date()} = {hybrid_pred:.2f}\")\n"
   ]
  },
  {
   "cell_type": "code",
   "execution_count": null,
   "id": "68829471",
   "metadata": {},
   "outputs": [],
   "source": []
  },
  {
   "cell_type": "code",
   "execution_count": null,
   "id": "63a6558c",
   "metadata": {},
   "outputs": [],
   "source": []
  },
  {
   "cell_type": "code",
   "execution_count": null,
   "id": "64ea224d",
   "metadata": {},
   "outputs": [],
   "source": []
  },
  {
   "cell_type": "code",
   "execution_count": null,
   "id": "50552891",
   "metadata": {},
   "outputs": [],
   "source": []
  },
  {
   "cell_type": "code",
   "execution_count": null,
   "id": "1d1b1f87",
   "metadata": {},
   "outputs": [],
   "source": []
  },
  {
   "cell_type": "code",
   "execution_count": null,
   "id": "555609a1",
   "metadata": {},
   "outputs": [],
   "source": []
  }
 ],
 "metadata": {
  "kernelspec": {
   "display_name": "Python 3 (ipykernel)",
   "language": "python",
   "name": "python3"
  },
  "language_info": {
   "codemirror_mode": {
    "name": "ipython",
    "version": 3
   },
   "file_extension": ".py",
   "mimetype": "text/x-python",
   "name": "python",
   "nbconvert_exporter": "python",
   "pygments_lexer": "ipython3",
   "version": "3.9.12"
  }
 },
 "nbformat": 4,
 "nbformat_minor": 5
}
