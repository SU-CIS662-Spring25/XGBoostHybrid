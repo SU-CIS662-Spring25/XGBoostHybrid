{
 "cells": [
  {
   "cell_type": "code",
   "execution_count": 1,
   "id": "e540ef62",
   "metadata": {},
   "outputs": [
    {
     "ename": "RuntimeError",
     "evalue": "module was compiled against NumPy C-API version 0x10 (NumPy 1.23) but the running NumPy has C-API version 0xf. Check the section C-API incompatibility at the Troubleshooting ImportError section at https://numpy.org/devdocs/user/troubleshooting-importerror.html#c-api-incompatibility for indications on how to solve this problem.",
     "output_type": "error",
     "traceback": [
      "\u001b[1;31m---------------------------------------------------------------------------\u001b[0m",
      "\u001b[1;31mRuntimeError\u001b[0m                              Traceback (most recent call last)",
      "\u001b[1;31mRuntimeError\u001b[0m: module was compiled against NumPy C-API version 0x10 (NumPy 1.23) but the running NumPy has C-API version 0xf. Check the section C-API incompatibility at the Troubleshooting ImportError section at https://numpy.org/devdocs/user/troubleshooting-importerror.html#c-api-incompatibility for indications on how to solve this problem."
     ]
    }
   ],
   "source": [
    "# Generic inputs for most ML tasks\n",
    "import pandas as pd\n",
    "import numpy as np\n",
    "import matplotlib.pyplot as plt\n",
    "from sklearn.model_selection import train_test_split\n",
    "from sklearn.linear_model import LinearRegression\n",
    "from sklearn.linear_model import Ridge\n",
    "from sklearn.linear_model import Lasso\n",
    "\n",
    "from sklearn import tree\n",
    "from sklearn.tree import DecisionTreeClassifier\n",
    "from sklearn.tree import DecisionTreeRegressor\n",
    "from sklearn.ensemble import BaggingRegressor\n",
    "from sklearn.ensemble import RandomForestRegressor\n",
    "from sklearn.ensemble import GradientBoostingRegressor\n",
    "# from sklearn.ensemble import HistGradientBoostingRegressor\n",
    "import xgboost as xgb\n",
    "\n",
    "pd.options.display.float_format = '{:,.2f}'.format\n",
    "\n",
    "# setup interactive notebook mode\n",
    "from IPython.core.interactiveshell import InteractiveShell\n",
    "InteractiveShell.ast_node_interactivity = \"all\"\n",
    "\n",
    "from IPython.display import display, HTML\n",
    "\n",
    "# Initialize lists to collect model performance\n",
    "model_names = []\n",
    "model_maes = []\n",
    "model_mabs = []"
   ]
  },
  {
   "cell_type": "markdown",
   "id": "55ab7652",
   "metadata": {},
   "source": [
    "# Read, pre-process and visualize data"
   ]
  },
  {
   "cell_type": "code",
   "execution_count": 2,
   "id": "c64881c8",
   "metadata": {},
   "outputs": [
    {
     "data": {
      "text/html": [
       "<div>\n",
       "<style scoped>\n",
       "    .dataframe tbody tr th:only-of-type {\n",
       "        vertical-align: middle;\n",
       "    }\n",
       "\n",
       "    .dataframe tbody tr th {\n",
       "        vertical-align: top;\n",
       "    }\n",
       "\n",
       "    .dataframe thead th {\n",
       "        text-align: right;\n",
       "    }\n",
       "</style>\n",
       "<table border=\"1\" class=\"dataframe\">\n",
       "  <thead>\n",
       "    <tr style=\"text-align: right;\">\n",
       "      <th></th>\n",
       "      <th>Date</th>\n",
       "      <th>spx</th>\n",
       "      <th>dax</th>\n",
       "      <th>ftse</th>\n",
       "      <th>nikkei</th>\n",
       "    </tr>\n",
       "  </thead>\n",
       "  <tbody>\n",
       "    <tr>\n",
       "      <th>0</th>\n",
       "      <td>1994-01-07</td>\n",
       "      <td>469.90</td>\n",
       "      <td>2,224.95</td>\n",
       "      <td>3,446.00</td>\n",
       "      <td>18,124.01</td>\n",
       "    </tr>\n",
       "    <tr>\n",
       "      <th>1</th>\n",
       "      <td>1994-01-10</td>\n",
       "      <td>475.27</td>\n",
       "      <td>2,225.00</td>\n",
       "      <td>3,440.60</td>\n",
       "      <td>18,443.44</td>\n",
       "    </tr>\n",
       "    <tr>\n",
       "      <th>2</th>\n",
       "      <td>1994-01-11</td>\n",
       "      <td>474.13</td>\n",
       "      <td>2,228.10</td>\n",
       "      <td>3,413.80</td>\n",
       "      <td>18,485.25</td>\n",
       "    </tr>\n",
       "    <tr>\n",
       "      <th>3</th>\n",
       "      <td>1994-01-12</td>\n",
       "      <td>474.17</td>\n",
       "      <td>2,182.06</td>\n",
       "      <td>3,372.00</td>\n",
       "      <td>18,793.88</td>\n",
       "    </tr>\n",
       "    <tr>\n",
       "      <th>4</th>\n",
       "      <td>1994-01-13</td>\n",
       "      <td>472.47</td>\n",
       "      <td>2,142.37</td>\n",
       "      <td>3,360.00</td>\n",
       "      <td>18,577.26</td>\n",
       "    </tr>\n",
       "  </tbody>\n",
       "</table>\n",
       "</div>"
      ],
      "text/plain": [
       "         Date    spx      dax     ftse    nikkei\n",
       "0  1994-01-07 469.90 2,224.95 3,446.00 18,124.01\n",
       "1  1994-01-10 475.27 2,225.00 3,440.60 18,443.44\n",
       "2  1994-01-11 474.13 2,228.10 3,413.80 18,485.25\n",
       "3  1994-01-12 474.17 2,182.06 3,372.00 18,793.88\n",
       "4  1994-01-13 472.47 2,142.37 3,360.00 18,577.26"
      ]
     },
     "execution_count": 2,
     "metadata": {},
     "output_type": "execute_result"
    }
   ],
   "source": [
    "data_set = pd.read_csv('Index closing price from 1994 to 2021.csv')\n",
    "data_set.head()"
   ]
  },
  {
   "cell_type": "code",
   "execution_count": 3,
   "id": "3570ddaf",
   "metadata": {},
   "outputs": [
    {
     "data": {
      "text/plain": [
       "7255"
      ]
     },
     "execution_count": 3,
     "metadata": {},
     "output_type": "execute_result"
    },
    {
     "data": {
      "text/plain": [
       "Date      0\n",
       "spx       0\n",
       "dax       0\n",
       "ftse      0\n",
       "nikkei    0\n",
       "dtype: int64"
      ]
     },
     "execution_count": 3,
     "metadata": {},
     "output_type": "execute_result"
    },
    {
     "data": {
      "text/plain": [
       "Date       object\n",
       "spx       float64\n",
       "dax       float64\n",
       "ftse      float64\n",
       "nikkei    float64\n",
       "dtype: object"
      ]
     },
     "execution_count": 3,
     "metadata": {},
     "output_type": "execute_result"
    }
   ],
   "source": [
    "len(data_set)\n",
    "data_set.isna().sum()\n",
    "data_set.dtypes"
   ]
  },
  {
   "cell_type": "code",
   "execution_count": 4,
   "id": "99397fc7",
   "metadata": {
    "scrolled": false
   },
   "outputs": [
    {
     "data": {
      "text/plain": [
       "Index(['Date', 'spx', 'dax', 'ftse', 'nikkei'], dtype='object')"
      ]
     },
     "execution_count": 4,
     "metadata": {},
     "output_type": "execute_result"
    },
    {
     "data": {
      "text/html": [
       "<div>\n",
       "<style scoped>\n",
       "    .dataframe tbody tr th:only-of-type {\n",
       "        vertical-align: middle;\n",
       "    }\n",
       "\n",
       "    .dataframe tbody tr th {\n",
       "        vertical-align: top;\n",
       "    }\n",
       "\n",
       "    .dataframe thead th {\n",
       "        text-align: right;\n",
       "    }\n",
       "</style>\n",
       "<table border=\"1\" class=\"dataframe\">\n",
       "  <thead>\n",
       "    <tr style=\"text-align: right;\">\n",
       "      <th></th>\n",
       "      <th>Date</th>\n",
       "      <th>spx</th>\n",
       "      <th>dax</th>\n",
       "      <th>ftse</th>\n",
       "      <th>nikkei</th>\n",
       "    </tr>\n",
       "  </thead>\n",
       "  <tbody>\n",
       "    <tr>\n",
       "      <th>7250</th>\n",
       "      <td>1634860800</td>\n",
       "      <td>4,544.90</td>\n",
       "      <td>15,542.98</td>\n",
       "      <td>7,204.60</td>\n",
       "      <td>28,804.85</td>\n",
       "    </tr>\n",
       "    <tr>\n",
       "      <th>7251</th>\n",
       "      <td>1635120000</td>\n",
       "      <td>4,566.48</td>\n",
       "      <td>15,599.23</td>\n",
       "      <td>7,222.80</td>\n",
       "      <td>28,600.41</td>\n",
       "    </tr>\n",
       "    <tr>\n",
       "      <th>7252</th>\n",
       "      <td>1635206400</td>\n",
       "      <td>4,574.79</td>\n",
       "      <td>15,757.06</td>\n",
       "      <td>7,277.60</td>\n",
       "      <td>29,106.01</td>\n",
       "    </tr>\n",
       "    <tr>\n",
       "      <th>7253</th>\n",
       "      <td>1635292800</td>\n",
       "      <td>4,551.68</td>\n",
       "      <td>15,705.81</td>\n",
       "      <td>7,253.30</td>\n",
       "      <td>29,098.24</td>\n",
       "    </tr>\n",
       "    <tr>\n",
       "      <th>7254</th>\n",
       "      <td>1635379200</td>\n",
       "      <td>4,596.42</td>\n",
       "      <td>15,696.33</td>\n",
       "      <td>7,249.50</td>\n",
       "      <td>28,820.09</td>\n",
       "    </tr>\n",
       "  </tbody>\n",
       "</table>\n",
       "</div>"
      ],
      "text/plain": [
       "            Date      spx       dax     ftse    nikkei\n",
       "7250  1634860800 4,544.90 15,542.98 7,204.60 28,804.85\n",
       "7251  1635120000 4,566.48 15,599.23 7,222.80 28,600.41\n",
       "7252  1635206400 4,574.79 15,757.06 7,277.60 29,106.01\n",
       "7253  1635292800 4,551.68 15,705.81 7,253.30 29,098.24\n",
       "7254  1635379200 4,596.42 15,696.33 7,249.50 28,820.09"
      ]
     },
     "execution_count": 4,
     "metadata": {},
     "output_type": "execute_result"
    }
   ],
   "source": [
    "data_set.columns\n",
    "\n",
    "# Step 1: Ensure the 'Date' column is in datetime format\n",
    "data_set['Date'] = pd.to_datetime(data_set['Date'])\n",
    "\n",
    "# Step 2: Convert datetime to integer timestamp (in seconds)\n",
    "data_set['Date'] = data_set['Date'].astype(np.int64) // 10**9\n",
    "\n",
    "data_set.tail()"
   ]
  },
  {
   "cell_type": "code",
   "execution_count": 5,
   "id": "df584e06",
   "metadata": {},
   "outputs": [
    {
     "data": {
      "text/html": [
       "<div>\n",
       "<style scoped>\n",
       "    .dataframe tbody tr th:only-of-type {\n",
       "        vertical-align: middle;\n",
       "    }\n",
       "\n",
       "    .dataframe tbody tr th {\n",
       "        vertical-align: top;\n",
       "    }\n",
       "\n",
       "    .dataframe thead th {\n",
       "        text-align: right;\n",
       "    }\n",
       "</style>\n",
       "<table border=\"1\" class=\"dataframe\">\n",
       "  <thead>\n",
       "    <tr style=\"text-align: right;\">\n",
       "      <th></th>\n",
       "      <th>Date</th>\n",
       "      <th>spx</th>\n",
       "      <th>dax</th>\n",
       "      <th>ftse</th>\n",
       "      <th>nikkei</th>\n",
       "      <th>spx_next_day</th>\n",
       "    </tr>\n",
       "  </thead>\n",
       "  <tbody>\n",
       "    <tr>\n",
       "      <th>0</th>\n",
       "      <td>757900800</td>\n",
       "      <td>469.90</td>\n",
       "      <td>2,224.95</td>\n",
       "      <td>3,446.00</td>\n",
       "      <td>18,124.01</td>\n",
       "      <td>475.27</td>\n",
       "    </tr>\n",
       "    <tr>\n",
       "      <th>1</th>\n",
       "      <td>758160000</td>\n",
       "      <td>475.27</td>\n",
       "      <td>2,225.00</td>\n",
       "      <td>3,440.60</td>\n",
       "      <td>18,443.44</td>\n",
       "      <td>474.13</td>\n",
       "    </tr>\n",
       "    <tr>\n",
       "      <th>2</th>\n",
       "      <td>758246400</td>\n",
       "      <td>474.13</td>\n",
       "      <td>2,228.10</td>\n",
       "      <td>3,413.80</td>\n",
       "      <td>18,485.25</td>\n",
       "      <td>474.17</td>\n",
       "    </tr>\n",
       "    <tr>\n",
       "      <th>3</th>\n",
       "      <td>758332800</td>\n",
       "      <td>474.17</td>\n",
       "      <td>2,182.06</td>\n",
       "      <td>3,372.00</td>\n",
       "      <td>18,793.88</td>\n",
       "      <td>472.47</td>\n",
       "    </tr>\n",
       "    <tr>\n",
       "      <th>4</th>\n",
       "      <td>758419200</td>\n",
       "      <td>472.47</td>\n",
       "      <td>2,142.37</td>\n",
       "      <td>3,360.00</td>\n",
       "      <td>18,577.26</td>\n",
       "      <td>474.91</td>\n",
       "    </tr>\n",
       "  </tbody>\n",
       "</table>\n",
       "</div>"
      ],
      "text/plain": [
       "        Date    spx      dax     ftse    nikkei  spx_next_day\n",
       "0  757900800 469.90 2,224.95 3,446.00 18,124.01        475.27\n",
       "1  758160000 475.27 2,225.00 3,440.60 18,443.44        474.13\n",
       "2  758246400 474.13 2,228.10 3,413.80 18,485.25        474.17\n",
       "3  758332800 474.17 2,182.06 3,372.00 18,793.88        472.47\n",
       "4  758419200 472.47 2,142.37 3,360.00 18,577.26        474.91"
      ]
     },
     "execution_count": 5,
     "metadata": {},
     "output_type": "execute_result"
    }
   ],
   "source": [
    "data_set['spx_next_day'] = data_set['spx'].shift(-1)\n",
    "data_set = data_set.dropna()\n",
    "data_set.head ()"
   ]
  },
  {
   "cell_type": "code",
   "execution_count": 6,
   "id": "280e82d6",
   "metadata": {},
   "outputs": [
    {
     "data": {
      "text/html": [
       "<div>\n",
       "<style scoped>\n",
       "    .dataframe tbody tr th:only-of-type {\n",
       "        vertical-align: middle;\n",
       "    }\n",
       "\n",
       "    .dataframe tbody tr th {\n",
       "        vertical-align: top;\n",
       "    }\n",
       "\n",
       "    .dataframe thead th {\n",
       "        text-align: right;\n",
       "    }\n",
       "</style>\n",
       "<table border=\"1\" class=\"dataframe\">\n",
       "  <thead>\n",
       "    <tr style=\"text-align: right;\">\n",
       "      <th></th>\n",
       "      <th>Date</th>\n",
       "      <th>dax</th>\n",
       "      <th>ftse</th>\n",
       "      <th>nikkei</th>\n",
       "    </tr>\n",
       "  </thead>\n",
       "  <tbody>\n",
       "    <tr>\n",
       "      <th>2168</th>\n",
       "      <td>1020211200</td>\n",
       "      <td>5,041.20</td>\n",
       "      <td>5,125.50</td>\n",
       "      <td>11,552.79</td>\n",
       "    </tr>\n",
       "    <tr>\n",
       "      <th>403</th>\n",
       "      <td>806716800</td>\n",
       "      <td>2,237.73</td>\n",
       "      <td>3,454.30</td>\n",
       "      <td>16,387.25</td>\n",
       "    </tr>\n",
       "    <tr>\n",
       "      <th>5834</th>\n",
       "      <td>1463616000</td>\n",
       "      <td>9,795.89</td>\n",
       "      <td>6,053.40</td>\n",
       "      <td>16,646.66</td>\n",
       "    </tr>\n",
       "    <tr>\n",
       "      <th>100</th>\n",
       "      <td>769996800</td>\n",
       "      <td>2,112.80</td>\n",
       "      <td>2,966.40</td>\n",
       "      <td>20,777.16</td>\n",
       "    </tr>\n",
       "    <tr>\n",
       "      <th>1452</th>\n",
       "      <td>933638400</td>\n",
       "      <td>5,107.68</td>\n",
       "      <td>6,250.70</td>\n",
       "      <td>17,969.93</td>\n",
       "    </tr>\n",
       "    <tr>\n",
       "      <th>...</th>\n",
       "      <td>...</td>\n",
       "      <td>...</td>\n",
       "      <td>...</td>\n",
       "      <td>...</td>\n",
       "    </tr>\n",
       "    <tr>\n",
       "      <th>2014</th>\n",
       "      <td>1001548800</td>\n",
       "      <td>4,184.50</td>\n",
       "      <td>4,763.60</td>\n",
       "      <td>9,696.53</td>\n",
       "    </tr>\n",
       "    <tr>\n",
       "      <th>6253</th>\n",
       "      <td>1514332800</td>\n",
       "      <td>13,070.02</td>\n",
       "      <td>7,620.70</td>\n",
       "      <td>22,911.21</td>\n",
       "    </tr>\n",
       "    <tr>\n",
       "      <th>1931</th>\n",
       "      <td>991612800</td>\n",
       "      <td>6,177.74</td>\n",
       "      <td>5,856.50</td>\n",
       "      <td>13,312.35</td>\n",
       "    </tr>\n",
       "    <tr>\n",
       "      <th>5600</th>\n",
       "      <td>1435276800</td>\n",
       "      <td>11,492.43</td>\n",
       "      <td>6,753.70</td>\n",
       "      <td>20,706.15</td>\n",
       "    </tr>\n",
       "    <tr>\n",
       "      <th>5808</th>\n",
       "      <td>1460505600</td>\n",
       "      <td>10,026.10</td>\n",
       "      <td>6,362.90</td>\n",
       "      <td>16,381.22</td>\n",
       "    </tr>\n",
       "  </tbody>\n",
       "</table>\n",
       "<p>5803 rows × 4 columns</p>\n",
       "</div>"
      ],
      "text/plain": [
       "            Date       dax     ftse    nikkei\n",
       "2168  1020211200  5,041.20 5,125.50 11,552.79\n",
       "403    806716800  2,237.73 3,454.30 16,387.25\n",
       "5834  1463616000  9,795.89 6,053.40 16,646.66\n",
       "100    769996800  2,112.80 2,966.40 20,777.16\n",
       "1452   933638400  5,107.68 6,250.70 17,969.93\n",
       "...          ...       ...      ...       ...\n",
       "2014  1001548800  4,184.50 4,763.60  9,696.53\n",
       "6253  1514332800 13,070.02 7,620.70 22,911.21\n",
       "1931   991612800  6,177.74 5,856.50 13,312.35\n",
       "5600  1435276800 11,492.43 6,753.70 20,706.15\n",
       "5808  1460505600 10,026.10 6,362.90 16,381.22\n",
       "\n",
       "[5803 rows x 4 columns]"
      ]
     },
     "execution_count": 6,
     "metadata": {},
     "output_type": "execute_result"
    },
    {
     "data": {
      "text/html": [
       "<div>\n",
       "<style scoped>\n",
       "    .dataframe tbody tr th:only-of-type {\n",
       "        vertical-align: middle;\n",
       "    }\n",
       "\n",
       "    .dataframe tbody tr th {\n",
       "        vertical-align: top;\n",
       "    }\n",
       "\n",
       "    .dataframe thead th {\n",
       "        text-align: right;\n",
       "    }\n",
       "</style>\n",
       "<table border=\"1\" class=\"dataframe\">\n",
       "  <thead>\n",
       "    <tr style=\"text-align: right;\">\n",
       "      <th></th>\n",
       "      <th>Date</th>\n",
       "      <th>dax</th>\n",
       "      <th>ftse</th>\n",
       "      <th>nikkei</th>\n",
       "    </tr>\n",
       "  </thead>\n",
       "  <tbody>\n",
       "    <tr>\n",
       "      <th>7066</th>\n",
       "      <td>1612742400</td>\n",
       "      <td>14,059.91</td>\n",
       "      <td>6,523.50</td>\n",
       "      <td>29,388.50</td>\n",
       "    </tr>\n",
       "    <tr>\n",
       "      <th>5467</th>\n",
       "      <td>1419292800</td>\n",
       "      <td>9,922.11</td>\n",
       "      <td>6,598.20</td>\n",
       "      <td>17,635.14</td>\n",
       "    </tr>\n",
       "    <tr>\n",
       "      <th>6232</th>\n",
       "      <td>1511827200</td>\n",
       "      <td>13,059.53</td>\n",
       "      <td>7,460.70</td>\n",
       "      <td>22,486.24</td>\n",
       "    </tr>\n",
       "    <tr>\n",
       "      <th>809</th>\n",
       "      <td>855792000</td>\n",
       "      <td>3,256.86</td>\n",
       "      <td>4,327.10</td>\n",
       "      <td>18,688.06</td>\n",
       "    </tr>\n",
       "    <tr>\n",
       "      <th>6800</th>\n",
       "      <td>1580428800</td>\n",
       "      <td>12,981.97</td>\n",
       "      <td>7,286.00</td>\n",
       "      <td>23,205.18</td>\n",
       "    </tr>\n",
       "    <tr>\n",
       "      <th>...</th>\n",
       "      <td>...</td>\n",
       "      <td>...</td>\n",
       "      <td>...</td>\n",
       "      <td>...</td>\n",
       "    </tr>\n",
       "    <tr>\n",
       "      <th>4113</th>\n",
       "      <td>1255478400</td>\n",
       "      <td>5,854.14</td>\n",
       "      <td>5,256.10</td>\n",
       "      <td>10,060.21</td>\n",
       "    </tr>\n",
       "    <tr>\n",
       "      <th>73</th>\n",
       "      <td>766800000</td>\n",
       "      <td>2,194.09</td>\n",
       "      <td>3,098.30</td>\n",
       "      <td>19,882.18</td>\n",
       "    </tr>\n",
       "    <tr>\n",
       "      <th>4750</th>\n",
       "      <td>1332460800</td>\n",
       "      <td>6,995.62</td>\n",
       "      <td>5,854.90</td>\n",
       "      <td>10,011.47</td>\n",
       "    </tr>\n",
       "    <tr>\n",
       "      <th>810</th>\n",
       "      <td>855878400</td>\n",
       "      <td>3,249.17</td>\n",
       "      <td>4,341.00</td>\n",
       "      <td>18,722.00</td>\n",
       "    </tr>\n",
       "    <tr>\n",
       "      <th>1438</th>\n",
       "      <td>931910400</td>\n",
       "      <td>5,610.89</td>\n",
       "      <td>6,473.10</td>\n",
       "      <td>18,357.86</td>\n",
       "    </tr>\n",
       "  </tbody>\n",
       "</table>\n",
       "<p>1451 rows × 4 columns</p>\n",
       "</div>"
      ],
      "text/plain": [
       "            Date       dax     ftse    nikkei\n",
       "7066  1612742400 14,059.91 6,523.50 29,388.50\n",
       "5467  1419292800  9,922.11 6,598.20 17,635.14\n",
       "6232  1511827200 13,059.53 7,460.70 22,486.24\n",
       "809    855792000  3,256.86 4,327.10 18,688.06\n",
       "6800  1580428800 12,981.97 7,286.00 23,205.18\n",
       "...          ...       ...      ...       ...\n",
       "4113  1255478400  5,854.14 5,256.10 10,060.21\n",
       "73     766800000  2,194.09 3,098.30 19,882.18\n",
       "4750  1332460800  6,995.62 5,854.90 10,011.47\n",
       "810    855878400  3,249.17 4,341.00 18,722.00\n",
       "1438   931910400  5,610.89 6,473.10 18,357.86\n",
       "\n",
       "[1451 rows x 4 columns]"
      ]
     },
     "execution_count": 6,
     "metadata": {},
     "output_type": "execute_result"
    },
    {
     "data": {
      "text/plain": [
       "2168   1,084.56\n",
       "403      565.22\n",
       "5834   2,052.32\n",
       "100      457.33\n",
       "1452   1,305.33\n",
       "         ...   \n",
       "2014   1,040.94\n",
       "6253   2,687.54\n",
       "1931   1,283.57\n",
       "5600   2,057.64\n",
       "5808   2,082.78\n",
       "Name: spx_next_day, Length: 5803, dtype: float64"
      ]
     },
     "execution_count": 6,
     "metadata": {},
     "output_type": "execute_result"
    },
    {
     "data": {
      "text/plain": [
       "7066   3,911.23\n",
       "5467   2,081.88\n",
       "6232   2,626.07\n",
       "809      808.48\n",
       "6800   3,248.92\n",
       "         ...   \n",
       "4113   1,096.56\n",
       "73       448.73\n",
       "4750   1,416.51\n",
       "810      808.48\n",
       "1438   1,409.62\n",
       "Name: spx_next_day, Length: 1451, dtype: float64"
      ]
     },
     "execution_count": 6,
     "metadata": {},
     "output_type": "execute_result"
    }
   ],
   "source": [
    "X_train, X_test, y_train, y_test = train_test_split(data_set.drop(columns = ['spx','spx_next_day']), data_set['spx_next_day'], test_size=0.2, random_state=50)\n",
    "## Removing the Date feature resulted in higher Mean Absolute Error (MAE) across all models\n",
    "X_train\n",
    "X_test\n",
    "y_train\n",
    "y_test"
   ]
  },
  {
   "cell_type": "markdown",
   "id": "9d422bca",
   "metadata": {},
   "source": [
    "# Decison tree\n"
   ]
  },
  {
   "cell_type": "code",
   "execution_count": 7,
   "id": "e7b21b98",
   "metadata": {},
   "outputs": [],
   "source": [
    "clf = DecisionTreeRegressor(random_state=50)\n",
    "\n",
    "clf = clf.fit(X_train, y_train) "
   ]
  },
  {
   "cell_type": "code",
   "execution_count": 8,
   "id": "1e80b198",
   "metadata": {},
   "outputs": [
    {
     "data": {
      "text/plain": [
       "Index(['Date', 'dax', 'ftse', 'nikkei'], dtype='object')"
      ]
     },
     "execution_count": 8,
     "metadata": {},
     "output_type": "execute_result"
    },
    {
     "data": {
      "text/plain": [
       "array([0.89420366, 0.02948057, 0.07197094, 0.00434483])"
      ]
     },
     "execution_count": 8,
     "metadata": {},
     "output_type": "execute_result"
    }
   ],
   "source": [
    "X_train.columns\n",
    "clf.feature_importances_"
   ]
  },
  {
   "cell_type": "code",
   "execution_count": 9,
   "id": "5f160e8a",
   "metadata": {},
   "outputs": [
    {
     "data": {
      "text/html": [
       "<div>\n",
       "<style scoped>\n",
       "    .dataframe tbody tr th:only-of-type {\n",
       "        vertical-align: middle;\n",
       "    }\n",
       "\n",
       "    .dataframe tbody tr th {\n",
       "        vertical-align: top;\n",
       "    }\n",
       "\n",
       "    .dataframe thead th {\n",
       "        text-align: right;\n",
       "    }\n",
       "</style>\n",
       "<table border=\"1\" class=\"dataframe\">\n",
       "  <thead>\n",
       "    <tr style=\"text-align: right;\">\n",
       "      <th></th>\n",
       "      <th>pred_spx_next_day</th>\n",
       "      <th>spx_next_day</th>\n",
       "    </tr>\n",
       "  </thead>\n",
       "  <tbody>\n",
       "    <tr>\n",
       "      <th>7066</th>\n",
       "      <td>3,934.83</td>\n",
       "      <td>3,911.23</td>\n",
       "    </tr>\n",
       "    <tr>\n",
       "      <th>5467</th>\n",
       "      <td>2,082.17</td>\n",
       "      <td>2,081.88</td>\n",
       "    </tr>\n",
       "    <tr>\n",
       "      <th>6232</th>\n",
       "      <td>2,647.58</td>\n",
       "      <td>2,626.07</td>\n",
       "    </tr>\n",
       "    <tr>\n",
       "      <th>809</th>\n",
       "      <td>802.77</td>\n",
       "      <td>808.48</td>\n",
       "    </tr>\n",
       "    <tr>\n",
       "      <th>6800</th>\n",
       "      <td>3,128.21</td>\n",
       "      <td>3,248.92</td>\n",
       "    </tr>\n",
       "  </tbody>\n",
       "</table>\n",
       "</div>"
      ],
      "text/plain": [
       "      pred_spx_next_day  spx_next_day\n",
       "7066           3,934.83      3,911.23\n",
       "5467           2,082.17      2,081.88\n",
       "6232           2,647.58      2,626.07\n",
       "809              802.77        808.48\n",
       "6800           3,128.21      3,248.92"
      ]
     },
     "execution_count": 9,
     "metadata": {},
     "output_type": "execute_result"
    },
    {
     "name": "stdout",
     "output_type": "stream",
     "text": [
      "Mean absolute error is \n",
      "16.907492450316933\n",
      "Mean absolute percentage error is \n",
      "0.010801955770984847\n"
     ]
    }
   ],
   "source": [
    "test_output = pd.DataFrame(clf.predict(X_test), index = X_test.index, columns = ['pred_spx_next_day'])\n",
    "test_output = test_output.merge(y_test, left_index = True, right_index = True)\n",
    "test_output.head()\n",
    "mean_absolute_error = abs(test_output['pred_spx_next_day'] - test_output['spx_next_day']).mean()\n",
    "print('Mean absolute error is ')\n",
    "print(mean_absolute_error)\n",
    "mean_absolute_percentage_error = abs(test_output['pred_spx_next_day'] - test_output['spx_next_day']).mean() / test_output['spx_next_day'].mean()\n",
    "print('Mean absolute percentage error is ')\n",
    "print(mean_absolute_percentage_error)\n",
    "\n",
    "model_names.append(\"Decision Tree\")\n",
    "model_maes.append(mean_absolute_error)\n",
    "model_mabs.append(mean_absolute_percentage_error)"
   ]
  },
  {
   "cell_type": "markdown",
   "id": "21b60116",
   "metadata": {},
   "source": [
    "## Bagging Regressor ## "
   ]
  },
  {
   "cell_type": "code",
   "execution_count": 10,
   "id": "6a9699be",
   "metadata": {},
   "outputs": [],
   "source": [
    "regr = BaggingRegressor(random_state=50, n_estimators = 200, max_samples = 1000)\n",
    "\n",
    "regr = regr.fit(X_train, y_train) "
   ]
  },
  {
   "cell_type": "code",
   "execution_count": 11,
   "id": "7598e234",
   "metadata": {},
   "outputs": [
    {
     "data": {
      "text/html": [
       "<div>\n",
       "<style scoped>\n",
       "    .dataframe tbody tr th:only-of-type {\n",
       "        vertical-align: middle;\n",
       "    }\n",
       "\n",
       "    .dataframe tbody tr th {\n",
       "        vertical-align: top;\n",
       "    }\n",
       "\n",
       "    .dataframe thead th {\n",
       "        text-align: right;\n",
       "    }\n",
       "</style>\n",
       "<table border=\"1\" class=\"dataframe\">\n",
       "  <thead>\n",
       "    <tr style=\"text-align: right;\">\n",
       "      <th></th>\n",
       "      <th>pred_spx_next_day</th>\n",
       "      <th>spx_next_day</th>\n",
       "    </tr>\n",
       "  </thead>\n",
       "  <tbody>\n",
       "    <tr>\n",
       "      <th>7066</th>\n",
       "      <td>3,877.19</td>\n",
       "      <td>3,911.23</td>\n",
       "    </tr>\n",
       "    <tr>\n",
       "      <th>5467</th>\n",
       "      <td>2,065.54</td>\n",
       "      <td>2,081.88</td>\n",
       "    </tr>\n",
       "    <tr>\n",
       "      <th>6232</th>\n",
       "      <td>2,617.79</td>\n",
       "      <td>2,626.07</td>\n",
       "    </tr>\n",
       "    <tr>\n",
       "      <th>809</th>\n",
       "      <td>797.91</td>\n",
       "      <td>808.48</td>\n",
       "    </tr>\n",
       "    <tr>\n",
       "      <th>6800</th>\n",
       "      <td>3,175.66</td>\n",
       "      <td>3,248.92</td>\n",
       "    </tr>\n",
       "  </tbody>\n",
       "</table>\n",
       "</div>"
      ],
      "text/plain": [
       "      pred_spx_next_day  spx_next_day\n",
       "7066           3,877.19      3,911.23\n",
       "5467           2,065.54      2,081.88\n",
       "6232           2,617.79      2,626.07\n",
       "809              797.91        808.48\n",
       "6800           3,175.66      3,248.92"
      ]
     },
     "execution_count": 11,
     "metadata": {},
     "output_type": "execute_result"
    },
    {
     "name": "stdout",
     "output_type": "stream",
     "text": [
      "Mean absolute error is \n",
      "16.26863821711899\n",
      "Mean absolute percentage error is \n",
      "0.010393800913522157\n"
     ]
    }
   ],
   "source": [
    "test_output = pd.DataFrame(regr.predict(X_test), index = X_test.index, columns = ['pred_spx_next_day'])\n",
    "test_output = test_output.merge(y_test, left_index = True, right_index = True)\n",
    "test_output.head()\n",
    "mean_absolute_error = abs(test_output['pred_spx_next_day'] - test_output['spx_next_day']).mean()\n",
    "print('Mean absolute error is ')\n",
    "print(mean_absolute_error)\n",
    "mean_absolute_percentage_error = abs(test_output['pred_spx_next_day'] - test_output['spx_next_day']).mean() / test_output['spx_next_day'].mean()\n",
    "print('Mean absolute percentage error is ')\n",
    "print(mean_absolute_percentage_error)\n",
    "\n",
    "model_names.append(\"Bagging Regressor\")\n",
    "model_maes.append(mean_absolute_error)\n",
    "model_mabs.append(mean_absolute_percentage_error)"
   ]
  },
  {
   "cell_type": "markdown",
   "id": "51327dc2",
   "metadata": {},
   "source": [
    "## Random Forest Regressor "
   ]
  },
  {
   "cell_type": "code",
   "execution_count": 12,
   "id": "628133a6",
   "metadata": {},
   "outputs": [],
   "source": [
    "rf = RandomForestRegressor(random_state=50, min_samples_leaf = 3, max_features = \"sqrt\")\n",
    "\n",
    "rf = rf.fit(X_train, y_train) \n"
   ]
  },
  {
   "cell_type": "code",
   "execution_count": 13,
   "id": "5b6b1dc8",
   "metadata": {},
   "outputs": [
    {
     "data": {
      "text/plain": [
       "Index(['Date', 'dax', 'ftse', 'nikkei'], dtype='object')"
      ]
     },
     "execution_count": 13,
     "metadata": {},
     "output_type": "execute_result"
    },
    {
     "data": {
      "text/plain": [
       "array([0.50536628, 0.32185065, 0.07935912, 0.09342395])"
      ]
     },
     "execution_count": 13,
     "metadata": {},
     "output_type": "execute_result"
    }
   ],
   "source": [
    "X_train.columns\n",
    "rf.feature_importances_"
   ]
  },
  {
   "cell_type": "code",
   "execution_count": 14,
   "id": "b48d974c",
   "metadata": {},
   "outputs": [
    {
     "data": {
      "text/html": [
       "<div>\n",
       "<style scoped>\n",
       "    .dataframe tbody tr th:only-of-type {\n",
       "        vertical-align: middle;\n",
       "    }\n",
       "\n",
       "    .dataframe tbody tr th {\n",
       "        vertical-align: top;\n",
       "    }\n",
       "\n",
       "    .dataframe thead th {\n",
       "        text-align: right;\n",
       "    }\n",
       "</style>\n",
       "<table border=\"1\" class=\"dataframe\">\n",
       "  <thead>\n",
       "    <tr style=\"text-align: right;\">\n",
       "      <th></th>\n",
       "      <th>pred_spx_next_day</th>\n",
       "      <th>spx_next_day</th>\n",
       "    </tr>\n",
       "  </thead>\n",
       "  <tbody>\n",
       "    <tr>\n",
       "      <th>7066</th>\n",
       "      <td>3,901.41</td>\n",
       "      <td>3,911.23</td>\n",
       "    </tr>\n",
       "    <tr>\n",
       "      <th>5467</th>\n",
       "      <td>2,077.91</td>\n",
       "      <td>2,081.88</td>\n",
       "    </tr>\n",
       "    <tr>\n",
       "      <th>6232</th>\n",
       "      <td>2,621.98</td>\n",
       "      <td>2,626.07</td>\n",
       "    </tr>\n",
       "    <tr>\n",
       "      <th>809</th>\n",
       "      <td>801.58</td>\n",
       "      <td>808.48</td>\n",
       "    </tr>\n",
       "    <tr>\n",
       "      <th>6800</th>\n",
       "      <td>3,188.96</td>\n",
       "      <td>3,248.92</td>\n",
       "    </tr>\n",
       "  </tbody>\n",
       "</table>\n",
       "</div>"
      ],
      "text/plain": [
       "      pred_spx_next_day  spx_next_day\n",
       "7066           3,901.41      3,911.23\n",
       "5467           2,077.91      2,081.88\n",
       "6232           2,621.98      2,626.07\n",
       "809              801.58        808.48\n",
       "6800           3,188.96      3,248.92"
      ]
     },
     "execution_count": 14,
     "metadata": {},
     "output_type": "execute_result"
    },
    {
     "name": "stdout",
     "output_type": "stream",
     "text": [
      "Mean absolute error is \n",
      "14.014519641069898\n",
      "Mean absolute percentage error is \n",
      "0.008953676706305301\n"
     ]
    }
   ],
   "source": [
    "test_output = pd.DataFrame(rf.predict(X_test), index = X_test.index, columns = ['pred_spx_next_day'])\n",
    "test_output = test_output.merge(y_test, left_index = True, right_index = True)\n",
    "test_output.head()\n",
    "mean_absolute_error = abs(test_output['pred_spx_next_day'] - test_output['spx_next_day']).mean()\n",
    "print('Mean absolute error is ')\n",
    "print(mean_absolute_error)\n",
    "mean_absolute_percentage_error = abs(test_output['pred_spx_next_day'] - test_output['spx_next_day']).mean() / test_output['spx_next_day'].mean()\n",
    "print('Mean absolute percentage error is ')\n",
    "print(mean_absolute_percentage_error)\n",
    "\n",
    "model_names.append(\"Random Forest Regressor\")\n",
    "model_maes.append(mean_absolute_error)\n",
    "model_mabs.append(mean_absolute_percentage_error)"
   ]
  },
  {
   "cell_type": "markdown",
   "id": "69f14b76",
   "metadata": {},
   "source": [
    "## Gradeint Boosting Regressor"
   ]
  },
  {
   "cell_type": "code",
   "execution_count": 15,
   "id": "47b50efb",
   "metadata": {},
   "outputs": [],
   "source": [
    "gb = GradientBoostingRegressor(random_state=50, min_samples_leaf = 2, max_depth = 4)\n",
    "\n",
    "gb = gb.fit(X_train, y_train) \n"
   ]
  },
  {
   "cell_type": "code",
   "execution_count": 16,
   "id": "dacef454",
   "metadata": {},
   "outputs": [
    {
     "data": {
      "text/plain": [
       "Index(['Date', 'dax', 'ftse', 'nikkei'], dtype='object')"
      ]
     },
     "execution_count": 16,
     "metadata": {},
     "output_type": "execute_result"
    },
    {
     "data": {
      "text/plain": [
       "array([0.77527885, 0.12920128, 0.0797666 , 0.01575327])"
      ]
     },
     "execution_count": 16,
     "metadata": {},
     "output_type": "execute_result"
    }
   ],
   "source": [
    "X_train.columns\n",
    "gb.feature_importances_"
   ]
  },
  {
   "cell_type": "code",
   "execution_count": 17,
   "id": "873bce22",
   "metadata": {},
   "outputs": [
    {
     "data": {
      "text/html": [
       "<div>\n",
       "<style scoped>\n",
       "    .dataframe tbody tr th:only-of-type {\n",
       "        vertical-align: middle;\n",
       "    }\n",
       "\n",
       "    .dataframe tbody tr th {\n",
       "        vertical-align: top;\n",
       "    }\n",
       "\n",
       "    .dataframe thead th {\n",
       "        text-align: right;\n",
       "    }\n",
       "</style>\n",
       "<table border=\"1\" class=\"dataframe\">\n",
       "  <thead>\n",
       "    <tr style=\"text-align: right;\">\n",
       "      <th></th>\n",
       "      <th>pred_spx_next_day</th>\n",
       "      <th>spx_next_day</th>\n",
       "    </tr>\n",
       "  </thead>\n",
       "  <tbody>\n",
       "    <tr>\n",
       "      <th>7066</th>\n",
       "      <td>3,891.20</td>\n",
       "      <td>3,911.23</td>\n",
       "    </tr>\n",
       "    <tr>\n",
       "      <th>5467</th>\n",
       "      <td>2,041.46</td>\n",
       "      <td>2,081.88</td>\n",
       "    </tr>\n",
       "    <tr>\n",
       "      <th>6232</th>\n",
       "      <td>2,642.27</td>\n",
       "      <td>2,626.07</td>\n",
       "    </tr>\n",
       "    <tr>\n",
       "      <th>809</th>\n",
       "      <td>782.43</td>\n",
       "      <td>808.48</td>\n",
       "    </tr>\n",
       "    <tr>\n",
       "      <th>6800</th>\n",
       "      <td>3,239.66</td>\n",
       "      <td>3,248.92</td>\n",
       "    </tr>\n",
       "  </tbody>\n",
       "</table>\n",
       "</div>"
      ],
      "text/plain": [
       "      pred_spx_next_day  spx_next_day\n",
       "7066           3,891.20      3,911.23\n",
       "5467           2,041.46      2,081.88\n",
       "6232           2,642.27      2,626.07\n",
       "809              782.43        808.48\n",
       "6800           3,239.66      3,248.92"
      ]
     },
     "execution_count": 17,
     "metadata": {},
     "output_type": "execute_result"
    },
    {
     "name": "stdout",
     "output_type": "stream",
     "text": [
      "Mean absolute error is \n",
      "18.392697289821175\n",
      "Mean absolute percentage error is \n",
      "0.011750831959119815\n"
     ]
    }
   ],
   "source": [
    "test_output = pd.DataFrame(gb.predict(X_test), index = X_test.index, columns = ['pred_spx_next_day'])\n",
    "test_output = test_output.merge(y_test, left_index = True, right_index = True)\n",
    "test_output.head()\n",
    "mean_absolute_error = abs(test_output['pred_spx_next_day'] - test_output['spx_next_day']).mean()\n",
    "print('Mean absolute error is ')\n",
    "print(mean_absolute_error)\n",
    "mean_absolute_percentage_error = abs(test_output['pred_spx_next_day'] - test_output['spx_next_day']).mean() / test_output['spx_next_day'].mean()\n",
    "print('Mean absolute percentage error is ')\n",
    "print(mean_absolute_percentage_error)\n",
    "\n",
    "model_names.append(\"Gradeint Boosting Regressor\")\n",
    "model_maes.append(mean_absolute_error)\n",
    "model_mabs.append(mean_absolute_percentage_error)"
   ]
  },
  {
   "cell_type": "markdown",
   "id": "f49e7d98",
   "metadata": {},
   "source": [
    "## XGBoost Regressor "
   ]
  },
  {
   "cell_type": "code",
   "execution_count": 18,
   "id": "9509409c",
   "metadata": {},
   "outputs": [],
   "source": [
    "# XGBoost comes with its own class for storing datasets called DMatrix. \n",
    "# It is a highly optimized class for memory and speed. \n",
    "# That's why converting datasets into this format is a requirement for the native XGBoost API:\n",
    "\n",
    "\n",
    "# Create regression matrices\n",
    "\n",
    "dtrain_reg = xgb.DMatrix(X_train, y_train, enable_categorical=True)\n",
    "\n",
    "dtest_reg = xgb.DMatrix(X_test, y_test, enable_categorical=True)"
   ]
  },
  {
   "cell_type": "code",
   "execution_count": 19,
   "id": "4705ea0f",
   "metadata": {},
   "outputs": [],
   "source": [
    "params = {\"objective\": \"reg:squarederror\", \"tree_method\": \"exact\", \"max_depth\" : 4, \"learning_rate\" : 0.1} # use \"tree_method\" : \"hist\" if you need speed"
   ]
  },
  {
   "cell_type": "code",
   "execution_count": 20,
   "id": "cb137954",
   "metadata": {},
   "outputs": [],
   "source": [
    "n = 100\n",
    "\n",
    "model = xgb.train(\n",
    "\n",
    "   params=params,\n",
    "\n",
    "   dtrain=dtrain_reg,\n",
    "\n",
    "   num_boost_round=n,\n",
    "\n",
    ")"
   ]
  },
  {
   "cell_type": "code",
   "execution_count": 21,
   "id": "82db493d",
   "metadata": {},
   "outputs": [],
   "source": [
    "from sklearn.metrics import mean_squared_error\n",
    "preds = model.predict(dtest_reg)\n"
   ]
  },
  {
   "cell_type": "code",
   "execution_count": 22,
   "id": "ea95f735",
   "metadata": {},
   "outputs": [
    {
     "data": {
      "text/html": [
       "<div>\n",
       "<style scoped>\n",
       "    .dataframe tbody tr th:only-of-type {\n",
       "        vertical-align: middle;\n",
       "    }\n",
       "\n",
       "    .dataframe tbody tr th {\n",
       "        vertical-align: top;\n",
       "    }\n",
       "\n",
       "    .dataframe thead th {\n",
       "        text-align: right;\n",
       "    }\n",
       "</style>\n",
       "<table border=\"1\" class=\"dataframe\">\n",
       "  <thead>\n",
       "    <tr style=\"text-align: right;\">\n",
       "      <th></th>\n",
       "      <th>pred_spx_next_day</th>\n",
       "      <th>spx_next_day</th>\n",
       "    </tr>\n",
       "  </thead>\n",
       "  <tbody>\n",
       "    <tr>\n",
       "      <th>7066</th>\n",
       "      <td>3,881.28</td>\n",
       "      <td>3,911.23</td>\n",
       "    </tr>\n",
       "    <tr>\n",
       "      <th>5467</th>\n",
       "      <td>2,033.99</td>\n",
       "      <td>2,081.88</td>\n",
       "    </tr>\n",
       "    <tr>\n",
       "      <th>6232</th>\n",
       "      <td>2,646.57</td>\n",
       "      <td>2,626.07</td>\n",
       "    </tr>\n",
       "    <tr>\n",
       "      <th>809</th>\n",
       "      <td>779.21</td>\n",
       "      <td>808.48</td>\n",
       "    </tr>\n",
       "    <tr>\n",
       "      <th>6800</th>\n",
       "      <td>3,221.40</td>\n",
       "      <td>3,248.92</td>\n",
       "    </tr>\n",
       "  </tbody>\n",
       "</table>\n",
       "</div>"
      ],
      "text/plain": [
       "      pred_spx_next_day  spx_next_day\n",
       "7066           3,881.28      3,911.23\n",
       "5467           2,033.99      2,081.88\n",
       "6232           2,646.57      2,626.07\n",
       "809              779.21        808.48\n",
       "6800           3,221.40      3,248.92"
      ]
     },
     "execution_count": 22,
     "metadata": {},
     "output_type": "execute_result"
    },
    {
     "name": "stdout",
     "output_type": "stream",
     "text": [
      "Mean absolute error is \n",
      "18.912911833770444\n",
      "Mean absolute percentage error is \n",
      "0.012083189611307187\n"
     ]
    }
   ],
   "source": [
    "test_output = pd.DataFrame(preds, index = X_test.index, columns = ['pred_spx_next_day'])\n",
    "test_output = test_output.merge(y_test, left_index = True, right_index = True)\n",
    "test_output.head()\n",
    "mean_absolute_error = abs(test_output['pred_spx_next_day'] - test_output['spx_next_day']).mean()\n",
    "print('Mean absolute error is ')\n",
    "print(mean_absolute_error)\n",
    "mean_absolute_percentage_error = abs(test_output['pred_spx_next_day'] - test_output['spx_next_day']).mean() / test_output['spx_next_day'].mean()\n",
    "print('Mean absolute percentage error is ')\n",
    "print(mean_absolute_percentage_error)\n",
    "\n",
    "model_names.append(\"XGBoost Regressor\")\n",
    "model_maes.append(mean_absolute_error)\n",
    "model_mabs.append(mean_absolute_percentage_error)"
   ]
  },
  {
   "cell_type": "markdown",
   "id": "54cfb086",
   "metadata": {},
   "source": [
    "## Hybrid Model "
   ]
  },
  {
   "cell_type": "code",
   "execution_count": 23,
   "id": "2f0e35d9",
   "metadata": {},
   "outputs": [
    {
     "data": {
      "text/plain": [
       "LinearRegression()"
      ]
     },
     "execution_count": 23,
     "metadata": {},
     "output_type": "execute_result"
    },
    {
     "data": {
      "text/plain": [
       "0.9318562671619951"
      ]
     },
     "execution_count": 23,
     "metadata": {},
     "output_type": "execute_result"
    }
   ],
   "source": [
    "model = LinearRegression(fit_intercept = True)\n",
    "model.fit(X_train, y_train) \n",
    "\n",
    "# The following gives the R-square score\n",
    "model.score(X_train, y_train) "
   ]
  },
  {
   "cell_type": "code",
   "execution_count": 24,
   "id": "09d740b6",
   "metadata": {},
   "outputs": [],
   "source": [
    "training_residuals = y_train - model.predict(X_train)"
   ]
  },
  {
   "cell_type": "code",
   "execution_count": 25,
   "id": "2e218242",
   "metadata": {},
   "outputs": [],
   "source": [
    "rf = RandomForestRegressor(random_state=50, min_samples_leaf = 3, max_features = \"sqrt\")\n",
    "\n",
    "rf = rf.fit(X_train, training_residuals) "
   ]
  },
  {
   "cell_type": "code",
   "execution_count": 26,
   "id": "cb735f23",
   "metadata": {},
   "outputs": [],
   "source": [
    "pred_residuals = rf.predict(X_test)\n",
    "y_pred = pred_residuals + model.predict(X_test)"
   ]
  },
  {
   "cell_type": "code",
   "execution_count": 27,
   "id": "f450ee73",
   "metadata": {},
   "outputs": [
    {
     "data": {
      "text/html": [
       "<div>\n",
       "<style scoped>\n",
       "    .dataframe tbody tr th:only-of-type {\n",
       "        vertical-align: middle;\n",
       "    }\n",
       "\n",
       "    .dataframe tbody tr th {\n",
       "        vertical-align: top;\n",
       "    }\n",
       "\n",
       "    .dataframe thead th {\n",
       "        text-align: right;\n",
       "    }\n",
       "</style>\n",
       "<table border=\"1\" class=\"dataframe\">\n",
       "  <thead>\n",
       "    <tr style=\"text-align: right;\">\n",
       "      <th></th>\n",
       "      <th>pred_spx_next_day</th>\n",
       "      <th>spx_next_day</th>\n",
       "    </tr>\n",
       "  </thead>\n",
       "  <tbody>\n",
       "    <tr>\n",
       "      <th>7066</th>\n",
       "      <td>3,917.75</td>\n",
       "      <td>3,911.23</td>\n",
       "    </tr>\n",
       "    <tr>\n",
       "      <th>5467</th>\n",
       "      <td>2,083.09</td>\n",
       "      <td>2,081.88</td>\n",
       "    </tr>\n",
       "    <tr>\n",
       "      <th>6232</th>\n",
       "      <td>2,623.02</td>\n",
       "      <td>2,626.07</td>\n",
       "    </tr>\n",
       "    <tr>\n",
       "      <th>809</th>\n",
       "      <td>804.68</td>\n",
       "      <td>808.48</td>\n",
       "    </tr>\n",
       "    <tr>\n",
       "      <th>6800</th>\n",
       "      <td>3,198.38</td>\n",
       "      <td>3,248.92</td>\n",
       "    </tr>\n",
       "  </tbody>\n",
       "</table>\n",
       "</div>"
      ],
      "text/plain": [
       "      pred_spx_next_day  spx_next_day\n",
       "7066           3,917.75      3,911.23\n",
       "5467           2,083.09      2,081.88\n",
       "6232           2,623.02      2,626.07\n",
       "809              804.68        808.48\n",
       "6800           3,198.38      3,248.92"
      ]
     },
     "execution_count": 27,
     "metadata": {},
     "output_type": "execute_result"
    },
    {
     "name": "stdout",
     "output_type": "stream",
     "text": [
      "Mean absolute error is \n",
      "15.429546430800242\n",
      "Mean absolute percentage error is \n",
      "0.009857717139405676\n"
     ]
    }
   ],
   "source": [
    "test_output = pd.DataFrame(y_pred, index = X_test.index, columns = ['pred_spx_next_day'])\n",
    "test_output = test_output.merge(y_test, left_index = True, right_index = True)\n",
    "test_output.head()\n",
    "mean_absolute_error = abs(test_output['pred_spx_next_day'] - test_output['spx_next_day']).mean()\n",
    "print('Mean absolute error is ')\n",
    "print(mean_absolute_error)\n",
    "mean_absolute_percentage_error = abs(test_output['pred_spx_next_day'] - test_output['spx_next_day']).mean() / test_output['spx_next_day'].mean()\n",
    "print('Mean absolute percentage error is ')\n",
    "print(mean_absolute_percentage_error)\n",
    "\n",
    "model_names.append(\"Hybrid Model\")\n",
    "model_maes.append(mean_absolute_error)\n",
    "model_mabs.append(mean_absolute_percentage_error)"
   ]
  },
  {
   "cell_type": "markdown",
   "id": "f190866e",
   "metadata": {},
   "source": [
    "## Plotting a Graph for Comparing Results\n"
   ]
  },
  {
   "cell_type": "code",
   "execution_count": 28,
   "id": "e2b6fa09",
   "metadata": {},
   "outputs": [
    {
     "data": {
      "image/png": "[encoded data removed]",
      "text/plain": [
       "<Figure size 720x432 with 1 Axes>"
      ]
     },
     "metadata": {
      "needs_background": "light"
     },
     "output_type": "display_data"
    }
   ],
   "source": [
    "import matplotlib.pyplot as plt\n",
    "import pandas as pd\n",
    "\n",
    "df = pd.DataFrame({'Model': model_names, 'MAE': model_maes})\n",
    "\n",
    "plt.figure(figsize=(10, 6))\n",
    "bars = plt.bar(df['Model'], df['MAE'], color='cornflowerblue', edgecolor='black')\n",
    "plt.title('Comparison of Mean Absolute Error (MAE) Across Models', fontsize=14)\n",
    "plt.xlabel('Models')\n",
    "plt.ylabel('MAE (lower is better)')\n",
    "plt.xticks(rotation=45)\n",
    "\n",
    "# Annotate bars\n",
    "for bar in bars:\n",
    "    yval = bar.get_height()\n",
    "    plt.text(bar.get_x() + bar.get_width()/2.0, yval + 0.5, f'{yval:.2f}', ha='center', va='bottom')\n",
    "\n",
    "plt.tight_layout()\n",
    "plt.show();\n"
   ]
  },
  {
   "cell_type": "markdown",
   "id": "4fb54d36",
   "metadata": {},
   "source": [
    "# Plotting a Graph using MAPE"
   ]
  },
  {
   "cell_type": "code",
   "execution_count": 29,
   "id": "d762298a",
   "metadata": {},
   "outputs": [
    {
     "data": {
      "image/png": "[encoded data removed]",
      "text/plain": [
       "<Figure size 720x432 with 1 Axes>"
      ]
     },
     "metadata": {
      "needs_background": "light"
     },
     "output_type": "display_data"
    }
   ],
   "source": [
    "import matplotlib.pyplot as plt\n",
    "import pandas as pd\n",
    "\n",
    "# Create DataFrame with model names and MAPE values\n",
    "df = pd.DataFrame({'Model': model_names, 'MAPE': model_mabs})\n",
    "\n",
    "# Create the plot\n",
    "plt.figure(figsize=(10, 6))\n",
    "bars = plt.bar(df['Model'], df['MAPE'], color='cornflowerblue', edgecolor='black')\n",
    "\n",
    "# Add title and axis labels\n",
    "plt.title('Comparison of MAPE Across Models', fontsize=16)\n",
    "plt.xlabel('Machine Learning Models', fontsize=12)\n",
    "plt.ylabel('MAPE (Lower is better)', fontsize=12)\n",
    "plt.xticks(rotation=45)\n",
    "\n",
    "# Annotate each bar with its height (as percentage)\n",
    "for bar in bars:\n",
    "    yval = bar.get_height()\n",
    "    plt.text(bar.get_x() + bar.get_width() / 2.0, yval + 0.0005, f\"{yval:.2%}\", \n",
    "             ha='center', va='bottom', fontsize=10)\n",
    "\n",
    "# Improve layout\n",
    "plt.tight_layout()\n",
    "plt.show();\n"
   ]
  },
  {
   "cell_type": "code",
   "execution_count": null,
   "id": "498ba868",
   "metadata": {},
   "outputs": [],
   "source": []
  }
 ],
 "metadata": {
  "kernelspec": {
   "display_name": "Python 3 (ipykernel)",
   "language": "python",
   "name": "python3"
  },
  "language_info": {
   "codemirror_mode": {
    "name": "ipython",
    "version": 3
   },
   "file_extension": ".py",
   "mimetype": "text/x-python",
   "name": "python",
   "nbconvert_exporter": "python",
   "pygments_lexer": "ipython3",
   "version": "3.9.12"
  }
 },
 "nbformat": 4,
 "nbformat_minor": 5
}
