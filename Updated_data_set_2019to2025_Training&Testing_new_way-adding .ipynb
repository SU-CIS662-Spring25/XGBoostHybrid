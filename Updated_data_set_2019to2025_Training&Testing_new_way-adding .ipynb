{
 "cells": [
  {
   "cell_type": "code",
   "execution_count": 1,
   "id": "e540ef62",
   "metadata": {},
   "outputs": [
    {
     "ename": "RuntimeError",
     "evalue": "module was compiled against NumPy C-API version 0x10 (NumPy 1.23) but the running NumPy has C-API version 0xf. Check the section C-API incompatibility at the Troubleshooting ImportError section at https://numpy.org/devdocs/user/troubleshooting-importerror.html#c-api-incompatibility for indications on how to solve this problem.",
     "output_type": "error",
     "traceback": [
      "\u001b[1;31m---------------------------------------------------------------------------\u001b[0m",
      "\u001b[1;31mRuntimeError\u001b[0m                              Traceback (most recent call last)",
      "\u001b[1;31mRuntimeError\u001b[0m: module was compiled against NumPy C-API version 0x10 (NumPy 1.23) but the running NumPy has C-API version 0xf. Check the section C-API incompatibility at the Troubleshooting ImportError section at https://numpy.org/devdocs/user/troubleshooting-importerror.html#c-api-incompatibility for indications on how to solve this problem."
     ]
    }
   ],
   "source": [
    "# Generic inputs for most ML tasks\n",
    "import pandas as pd\n",
    "import numpy as np\n",
    "import matplotlib.pyplot as plt\n",
    "from sklearn.model_selection import train_test_split\n",
    "from sklearn.linear_model import LinearRegression\n",
    "from sklearn.linear_model import Ridge\n",
    "from sklearn.linear_model import Lasso\n",
    "from sklearn.preprocessing import OneHotEncoder\n",
    "from sklearn.preprocessing import LabelEncoder\n",
    "import datetime\n",
    "\n",
    "\n",
    "from sklearn import tree\n",
    "from sklearn.tree import DecisionTreeClassifier\n",
    "from sklearn.tree import DecisionTreeRegressor\n",
    "from sklearn.ensemble import BaggingRegressor\n",
    "from xgboost import XGBRegressor\n",
    "from sklearn.ensemble import RandomForestRegressor\n",
    "from sklearn.ensemble import GradientBoostingRegressor\n",
    "# from sklearn.ensemble import HistGradientBoostingRegressor\n",
    "import xgboost as xgb\n",
    "\n",
    "pd.options.display.float_format = '{:,.2f}'.format\n",
    "\n",
    "# setup interactive notebook mode\n",
    "from IPython.core.interactiveshell import InteractiveShell\n",
    "InteractiveShell.ast_node_interactivity = \"all\"\n",
    "\n",
    "from IPython.display import display, HTML\n",
    "\n",
    "# Initialize lists to collect model performance\n",
    "model_names = []\n",
    "model_maes = []\n",
    "model_mabs = []"
   ]
  },
  {
   "cell_type": "markdown",
   "id": "55ab7652",
   "metadata": {},
   "source": [
    "# Read, pre-process and visualize data"
   ]
  },
  {
   "cell_type": "code",
   "execution_count": 2,
   "id": "c64881c8",
   "metadata": {
    "scrolled": true
   },
   "outputs": [
    {
     "data": {
      "text/html": [
       "<div>\n",
       "<style scoped>\n",
       "    .dataframe tbody tr th:only-of-type {\n",
       "        vertical-align: middle;\n",
       "    }\n",
       "\n",
       "    .dataframe tbody tr th {\n",
       "        vertical-align: top;\n",
       "    }\n",
       "\n",
       "    .dataframe thead th {\n",
       "        text-align: right;\n",
       "    }\n",
       "</style>\n",
       "<table border=\"1\" class=\"dataframe\">\n",
       "  <thead>\n",
       "    <tr style=\"text-align: right;\">\n",
       "      <th></th>\n",
       "      <th>Date</th>\n",
       "      <th>SP500</th>\n",
       "      <th>Futures</th>\n",
       "      <th>Nikkei</th>\n",
       "      <th>FTSE</th>\n",
       "      <th>DAX</th>\n",
       "    </tr>\n",
       "  </thead>\n",
       "  <tbody>\n",
       "    <tr>\n",
       "      <th>0</th>\n",
       "      <td>04/03/19</td>\n",
       "      <td>2,873.40</td>\n",
       "      <td>2,879.75</td>\n",
       "      <td>21,713.21</td>\n",
       "      <td>7,418.28</td>\n",
       "      <td>11,954.40</td>\n",
       "    </tr>\n",
       "    <tr>\n",
       "      <th>1</th>\n",
       "      <td>04/04/19</td>\n",
       "      <td>2,879.39</td>\n",
       "      <td>2,882.75</td>\n",
       "      <td>21,724.95</td>\n",
       "      <td>7,401.94</td>\n",
       "      <td>11,988.01</td>\n",
       "    </tr>\n",
       "    <tr>\n",
       "      <th>2</th>\n",
       "      <td>04/05/19</td>\n",
       "      <td>2,892.74</td>\n",
       "      <td>2,896.00</td>\n",
       "      <td>21,807.50</td>\n",
       "      <td>7,446.87</td>\n",
       "      <td>12,009.75</td>\n",
       "    </tr>\n",
       "    <tr>\n",
       "      <th>3</th>\n",
       "      <td>04/08/19</td>\n",
       "      <td>2,895.77</td>\n",
       "      <td>2,898.25</td>\n",
       "      <td>21,761.65</td>\n",
       "      <td>7,451.89</td>\n",
       "      <td>11,963.40</td>\n",
       "    </tr>\n",
       "    <tr>\n",
       "      <th>4</th>\n",
       "      <td>04/09/19</td>\n",
       "      <td>2,878.20</td>\n",
       "      <td>2,882.50</td>\n",
       "      <td>21,802.59</td>\n",
       "      <td>7,425.57</td>\n",
       "      <td>11,850.57</td>\n",
       "    </tr>\n",
       "  </tbody>\n",
       "</table>\n",
       "</div>"
      ],
      "text/plain": [
       "       Date    SP500  Futures    Nikkei     FTSE       DAX\n",
       "0  04/03/19 2,873.40 2,879.75 21,713.21 7,418.28 11,954.40\n",
       "1  04/04/19 2,879.39 2,882.75 21,724.95 7,401.94 11,988.01\n",
       "2  04/05/19 2,892.74 2,896.00 21,807.50 7,446.87 12,009.75\n",
       "3  04/08/19 2,895.77 2,898.25 21,761.65 7,451.89 11,963.40\n",
       "4  04/09/19 2,878.20 2,882.50 21,802.59 7,425.57 11,850.57"
      ]
     },
     "execution_count": 2,
     "metadata": {},
     "output_type": "execute_result"
    },
    {
     "data": {
      "text/html": [
       "<div>\n",
       "<style scoped>\n",
       "    .dataframe tbody tr th:only-of-type {\n",
       "        vertical-align: middle;\n",
       "    }\n",
       "\n",
       "    .dataframe tbody tr th {\n",
       "        vertical-align: top;\n",
       "    }\n",
       "\n",
       "    .dataframe thead th {\n",
       "        text-align: right;\n",
       "    }\n",
       "</style>\n",
       "<table border=\"1\" class=\"dataframe\">\n",
       "  <thead>\n",
       "    <tr style=\"text-align: right;\">\n",
       "      <th></th>\n",
       "      <th>Date</th>\n",
       "      <th>SP500</th>\n",
       "      <th>Futures</th>\n",
       "      <th>Nikkei</th>\n",
       "      <th>FTSE</th>\n",
       "      <th>DAX</th>\n",
       "    </tr>\n",
       "  </thead>\n",
       "  <tbody>\n",
       "    <tr>\n",
       "      <th>1511</th>\n",
       "      <td>04/07/25</td>\n",
       "      <td>5,062.25</td>\n",
       "      <td>5,149.75</td>\n",
       "      <td>31,136.58</td>\n",
       "      <td>7,702.08</td>\n",
       "      <td>19,789.62</td>\n",
       "    </tr>\n",
       "    <tr>\n",
       "      <th>1512</th>\n",
       "      <td>04/08/25</td>\n",
       "      <td>4,982.77</td>\n",
       "      <td>5,020.25</td>\n",
       "      <td>33,012.58</td>\n",
       "      <td>7,910.53</td>\n",
       "      <td>20,280.26</td>\n",
       "    </tr>\n",
       "    <tr>\n",
       "      <th>1513</th>\n",
       "      <td>04/09/25</td>\n",
       "      <td>5,456.90</td>\n",
       "      <td>5,491.00</td>\n",
       "      <td>31,714.03</td>\n",
       "      <td>7,679.48</td>\n",
       "      <td>19,670.88</td>\n",
       "    </tr>\n",
       "    <tr>\n",
       "      <th>1514</th>\n",
       "      <td>04/10/25</td>\n",
       "      <td>5,268.05</td>\n",
       "      <td>5,302.00</td>\n",
       "      <td>34,609.00</td>\n",
       "      <td>7,913.25</td>\n",
       "      <td>20,562.73</td>\n",
       "    </tr>\n",
       "    <tr>\n",
       "      <th>1515</th>\n",
       "      <td>04/11/25</td>\n",
       "      <td>5,363.36</td>\n",
       "      <td>5,391.25</td>\n",
       "      <td>33,585.58</td>\n",
       "      <td>7,964.18</td>\n",
       "      <td>20,374.10</td>\n",
       "    </tr>\n",
       "  </tbody>\n",
       "</table>\n",
       "</div>"
      ],
      "text/plain": [
       "          Date    SP500  Futures    Nikkei     FTSE       DAX\n",
       "1511  04/07/25 5,062.25 5,149.75 31,136.58 7,702.08 19,789.62\n",
       "1512  04/08/25 4,982.77 5,020.25 33,012.58 7,910.53 20,280.26\n",
       "1513  04/09/25 5,456.90 5,491.00 31,714.03 7,679.48 19,670.88\n",
       "1514  04/10/25 5,268.05 5,302.00 34,609.00 7,913.25 20,562.73\n",
       "1515  04/11/25 5,363.36 5,391.25 33,585.58 7,964.18 20,374.10"
      ]
     },
     "execution_count": 2,
     "metadata": {},
     "output_type": "execute_result"
    }
   ],
   "source": [
    "data_set = pd.read_csv('1.csv')\n",
    "data_set.head()\n",
    "data_set.tail()"
   ]
  },
  {
   "cell_type": "code",
   "execution_count": 3,
   "id": "3570ddaf",
   "metadata": {},
   "outputs": [
    {
     "data": {
      "text/plain": [
       "1516"
      ]
     },
     "execution_count": 3,
     "metadata": {},
     "output_type": "execute_result"
    },
    {
     "data": {
      "text/plain": [
       "Date        0\n",
       "SP500       0\n",
       "Futures     0\n",
       "Nikkei     98\n",
       "FTSE       30\n",
       "DAX        24\n",
       "dtype: int64"
      ]
     },
     "execution_count": 3,
     "metadata": {},
     "output_type": "execute_result"
    },
    {
     "data": {
      "text/plain": [
       "Date        object\n",
       "SP500      float64\n",
       "Futures    float64\n",
       "Nikkei     float64\n",
       "FTSE       float64\n",
       "DAX        float64\n",
       "dtype: object"
      ]
     },
     "execution_count": 3,
     "metadata": {},
     "output_type": "execute_result"
    }
   ],
   "source": [
    "len(data_set)\n",
    "data_set.isna().sum()\n",
    "data_set.dtypes"
   ]
  },
  {
   "cell_type": "code",
   "execution_count": 4,
   "id": "99397fc7",
   "metadata": {
    "scrolled": false
   },
   "outputs": [
    {
     "data": {
      "text/plain": [
       "Index(['Date', 'SP500', 'Futures', 'Nikkei', 'FTSE', 'DAX'], dtype='object')"
      ]
     },
     "execution_count": 4,
     "metadata": {},
     "output_type": "execute_result"
    },
    {
     "name": "stderr",
     "output_type": "stream",
     "text": [
      "C:\\Users\\rajni\\AppData\\Local\\Temp\\ipykernel_31908\\866144551.py:4: UserWarning: Could not infer format, so each element will be parsed individually, falling back to `dateutil`. To ensure parsing is consistent and as-expected, please specify a format.\n",
      "  data_set['Date'] = pd.to_datetime(data_set['Date'])\n"
     ]
    },
    {
     "data": {
      "text/html": [
       "<div>\n",
       "<style scoped>\n",
       "    .dataframe tbody tr th:only-of-type {\n",
       "        vertical-align: middle;\n",
       "    }\n",
       "\n",
       "    .dataframe tbody tr th {\n",
       "        vertical-align: top;\n",
       "    }\n",
       "\n",
       "    .dataframe thead th {\n",
       "        text-align: right;\n",
       "    }\n",
       "</style>\n",
       "<table border=\"1\" class=\"dataframe\">\n",
       "  <thead>\n",
       "    <tr style=\"text-align: right;\">\n",
       "      <th></th>\n",
       "      <th>Date</th>\n",
       "      <th>SP500</th>\n",
       "      <th>Futures</th>\n",
       "      <th>Nikkei</th>\n",
       "      <th>FTSE</th>\n",
       "      <th>DAX</th>\n",
       "      <th>day_of_week</th>\n",
       "    </tr>\n",
       "  </thead>\n",
       "  <tbody>\n",
       "    <tr>\n",
       "      <th>1511</th>\n",
       "      <td>1743984000</td>\n",
       "      <td>5,062.25</td>\n",
       "      <td>5,149.75</td>\n",
       "      <td>31,136.58</td>\n",
       "      <td>7,702.08</td>\n",
       "      <td>19,789.62</td>\n",
       "      <td>0</td>\n",
       "    </tr>\n",
       "    <tr>\n",
       "      <th>1512</th>\n",
       "      <td>1744070400</td>\n",
       "      <td>4,982.77</td>\n",
       "      <td>5,020.25</td>\n",
       "      <td>33,012.58</td>\n",
       "      <td>7,910.53</td>\n",
       "      <td>20,280.26</td>\n",
       "      <td>1</td>\n",
       "    </tr>\n",
       "    <tr>\n",
       "      <th>1513</th>\n",
       "      <td>1744156800</td>\n",
       "      <td>5,456.90</td>\n",
       "      <td>5,491.00</td>\n",
       "      <td>31,714.03</td>\n",
       "      <td>7,679.48</td>\n",
       "      <td>19,670.88</td>\n",
       "      <td>2</td>\n",
       "    </tr>\n",
       "    <tr>\n",
       "      <th>1514</th>\n",
       "      <td>1744243200</td>\n",
       "      <td>5,268.05</td>\n",
       "      <td>5,302.00</td>\n",
       "      <td>34,609.00</td>\n",
       "      <td>7,913.25</td>\n",
       "      <td>20,562.73</td>\n",
       "      <td>3</td>\n",
       "    </tr>\n",
       "    <tr>\n",
       "      <th>1515</th>\n",
       "      <td>1744329600</td>\n",
       "      <td>5,363.36</td>\n",
       "      <td>5,391.25</td>\n",
       "      <td>33,585.58</td>\n",
       "      <td>7,964.18</td>\n",
       "      <td>20,374.10</td>\n",
       "      <td>4</td>\n",
       "    </tr>\n",
       "  </tbody>\n",
       "</table>\n",
       "</div>"
      ],
      "text/plain": [
       "            Date    SP500  Futures    Nikkei     FTSE       DAX  day_of_week\n",
       "1511  1743984000 5,062.25 5,149.75 31,136.58 7,702.08 19,789.62            0\n",
       "1512  1744070400 4,982.77 5,020.25 33,012.58 7,910.53 20,280.26            1\n",
       "1513  1744156800 5,456.90 5,491.00 31,714.03 7,679.48 19,670.88            2\n",
       "1514  1744243200 5,268.05 5,302.00 34,609.00 7,913.25 20,562.73            3\n",
       "1515  1744329600 5,363.36 5,391.25 33,585.58 7,964.18 20,374.10            4"
      ]
     },
     "execution_count": 4,
     "metadata": {},
     "output_type": "execute_result"
    }
   ],
   "source": [
    "data_set.columns\n",
    "\n",
    "# Step 1: Convert to datetime\n",
    "data_set['Date'] = pd.to_datetime(data_set['Date'])\n",
    "\n",
    "# ✅ Step 2: Extract day of week\n",
    "data_set['day_of_week'] = data_set['Date'].dt.dayofweek  # 0=Mon, ..., 6=Sun\n",
    "\n",
    "# Step 3 (optional): If you still want UNIX timestamp\n",
    "data_set['Date'] = data_set['Date'].astype(np.int64) // 10**9\n",
    "\n",
    "data_set.tail()"
   ]
  },
  {
   "cell_type": "code",
   "execution_count": 5,
   "id": "bf9ca739",
   "metadata": {},
   "outputs": [],
   "source": [
    "# Reshape to 2D as required by OneHotEncoder\n",
    "encoder = OneHotEncoder(handle_unknown='ignore', sparse=False)\n",
    "day_of_week_encoded = encoder.fit_transform(data_set[['day_of_week']])"
   ]
  },
  {
   "cell_type": "code",
   "execution_count": 6,
   "id": "c8c747d7",
   "metadata": {},
   "outputs": [],
   "source": [
    "# Get feature names like ['day_of_week_0', 'day_of_week_1', ...]\n",
    "encoded_cols = encoder.get_feature_names_out(['day_of_week'])\n",
    "encoded_df = pd.DataFrame(day_of_week_encoded, columns=encoded_cols, index=data_set.index)\n",
    "data_set = pd.concat([data_set.drop(columns=['day_of_week']), encoded_df], axis=1)"
   ]
  },
  {
   "cell_type": "code",
   "execution_count": 7,
   "id": "df584e06",
   "metadata": {},
   "outputs": [
    {
     "data": {
      "text/html": [
       "<div>\n",
       "<style scoped>\n",
       "    .dataframe tbody tr th:only-of-type {\n",
       "        vertical-align: middle;\n",
       "    }\n",
       "\n",
       "    .dataframe tbody tr th {\n",
       "        vertical-align: top;\n",
       "    }\n",
       "\n",
       "    .dataframe thead th {\n",
       "        text-align: right;\n",
       "    }\n",
       "</style>\n",
       "<table border=\"1\" class=\"dataframe\">\n",
       "  <thead>\n",
       "    <tr style=\"text-align: right;\">\n",
       "      <th></th>\n",
       "      <th>Date</th>\n",
       "      <th>SP500</th>\n",
       "      <th>Futures</th>\n",
       "      <th>Nikkei</th>\n",
       "      <th>FTSE</th>\n",
       "      <th>DAX</th>\n",
       "      <th>day_of_week_0</th>\n",
       "      <th>day_of_week_1</th>\n",
       "      <th>day_of_week_2</th>\n",
       "      <th>day_of_week_3</th>\n",
       "      <th>...</th>\n",
       "      <th>SP500_lag_3</th>\n",
       "      <th>DAX_lag_1</th>\n",
       "      <th>DAX_lag_2</th>\n",
       "      <th>DAX_lag_3</th>\n",
       "      <th>FTSE_lag_1</th>\n",
       "      <th>FTSE_lag_2</th>\n",
       "      <th>FTSE_lag_3</th>\n",
       "      <th>Nikkei_lag_1</th>\n",
       "      <th>Nikkei_lag_2</th>\n",
       "      <th>Nikkei_lag_3</th>\n",
       "    </tr>\n",
       "  </thead>\n",
       "  <tbody>\n",
       "    <tr>\n",
       "      <th>3</th>\n",
       "      <td>1554681600</td>\n",
       "      <td>2,895.77</td>\n",
       "      <td>2,898.25</td>\n",
       "      <td>21,761.65</td>\n",
       "      <td>7,451.89</td>\n",
       "      <td>11,963.40</td>\n",
       "      <td>1.00</td>\n",
       "      <td>0.00</td>\n",
       "      <td>0.00</td>\n",
       "      <td>0.00</td>\n",
       "      <td>...</td>\n",
       "      <td>2,873.40</td>\n",
       "      <td>12,009.75</td>\n",
       "      <td>11,988.01</td>\n",
       "      <td>11,954.40</td>\n",
       "      <td>7,446.87</td>\n",
       "      <td>7,401.94</td>\n",
       "      <td>7,418.28</td>\n",
       "      <td>21,807.50</td>\n",
       "      <td>21,724.95</td>\n",
       "      <td>21,713.21</td>\n",
       "    </tr>\n",
       "    <tr>\n",
       "      <th>4</th>\n",
       "      <td>1554768000</td>\n",
       "      <td>2,878.20</td>\n",
       "      <td>2,882.50</td>\n",
       "      <td>21,802.59</td>\n",
       "      <td>7,425.57</td>\n",
       "      <td>11,850.57</td>\n",
       "      <td>0.00</td>\n",
       "      <td>1.00</td>\n",
       "      <td>0.00</td>\n",
       "      <td>0.00</td>\n",
       "      <td>...</td>\n",
       "      <td>2,879.39</td>\n",
       "      <td>11,963.40</td>\n",
       "      <td>12,009.75</td>\n",
       "      <td>11,988.01</td>\n",
       "      <td>7,451.89</td>\n",
       "      <td>7,446.87</td>\n",
       "      <td>7,401.94</td>\n",
       "      <td>21,761.65</td>\n",
       "      <td>21,807.50</td>\n",
       "      <td>21,724.95</td>\n",
       "    </tr>\n",
       "    <tr>\n",
       "      <th>5</th>\n",
       "      <td>1554854400</td>\n",
       "      <td>2,888.21</td>\n",
       "      <td>2,894.50</td>\n",
       "      <td>21,687.57</td>\n",
       "      <td>7,421.91</td>\n",
       "      <td>11,905.91</td>\n",
       "      <td>0.00</td>\n",
       "      <td>0.00</td>\n",
       "      <td>1.00</td>\n",
       "      <td>0.00</td>\n",
       "      <td>...</td>\n",
       "      <td>2,892.74</td>\n",
       "      <td>11,850.57</td>\n",
       "      <td>11,963.40</td>\n",
       "      <td>12,009.75</td>\n",
       "      <td>7,425.57</td>\n",
       "      <td>7,451.89</td>\n",
       "      <td>7,446.87</td>\n",
       "      <td>21,802.59</td>\n",
       "      <td>21,761.65</td>\n",
       "      <td>21,807.50</td>\n",
       "    </tr>\n",
       "    <tr>\n",
       "      <th>6</th>\n",
       "      <td>1554940800</td>\n",
       "      <td>2,888.32</td>\n",
       "      <td>2,891.75</td>\n",
       "      <td>21,711.38</td>\n",
       "      <td>7,417.95</td>\n",
       "      <td>11,935.20</td>\n",
       "      <td>0.00</td>\n",
       "      <td>0.00</td>\n",
       "      <td>0.00</td>\n",
       "      <td>1.00</td>\n",
       "      <td>...</td>\n",
       "      <td>2,895.77</td>\n",
       "      <td>11,905.91</td>\n",
       "      <td>11,850.57</td>\n",
       "      <td>11,963.40</td>\n",
       "      <td>7,421.91</td>\n",
       "      <td>7,425.57</td>\n",
       "      <td>7,451.89</td>\n",
       "      <td>21,687.57</td>\n",
       "      <td>21,802.59</td>\n",
       "      <td>21,761.65</td>\n",
       "    </tr>\n",
       "    <tr>\n",
       "      <th>7</th>\n",
       "      <td>1555027200</td>\n",
       "      <td>2,907.41</td>\n",
       "      <td>2,912.50</td>\n",
       "      <td>21,870.56</td>\n",
       "      <td>7,437.06</td>\n",
       "      <td>11,999.93</td>\n",
       "      <td>0.00</td>\n",
       "      <td>0.00</td>\n",
       "      <td>0.00</td>\n",
       "      <td>0.00</td>\n",
       "      <td>...</td>\n",
       "      <td>2,878.20</td>\n",
       "      <td>11,935.20</td>\n",
       "      <td>11,905.91</td>\n",
       "      <td>11,850.57</td>\n",
       "      <td>7,417.95</td>\n",
       "      <td>7,421.91</td>\n",
       "      <td>7,425.57</td>\n",
       "      <td>21,711.38</td>\n",
       "      <td>21,687.57</td>\n",
       "      <td>21,802.59</td>\n",
       "    </tr>\n",
       "  </tbody>\n",
       "</table>\n",
       "<p>5 rows × 23 columns</p>\n",
       "</div>"
      ],
      "text/plain": [
       "         Date    SP500  Futures    Nikkei     FTSE       DAX  day_of_week_0  \\\n",
       "3  1554681600 2,895.77 2,898.25 21,761.65 7,451.89 11,963.40           1.00   \n",
       "4  1554768000 2,878.20 2,882.50 21,802.59 7,425.57 11,850.57           0.00   \n",
       "5  1554854400 2,888.21 2,894.50 21,687.57 7,421.91 11,905.91           0.00   \n",
       "6  1554940800 2,888.32 2,891.75 21,711.38 7,417.95 11,935.20           0.00   \n",
       "7  1555027200 2,907.41 2,912.50 21,870.56 7,437.06 11,999.93           0.00   \n",
       "\n",
       "   day_of_week_1  day_of_week_2  day_of_week_3  ...  SP500_lag_3  DAX_lag_1  \\\n",
       "3           0.00           0.00           0.00  ...     2,873.40  12,009.75   \n",
       "4           1.00           0.00           0.00  ...     2,879.39  11,963.40   \n",
       "5           0.00           1.00           0.00  ...     2,892.74  11,850.57   \n",
       "6           0.00           0.00           1.00  ...     2,895.77  11,905.91   \n",
       "7           0.00           0.00           0.00  ...     2,878.20  11,935.20   \n",
       "\n",
       "   DAX_lag_2  DAX_lag_3  FTSE_lag_1  FTSE_lag_2  FTSE_lag_3  Nikkei_lag_1  \\\n",
       "3  11,988.01  11,954.40    7,446.87    7,401.94    7,418.28     21,807.50   \n",
       "4  12,009.75  11,988.01    7,451.89    7,446.87    7,401.94     21,761.65   \n",
       "5  11,963.40  12,009.75    7,425.57    7,451.89    7,446.87     21,802.59   \n",
       "6  11,850.57  11,963.40    7,421.91    7,425.57    7,451.89     21,687.57   \n",
       "7  11,905.91  11,850.57    7,417.95    7,421.91    7,425.57     21,711.38   \n",
       "\n",
       "   Nikkei_lag_2  Nikkei_lag_3  \n",
       "3     21,724.95     21,713.21  \n",
       "4     21,807.50     21,724.95  \n",
       "5     21,761.65     21,807.50  \n",
       "6     21,802.59     21,761.65  \n",
       "7     21,687.57     21,802.59  \n",
       "\n",
       "[5 rows x 23 columns]"
      ]
     },
     "execution_count": 7,
     "metadata": {},
     "output_type": "execute_result"
    }
   ],
   "source": [
    "def add_lag_features(df, columns, lags):\n",
    "    \"\"\"\n",
    "    Adds lag features for given columns and lag days.\n",
    "\n",
    "    Parameters:\n",
    "    df (pd.DataFrame): Original dataset\n",
    "    columns (list): Columns for which to create lag features\n",
    "    lags (list): List of lag values (e.g., [1, 2, 3])\n",
    "\n",
    "    Returns:\n",
    "    pd.DataFrame: Dataset with new lag features\n",
    "    \"\"\"\n",
    "    for col in columns:\n",
    "        for lag in lags:\n",
    "            df[f'{col}_lag_{lag}'] = df[col].shift(lag)\n",
    "    return df\n",
    "\n",
    "\n",
    "lag_columns = ['SP500', 'DAX', 'FTSE', 'Nikkei']\n",
    "lag_days = [1, 2, 3] \n",
    "\n",
    "data_set = add_lag_features(data_set, lag_columns, lag_days)\n",
    "data_set = data_set.dropna()  # Drop rows with NaNs from lags\n",
    "data_set.head()\n",
    "\n",
    "\n",
    "data_set = data_set.sort_values(by='Date').reset_index(drop=True)\n",
    "\n"
   ]
  },
  {
   "cell_type": "code",
   "execution_count": 8,
   "id": "cab5d80b",
   "metadata": {},
   "outputs": [],
   "source": [
    "data_set['SP500_next'] = data_set['SP500'].shift(-1)\n",
    "data_set = data_set.dropna()"
   ]
  },
  {
   "cell_type": "code",
   "execution_count": 9,
   "id": "ae97a00e",
   "metadata": {},
   "outputs": [],
   "source": [
    "\n",
    "# Parameters for sliding window\n",
    "window_size = 10\n",
    "train_size = 8\n",
    "test_size = 2\n",
    "\n",
    "X_full = data_set.drop(columns=['SP500_next'])\n",
    "y_full = data_set['SP500_next']\n",
    "\n",
    "# Containers to hold concatenated training and testing data\n",
    "X_train_list, X_test_list = [], []\n",
    "y_train_list, y_test_list = [], []\n",
    "\n",
    "# Sliding window generation\n",
    "for start in range(0, len(X_full) - window_size + 1, test_size):  # step by test size\n",
    "    end = start + window_size\n",
    "    X_window = X_full.iloc[start:end]\n",
    "    y_window = y_full.iloc[start:end]\n",
    "    \n",
    "    X_train_list.append(X_window.iloc[:train_size])\n",
    "    y_train_list.append(y_window.iloc[:train_size])\n",
    "    X_test_list.append(X_window.iloc[train_size:])\n",
    "    y_test_list.append(y_window.iloc[train_size:])\n",
    "\n",
    "# Concatenate all windows together to get final train-test sets\n",
    "X_train = pd.concat(X_train_list, ignore_index=True)\n",
    "y_train = pd.concat(y_train_list, ignore_index=True)\n",
    "X_test = pd.concat(X_test_list, ignore_index=True)\n",
    "y_test = pd.concat(y_test_list, ignore_index=True)\n"
   ]
  },
  {
   "cell_type": "markdown",
   "id": "9d422bca",
   "metadata": {},
   "source": [
    "# Decison tree\n"
   ]
  },
  {
   "cell_type": "code",
   "execution_count": 10,
   "id": "e7b21b98",
   "metadata": {},
   "outputs": [],
   "source": [
    "clf = DecisionTreeRegressor(random_state=50)\n",
    "\n",
    "clf = clf.fit(X_train, y_train) "
   ]
  },
  {
   "cell_type": "code",
   "execution_count": 11,
   "id": "1e80b198",
   "metadata": {},
   "outputs": [
    {
     "data": {
      "text/plain": [
       "Index(['Date', 'SP500', 'Futures', 'Nikkei', 'FTSE', 'DAX', 'day_of_week_0',\n",
       "       'day_of_week_1', 'day_of_week_2', 'day_of_week_3', 'day_of_week_4',\n",
       "       'SP500_lag_1', 'SP500_lag_2', 'SP500_lag_3', 'DAX_lag_1', 'DAX_lag_2',\n",
       "       'DAX_lag_3', 'FTSE_lag_1', 'FTSE_lag_2', 'FTSE_lag_3', 'Nikkei_lag_1',\n",
       "       'Nikkei_lag_2', 'Nikkei_lag_3'],\n",
       "      dtype='object')"
      ]
     },
     "execution_count": 11,
     "metadata": {},
     "output_type": "execute_result"
    },
    {
     "data": {
      "text/plain": [
       "array([1.57487557e-01, 8.23976612e-01, 1.41091255e-02, 1.52509213e-04,\n",
       "       5.64268314e-04, 1.80076426e-04, 1.06134936e-05, 8.53822522e-06,\n",
       "       1.04791770e-05, 3.57577758e-05, 1.07300027e-05, 1.12102159e-04,\n",
       "       1.71861952e-03, 1.66857646e-04, 9.26134516e-05, 2.06267101e-04,\n",
       "       1.19535221e-04, 1.05680021e-04, 1.29540092e-04, 1.98329428e-04,\n",
       "       1.70665691e-04, 2.77686603e-04, 1.55835899e-04])"
      ]
     },
     "execution_count": 11,
     "metadata": {},
     "output_type": "execute_result"
    }
   ],
   "source": [
    "X_train.columns\n",
    "clf.feature_importances_"
   ]
  },
  {
   "cell_type": "code",
   "execution_count": 12,
   "id": "5f160e8a",
   "metadata": {},
   "outputs": [
    {
     "data": {
      "text/html": [
       "<div>\n",
       "<style scoped>\n",
       "    .dataframe tbody tr th:only-of-type {\n",
       "        vertical-align: middle;\n",
       "    }\n",
       "\n",
       "    .dataframe tbody tr th {\n",
       "        vertical-align: top;\n",
       "    }\n",
       "\n",
       "    .dataframe thead th {\n",
       "        text-align: right;\n",
       "    }\n",
       "</style>\n",
       "<table border=\"1\" class=\"dataframe\">\n",
       "  <thead>\n",
       "    <tr style=\"text-align: right;\">\n",
       "      <th></th>\n",
       "      <th>pred_SP500_next</th>\n",
       "      <th>SP500_next</th>\n",
       "    </tr>\n",
       "  </thead>\n",
       "  <tbody>\n",
       "    <tr>\n",
       "      <th>0</th>\n",
       "      <td>2,939.88</td>\n",
       "      <td>2,939.88</td>\n",
       "    </tr>\n",
       "    <tr>\n",
       "      <th>1</th>\n",
       "      <td>2,881.40</td>\n",
       "      <td>2,881.40</td>\n",
       "    </tr>\n",
       "    <tr>\n",
       "      <th>2</th>\n",
       "      <td>2,811.87</td>\n",
       "      <td>2,811.87</td>\n",
       "    </tr>\n",
       "    <tr>\n",
       "      <th>3</th>\n",
       "      <td>2,834.41</td>\n",
       "      <td>2,834.41</td>\n",
       "    </tr>\n",
       "    <tr>\n",
       "      <th>4</th>\n",
       "      <td>2,850.96</td>\n",
       "      <td>2,850.96</td>\n",
       "    </tr>\n",
       "  </tbody>\n",
       "</table>\n",
       "</div>"
      ],
      "text/plain": [
       "   pred_SP500_next  SP500_next\n",
       "0         2,939.88    2,939.88\n",
       "1         2,881.40    2,881.40\n",
       "2         2,811.87    2,811.87\n",
       "3         2,834.41    2,834.41\n",
       "4         2,850.96    2,850.96"
      ]
     },
     "execution_count": 12,
     "metadata": {},
     "output_type": "execute_result"
    },
    {
     "name": "stdout",
     "output_type": "stream",
     "text": [
      "Mean absolute error is \n",
      "0.3915229357798159\n",
      "Mean absolute percentage error is \n",
      "9.322625555003514e-05\n"
     ]
    }
   ],
   "source": [
    "test_output = pd.DataFrame(clf.predict(X_test), index = X_test.index, columns = ['pred_SP500_next'])\n",
    "test_output = test_output.merge(y_test, left_index = True, right_index = True)\n",
    "test_output.head()\n",
    "mean_absolute_error = abs(test_output['pred_SP500_next'] - test_output['SP500_next']).mean()\n",
    "print('Mean absolute error is ')\n",
    "print(mean_absolute_error)\n",
    "mean_absolute_percentage_error = abs(test_output['pred_SP500_next'] - test_output['SP500_next']).mean() / test_output['SP500_next'].mean()\n",
    "print('Mean absolute percentage error is ')\n",
    "print(mean_absolute_percentage_error)\n",
    "\n",
    "model_names.append(\"Decision Tree\")\n",
    "model_maes.append(mean_absolute_error)\n",
    "model_mabs.append(mean_absolute_percentage_error)"
   ]
  },
  {
   "cell_type": "code",
   "execution_count": 13,
   "id": "0878bcc6",
   "metadata": {},
   "outputs": [
    {
     "data": {
      "text/plain": [
       "1.0"
      ]
     },
     "execution_count": 13,
     "metadata": {},
     "output_type": "execute_result"
    },
    {
     "data": {
      "text/plain": [
       "0.9998796361376285"
      ]
     },
     "execution_count": 13,
     "metadata": {},
     "output_type": "execute_result"
    }
   ],
   "source": [
    "clf.score(X_train,y_train)\n",
    "\n",
    "clf.score(X_test, y_test) \n"
   ]
  },
  {
   "cell_type": "markdown",
   "id": "21b60116",
   "metadata": {},
   "source": [
    "## Bagging Regressor ## "
   ]
  },
  {
   "cell_type": "code",
   "execution_count": 14,
   "id": "6a9699be",
   "metadata": {},
   "outputs": [],
   "source": [
    "regr = BaggingRegressor(random_state=50, n_estimators = 200, max_samples = 800)\n",
    "\n",
    "regr = regr.fit(X_train, y_train) "
   ]
  },
  {
   "cell_type": "code",
   "execution_count": 15,
   "id": "7598e234",
   "metadata": {
    "scrolled": true
   },
   "outputs": [
    {
     "data": {
      "text/html": [
       "<div>\n",
       "<style scoped>\n",
       "    .dataframe tbody tr th:only-of-type {\n",
       "        vertical-align: middle;\n",
       "    }\n",
       "\n",
       "    .dataframe tbody tr th {\n",
       "        vertical-align: top;\n",
       "    }\n",
       "\n",
       "    .dataframe thead th {\n",
       "        text-align: right;\n",
       "    }\n",
       "</style>\n",
       "<table border=\"1\" class=\"dataframe\">\n",
       "  <thead>\n",
       "    <tr style=\"text-align: right;\">\n",
       "      <th></th>\n",
       "      <th>pred_SP500_next</th>\n",
       "      <th>SP500_next</th>\n",
       "    </tr>\n",
       "  </thead>\n",
       "  <tbody>\n",
       "    <tr>\n",
       "      <th>0</th>\n",
       "      <td>2,916.51</td>\n",
       "      <td>2,939.88</td>\n",
       "    </tr>\n",
       "    <tr>\n",
       "      <th>1</th>\n",
       "      <td>2,908.90</td>\n",
       "      <td>2,881.40</td>\n",
       "    </tr>\n",
       "    <tr>\n",
       "      <th>2</th>\n",
       "      <td>2,848.42</td>\n",
       "      <td>2,811.87</td>\n",
       "    </tr>\n",
       "    <tr>\n",
       "      <th>3</th>\n",
       "      <td>2,833.14</td>\n",
       "      <td>2,834.41</td>\n",
       "    </tr>\n",
       "    <tr>\n",
       "      <th>4</th>\n",
       "      <td>2,844.37</td>\n",
       "      <td>2,850.96</td>\n",
       "    </tr>\n",
       "  </tbody>\n",
       "</table>\n",
       "</div>"
      ],
      "text/plain": [
       "   pred_SP500_next  SP500_next\n",
       "0         2,916.51    2,939.88\n",
       "1         2,908.90    2,881.40\n",
       "2         2,848.42    2,811.87\n",
       "3         2,833.14    2,834.41\n",
       "4         2,844.37    2,850.96"
      ]
     },
     "execution_count": 15,
     "metadata": {},
     "output_type": "execute_result"
    },
    {
     "name": "stdout",
     "output_type": "stream",
     "text": [
      "Mean absolute error is \n",
      "20.060283532109906\n",
      "Mean absolute percentage error is \n",
      "0.0047765914792342315\n"
     ]
    }
   ],
   "source": [
    "test_output = pd.DataFrame(regr.predict(X_test), index = X_test.index, columns = ['pred_SP500_next'])\n",
    "test_output = test_output.merge(y_test, left_index = True, right_index = True)\n",
    "test_output.head()\n",
    "mean_absolute_error = abs(test_output['pred_SP500_next'] - test_output['SP500_next']).mean()\n",
    "print('Mean absolute error is ')\n",
    "print(mean_absolute_error)\n",
    "mean_absolute_percentage_error = abs(test_output['pred_SP500_next'] - test_output['SP500_next']).mean() / test_output['SP500_next'].mean()\n",
    "print('Mean absolute percentage error is ')\n",
    "print(mean_absolute_percentage_error)\n",
    "\n",
    "model_names.append(\"Bagging Regressor\")\n",
    "model_maes.append(mean_absolute_error)\n",
    "model_mabs.append(mean_absolute_percentage_error)"
   ]
  },
  {
   "cell_type": "code",
   "execution_count": 16,
   "id": "2a336c53",
   "metadata": {},
   "outputs": [
    {
     "data": {
      "text/plain": [
       "0.9989249025697496"
      ]
     },
     "execution_count": 16,
     "metadata": {},
     "output_type": "execute_result"
    },
    {
     "data": {
      "text/plain": [
       "0.9986956814818583"
      ]
     },
     "execution_count": 16,
     "metadata": {},
     "output_type": "execute_result"
    }
   ],
   "source": [
    "regr.score(X_train, y_train)\n",
    "regr.score(X_test, y_test) \n"
   ]
  },
  {
   "cell_type": "markdown",
   "id": "51327dc2",
   "metadata": {},
   "source": [
    "## Random Forest Regressor "
   ]
  },
  {
   "cell_type": "code",
   "execution_count": 17,
   "id": "628133a6",
   "metadata": {},
   "outputs": [],
   "source": [
    "rf = RandomForestRegressor(random_state=50, min_samples_leaf = 3, max_features = \"sqrt\")\n",
    "\n",
    "rf = rf.fit(X_train, y_train) \n"
   ]
  },
  {
   "cell_type": "code",
   "execution_count": 18,
   "id": "5b6b1dc8",
   "metadata": {},
   "outputs": [
    {
     "data": {
      "text/plain": [
       "Index(['Date', 'SP500', 'Futures', 'Nikkei', 'FTSE', 'DAX', 'day_of_week_0',\n",
       "       'day_of_week_1', 'day_of_week_2', 'day_of_week_3', 'day_of_week_4',\n",
       "       'SP500_lag_1', 'SP500_lag_2', 'SP500_lag_3', 'DAX_lag_1', 'DAX_lag_2',\n",
       "       'DAX_lag_3', 'FTSE_lag_1', 'FTSE_lag_2', 'FTSE_lag_3', 'Nikkei_lag_1',\n",
       "       'Nikkei_lag_2', 'Nikkei_lag_3'],\n",
       "      dtype='object')"
      ]
     },
     "execution_count": 18,
     "metadata": {},
     "output_type": "execute_result"
    },
    {
     "data": {
      "text/plain": [
       "array([7.39563736e-02, 1.84166976e-01, 1.33676699e-01, 2.22920221e-02,\n",
       "       1.01910217e-02, 2.55057331e-02, 1.59937246e-05, 1.66053718e-05,\n",
       "       2.71173391e-05, 2.67892105e-05, 3.04044255e-05, 8.91401284e-02,\n",
       "       1.41864867e-01, 7.42484816e-02, 4.00551979e-02, 6.66492347e-02,\n",
       "       2.34434616e-02, 9.01585985e-03, 4.98187523e-03, 1.54739169e-03,\n",
       "       3.16293280e-02, 3.71970423e-02, 3.03213962e-02])"
      ]
     },
     "execution_count": 18,
     "metadata": {},
     "output_type": "execute_result"
    }
   ],
   "source": [
    "X_train.columns\n",
    "rf.feature_importances_"
   ]
  },
  {
   "cell_type": "code",
   "execution_count": 19,
   "id": "b48d974c",
   "metadata": {
    "scrolled": true
   },
   "outputs": [
    {
     "data": {
      "text/html": [
       "<div>\n",
       "<style scoped>\n",
       "    .dataframe tbody tr th:only-of-type {\n",
       "        vertical-align: middle;\n",
       "    }\n",
       "\n",
       "    .dataframe tbody tr th {\n",
       "        vertical-align: top;\n",
       "    }\n",
       "\n",
       "    .dataframe thead th {\n",
       "        text-align: right;\n",
       "    }\n",
       "</style>\n",
       "<table border=\"1\" class=\"dataframe\">\n",
       "  <thead>\n",
       "    <tr style=\"text-align: right;\">\n",
       "      <th></th>\n",
       "      <th>pred_SP500_next</th>\n",
       "      <th>SP500_next</th>\n",
       "    </tr>\n",
       "  </thead>\n",
       "  <tbody>\n",
       "    <tr>\n",
       "      <th>0</th>\n",
       "      <td>2,934.65</td>\n",
       "      <td>2,939.88</td>\n",
       "    </tr>\n",
       "    <tr>\n",
       "      <th>1</th>\n",
       "      <td>2,887.60</td>\n",
       "      <td>2,881.40</td>\n",
       "    </tr>\n",
       "    <tr>\n",
       "      <th>2</th>\n",
       "      <td>2,824.58</td>\n",
       "      <td>2,811.87</td>\n",
       "    </tr>\n",
       "    <tr>\n",
       "      <th>3</th>\n",
       "      <td>2,834.59</td>\n",
       "      <td>2,834.41</td>\n",
       "    </tr>\n",
       "    <tr>\n",
       "      <th>4</th>\n",
       "      <td>2,849.03</td>\n",
       "      <td>2,850.96</td>\n",
       "    </tr>\n",
       "  </tbody>\n",
       "</table>\n",
       "</div>"
      ],
      "text/plain": [
       "   pred_SP500_next  SP500_next\n",
       "0         2,934.65    2,939.88\n",
       "1         2,887.60    2,881.40\n",
       "2         2,824.58    2,811.87\n",
       "3         2,834.59    2,834.41\n",
       "4         2,849.03    2,850.96"
      ]
     },
     "execution_count": 19,
     "metadata": {},
     "output_type": "execute_result"
    },
    {
     "name": "stdout",
     "output_type": "stream",
     "text": [
      "Mean absolute error is \n",
      "5.713814112445182\n",
      "Mean absolute percentage error is \n",
      "0.0013605269217530035\n"
     ]
    }
   ],
   "source": [
    "test_output = pd.DataFrame(rf.predict(X_test), index = X_test.index, columns = ['pred_SP500_next'])\n",
    "test_output = test_output.merge(y_test, left_index = True, right_index = True)\n",
    "test_output.head()\n",
    "mean_absolute_error = abs(test_output['pred_SP500_next'] - test_output['SP500_next']).mean()\n",
    "print('Mean absolute error is ')\n",
    "print(mean_absolute_error)\n",
    "mean_absolute_percentage_error = abs(test_output['pred_SP500_next'] - test_output['SP500_next']).mean() / test_output['SP500_next'].mean()\n",
    "print('Mean absolute percentage error is ')\n",
    "print(mean_absolute_percentage_error)\n",
    "\n",
    "model_names.append(\"Random Forest Regressor\")\n",
    "model_maes.append(mean_absolute_error)\n",
    "model_mabs.append(mean_absolute_percentage_error)"
   ]
  },
  {
   "cell_type": "code",
   "execution_count": 20,
   "id": "f346b636",
   "metadata": {},
   "outputs": [
    {
     "data": {
      "text/plain": [
       "0.9998613544866495"
      ]
     },
     "execution_count": 20,
     "metadata": {},
     "output_type": "execute_result"
    },
    {
     "data": {
      "text/plain": [
       "0.9997273605228968"
      ]
     },
     "execution_count": 20,
     "metadata": {},
     "output_type": "execute_result"
    }
   ],
   "source": [
    "rf.score(X_train,y_train)\n",
    "rf.score(X_test, y_test) \n"
   ]
  },
  {
   "cell_type": "markdown",
   "id": "69f14b76",
   "metadata": {},
   "source": [
    "## Gradeint Boosting Regressor"
   ]
  },
  {
   "cell_type": "code",
   "execution_count": 21,
   "id": "47b50efb",
   "metadata": {},
   "outputs": [],
   "source": [
    "gb = GradientBoostingRegressor(random_state=50, min_samples_leaf = 2, max_depth = 4)\n",
    "\n",
    "gb = gb.fit(X_train, y_train) \n"
   ]
  },
  {
   "cell_type": "code",
   "execution_count": 22,
   "id": "dacef454",
   "metadata": {},
   "outputs": [
    {
     "data": {
      "text/plain": [
       "Index(['Date', 'SP500', 'Futures', 'Nikkei', 'FTSE', 'DAX', 'day_of_week_0',\n",
       "       'day_of_week_1', 'day_of_week_2', 'day_of_week_3', 'day_of_week_4',\n",
       "       'SP500_lag_1', 'SP500_lag_2', 'SP500_lag_3', 'DAX_lag_1', 'DAX_lag_2',\n",
       "       'DAX_lag_3', 'FTSE_lag_1', 'FTSE_lag_2', 'FTSE_lag_3', 'Nikkei_lag_1',\n",
       "       'Nikkei_lag_2', 'Nikkei_lag_3'],\n",
       "      dtype='object')"
      ]
     },
     "execution_count": 22,
     "metadata": {},
     "output_type": "execute_result"
    },
    {
     "data": {
      "text/plain": [
       "array([7.97310203e-02, 5.99006288e-01, 2.14871286e-01, 4.16690478e-04,\n",
       "       3.58762999e-03, 3.65048987e-04, 8.14738096e-07, 2.22538877e-06,\n",
       "       3.35399529e-06, 3.25737417e-06, 4.40727740e-06, 2.77457512e-02,\n",
       "       3.65748053e-02, 8.89186702e-03, 6.20073613e-04, 7.96189478e-03,\n",
       "       1.74394065e-02, 7.47217763e-05, 1.37037895e-04, 1.63865881e-03,\n",
       "       2.19237333e-04, 2.12602259e-04, 4.91920771e-04])"
      ]
     },
     "execution_count": 22,
     "metadata": {},
     "output_type": "execute_result"
    }
   ],
   "source": [
    "X_train.columns\n",
    "gb.feature_importances_"
   ]
  },
  {
   "cell_type": "code",
   "execution_count": 23,
   "id": "873bce22",
   "metadata": {
    "scrolled": true
   },
   "outputs": [
    {
     "data": {
      "text/html": [
       "<div>\n",
       "<style scoped>\n",
       "    .dataframe tbody tr th:only-of-type {\n",
       "        vertical-align: middle;\n",
       "    }\n",
       "\n",
       "    .dataframe tbody tr th {\n",
       "        vertical-align: top;\n",
       "    }\n",
       "\n",
       "    .dataframe thead th {\n",
       "        text-align: right;\n",
       "    }\n",
       "</style>\n",
       "<table border=\"1\" class=\"dataframe\">\n",
       "  <thead>\n",
       "    <tr style=\"text-align: right;\">\n",
       "      <th></th>\n",
       "      <th>pred_SP500_next</th>\n",
       "      <th>SP500_next</th>\n",
       "    </tr>\n",
       "  </thead>\n",
       "  <tbody>\n",
       "    <tr>\n",
       "      <th>0</th>\n",
       "      <td>2,921.29</td>\n",
       "      <td>2,939.88</td>\n",
       "    </tr>\n",
       "    <tr>\n",
       "      <th>1</th>\n",
       "      <td>2,907.24</td>\n",
       "      <td>2,881.40</td>\n",
       "    </tr>\n",
       "    <tr>\n",
       "      <th>2</th>\n",
       "      <td>2,837.42</td>\n",
       "      <td>2,811.87</td>\n",
       "    </tr>\n",
       "    <tr>\n",
       "      <th>3</th>\n",
       "      <td>2,829.06</td>\n",
       "      <td>2,834.41</td>\n",
       "    </tr>\n",
       "    <tr>\n",
       "      <th>4</th>\n",
       "      <td>2,854.80</td>\n",
       "      <td>2,850.96</td>\n",
       "    </tr>\n",
       "  </tbody>\n",
       "</table>\n",
       "</div>"
      ],
      "text/plain": [
       "   pred_SP500_next  SP500_next\n",
       "0         2,921.29    2,939.88\n",
       "1         2,907.24    2,881.40\n",
       "2         2,837.42    2,811.87\n",
       "3         2,829.06    2,834.41\n",
       "4         2,854.80    2,850.96"
      ]
     },
     "execution_count": 23,
     "metadata": {},
     "output_type": "execute_result"
    },
    {
     "name": "stdout",
     "output_type": "stream",
     "text": [
      "Mean absolute error is \n",
      "21.878776718009725\n",
      "Mean absolute percentage error is \n",
      "0.005209596279137026\n"
     ]
    }
   ],
   "source": [
    "test_output = pd.DataFrame(gb.predict(X_test), index = X_test.index, columns = ['pred_SP500_next'])\n",
    "test_output = test_output.merge(y_test, left_index = True, right_index = True)\n",
    "test_output.head()\n",
    "mean_absolute_error = abs(test_output['pred_SP500_next'] - test_output['SP500_next']).mean()\n",
    "print('Mean absolute error is ')\n",
    "print(mean_absolute_error)\n",
    "mean_absolute_percentage_error = abs(test_output['pred_SP500_next'] - test_output['SP500_next']).mean() / test_output['SP500_next'].mean()\n",
    "print('Mean absolute percentage error is ')\n",
    "print(mean_absolute_percentage_error)\n",
    "\n",
    "model_names.append(\"Gradeint Boosting Regressor\")\n",
    "model_maes.append(mean_absolute_error)\n",
    "model_mabs.append(mean_absolute_percentage_error)"
   ]
  },
  {
   "cell_type": "code",
   "execution_count": 24,
   "id": "ad13f157",
   "metadata": {},
   "outputs": [
    {
     "data": {
      "text/plain": [
       "0.9989735608294674"
      ]
     },
     "execution_count": 24,
     "metadata": {},
     "output_type": "execute_result"
    },
    {
     "data": {
      "text/plain": [
       "0.9988969048337569"
      ]
     },
     "execution_count": 24,
     "metadata": {},
     "output_type": "execute_result"
    }
   ],
   "source": [
    "gb.score(X_train,y_train)\n",
    "gb.score(X_test, y_test) \n"
   ]
  },
  {
   "cell_type": "markdown",
   "id": "f49e7d98",
   "metadata": {},
   "source": [
    "## XGBoost Regressor "
   ]
  },
  {
   "cell_type": "code",
   "execution_count": 25,
   "id": "9509409c",
   "metadata": {},
   "outputs": [],
   "source": [
    "# XGBoost comes with its own class for storing datasets called DMatrix. \n",
    "# It is a highly optimized class for memory and speed. \n",
    "# That's why converting datasets into this format is a requirement for the native XGBoost API:\n",
    "\n",
    "\n",
    "# Create regression matrices\n",
    "\n",
    "dtrain_reg = xgb.DMatrix(X_train, y_train, enable_categorical=True)\n",
    "\n",
    "dtest_reg = xgb.DMatrix(X_test, y_test, enable_categorical=True)"
   ]
  },
  {
   "cell_type": "code",
   "execution_count": 26,
   "id": "4705ea0f",
   "metadata": {},
   "outputs": [],
   "source": [
    "params = {\"objective\": \"reg:squarederror\", \"tree_method\": \"exact\", \"max_depth\" : 4, \"learning_rate\" : 0.1} # use \"tree_method\" : \"hist\" if you need speed"
   ]
  },
  {
   "cell_type": "code",
   "execution_count": 27,
   "id": "cb137954",
   "metadata": {},
   "outputs": [],
   "source": [
    "n = 100\n",
    "\n",
    "model = xgb.train(\n",
    "   params=params,\n",
    "\n",
    "   dtrain=dtrain_reg,\n",
    "\n",
    "   num_boost_round=n,\n",
    "\n",
    ")"
   ]
  },
  {
   "cell_type": "code",
   "execution_count": 28,
   "id": "82db493d",
   "metadata": {},
   "outputs": [],
   "source": [
    "from sklearn.metrics import mean_squared_error\n",
    "preds = model.predict(dtest_reg)\n"
   ]
  },
  {
   "cell_type": "code",
   "execution_count": 29,
   "id": "ea95f735",
   "metadata": {},
   "outputs": [
    {
     "data": {
      "text/html": [
       "<div>\n",
       "<style scoped>\n",
       "    .dataframe tbody tr th:only-of-type {\n",
       "        vertical-align: middle;\n",
       "    }\n",
       "\n",
       "    .dataframe tbody tr th {\n",
       "        vertical-align: top;\n",
       "    }\n",
       "\n",
       "    .dataframe thead th {\n",
       "        text-align: right;\n",
       "    }\n",
       "</style>\n",
       "<table border=\"1\" class=\"dataframe\">\n",
       "  <thead>\n",
       "    <tr style=\"text-align: right;\">\n",
       "      <th></th>\n",
       "      <th>pred_SP500_next</th>\n",
       "      <th>SP500_next</th>\n",
       "    </tr>\n",
       "  </thead>\n",
       "  <tbody>\n",
       "    <tr>\n",
       "      <th>0</th>\n",
       "      <td>2,919.36</td>\n",
       "      <td>2,939.88</td>\n",
       "    </tr>\n",
       "    <tr>\n",
       "      <th>1</th>\n",
       "      <td>2,910.66</td>\n",
       "      <td>2,881.40</td>\n",
       "    </tr>\n",
       "    <tr>\n",
       "      <th>2</th>\n",
       "      <td>2,843.86</td>\n",
       "      <td>2,811.87</td>\n",
       "    </tr>\n",
       "    <tr>\n",
       "      <th>3</th>\n",
       "      <td>2,826.23</td>\n",
       "      <td>2,834.41</td>\n",
       "    </tr>\n",
       "    <tr>\n",
       "      <th>4</th>\n",
       "      <td>2,850.05</td>\n",
       "      <td>2,850.96</td>\n",
       "    </tr>\n",
       "  </tbody>\n",
       "</table>\n",
       "</div>"
      ],
      "text/plain": [
       "   pred_SP500_next  SP500_next\n",
       "0         2,919.36    2,939.88\n",
       "1         2,910.66    2,881.40\n",
       "2         2,843.86    2,811.87\n",
       "3         2,826.23    2,834.41\n",
       "4         2,850.05    2,850.96"
      ]
     },
     "execution_count": 29,
     "metadata": {},
     "output_type": "execute_result"
    },
    {
     "name": "stdout",
     "output_type": "stream",
     "text": [
      "Mean absolute error is \n",
      "22.635254793219623\n",
      "Mean absolute percentage error is \n",
      "0.005389722682758952\n"
     ]
    }
   ],
   "source": [
    "test_output = pd.DataFrame(preds, index = X_test.index, columns = ['pred_SP500_next'])\n",
    "test_output = test_output.merge(y_test, left_index = True, right_index = True)\n",
    "test_output.head()\n",
    "mean_absolute_error = abs(test_output['pred_SP500_next'] - test_output['SP500_next']).mean()\n",
    "print('Mean absolute error is ')\n",
    "print(mean_absolute_error)\n",
    "mean_absolute_percentage_error = abs(test_output['pred_SP500_next'] - test_output['SP500_next']).mean() / test_output['SP500_next'].mean()\n",
    "print('Mean absolute percentage error is ')\n",
    "print(mean_absolute_percentage_error)\n",
    "\n",
    "model_names.append(\"XGBoost Regressor\")\n",
    "model_maes.append(mean_absolute_error)\n",
    "model_mabs.append(mean_absolute_percentage_error)"
   ]
  },
  {
   "cell_type": "code",
   "execution_count": 30,
   "id": "a47b9b43",
   "metadata": {},
   "outputs": [
    {
     "name": "stdout",
     "output_type": "stream",
     "text": [
      "R² score on training set: 0.9989\n",
      "R² score on test set: 0.9988\n"
     ]
    }
   ],
   "source": [
    "from sklearn.metrics import r2_score\n",
    "\n",
    "# Predict on training and test sets\n",
    "train_preds = model.predict(dtrain_reg)\n",
    "test_preds = model.predict(dtest_reg)\n",
    "\n",
    "# R² score for training set\n",
    "train_r2 = r2_score(y_train, train_preds)\n",
    "print(f\"R² score on training set: {train_r2:.4f}\")\n",
    "\n",
    "# R² score for test set\n",
    "test_r2 = r2_score(y_test, test_preds)\n",
    "print(f\"R² score on test set: {test_r2:.4f}\")"
   ]
  },
  {
   "cell_type": "markdown",
   "id": "54cfb086",
   "metadata": {},
   "source": [
    "## Hybrid Model "
   ]
  },
  {
   "cell_type": "code",
   "execution_count": 31,
   "id": "2f0e35d9",
   "metadata": {},
   "outputs": [
    {
     "data": {
      "text/plain": [
       "LinearRegression()"
      ]
     },
     "execution_count": 31,
     "metadata": {},
     "output_type": "execute_result"
    },
    {
     "data": {
      "text/plain": [
       "0.9961064736455846"
      ]
     },
     "execution_count": 31,
     "metadata": {},
     "output_type": "execute_result"
    }
   ],
   "source": [
    "model = LinearRegression(fit_intercept = True)\n",
    "model.fit(X_train, y_train) \n",
    "\n",
    "# The following gives the R-square score\n",
    "model.score(X_train, y_train) "
   ]
  },
  {
   "cell_type": "code",
   "execution_count": 32,
   "id": "09d740b6",
   "metadata": {},
   "outputs": [],
   "source": [
    "training_residuals = y_train - model.predict(X_train)"
   ]
  },
  {
   "cell_type": "code",
   "execution_count": 33,
   "id": "2e218242",
   "metadata": {},
   "outputs": [],
   "source": [
    "rf = RandomForestRegressor(random_state=50, min_samples_leaf = 3, max_features = \"sqrt\")\n",
    "\n",
    "rf = rf.fit(X_train, training_residuals) "
   ]
  },
  {
   "cell_type": "code",
   "execution_count": 34,
   "id": "cb735f23",
   "metadata": {},
   "outputs": [],
   "source": [
    "pred_residuals = rf.predict(X_test)\n",
    "y_pred = pred_residuals + model.predict(X_test)"
   ]
  },
  {
   "cell_type": "code",
   "execution_count": 35,
   "id": "f450ee73",
   "metadata": {
    "scrolled": true
   },
   "outputs": [
    {
     "data": {
      "text/html": [
       "<div>\n",
       "<style scoped>\n",
       "    .dataframe tbody tr th:only-of-type {\n",
       "        vertical-align: middle;\n",
       "    }\n",
       "\n",
       "    .dataframe tbody tr th {\n",
       "        vertical-align: top;\n",
       "    }\n",
       "\n",
       "    .dataframe thead th {\n",
       "        text-align: right;\n",
       "    }\n",
       "</style>\n",
       "<table border=\"1\" class=\"dataframe\">\n",
       "  <thead>\n",
       "    <tr style=\"text-align: right;\">\n",
       "      <th></th>\n",
       "      <th>pred_SP500_next</th>\n",
       "      <th>SP500_next</th>\n",
       "    </tr>\n",
       "  </thead>\n",
       "  <tbody>\n",
       "    <tr>\n",
       "      <th>0</th>\n",
       "      <td>2,934.35</td>\n",
       "      <td>2,939.88</td>\n",
       "    </tr>\n",
       "    <tr>\n",
       "      <th>1</th>\n",
       "      <td>2,888.94</td>\n",
       "      <td>2,881.40</td>\n",
       "    </tr>\n",
       "    <tr>\n",
       "      <th>2</th>\n",
       "      <td>2,828.66</td>\n",
       "      <td>2,811.87</td>\n",
       "    </tr>\n",
       "    <tr>\n",
       "      <th>3</th>\n",
       "      <td>2,831.83</td>\n",
       "      <td>2,834.41</td>\n",
       "    </tr>\n",
       "    <tr>\n",
       "      <th>4</th>\n",
       "      <td>2,848.78</td>\n",
       "      <td>2,850.96</td>\n",
       "    </tr>\n",
       "  </tbody>\n",
       "</table>\n",
       "</div>"
      ],
      "text/plain": [
       "   pred_SP500_next  SP500_next\n",
       "0         2,934.35    2,939.88\n",
       "1         2,888.94    2,881.40\n",
       "2         2,828.66    2,811.87\n",
       "3         2,831.83    2,834.41\n",
       "4         2,848.78    2,850.96"
      ]
     },
     "execution_count": 35,
     "metadata": {},
     "output_type": "execute_result"
    },
    {
     "name": "stdout",
     "output_type": "stream",
     "text": [
      "Mean absolute error is \n",
      "5.623416887528533\n",
      "Mean absolute percentage error is \n",
      "0.001339002270140172\n"
     ]
    }
   ],
   "source": [
    "test_output = pd.DataFrame(y_pred, index = X_test.index, columns = ['pred_SP500_next'])\n",
    "test_output = test_output.merge(y_test, left_index = True, right_index = True)\n",
    "test_output.head()\n",
    "mean_absolute_error = abs(test_output['pred_SP500_next'] - test_output['SP500_next']).mean()\n",
    "print('Mean absolute error is ')\n",
    "print(mean_absolute_error)\n",
    "mean_absolute_percentage_error = abs(test_output['pred_SP500_next'] - test_output['SP500_next']).mean() / test_output['SP500_next'].mean()\n",
    "print('Mean absolute percentage error is ')\n",
    "print(mean_absolute_percentage_error)\n",
    "\n",
    "model_names.append(\"Hybrid Model\")\n",
    "model_maes.append(mean_absolute_error)\n",
    "model_mabs.append(mean_absolute_percentage_error)"
   ]
  },
  {
   "cell_type": "code",
   "execution_count": 36,
   "id": "7b67423f",
   "metadata": {},
   "outputs": [
    {
     "name": "stdout",
     "output_type": "stream",
     "text": [
      "Hybrid Model R² score on training set: 0.9998\n",
      "Hybrid Model R² score on test set: 0.9997\n"
     ]
    }
   ],
   "source": [
    "from sklearn.metrics import r2_score\n",
    "\n",
    "# Training R²\n",
    "train_hybrid_pred = model.predict(X_train) + rf.predict(X_train)\n",
    "hybrid_r2_train = r2_score(y_train, train_hybrid_pred)\n",
    "print(f\"Hybrid Model R² score on training set: {hybrid_r2_train:.4f}\")\n",
    "\n",
    "# Test R² (y_pred is already calculated above)\n",
    "hybrid_r2_test = r2_score(y_test, y_pred)\n",
    "print(f\"Hybrid Model R² score on test set: {hybrid_r2_test:.4f}\")\n"
   ]
  },
  {
   "cell_type": "markdown",
   "id": "32a1cedd",
   "metadata": {},
   "source": [
    "# Hybrid (XGBoost)"
   ]
  },
  {
   "cell_type": "code",
   "execution_count": 37,
   "id": "8db52441",
   "metadata": {},
   "outputs": [],
   "source": [
    "# XGBoost on residuals\n",
    "dtrain_resid = xgb.DMatrix(X_train, label=training_residuals, enable_categorical=True)\n",
    "dtest_resid = xgb.DMatrix(X_test, enable_categorical=True)"
   ]
  },
  {
   "cell_type": "code",
   "execution_count": 38,
   "id": "be2b8b06",
   "metadata": {},
   "outputs": [],
   "source": [
    "params = {\"objective\": \"reg:squarederror\", \"tree_method\": \"exact\", \"max_depth\" : 4, \"learning_rate\" : 0.1} # use \"tree_method\" : \"hist\" if you need speed\n",
    "num_round = 100"
   ]
  },
  {
   "cell_type": "code",
   "execution_count": 39,
   "id": "0fc59d1e",
   "metadata": {},
   "outputs": [],
   "source": [
    "residual_model = xgb.train(params, dtrain_resid, num_boost_round=num_round)\n",
    "\n",
    "# Predict residuals on test set using XGBoost\n",
    "pred_residuals = residual_model.predict(dtest_resid)\n",
    "\n",
    "# Final hybrid prediction = linear prediction + xgboost residual prediction\n",
    "yy_pred = model.predict(X_test) + pred_residuals"
   ]
  },
  {
   "cell_type": "code",
   "execution_count": 40,
   "id": "fb80684c",
   "metadata": {
    "scrolled": true
   },
   "outputs": [
    {
     "data": {
      "text/html": [
       "<div>\n",
       "<style scoped>\n",
       "    .dataframe tbody tr th:only-of-type {\n",
       "        vertical-align: middle;\n",
       "    }\n",
       "\n",
       "    .dataframe tbody tr th {\n",
       "        vertical-align: top;\n",
       "    }\n",
       "\n",
       "    .dataframe thead th {\n",
       "        text-align: right;\n",
       "    }\n",
       "</style>\n",
       "<table border=\"1\" class=\"dataframe\">\n",
       "  <thead>\n",
       "    <tr style=\"text-align: right;\">\n",
       "      <th></th>\n",
       "      <th>pred_SP500_next</th>\n",
       "      <th>SP500_next</th>\n",
       "    </tr>\n",
       "  </thead>\n",
       "  <tbody>\n",
       "    <tr>\n",
       "      <th>0</th>\n",
       "      <td>2,915.63</td>\n",
       "      <td>2,939.88</td>\n",
       "    </tr>\n",
       "    <tr>\n",
       "      <th>1</th>\n",
       "      <td>2,904.78</td>\n",
       "      <td>2,881.40</td>\n",
       "    </tr>\n",
       "    <tr>\n",
       "      <th>2</th>\n",
       "      <td>2,864.72</td>\n",
       "      <td>2,811.87</td>\n",
       "    </tr>\n",
       "    <tr>\n",
       "      <th>3</th>\n",
       "      <td>2,829.91</td>\n",
       "      <td>2,834.41</td>\n",
       "    </tr>\n",
       "    <tr>\n",
       "      <th>4</th>\n",
       "      <td>2,841.24</td>\n",
       "      <td>2,850.96</td>\n",
       "    </tr>\n",
       "  </tbody>\n",
       "</table>\n",
       "</div>"
      ],
      "text/plain": [
       "   pred_SP500_next  SP500_next\n",
       "0         2,915.63    2,939.88\n",
       "1         2,904.78    2,881.40\n",
       "2         2,864.72    2,811.87\n",
       "3         2,829.91    2,834.41\n",
       "4         2,841.24    2,850.96"
      ]
     },
     "execution_count": 40,
     "metadata": {},
     "output_type": "execute_result"
    },
    {
     "name": "stdout",
     "output_type": "stream",
     "text": [
      "Mean absolute error is \n",
      "27.236883899786452\n",
      "Mean absolute percentage error is \n",
      "0.006485425161033521\n"
     ]
    }
   ],
   "source": [
    "test_output = pd.DataFrame(yy_pred, index = X_test.index, columns = ['pred_SP500_next'])\n",
    "test_output = test_output.merge(y_test, left_index = True, right_index = True)\n",
    "test_output.head()\n",
    "mean_absolute_error = abs(test_output['pred_SP500_next'] - test_output['SP500_next']).mean()\n",
    "print('Mean absolute error is ')\n",
    "print(mean_absolute_error)\n",
    "mean_absolute_percentage_error = abs(test_output['pred_SP500_next'] - test_output['SP500_next']).mean() / test_output['SP500_next'].mean()\n",
    "print('Mean absolute percentage error is ')\n",
    "print(mean_absolute_percentage_error)\n",
    "\n",
    "model_names.append(\"Hybrid (XGBoost)\")\n",
    "model_maes.append(mean_absolute_error)\n",
    "model_mabs.append(mean_absolute_percentage_error)"
   ]
  },
  {
   "cell_type": "code",
   "execution_count": 41,
   "id": "de83b263",
   "metadata": {},
   "outputs": [
    {
     "name": "stdout",
     "output_type": "stream",
     "text": [
      "Hybrid (XGBoost) Model R² score on test set: 0.9981\n",
      "Hybrid (XGBoost) Model R² score on training set: 0.9985\n"
     ]
    }
   ],
   "source": [
    "from sklearn.metrics import r2_score\n",
    "\n",
    "# R² score on test set\n",
    "r2_test = r2_score(y_test, yy_pred)\n",
    "print(f\"Hybrid (XGBoost) Model R² score on test set: {r2_test:.4f}\")\n",
    "\n",
    "# R² score on training set\n",
    "train_linear_pred = model.predict(X_train)\n",
    "train_xgb_resid_pred = residual_model.predict(dtrain_resid)\n",
    "train_hybrid_pred = train_linear_pred + train_xgb_resid_pred\n",
    "\n",
    "r2_train = r2_score(y_train, train_hybrid_pred)\n",
    "print(f\"Hybrid (XGBoost) Model R² score on training set: {r2_train:.4f}\")"
   ]
  },
  {
   "cell_type": "markdown",
   "id": "f190866e",
   "metadata": {},
   "source": [
    "## Plotting a Graph for Comparing Results\n"
   ]
  },
  {
   "cell_type": "code",
   "execution_count": 42,
   "id": "e2b6fa09",
   "metadata": {},
   "outputs": [
    {
     "data": {
      "image/png": "[encoded data removed]",
      "text/plain": [
       "<Figure size 720x432 with 1 Axes>"
      ]
     },
     "metadata": {
      "needs_background": "light"
     },
     "output_type": "display_data"
    }
   ],
   "source": [
    "import matplotlib.pyplot as plt\n",
    "import pandas as pd\n",
    "\n",
    "df = pd.DataFrame({'Model': model_names, 'MAE': model_maes})\n",
    "\n",
    "plt.figure(figsize=(10, 6))\n",
    "bars = plt.bar(df['Model'], df['MAE'], color='cornflowerblue', edgecolor='black')\n",
    "plt.title('Comparison of Mean Absolute Error (MAE) Across Models', fontsize=14)\n",
    "plt.xlabel('Models')\n",
    "plt.ylabel('MAE (lower is better)')\n",
    "plt.xticks(rotation=45)\n",
    "\n",
    "# Annotate bars\n",
    "for bar in bars:\n",
    "    yval = bar.get_height()\n",
    "    plt.text(bar.get_x() + bar.get_width()/2.0, yval + 0.5, f'{yval:.2f}', ha='center', va='bottom')\n",
    "\n",
    "plt.tight_layout()\n",
    "plt.show();\n"
   ]
  },
  {
   "cell_type": "markdown",
   "id": "4fb54d36",
   "metadata": {},
   "source": [
    "# Plotting a Graph using MAPE"
   ]
  },
  {
   "cell_type": "code",
   "execution_count": 43,
   "id": "d762298a",
   "metadata": {},
   "outputs": [
    {
     "data": {
      "image/png": "[encoded data removed]",
      "text/plain": [
       "<Figure size 720x432 with 1 Axes>"
      ]
     },
     "metadata": {
      "needs_background": "light"
     },
     "output_type": "display_data"
    }
   ],
   "source": [
    "import matplotlib.pyplot as plt\n",
    "import pandas as pd\n",
    "\n",
    "# Create DataFrame with model names and MAPE values\n",
    "df = pd.DataFrame({'Model': model_names, 'MAPE': model_mabs})\n",
    "\n",
    "# Create the plot\n",
    "plt.figure(figsize=(10, 6))\n",
    "bars = plt.bar(df['Model'], df['MAPE'], color='cornflowerblue', edgecolor='black')\n",
    "\n",
    "# Add title and axis labels\n",
    "plt.title('Comparison of MAPE Across Models', fontsize=16)\n",
    "plt.xlabel('Machine Learning Models', fontsize=12)\n",
    "plt.ylabel('MAPE (Lower is better)', fontsize=12)\n",
    "plt.xticks(rotation=45)\n",
    "\n",
    "# Annotate each bar with its height (as percentage)\n",
    "for bar in bars:\n",
    "    yval = bar.get_height()\n",
    "    plt.text(bar.get_x() + bar.get_width() / 2.0, yval + 0.0005, f\"{yval:.2%}\", \n",
    "             ha='center', va='bottom', fontsize=10)\n",
    "\n",
    "# Improve layout\n",
    "plt.tight_layout()\n",
    "plt.show();\n"
   ]
  },
  {
   "cell_type": "code",
   "execution_count": null,
   "id": "498ba868",
   "metadata": {},
   "outputs": [],
   "source": []
  },
  {
   "cell_type": "code",
   "execution_count": 44,
   "id": "b26af4b4",
   "metadata": {},
   "outputs": [],
   "source": [
    "# Assume \"data_set\" is your original DataFrame that was used to train the model.\n",
    "# Use the very last row of data_set as the base (last complete known day)\n",
    "last_known = data_set.iloc[-1].copy()\n",
    "\n",
    "\n",
    "# Prepare lists to store predictions and their corresponding dates\n",
    "predictions = []\n",
    "future_dates = []\n",
    "\n",
    "# Define the number of future days to predict (3 in this case)\n",
    "n_future = 3\n",
    "\n",
    "# Function to simulate future feature changes.\n",
    "# You can modify step and noise_scale to reflect your assumptions.\n",
    "def uptrend(x, step=0.002, noise_scale=0.001):\n",
    "    trend = x * (1 + step)  # Increase instead of decrease\n",
    "    noise = x * np.random.normal(0, noise_scale)  # Add small random fluctuation\n",
    "    return trend + noise"
   ]
  },
  {
   "cell_type": "code",
   "execution_count": 45,
   "id": "b2198283",
   "metadata": {},
   "outputs": [],
   "source": [
    "# (Optional) Function to generate day-of-week encoded features based on a date.\n",
    "# Adjust column names as per your training data if needed.\n",
    "def generate_day_of_week_features(date):\n",
    "    day = date.weekday()  # Monday=0, Sunday=6\n",
    "    features = {\n",
    "        'day_of_week_0': 1 if day == 0 else 0,\n",
    "        'day_of_week_1': 1 if day == 1 else 0,\n",
    "        'day_of_week_2': 1 if day == 2 else 0,\n",
    "        'day_of_week_3': 1 if day == 3 else 0,\n",
    "        'day_of_week_4': 1 if day == 4 else 0,\n",
    "    }\n",
    "    return features\n",
    "\n",
    "# Set a start date for predictions (for example, tomorrow's date)\n",
    "start_date = datetime.date.today() + datetime.timedelta(days=1)\n",
    "\n",
    "# List to store the future simulation rows (each as a DataFrame row)\n",
    "future_rows = []\n"
   ]
  },
  {
   "cell_type": "markdown",
   "id": "517693cf",
   "metadata": {},
   "source": [
    "# Hybrid Model Next 3 days"
   ]
  },
  {
   "cell_type": "code",
   "execution_count": 46,
   "id": "0b26f715",
   "metadata": {},
   "outputs": [
    {
     "data": {
      "text/plain": [
       "<Figure size 720x360 with 0 Axes>"
      ]
     },
     "execution_count": 46,
     "metadata": {},
     "output_type": "execute_result"
    },
    {
     "data": {
      "text/plain": [
       "[<matplotlib.lines.Line2D at 0x26a636e40d0>]"
      ]
     },
     "execution_count": 46,
     "metadata": {},
     "output_type": "execute_result"
    },
    {
     "data": {
      "text/plain": [
       "Text(0.5, 1.0, 'Predicted S&P500 for Next 3 Days')"
      ]
     },
     "execution_count": 46,
     "metadata": {},
     "output_type": "execute_result"
    },
    {
     "data": {
      "text/plain": [
       "Text(0.5, 0, 'Date')"
      ]
     },
     "execution_count": 46,
     "metadata": {},
     "output_type": "execute_result"
    },
    {
     "data": {
      "text/plain": [
       "Text(0, 0.5, 'Predicted S&P500')"
      ]
     },
     "execution_count": 46,
     "metadata": {},
     "output_type": "execute_result"
    },
    {
     "data": {
      "text/plain": [
       "<matplotlib.legend.Legend at 0x26a63729040>"
      ]
     },
     "execution_count": 46,
     "metadata": {},
     "output_type": "execute_result"
    },
    {
     "data": {
      "text/plain": [
       "(array([20193.  , 20193.25, 20193.5 , 20193.75, 20194.  , 20194.25,\n",
       "        20194.5 , 20194.75, 20195.  ]),\n",
       " [Text(0, 0, ''),\n",
       "  Text(0, 0, ''),\n",
       "  Text(0, 0, ''),\n",
       "  Text(0, 0, ''),\n",
       "  Text(0, 0, ''),\n",
       "  Text(0, 0, ''),\n",
       "  Text(0, 0, ''),\n",
       "  Text(0, 0, ''),\n",
       "  Text(0, 0, '')])"
      ]
     },
     "execution_count": 46,
     "metadata": {},
     "output_type": "execute_result"
    },
    {
     "data": {
      "image/png": "[encoded data removed]",
      "text/plain": [
       "<Figure size 720x360 with 1 Axes>"
      ]
     },
     "metadata": {
      "needs_background": "light"
     },
     "output_type": "display_data"
    },
    {
     "name": "stdout",
     "output_type": "stream",
     "text": [
      "2025-04-15: Predicted S&P500 = 5271.58\n",
      "2025-04-16: Predicted S&P500 = 5272.33\n",
      "2025-04-17: Predicted S&P500 = 5289.61\n"
     ]
    }
   ],
   "source": [
    "# Iteratively generate predictions for n_future days\n",
    "for i in range(n_future):\n",
    "    # Determine the future date for this prediction\n",
    "    future_date = start_date + datetime.timedelta(days=i)\n",
    "    future_dates.append(future_date)\n",
    "    \n",
    "    # Create a new input row based on the last known row\n",
    "    input_dict = {\n",
    "        # For date features, you might want to store a timestamp or the date itself.\n",
    "        # Here we simulate a Unix timestamp.\n",
    "        'Date': int(datetime.datetime.combine(future_date, datetime.time()).timestamp()),\n",
    "        \n",
    "        # Use the last known or simulated values for the predictors:\n",
    "        'SP500': last_known['SP500'],   # Note: This will be replaced by our prediction\n",
    "        'Futures': last_known['Futures'],\n",
    "        'Nikkei': last_known['Nikkei'],\n",
    "        'FTSE': last_known['FTSE'],\n",
    "        'DAX': last_known['DAX'],\n",
    "        \n",
    "        # Lag features (make sure these match what you used during training)\n",
    "        'SP500_lag_1': last_known['SP500_lag_1'],\n",
    "        'SP500_lag_2': last_known['SP500_lag_2'],\n",
    "        'SP500_lag_3': last_known['SP500_lag_3'],\n",
    "        'DAX_lag_1': last_known['DAX_lag_1'],\n",
    "        'DAX_lag_2': last_known['DAX_lag_2'],\n",
    "        'DAX_lag_3': last_known['DAX_lag_3'],\n",
    "        'FTSE_lag_1': last_known['FTSE_lag_1'],\n",
    "        'FTSE_lag_2': last_known['FTSE_lag_2'],\n",
    "        'FTSE_lag_3': last_known['FTSE_lag_3'],\n",
    "        'Nikkei_lag_1': last_known['Nikkei_lag_1'],\n",
    "        'Nikkei_lag_2': last_known['Nikkei_lag_2'],\n",
    "        'Nikkei_lag_3': last_known['Nikkei_lag_3']\n",
    "    }\n",
    "    \n",
    "    # (Optional) Update/Generate day-of-week features from the future date\n",
    "    input_dict.update(generate_day_of_week_features(future_date))\n",
    "    \n",
    "    # Convert the dictionary to DataFrame, ensuring it has one row\n",
    "    input_df = pd.DataFrame([input_dict])\n",
    "    \n",
    "    # IMPORTANT: Align the input DataFrame with the features the model was trained on.\n",
    "    # This is done by checking model.feature_names_in_ and adding any missing columns.\n",
    "    required_features = model.feature_names_in_\n",
    "    for col in required_features:\n",
    "        if col not in input_df.columns:\n",
    "            input_df[col] = 0.0\n",
    "    input_df = input_df[required_features]\n",
    "    \n",
    "    # Make prediction using the trained hybrid model.\n",
    "    # If you are using a hybrid model (i.e. base + residual correction), then do:\n",
    "    # hybrid_pred = model.predict(input_df)[0] + residual_model.predict(input_df)[0]\n",
    "    # Otherwise, if you're using a single model:\n",
    "    pred = model.predict(input_df)[0]\n",
    "    \n",
    "    # If using the hybrid, uncomment the next two lines and comment out the above one:\n",
    "    # linear_pred = model.predict(input_df)[0]\n",
    "    # residual_pred = rf.predict(input_df)[0]\n",
    "    # hybrid_pred = linear_pred + residual_pred\n",
    "    # pred = hybrid_pred\n",
    "    \n",
    "    predictions.append(pred)\n",
    "    \n",
    "    # Now update the last_known row for recursive forecasting:\n",
    "    new_row = last_known.copy()\n",
    "    \n",
    "    # Replace the target with the new prediction\n",
    "    new_row['SP500'] = pred\n",
    "    \n",
    "    # Update lag features (shift them; this example assumes 3 lags)\n",
    "    new_row['SP500_lag_3'] = new_row['SP500_lag_2']\n",
    "    new_row['SP500_lag_2'] = new_row['SP500_lag_1']\n",
    "    new_row['SP500_lag_1'] = pred\n",
    "\n",
    "    # Simulate future values for other predictors using the uptrend function\n",
    "    for col in ['Futures', 'Nikkei', 'FTSE', 'DAX']:\n",
    "        new_row[col] = uptrend(last_known[col])\n",
    "    \n",
    "    # (Optional) update lag features for other market predictors as needed.\n",
    "    for col in ['DAX', 'FTSE', 'Nikkei']:\n",
    "        for lag in [3, 2, 1]:\n",
    "            new_row[f'{col}_lag_{lag}'] = new_row[col]\n",
    "    \n",
    "    # For the Date column, update it with the current future prediction date\n",
    "    new_row['Date'] = int(datetime.datetime.combine(future_date, datetime.time()).timestamp())\n",
    "    \n",
    "    # Append the new row to future_rows list, and update last_known for the next iteration\n",
    "    future_rows.append(new_row)\n",
    "    last_known = new_row\n",
    "\n",
    "# Plot the 3-day predictions\n",
    "plt.figure(figsize=(10, 5))\n",
    "plt.plot(future_dates, predictions, marker='o', linestyle='-', color='blue', label='Predicted S&P500')\n",
    "plt.title('Predicted S&P500 for Next 3 Days')\n",
    "plt.xlabel('Date')\n",
    "plt.ylabel('Predicted S&P500')\n",
    "plt.grid(True)\n",
    "plt.legend()\n",
    "plt.xticks(rotation=45)\n",
    "plt.tight_layout()\n",
    "plt.show()\n",
    "\n",
    "# Print predictions for reference\n",
    "for date, price in zip(future_dates, predictions):\n",
    "    print(f\"{date}: Predicted S&P500 = {price:.2f}\")\n"
   ]
  },
  {
   "cell_type": "code",
   "execution_count": 47,
   "id": "c08d61fb",
   "metadata": {},
   "outputs": [
    {
     "data": {
      "text/plain": [
       "<Figure size 720x360 with 0 Axes>"
      ]
     },
     "execution_count": 47,
     "metadata": {},
     "output_type": "execute_result"
    },
    {
     "data": {
      "text/plain": [
       "[<matplotlib.lines.Line2D at 0x26a637b1f70>]"
      ]
     },
     "execution_count": 47,
     "metadata": {},
     "output_type": "execute_result"
    },
    {
     "data": {
      "text/plain": [
       "Text(0.5, 1.0, 'Predicted S&P500 for Next 3 Days (Decision Tree)')"
      ]
     },
     "execution_count": 47,
     "metadata": {},
     "output_type": "execute_result"
    },
    {
     "data": {
      "text/plain": [
       "Text(0.5, 0, 'Date')"
      ]
     },
     "execution_count": 47,
     "metadata": {},
     "output_type": "execute_result"
    },
    {
     "data": {
      "text/plain": [
       "Text(0, 0.5, 'Predicted S&P500')"
      ]
     },
     "execution_count": 47,
     "metadata": {},
     "output_type": "execute_result"
    },
    {
     "data": {
      "text/plain": [
       "<matplotlib.legend.Legend at 0x26a637a7eb0>"
      ]
     },
     "execution_count": 47,
     "metadata": {},
     "output_type": "execute_result"
    },
    {
     "data": {
      "text/plain": [
       "(array([20193.  , 20193.25, 20193.5 , 20193.75, 20194.  , 20194.25,\n",
       "        20194.5 , 20194.75, 20195.  ]),\n",
       " [Text(0, 0, ''),\n",
       "  Text(0, 0, ''),\n",
       "  Text(0, 0, ''),\n",
       "  Text(0, 0, ''),\n",
       "  Text(0, 0, ''),\n",
       "  Text(0, 0, ''),\n",
       "  Text(0, 0, ''),\n",
       "  Text(0, 0, ''),\n",
       "  Text(0, 0, '')])"
      ]
     },
     "execution_count": 47,
     "metadata": {},
     "output_type": "execute_result"
    },
    {
     "data": {
      "image/png": "[encoded data removed]",
      "text/plain": [
       "<Figure size 720x360 with 1 Axes>"
      ]
     },
     "metadata": {
      "needs_background": "light"
     },
     "output_type": "display_data"
    },
    {
     "name": "stdout",
     "output_type": "stream",
     "text": [
      "2025-04-15: Predicted S&P500 = 5222.68\n",
      "2025-04-16: Predicted S&P500 = 5222.68\n",
      "2025-04-17: Predicted S&P500 = 5202.39\n"
     ]
    }
   ],
   "source": [
    "import datetime\n",
    "import numpy as np\n",
    "import pandas as pd\n",
    "import matplotlib.pyplot as plt\n",
    "\n",
    "n_future = 3\n",
    "last_known = data_set.iloc[-1].copy()\n",
    "future_dates = []\n",
    "predictions = []\n",
    "future_rows = []\n",
    "\n",
    "start_date = datetime.date.today() + datetime.timedelta(days=1)\n",
    "\n",
    "def uptrend(x, step=0.002, noise_scale=0.001):\n",
    "    trend = x * (1 + step)\n",
    "    noise = x * np.random.normal(0, noise_scale)\n",
    "    return trend + noise\n",
    "\n",
    "for i in range(n_future):\n",
    "    future_date = start_date + datetime.timedelta(days=i)\n",
    "    future_dates.append(future_date)\n",
    "    \n",
    "    input_dict = {\n",
    "        'Date': int(datetime.datetime.combine(future_date, datetime.time()).timestamp()),\n",
    "        'SP500': last_known['SP500'],\n",
    "        'Futures': last_known['Futures'],\n",
    "        'Nikkei': last_known['Nikkei'],\n",
    "        'FTSE': last_known['FTSE'],\n",
    "        'DAX': last_known['DAX'],\n",
    "        'SP500_lag_1': last_known['SP500_lag_1'],\n",
    "        'SP500_lag_2': last_known['SP500_lag_2'],\n",
    "        'SP500_lag_3': last_known['SP500_lag_3'],\n",
    "        'DAX_lag_1': last_known['DAX_lag_1'],\n",
    "        'DAX_lag_2': last_known['DAX_lag_2'],\n",
    "        'DAX_lag_3': last_known['DAX_lag_3'],\n",
    "        'FTSE_lag_1': last_known['FTSE_lag_1'],\n",
    "        'FTSE_lag_2': last_known['FTSE_lag_2'],\n",
    "        'FTSE_lag_3': last_known['FTSE_lag_3'],\n",
    "        'Nikkei_lag_1': last_known['Nikkei_lag_1'],\n",
    "        'Nikkei_lag_2': last_known['Nikkei_lag_2'],\n",
    "        'Nikkei_lag_3': last_known['Nikkei_lag_3']\n",
    "    }\n",
    "    \n",
    "    input_dict.update(generate_day_of_week_features(future_date))\n",
    "    input_df = pd.DataFrame([input_dict])\n",
    "\n",
    "    # Align with clf (DecisionTree) training features\n",
    "    required_features = clf.feature_names_in_\n",
    "    for col in required_features:\n",
    "        if col not in input_df.columns:\n",
    "            input_df[col] = 0.0\n",
    "    input_df = input_df[required_features]\n",
    "\n",
    "    # Predict using Decision Tree\n",
    "    pred = clf.predict(input_df)[0]\n",
    "    predictions.append(pred)\n",
    "\n",
    "    # Update last_known for next day's prediction\n",
    "    new_row = last_known.copy()\n",
    "    new_row['SP500'] = pred\n",
    "    new_row['SP500_lag_3'] = new_row['SP500_lag_2']\n",
    "    new_row['SP500_lag_2'] = new_row['SP500_lag_1']\n",
    "    new_row['SP500_lag_1'] = pred\n",
    "\n",
    "    for col in ['Futures', 'Nikkei', 'FTSE', 'DAX']:\n",
    "        new_row[col] = uptrend(last_known[col])\n",
    "\n",
    "    for col in ['DAX', 'FTSE', 'Nikkei']:\n",
    "        for lag in [3, 2, 1]:\n",
    "            new_row[f'{col}_lag_{lag}'] = new_row[col]\n",
    "\n",
    "    new_row['Date'] = int(datetime.datetime.combine(future_date, datetime.time()).timestamp())\n",
    "    future_rows.append(new_row)\n",
    "    last_known = new_row\n",
    "\n",
    "# Plot\n",
    "plt.figure(figsize=(10, 5))\n",
    "plt.plot(future_dates, predictions, marker='o', linestyle='-', color='blue', label='Predicted S&P500')\n",
    "plt.title('Predicted S&P500 for Next 3 Days (Decision Tree)')\n",
    "plt.xlabel('Date')\n",
    "plt.ylabel('Predicted S&P500')\n",
    "plt.grid(True)\n",
    "plt.legend()\n",
    "plt.xticks(rotation=45)\n",
    "plt.tight_layout()\n",
    "plt.show()\n",
    "\n",
    "# Print predictions\n",
    "for date, price in zip(future_dates, predictions):\n",
    "    print(f\"{date}: Predicted S&P500 = {price:.2f}\")\n"
   ]
  },
  {
   "cell_type": "code",
   "execution_count": 48,
   "id": "60f30952",
   "metadata": {},
   "outputs": [
    {
     "data": {
      "text/plain": [
       "<Figure size 720x360 with 0 Axes>"
      ]
     },
     "execution_count": 48,
     "metadata": {},
     "output_type": "execute_result"
    },
    {
     "data": {
      "text/plain": [
       "[<matplotlib.lines.Line2D at 0x26a5e837520>]"
      ]
     },
     "execution_count": 48,
     "metadata": {},
     "output_type": "execute_result"
    },
    {
     "data": {
      "text/plain": [
       "Text(0.5, 1.0, 'S&P500 Prediction for Next 3 Days (Linear + RF Residual)')"
      ]
     },
     "execution_count": 48,
     "metadata": {},
     "output_type": "execute_result"
    },
    {
     "data": {
      "text/plain": [
       "Text(0.5, 0, 'Date')"
      ]
     },
     "execution_count": 48,
     "metadata": {},
     "output_type": "execute_result"
    },
    {
     "data": {
      "text/plain": [
       "Text(0, 0.5, 'Predicted S&P500')"
      ]
     },
     "execution_count": 48,
     "metadata": {},
     "output_type": "execute_result"
    },
    {
     "data": {
      "text/plain": [
       "<matplotlib.legend.Legend at 0x26a5e837c40>"
      ]
     },
     "execution_count": 48,
     "metadata": {},
     "output_type": "execute_result"
    },
    {
     "data": {
      "text/plain": [
       "(array([20193.  , 20193.25, 20193.5 , 20193.75, 20194.  , 20194.25,\n",
       "        20194.5 , 20194.75, 20195.  ]),\n",
       " [Text(0, 0, ''),\n",
       "  Text(0, 0, ''),\n",
       "  Text(0, 0, ''),\n",
       "  Text(0, 0, ''),\n",
       "  Text(0, 0, ''),\n",
       "  Text(0, 0, ''),\n",
       "  Text(0, 0, ''),\n",
       "  Text(0, 0, ''),\n",
       "  Text(0, 0, '')])"
      ]
     },
     "execution_count": 48,
     "metadata": {},
     "output_type": "execute_result"
    },
    {
     "data": {
      "image/png": "[encoded data removed]",
      "text/plain": [
       "<Figure size 720x360 with 1 Axes>"
      ]
     },
     "metadata": {
      "needs_background": "light"
     },
     "output_type": "display_data"
    },
    {
     "name": "stdout",
     "output_type": "stream",
     "text": [
      "2025-04-15: Predicted S&P500 = 5305.78\n",
      "2025-04-16: Predicted S&P500 = 5329.14\n",
      "2025-04-17: Predicted S&P500 = 5349.21\n"
     ]
    }
   ],
   "source": [
    "import numpy as np\n",
    "import pandas as pd\n",
    "import matplotlib.pyplot as plt\n",
    "import datetime\n",
    "\n",
    "# Start from the last known row of your data\n",
    "last_known = data_set.iloc[-1].copy()\n",
    "predictions = []\n",
    "future_dates = []\n",
    "future_rows = []\n",
    "n_future = 3\n",
    "\n",
    "# Starting from tomorrow\n",
    "start_date = datetime.date.today() + datetime.timedelta(days=1)\n",
    "\n",
    "def uptrend(x, step=0.002, noise_scale=0.001):\n",
    "    trend = x * (1 + step)\n",
    "    noise = x * np.random.normal(0, noise_scale)\n",
    "    return trend + noise\n",
    "\n",
    "for i in range(n_future):\n",
    "    future_date = start_date + datetime.timedelta(days=i)\n",
    "    future_dates.append(future_date)\n",
    "    \n",
    "    input_dict = {\n",
    "        'Date': int(datetime.datetime.combine(future_date, datetime.time()).timestamp()),\n",
    "        'SP500': last_known['SP500'],\n",
    "        'Futures': last_known['Futures'],\n",
    "        'Nikkei': last_known['Nikkei'],\n",
    "        'FTSE': last_known['FTSE'],\n",
    "        'DAX': last_known['DAX'],\n",
    "        'SP500_lag_1': last_known['SP500_lag_1'],\n",
    "        'SP500_lag_2': last_known['SP500_lag_2'],\n",
    "        'SP500_lag_3': last_known['SP500_lag_3'],\n",
    "        'DAX_lag_1': last_known['DAX_lag_1'],\n",
    "        'DAX_lag_2': last_known['DAX_lag_2'],\n",
    "        'DAX_lag_3': last_known['DAX_lag_3'],\n",
    "        'FTSE_lag_1': last_known['FTSE_lag_1'],\n",
    "        'FTSE_lag_2': last_known['FTSE_lag_2'],\n",
    "        'FTSE_lag_3': last_known['FTSE_lag_3'],\n",
    "        'Nikkei_lag_1': last_known['Nikkei_lag_1'],\n",
    "        'Nikkei_lag_2': last_known['Nikkei_lag_2'],\n",
    "        'Nikkei_lag_3': last_known['Nikkei_lag_3']\n",
    "    }\n",
    "    \n",
    "    input_dict.update(generate_day_of_week_features(future_date))\n",
    "    input_df = pd.DataFrame([input_dict])\n",
    "    \n",
    "    # Ensure correct feature order\n",
    "    required_features = model.feature_names_in_\n",
    "    for col in required_features:\n",
    "        if col not in input_df.columns:\n",
    "            input_df[col] = 0.0\n",
    "    input_df = input_df[required_features]\n",
    "\n",
    "    # 💡 Hybrid Prediction = Linear + RF Residual\n",
    "    linear_pred = model.predict(input_df)[0]\n",
    "    residual_pred = rf.predict(input_df)[0]\n",
    "    hybrid_pred = linear_pred + residual_pred\n",
    "\n",
    "    predictions.append(hybrid_pred)\n",
    "\n",
    "    # Update for next prediction\n",
    "    new_row = last_known.copy()\n",
    "    new_row['SP500'] = hybrid_pred\n",
    "    new_row['SP500_lag_3'] = new_row['SP500_lag_2']\n",
    "    new_row['SP500_lag_2'] = new_row['SP500_lag_1']\n",
    "    new_row['SP500_lag_1'] = hybrid_pred\n",
    "\n",
    "    for col in ['Futures', 'Nikkei', 'FTSE', 'DAX']:\n",
    "        new_row[col] = uptrend(last_known[col])\n",
    "\n",
    "    for col in ['DAX', 'FTSE', 'Nikkei']:\n",
    "        for lag in [3, 2, 1]:\n",
    "            new_row[f'{col}_lag_{lag}'] = new_row[col]\n",
    "\n",
    "    new_row['Date'] = int(datetime.datetime.combine(future_date, datetime.time()).timestamp())\n",
    "    future_rows.append(new_row)\n",
    "    last_known = new_row\n",
    "\n",
    "# Plot\n",
    "plt.figure(figsize=(10, 5))\n",
    "plt.plot(future_dates, predictions, marker='o', linestyle='-', color='green', label='Hybrid Model Prediction')\n",
    "plt.title('S&P500 Prediction for Next 3 Days (Linear + RF Residual)')\n",
    "plt.xlabel('Date')\n",
    "plt.ylabel('Predicted S&P500')\n",
    "plt.grid(True)\n",
    "plt.legend()\n",
    "plt.xticks(rotation=45)\n",
    "plt.tight_layout()\n",
    "plt.show()\n",
    "\n",
    "# Print forecasted values\n",
    "for date, price in zip(future_dates, predictions):\n",
    "    print(f\"{date}: Predicted S&P500 = {price:.2f}\")\n"
   ]
  },
  {
   "cell_type": "code",
   "execution_count": null,
   "id": "c49d2311",
   "metadata": {},
   "outputs": [],
   "source": []
  }
 ],
 "metadata": {
  "kernelspec": {
   "display_name": "Python 3 (ipykernel)",
   "language": "python",
   "name": "python3"
  },
  "language_info": {
   "codemirror_mode": {
    "name": "ipython",
    "version": 3
   },
   "file_extension": ".py",
   "mimetype": "text/x-python",
   "name": "python",
   "nbconvert_exporter": "python",
   "pygments_lexer": "ipython3",
   "version": "3.9.12"
  }
 },
 "nbformat": 4,
 "nbformat_minor": 5
}
