{
 "cells": [
  {
   "cell_type": "code",
   "execution_count": 1,
   "id": "e540ef62",
   "metadata": {},
   "outputs": [
    {
     "ename": "RuntimeError",
     "evalue": "module was compiled against NumPy C-API version 0x10 (NumPy 1.23) but the running NumPy has C-API version 0xf. Check the section C-API incompatibility at the Troubleshooting ImportError section at https://numpy.org/devdocs/user/troubleshooting-importerror.html#c-api-incompatibility for indications on how to solve this problem.",
     "output_type": "error",
     "traceback": [
      "\u001b[1;31m---------------------------------------------------------------------------\u001b[0m",
      "\u001b[1;31mRuntimeError\u001b[0m                              Traceback (most recent call last)",
      "\u001b[1;31mRuntimeError\u001b[0m: module was compiled against NumPy C-API version 0x10 (NumPy 1.23) but the running NumPy has C-API version 0xf. Check the section C-API incompatibility at the Troubleshooting ImportError section at https://numpy.org/devdocs/user/troubleshooting-importerror.html#c-api-incompatibility for indications on how to solve this problem."
     ]
    }
   ],
   "source": [
    "# Generic inputs for most ML tasks\n",
    "import pandas as pd\n",
    "import numpy as np\n",
    "import matplotlib.pyplot as plt\n",
    "from sklearn.model_selection import train_test_split\n",
    "from sklearn.linear_model import LinearRegression\n",
    "from sklearn.linear_model import Ridge\n",
    "from sklearn.linear_model import Lasso\n",
    "from sklearn.preprocessing import OneHotEncoder\n",
    "\n",
    "from sklearn import tree\n",
    "from sklearn.tree import DecisionTreeClassifier\n",
    "from sklearn.tree import DecisionTreeRegressor\n",
    "from sklearn.ensemble import BaggingRegressor\n",
    "from xgboost import XGBRegressor\n",
    "from sklearn.ensemble import RandomForestRegressor\n",
    "from sklearn.ensemble import GradientBoostingRegressor\n",
    "# from sklearn.ensemble import HistGradientBoostingRegressor\n",
    "import xgboost as xgb\n",
    "\n",
    "pd.options.display.float_format = '{:,.2f}'.format\n",
    "\n",
    "# setup interactive notebook mode\n",
    "from IPython.core.interactiveshell import InteractiveShell\n",
    "InteractiveShell.ast_node_interactivity = \"all\"\n",
    "\n",
    "from IPython.display import display, HTML\n",
    "\n",
    "# Initialize lists to collect model performance\n",
    "model_names = []\n",
    "model_maes = []\n",
    "model_mabs = []"
   ]
  },
  {
   "cell_type": "markdown",
   "id": "55ab7652",
   "metadata": {},
   "source": [
    "# Read, pre-process and visualize data"
   ]
  },
  {
   "cell_type": "code",
   "execution_count": 2,
   "id": "c64881c8",
   "metadata": {},
   "outputs": [
    {
     "data": {
      "text/html": [
       "<div>\n",
       "<style scoped>\n",
       "    .dataframe tbody tr th:only-of-type {\n",
       "        vertical-align: middle;\n",
       "    }\n",
       "\n",
       "    .dataframe tbody tr th {\n",
       "        vertical-align: top;\n",
       "    }\n",
       "\n",
       "    .dataframe thead th {\n",
       "        text-align: right;\n",
       "    }\n",
       "</style>\n",
       "<table border=\"1\" class=\"dataframe\">\n",
       "  <thead>\n",
       "    <tr style=\"text-align: right;\">\n",
       "      <th></th>\n",
       "      <th>Date</th>\n",
       "      <th>SP500</th>\n",
       "      <th>Futures</th>\n",
       "      <th>Nikkei</th>\n",
       "      <th>FTSE</th>\n",
       "      <th>DAX</th>\n",
       "    </tr>\n",
       "  </thead>\n",
       "  <tbody>\n",
       "    <tr>\n",
       "      <th>0</th>\n",
       "      <td>2025-04-02</td>\n",
       "      <td>5,670.97</td>\n",
       "      <td>5,512.00</td>\n",
       "      <td>35,725.87</td>\n",
       "      <td>8,608.48</td>\n",
       "      <td>22,390.84</td>\n",
       "    </tr>\n",
       "    <tr>\n",
       "      <th>1</th>\n",
       "      <td>2025-04-01</td>\n",
       "      <td>5,633.07</td>\n",
       "      <td>5,674.50</td>\n",
       "      <td>35,624.48</td>\n",
       "      <td>8,634.80</td>\n",
       "      <td>22,539.98</td>\n",
       "    </tr>\n",
       "    <tr>\n",
       "      <th>2</th>\n",
       "      <td>2025-03-31</td>\n",
       "      <td>5,611.85</td>\n",
       "      <td>5,653.25</td>\n",
       "      <td>35,617.56</td>\n",
       "      <td>8,582.81</td>\n",
       "      <td>22,163.49</td>\n",
       "    </tr>\n",
       "    <tr>\n",
       "      <th>3</th>\n",
       "      <td>2025-03-28</td>\n",
       "      <td>5,580.94</td>\n",
       "      <td>5,623.00</td>\n",
       "      <td>37,120.33</td>\n",
       "      <td>8,658.85</td>\n",
       "      <td>22,461.52</td>\n",
       "    </tr>\n",
       "    <tr>\n",
       "      <th>4</th>\n",
       "      <td>2025-03-27</td>\n",
       "      <td>5,693.31</td>\n",
       "      <td>5,739.25</td>\n",
       "      <td>37,799.97</td>\n",
       "      <td>8,666.12</td>\n",
       "      <td>22,678.74</td>\n",
       "    </tr>\n",
       "  </tbody>\n",
       "</table>\n",
       "</div>"
      ],
      "text/plain": [
       "         Date    SP500  Futures    Nikkei     FTSE       DAX\n",
       "0  2025-04-02 5,670.97 5,512.00 35,725.87 8,608.48 22,390.84\n",
       "1  2025-04-01 5,633.07 5,674.50 35,624.48 8,634.80 22,539.98\n",
       "2  2025-03-31 5,611.85 5,653.25 35,617.56 8,582.81 22,163.49\n",
       "3  2025-03-28 5,580.94 5,623.00 37,120.33 8,658.85 22,461.52\n",
       "4  2025-03-27 5,693.31 5,739.25 37,799.97 8,666.12 22,678.74"
      ]
     },
     "execution_count": 2,
     "metadata": {},
     "output_type": "execute_result"
    }
   ],
   "source": [
    "data_set = pd.read_csv('MultipleSources-2019-2025.csv')\n",
    "data_set.head()"
   ]
  },
  {
   "cell_type": "code",
   "execution_count": 3,
   "id": "3570ddaf",
   "metadata": {},
   "outputs": [
    {
     "data": {
      "text/plain": [
       "1509"
      ]
     },
     "execution_count": 3,
     "metadata": {},
     "output_type": "execute_result"
    },
    {
     "data": {
      "text/plain": [
       "Date        0\n",
       "SP500       0\n",
       "Futures     0\n",
       "Nikkei     98\n",
       "FTSE       30\n",
       "DAX        24\n",
       "dtype: int64"
      ]
     },
     "execution_count": 3,
     "metadata": {},
     "output_type": "execute_result"
    },
    {
     "data": {
      "text/plain": [
       "Date        object\n",
       "SP500      float64\n",
       "Futures    float64\n",
       "Nikkei     float64\n",
       "FTSE       float64\n",
       "DAX        float64\n",
       "dtype: object"
      ]
     },
     "execution_count": 3,
     "metadata": {},
     "output_type": "execute_result"
    }
   ],
   "source": [
    "len(data_set)\n",
    "data_set.isna().sum()\n",
    "data_set.dtypes"
   ]
  },
  {
   "cell_type": "code",
   "execution_count": 4,
   "id": "99397fc7",
   "metadata": {
    "scrolled": false
   },
   "outputs": [
    {
     "data": {
      "text/plain": [
       "Index(['Date', 'SP500', 'Futures', 'Nikkei', 'FTSE', 'DAX'], dtype='object')"
      ]
     },
     "execution_count": 4,
     "metadata": {},
     "output_type": "execute_result"
    },
    {
     "data": {
      "text/html": [
       "<div>\n",
       "<style scoped>\n",
       "    .dataframe tbody tr th:only-of-type {\n",
       "        vertical-align: middle;\n",
       "    }\n",
       "\n",
       "    .dataframe tbody tr th {\n",
       "        vertical-align: top;\n",
       "    }\n",
       "\n",
       "    .dataframe thead th {\n",
       "        text-align: right;\n",
       "    }\n",
       "</style>\n",
       "<table border=\"1\" class=\"dataframe\">\n",
       "  <thead>\n",
       "    <tr style=\"text-align: right;\">\n",
       "      <th></th>\n",
       "      <th>Date</th>\n",
       "      <th>SP500</th>\n",
       "      <th>Futures</th>\n",
       "      <th>Nikkei</th>\n",
       "      <th>FTSE</th>\n",
       "      <th>DAX</th>\n",
       "      <th>day_of_week</th>\n",
       "    </tr>\n",
       "  </thead>\n",
       "  <tbody>\n",
       "    <tr>\n",
       "      <th>1504</th>\n",
       "      <td>1554768000</td>\n",
       "      <td>2,878.20</td>\n",
       "      <td>2,882.50</td>\n",
       "      <td>21,802.59</td>\n",
       "      <td>7,425.57</td>\n",
       "      <td>11,850.57</td>\n",
       "      <td>1</td>\n",
       "    </tr>\n",
       "    <tr>\n",
       "      <th>1505</th>\n",
       "      <td>1554681600</td>\n",
       "      <td>2,895.77</td>\n",
       "      <td>2,898.25</td>\n",
       "      <td>21,761.65</td>\n",
       "      <td>7,451.89</td>\n",
       "      <td>11,963.40</td>\n",
       "      <td>0</td>\n",
       "    </tr>\n",
       "    <tr>\n",
       "      <th>1506</th>\n",
       "      <td>1554422400</td>\n",
       "      <td>2,892.74</td>\n",
       "      <td>2,896.00</td>\n",
       "      <td>21,807.50</td>\n",
       "      <td>7,446.87</td>\n",
       "      <td>12,009.75</td>\n",
       "      <td>4</td>\n",
       "    </tr>\n",
       "    <tr>\n",
       "      <th>1507</th>\n",
       "      <td>1554336000</td>\n",
       "      <td>2,879.39</td>\n",
       "      <td>2,882.75</td>\n",
       "      <td>21,724.95</td>\n",
       "      <td>7,401.94</td>\n",
       "      <td>11,988.01</td>\n",
       "      <td>3</td>\n",
       "    </tr>\n",
       "    <tr>\n",
       "      <th>1508</th>\n",
       "      <td>1554249600</td>\n",
       "      <td>2,873.40</td>\n",
       "      <td>2,879.75</td>\n",
       "      <td>21,713.21</td>\n",
       "      <td>7,418.28</td>\n",
       "      <td>11,954.40</td>\n",
       "      <td>2</td>\n",
       "    </tr>\n",
       "  </tbody>\n",
       "</table>\n",
       "</div>"
      ],
      "text/plain": [
       "            Date    SP500  Futures    Nikkei     FTSE       DAX  day_of_week\n",
       "1504  1554768000 2,878.20 2,882.50 21,802.59 7,425.57 11,850.57            1\n",
       "1505  1554681600 2,895.77 2,898.25 21,761.65 7,451.89 11,963.40            0\n",
       "1506  1554422400 2,892.74 2,896.00 21,807.50 7,446.87 12,009.75            4\n",
       "1507  1554336000 2,879.39 2,882.75 21,724.95 7,401.94 11,988.01            3\n",
       "1508  1554249600 2,873.40 2,879.75 21,713.21 7,418.28 11,954.40            2"
      ]
     },
     "execution_count": 4,
     "metadata": {},
     "output_type": "execute_result"
    }
   ],
   "source": [
    "data_set.columns\n",
    "\n",
    "# Step 1: Convert to datetime\n",
    "data_set['Date'] = pd.to_datetime(data_set['Date'])\n",
    "\n",
    "# ✅ Step 2: Extract day of week\n",
    "data_set['day_of_week'] = data_set['Date'].dt.dayofweek  # 0=Mon, ..., 6=Sun\n",
    "\n",
    "# Step 3 (optional): If you still want UNIX timestamp\n",
    "data_set['Date'] = data_set['Date'].astype(np.int64) // 10**9\n",
    "\n",
    "data_set.tail()"
   ]
  },
  {
   "cell_type": "code",
   "execution_count": 5,
   "id": "bf9ca739",
   "metadata": {},
   "outputs": [],
   "source": [
    "# Reshape to 2D as required by OneHotEncoder\n",
    "encoder = OneHotEncoder(handle_unknown='ignore', sparse=False)\n",
    "day_of_week_encoded = encoder.fit_transform(data_set[['day_of_week']])"
   ]
  },
  {
   "cell_type": "code",
   "execution_count": 6,
   "id": "c8c747d7",
   "metadata": {},
   "outputs": [],
   "source": [
    "# Get feature names like ['day_of_week_0', 'day_of_week_1', ...]\n",
    "encoded_cols = encoder.get_feature_names_out(['day_of_week'])\n",
    "encoded_df = pd.DataFrame(day_of_week_encoded, columns=encoded_cols, index=data_set.index)\n",
    "data_set = pd.concat([data_set.drop(columns=['day_of_week']), encoded_df], axis=1)"
   ]
  },
  {
   "cell_type": "code",
   "execution_count": 7,
   "id": "df584e06",
   "metadata": {},
   "outputs": [
    {
     "data": {
      "text/html": [
       "<div>\n",
       "<style scoped>\n",
       "    .dataframe tbody tr th:only-of-type {\n",
       "        vertical-align: middle;\n",
       "    }\n",
       "\n",
       "    .dataframe tbody tr th {\n",
       "        vertical-align: top;\n",
       "    }\n",
       "\n",
       "    .dataframe thead th {\n",
       "        text-align: right;\n",
       "    }\n",
       "</style>\n",
       "<table border=\"1\" class=\"dataframe\">\n",
       "  <thead>\n",
       "    <tr style=\"text-align: right;\">\n",
       "      <th></th>\n",
       "      <th>Date</th>\n",
       "      <th>SP500</th>\n",
       "      <th>Futures</th>\n",
       "      <th>Nikkei</th>\n",
       "      <th>FTSE</th>\n",
       "      <th>DAX</th>\n",
       "      <th>day_of_week_0</th>\n",
       "      <th>day_of_week_1</th>\n",
       "      <th>day_of_week_2</th>\n",
       "      <th>day_of_week_3</th>\n",
       "      <th>...</th>\n",
       "      <th>SP500_lag_3</th>\n",
       "      <th>DAX_lag_1</th>\n",
       "      <th>DAX_lag_2</th>\n",
       "      <th>DAX_lag_3</th>\n",
       "      <th>FTSE_lag_1</th>\n",
       "      <th>FTSE_lag_2</th>\n",
       "      <th>FTSE_lag_3</th>\n",
       "      <th>Nikkei_lag_1</th>\n",
       "      <th>Nikkei_lag_2</th>\n",
       "      <th>Nikkei_lag_3</th>\n",
       "    </tr>\n",
       "  </thead>\n",
       "  <tbody>\n",
       "    <tr>\n",
       "      <th>3</th>\n",
       "      <td>1743120000</td>\n",
       "      <td>5,580.94</td>\n",
       "      <td>5,623.00</td>\n",
       "      <td>37,120.33</td>\n",
       "      <td>8,658.85</td>\n",
       "      <td>22,461.52</td>\n",
       "      <td>0.00</td>\n",
       "      <td>0.00</td>\n",
       "      <td>0.00</td>\n",
       "      <td>0.00</td>\n",
       "      <td>...</td>\n",
       "      <td>5,670.97</td>\n",
       "      <td>22,163.49</td>\n",
       "      <td>22,539.98</td>\n",
       "      <td>22,390.84</td>\n",
       "      <td>8,582.81</td>\n",
       "      <td>8,634.80</td>\n",
       "      <td>8,608.48</td>\n",
       "      <td>35,617.56</td>\n",
       "      <td>35,624.48</td>\n",
       "      <td>35,725.87</td>\n",
       "    </tr>\n",
       "    <tr>\n",
       "      <th>4</th>\n",
       "      <td>1743033600</td>\n",
       "      <td>5,693.31</td>\n",
       "      <td>5,739.25</td>\n",
       "      <td>37,799.97</td>\n",
       "      <td>8,666.12</td>\n",
       "      <td>22,678.74</td>\n",
       "      <td>0.00</td>\n",
       "      <td>0.00</td>\n",
       "      <td>0.00</td>\n",
       "      <td>1.00</td>\n",
       "      <td>...</td>\n",
       "      <td>5,633.07</td>\n",
       "      <td>22,461.52</td>\n",
       "      <td>22,163.49</td>\n",
       "      <td>22,539.98</td>\n",
       "      <td>8,658.85</td>\n",
       "      <td>8,582.81</td>\n",
       "      <td>8,634.80</td>\n",
       "      <td>37,120.33</td>\n",
       "      <td>35,617.56</td>\n",
       "      <td>35,624.48</td>\n",
       "    </tr>\n",
       "    <tr>\n",
       "      <th>5</th>\n",
       "      <td>1742947200</td>\n",
       "      <td>5,712.20</td>\n",
       "      <td>5,759.50</td>\n",
       "      <td>38,027.29</td>\n",
       "      <td>8,689.59</td>\n",
       "      <td>22,839.03</td>\n",
       "      <td>0.00</td>\n",
       "      <td>0.00</td>\n",
       "      <td>1.00</td>\n",
       "      <td>0.00</td>\n",
       "      <td>...</td>\n",
       "      <td>5,611.85</td>\n",
       "      <td>22,678.74</td>\n",
       "      <td>22,461.52</td>\n",
       "      <td>22,163.49</td>\n",
       "      <td>8,666.12</td>\n",
       "      <td>8,658.85</td>\n",
       "      <td>8,582.81</td>\n",
       "      <td>37,799.97</td>\n",
       "      <td>37,120.33</td>\n",
       "      <td>35,617.56</td>\n",
       "    </tr>\n",
       "    <tr>\n",
       "      <th>6</th>\n",
       "      <td>1742860800</td>\n",
       "      <td>5,776.65</td>\n",
       "      <td>5,826.50</td>\n",
       "      <td>37,780.54</td>\n",
       "      <td>8,663.80</td>\n",
       "      <td>23,109.79</td>\n",
       "      <td>0.00</td>\n",
       "      <td>1.00</td>\n",
       "      <td>0.00</td>\n",
       "      <td>0.00</td>\n",
       "      <td>...</td>\n",
       "      <td>5,580.94</td>\n",
       "      <td>22,839.03</td>\n",
       "      <td>22,678.74</td>\n",
       "      <td>22,461.52</td>\n",
       "      <td>8,689.59</td>\n",
       "      <td>8,666.12</td>\n",
       "      <td>8,658.85</td>\n",
       "      <td>38,027.29</td>\n",
       "      <td>37,799.97</td>\n",
       "      <td>37,120.33</td>\n",
       "    </tr>\n",
       "    <tr>\n",
       "      <th>7</th>\n",
       "      <td>1742774400</td>\n",
       "      <td>5,767.57</td>\n",
       "      <td>5,815.50</td>\n",
       "      <td>37,608.49</td>\n",
       "      <td>8,638.01</td>\n",
       "      <td>22,852.66</td>\n",
       "      <td>1.00</td>\n",
       "      <td>0.00</td>\n",
       "      <td>0.00</td>\n",
       "      <td>0.00</td>\n",
       "      <td>...</td>\n",
       "      <td>5,693.31</td>\n",
       "      <td>23,109.79</td>\n",
       "      <td>22,839.03</td>\n",
       "      <td>22,678.74</td>\n",
       "      <td>8,663.80</td>\n",
       "      <td>8,689.59</td>\n",
       "      <td>8,666.12</td>\n",
       "      <td>37,780.54</td>\n",
       "      <td>38,027.29</td>\n",
       "      <td>37,799.97</td>\n",
       "    </tr>\n",
       "  </tbody>\n",
       "</table>\n",
       "<p>5 rows × 23 columns</p>\n",
       "</div>"
      ],
      "text/plain": [
       "         Date    SP500  Futures    Nikkei     FTSE       DAX  day_of_week_0  \\\n",
       "3  1743120000 5,580.94 5,623.00 37,120.33 8,658.85 22,461.52           0.00   \n",
       "4  1743033600 5,693.31 5,739.25 37,799.97 8,666.12 22,678.74           0.00   \n",
       "5  1742947200 5,712.20 5,759.50 38,027.29 8,689.59 22,839.03           0.00   \n",
       "6  1742860800 5,776.65 5,826.50 37,780.54 8,663.80 23,109.79           0.00   \n",
       "7  1742774400 5,767.57 5,815.50 37,608.49 8,638.01 22,852.66           1.00   \n",
       "\n",
       "   day_of_week_1  day_of_week_2  day_of_week_3  ...  SP500_lag_3  DAX_lag_1  \\\n",
       "3           0.00           0.00           0.00  ...     5,670.97  22,163.49   \n",
       "4           0.00           0.00           1.00  ...     5,633.07  22,461.52   \n",
       "5           0.00           1.00           0.00  ...     5,611.85  22,678.74   \n",
       "6           1.00           0.00           0.00  ...     5,580.94  22,839.03   \n",
       "7           0.00           0.00           0.00  ...     5,693.31  23,109.79   \n",
       "\n",
       "   DAX_lag_2  DAX_lag_3  FTSE_lag_1  FTSE_lag_2  FTSE_lag_3  Nikkei_lag_1  \\\n",
       "3  22,539.98  22,390.84    8,582.81    8,634.80    8,608.48     35,617.56   \n",
       "4  22,163.49  22,539.98    8,658.85    8,582.81    8,634.80     37,120.33   \n",
       "5  22,461.52  22,163.49    8,666.12    8,658.85    8,582.81     37,799.97   \n",
       "6  22,678.74  22,461.52    8,689.59    8,666.12    8,658.85     38,027.29   \n",
       "7  22,839.03  22,678.74    8,663.80    8,689.59    8,666.12     37,780.54   \n",
       "\n",
       "   Nikkei_lag_2  Nikkei_lag_3  \n",
       "3     35,624.48     35,725.87  \n",
       "4     35,617.56     35,624.48  \n",
       "5     37,120.33     35,617.56  \n",
       "6     37,799.97     37,120.33  \n",
       "7     38,027.29     37,799.97  \n",
       "\n",
       "[5 rows x 23 columns]"
      ]
     },
     "execution_count": 7,
     "metadata": {},
     "output_type": "execute_result"
    }
   ],
   "source": [
    "def add_lag_features(df, columns, lags):\n",
    "    \"\"\"\n",
    "    Adds lag features for given columns and lag days.\n",
    "\n",
    "    Parameters:\n",
    "    df (pd.DataFrame): Original dataset\n",
    "    columns (list): Columns for which to create lag features\n",
    "    lags (list): List of lag values (e.g., [1, 2, 3])\n",
    "\n",
    "    Returns:\n",
    "    pd.DataFrame: Dataset with new lag features\n",
    "    \"\"\"\n",
    "    for col in columns:\n",
    "        for lag in lags:\n",
    "            df[f'{col}_lag_{lag}'] = df[col].shift(lag)\n",
    "    return df\n",
    "\n",
    "\n",
    "lag_columns = ['SP500', 'DAX', 'FTSE', 'Nikkei']\n",
    "lag_days = [1, 2, 3] \n",
    "\n",
    "data_set = add_lag_features(data_set, lag_columns, lag_days)\n",
    "data_set = data_set.dropna()  # Drop rows with NaNs from lags\n",
    "data_set.head()\n",
    "\n",
    "\n",
    "data_set = data_set.sort_values(by='Date').reset_index(drop=True)\n",
    "\n"
   ]
  },
  {
   "cell_type": "code",
   "execution_count": 8,
   "id": "cab5d80b",
   "metadata": {},
   "outputs": [],
   "source": [
    "data_set['SP500_next'] = data_set['SP500'].shift(-1)\n",
    "data_set = data_set.dropna()\n"
   ]
  },
  {
   "cell_type": "code",
   "execution_count": 9,
   "id": "ae97a00e",
   "metadata": {},
   "outputs": [],
   "source": [
    "\n",
    "# Parameters for sliding window\n",
    "window_size = 10\n",
    "train_size = 8\n",
    "test_size = 2\n",
    "\n",
    "X_full = data_set.drop(columns=['SP500_next'])\n",
    "y_full = data_set['SP500_next']\n",
    "\n",
    "# Containers to hold concatenated training and testing data\n",
    "X_train_list, X_test_list = [], []\n",
    "y_train_list, y_test_list = [], []\n",
    "\n",
    "# Sliding window generation\n",
    "for start in range(0, len(X_full) - window_size + 1, test_size):  # step by test size\n",
    "    end = start + window_size\n",
    "    X_window = X_full.iloc[start:end]\n",
    "    y_window = y_full.iloc[start:end]\n",
    "    \n",
    "    X_train_list.append(X_window.iloc[:train_size])\n",
    "    y_train_list.append(y_window.iloc[:train_size])\n",
    "    X_test_list.append(X_window.iloc[train_size:])\n",
    "    y_test_list.append(y_window.iloc[train_size:])\n",
    "\n",
    "# Concatenate all windows together to get final train-test sets\n",
    "X_train = pd.concat(X_train_list, ignore_index=True)\n",
    "y_train = pd.concat(y_train_list, ignore_index=True)\n",
    "X_test = pd.concat(X_test_list, ignore_index=True)\n",
    "y_test = pd.concat(y_test_list, ignore_index=True)\n"
   ]
  },
  {
   "cell_type": "markdown",
   "id": "9d422bca",
   "metadata": {},
   "source": [
    "# Decison tree\n"
   ]
  },
  {
   "cell_type": "code",
   "execution_count": 10,
   "id": "e7b21b98",
   "metadata": {},
   "outputs": [],
   "source": [
    "clf = DecisionTreeRegressor(random_state=50)\n",
    "\n",
    "clf = clf.fit(X_train, y_train) "
   ]
  },
  {
   "cell_type": "code",
   "execution_count": 11,
   "id": "1e80b198",
   "metadata": {},
   "outputs": [
    {
     "data": {
      "text/plain": [
       "Index(['Date', 'SP500', 'Futures', 'Nikkei', 'FTSE', 'DAX', 'day_of_week_0',\n",
       "       'day_of_week_1', 'day_of_week_2', 'day_of_week_3', 'day_of_week_4',\n",
       "       'SP500_lag_1', 'SP500_lag_2', 'SP500_lag_3', 'DAX_lag_1', 'DAX_lag_2',\n",
       "       'DAX_lag_3', 'FTSE_lag_1', 'FTSE_lag_2', 'FTSE_lag_3', 'Nikkei_lag_1',\n",
       "       'Nikkei_lag_2', 'Nikkei_lag_3'],\n",
       "      dtype='object')"
      ]
     },
     "execution_count": 11,
     "metadata": {},
     "output_type": "execute_result"
    },
    {
     "data": {
      "text/plain": [
       "array([3.55036789e-04, 3.96600958e-05, 1.91522104e-05, 1.37728983e-05,\n",
       "       1.03886135e-06, 7.05378525e-05, 1.17151619e-06, 3.22986762e-07,\n",
       "       1.41335417e-07, 1.11929022e-07, 4.88809728e-06, 9.95381259e-01,\n",
       "       1.21243161e-03, 1.65407547e-04, 2.46098890e-03, 4.55479468e-05,\n",
       "       5.04295180e-05, 1.96184153e-05, 1.93123116e-05, 2.70235993e-05,\n",
       "       4.99808757e-05, 4.51147084e-05, 1.70507515e-05])"
      ]
     },
     "execution_count": 11,
     "metadata": {},
     "output_type": "execute_result"
    }
   ],
   "source": [
    "X_train.columns\n",
    "clf.feature_importances_"
   ]
  },
  {
   "cell_type": "code",
   "execution_count": 12,
   "id": "5f160e8a",
   "metadata": {},
   "outputs": [
    {
     "data": {
      "text/html": [
       "<div>\n",
       "<style scoped>\n",
       "    .dataframe tbody tr th:only-of-type {\n",
       "        vertical-align: middle;\n",
       "    }\n",
       "\n",
       "    .dataframe tbody tr th {\n",
       "        vertical-align: top;\n",
       "    }\n",
       "\n",
       "    .dataframe thead th {\n",
       "        text-align: right;\n",
       "    }\n",
       "</style>\n",
       "<table border=\"1\" class=\"dataframe\">\n",
       "  <thead>\n",
       "    <tr style=\"text-align: right;\">\n",
       "      <th></th>\n",
       "      <th>pred_SP500_next</th>\n",
       "      <th>SP500_next</th>\n",
       "    </tr>\n",
       "  </thead>\n",
       "  <tbody>\n",
       "    <tr>\n",
       "      <th>0</th>\n",
       "      <td>2,933.68</td>\n",
       "      <td>2,933.68</td>\n",
       "    </tr>\n",
       "    <tr>\n",
       "      <th>1</th>\n",
       "      <td>2,884.05</td>\n",
       "      <td>2,884.05</td>\n",
       "    </tr>\n",
       "    <tr>\n",
       "      <th>2</th>\n",
       "      <td>2,879.42</td>\n",
       "      <td>2,879.42</td>\n",
       "    </tr>\n",
       "    <tr>\n",
       "      <th>3</th>\n",
       "      <td>2,870.72</td>\n",
       "      <td>2,870.72</td>\n",
       "    </tr>\n",
       "    <tr>\n",
       "      <th>4</th>\n",
       "      <td>2,881.40</td>\n",
       "      <td>2,881.40</td>\n",
       "    </tr>\n",
       "  </tbody>\n",
       "</table>\n",
       "</div>"
      ],
      "text/plain": [
       "   pred_SP500_next  SP500_next\n",
       "0         2,933.68    2,933.68\n",
       "1         2,884.05    2,884.05\n",
       "2         2,879.42    2,879.42\n",
       "3         2,870.72    2,870.72\n",
       "4         2,881.40    2,881.40"
      ]
     },
     "execution_count": 12,
     "metadata": {},
     "output_type": "execute_result"
    },
    {
     "name": "stdout",
     "output_type": "stream",
     "text": [
      "Mean absolute error is \n",
      "0.06505545286506416\n",
      "Mean absolute percentage error is \n",
      "1.5535711181598786e-05\n"
     ]
    }
   ],
   "source": [
    "test_output = pd.DataFrame(clf.predict(X_test), index = X_test.index, columns = ['pred_SP500_next'])\n",
    "test_output = test_output.merge(y_test, left_index = True, right_index = True)\n",
    "test_output.head()\n",
    "mean_absolute_error = abs(test_output['pred_SP500_next'] - test_output['SP500_next']).mean()\n",
    "print('Mean absolute error is ')\n",
    "print(mean_absolute_error)\n",
    "mean_absolute_percentage_error = abs(test_output['pred_SP500_next'] - test_output['SP500_next']).mean() / test_output['SP500_next'].mean()\n",
    "print('Mean absolute percentage error is ')\n",
    "print(mean_absolute_percentage_error)\n",
    "\n",
    "model_names.append(\"Decision Tree\")\n",
    "model_maes.append(mean_absolute_error)\n",
    "model_mabs.append(mean_absolute_percentage_error)"
   ]
  },
  {
   "cell_type": "markdown",
   "id": "21b60116",
   "metadata": {},
   "source": [
    "## Bagging Regressor ## "
   ]
  },
  {
   "cell_type": "code",
   "execution_count": 13,
   "id": "6a9699be",
   "metadata": {},
   "outputs": [],
   "source": [
    "regr = BaggingRegressor(random_state=50, n_estimators = 200, max_samples = 800)\n",
    "\n",
    "regr = regr.fit(X_train, y_train) "
   ]
  },
  {
   "cell_type": "code",
   "execution_count": 14,
   "id": "7598e234",
   "metadata": {},
   "outputs": [
    {
     "data": {
      "text/html": [
       "<div>\n",
       "<style scoped>\n",
       "    .dataframe tbody tr th:only-of-type {\n",
       "        vertical-align: middle;\n",
       "    }\n",
       "\n",
       "    .dataframe tbody tr th {\n",
       "        vertical-align: top;\n",
       "    }\n",
       "\n",
       "    .dataframe thead th {\n",
       "        text-align: right;\n",
       "    }\n",
       "</style>\n",
       "<table border=\"1\" class=\"dataframe\">\n",
       "  <thead>\n",
       "    <tr style=\"text-align: right;\">\n",
       "      <th></th>\n",
       "      <th>pred_SP500_next</th>\n",
       "      <th>SP500_next</th>\n",
       "    </tr>\n",
       "  </thead>\n",
       "  <tbody>\n",
       "    <tr>\n",
       "      <th>0</th>\n",
       "      <td>2,918.96</td>\n",
       "      <td>2,933.68</td>\n",
       "    </tr>\n",
       "    <tr>\n",
       "      <th>1</th>\n",
       "      <td>2,905.13</td>\n",
       "      <td>2,884.05</td>\n",
       "    </tr>\n",
       "    <tr>\n",
       "      <th>2</th>\n",
       "      <td>2,877.19</td>\n",
       "      <td>2,879.42</td>\n",
       "    </tr>\n",
       "    <tr>\n",
       "      <th>3</th>\n",
       "      <td>2,869.97</td>\n",
       "      <td>2,870.72</td>\n",
       "    </tr>\n",
       "    <tr>\n",
       "      <th>4</th>\n",
       "      <td>2,878.30</td>\n",
       "      <td>2,881.40</td>\n",
       "    </tr>\n",
       "  </tbody>\n",
       "</table>\n",
       "</div>"
      ],
      "text/plain": [
       "   pred_SP500_next  SP500_next\n",
       "0         2,918.96    2,933.68\n",
       "1         2,905.13    2,884.05\n",
       "2         2,877.19    2,879.42\n",
       "3         2,869.97    2,870.72\n",
       "4         2,878.30    2,881.40"
      ]
     },
     "execution_count": 14,
     "metadata": {},
     "output_type": "execute_result"
    },
    {
     "name": "stdout",
     "output_type": "stream",
     "text": [
      "Mean absolute error is \n",
      "6.619556608133328\n",
      "Mean absolute percentage error is \n",
      "0.001580797843764294\n"
     ]
    }
   ],
   "source": [
    "test_output = pd.DataFrame(regr.predict(X_test), index = X_test.index, columns = ['pred_SP500_next'])\n",
    "test_output = test_output.merge(y_test, left_index = True, right_index = True)\n",
    "test_output.head()\n",
    "mean_absolute_error = abs(test_output['pred_SP500_next'] - test_output['SP500_next']).mean()\n",
    "print('Mean absolute error is ')\n",
    "print(mean_absolute_error)\n",
    "mean_absolute_percentage_error = abs(test_output['pred_SP500_next'] - test_output['SP500_next']).mean() / test_output['SP500_next'].mean()\n",
    "print('Mean absolute percentage error is ')\n",
    "print(mean_absolute_percentage_error)\n",
    "\n",
    "model_names.append(\"Bagging Regressor\")\n",
    "model_maes.append(mean_absolute_error)\n",
    "model_mabs.append(mean_absolute_percentage_error)"
   ]
  },
  {
   "cell_type": "markdown",
   "id": "51327dc2",
   "metadata": {},
   "source": [
    "## Random Forest Regressor "
   ]
  },
  {
   "cell_type": "code",
   "execution_count": 15,
   "id": "628133a6",
   "metadata": {},
   "outputs": [],
   "source": [
    "rf = RandomForestRegressor(random_state=50, min_samples_leaf = 3, max_features = \"sqrt\")\n",
    "\n",
    "rf = rf.fit(X_train, y_train) \n"
   ]
  },
  {
   "cell_type": "code",
   "execution_count": 16,
   "id": "5b6b1dc8",
   "metadata": {},
   "outputs": [
    {
     "data": {
      "text/plain": [
       "Index(['Date', 'SP500', 'Futures', 'Nikkei', 'FTSE', 'DAX', 'day_of_week_0',\n",
       "       'day_of_week_1', 'day_of_week_2', 'day_of_week_3', 'day_of_week_4',\n",
       "       'SP500_lag_1', 'SP500_lag_2', 'SP500_lag_3', 'DAX_lag_1', 'DAX_lag_2',\n",
       "       'DAX_lag_3', 'FTSE_lag_1', 'FTSE_lag_2', 'FTSE_lag_3', 'Nikkei_lag_1',\n",
       "       'Nikkei_lag_2', 'Nikkei_lag_3'],\n",
       "      dtype='object')"
      ]
     },
     "execution_count": 16,
     "metadata": {},
     "output_type": "execute_result"
    },
    {
     "data": {
      "text/plain": [
       "array([5.70698765e-02, 1.33117109e-01, 1.03968780e-01, 1.94592032e-02,\n",
       "       1.41280274e-02, 2.44070587e-02, 9.69000207e-06, 1.96678017e-05,\n",
       "       8.11532323e-06, 9.54282393e-06, 1.03062025e-05, 1.54136692e-01,\n",
       "       1.77444574e-01, 9.47923928e-02, 5.81966940e-02, 3.79870620e-02,\n",
       "       1.97752628e-02, 9.31543346e-03, 2.53435216e-03, 3.01809637e-03,\n",
       "       4.35197053e-02, 2.30283441e-02, 2.40440142e-02])"
      ]
     },
     "execution_count": 16,
     "metadata": {},
     "output_type": "execute_result"
    }
   ],
   "source": [
    "X_train.columns\n",
    "rf.feature_importances_"
   ]
  },
  {
   "cell_type": "code",
   "execution_count": 17,
   "id": "b48d974c",
   "metadata": {},
   "outputs": [
    {
     "data": {
      "text/html": [
       "<div>\n",
       "<style scoped>\n",
       "    .dataframe tbody tr th:only-of-type {\n",
       "        vertical-align: middle;\n",
       "    }\n",
       "\n",
       "    .dataframe tbody tr th {\n",
       "        vertical-align: top;\n",
       "    }\n",
       "\n",
       "    .dataframe thead th {\n",
       "        text-align: right;\n",
       "    }\n",
       "</style>\n",
       "<table border=\"1\" class=\"dataframe\">\n",
       "  <thead>\n",
       "    <tr style=\"text-align: right;\">\n",
       "      <th></th>\n",
       "      <th>pred_SP500_next</th>\n",
       "      <th>SP500_next</th>\n",
       "    </tr>\n",
       "  </thead>\n",
       "  <tbody>\n",
       "    <tr>\n",
       "      <th>0</th>\n",
       "      <td>2,928.63</td>\n",
       "      <td>2,933.68</td>\n",
       "    </tr>\n",
       "    <tr>\n",
       "      <th>1</th>\n",
       "      <td>2,896.35</td>\n",
       "      <td>2,884.05</td>\n",
       "    </tr>\n",
       "    <tr>\n",
       "      <th>2</th>\n",
       "      <td>2,880.39</td>\n",
       "      <td>2,879.42</td>\n",
       "    </tr>\n",
       "    <tr>\n",
       "      <th>3</th>\n",
       "      <td>2,872.68</td>\n",
       "      <td>2,870.72</td>\n",
       "    </tr>\n",
       "    <tr>\n",
       "      <th>4</th>\n",
       "      <td>2,879.85</td>\n",
       "      <td>2,881.40</td>\n",
       "    </tr>\n",
       "  </tbody>\n",
       "</table>\n",
       "</div>"
      ],
      "text/plain": [
       "   pred_SP500_next  SP500_next\n",
       "0         2,928.63    2,933.68\n",
       "1         2,896.35    2,884.05\n",
       "2         2,880.39    2,879.42\n",
       "3         2,872.68    2,870.72\n",
       "4         2,879.85    2,881.40"
      ]
     },
     "execution_count": 17,
     "metadata": {},
     "output_type": "execute_result"
    },
    {
     "name": "stdout",
     "output_type": "stream",
     "text": [
      "Mean absolute error is \n",
      "3.273645530259867\n",
      "Mean absolute percentage error is \n",
      "0.0007817701549866683\n"
     ]
    }
   ],
   "source": [
    "test_output = pd.DataFrame(rf.predict(X_test), index = X_test.index, columns = ['pred_SP500_next'])\n",
    "test_output = test_output.merge(y_test, left_index = True, right_index = True)\n",
    "test_output.head()\n",
    "mean_absolute_error = abs(test_output['pred_SP500_next'] - test_output['SP500_next']).mean()\n",
    "print('Mean absolute error is ')\n",
    "print(mean_absolute_error)\n",
    "mean_absolute_percentage_error = abs(test_output['pred_SP500_next'] - test_output['SP500_next']).mean() / test_output['SP500_next'].mean()\n",
    "print('Mean absolute percentage error is ')\n",
    "print(mean_absolute_percentage_error)\n",
    "\n",
    "model_names.append(\"Random Forest Regressor\")\n",
    "model_maes.append(mean_absolute_error)\n",
    "model_mabs.append(mean_absolute_percentage_error)"
   ]
  },
  {
   "cell_type": "markdown",
   "id": "69f14b76",
   "metadata": {},
   "source": [
    "## Gradeint Boosting Regressor"
   ]
  },
  {
   "cell_type": "code",
   "execution_count": 18,
   "id": "47b50efb",
   "metadata": {},
   "outputs": [],
   "source": [
    "gb = GradientBoostingRegressor(random_state=50, min_samples_leaf = 2, max_depth = 4)\n",
    "\n",
    "gb = gb.fit(X_train, y_train) \n"
   ]
  },
  {
   "cell_type": "code",
   "execution_count": 19,
   "id": "dacef454",
   "metadata": {},
   "outputs": [
    {
     "data": {
      "text/plain": [
       "Index(['Date', 'SP500', 'Futures', 'Nikkei', 'FTSE', 'DAX', 'day_of_week_0',\n",
       "       'day_of_week_1', 'day_of_week_2', 'day_of_week_3', 'day_of_week_4',\n",
       "       'SP500_lag_1', 'SP500_lag_2', 'SP500_lag_3', 'DAX_lag_1', 'DAX_lag_2',\n",
       "       'DAX_lag_3', 'FTSE_lag_1', 'FTSE_lag_2', 'FTSE_lag_3', 'Nikkei_lag_1',\n",
       "       'Nikkei_lag_2', 'Nikkei_lag_3'],\n",
       "      dtype='object')"
      ]
     },
     "execution_count": 19,
     "metadata": {},
     "output_type": "execute_result"
    },
    {
     "data": {
      "text/plain": [
       "array([1.26066826e-02, 2.06946021e-02, 2.42852555e-02, 6.35669870e-05,\n",
       "       1.34433273e-05, 2.42502116e-05, 1.61226825e-07, 4.45030650e-06,\n",
       "       4.14528533e-08, 0.00000000e+00, 9.64450605e-08, 8.48944403e-01,\n",
       "       1.06895135e-02, 6.34494309e-02, 8.89527009e-04, 1.50946213e-02,\n",
       "       9.74275199e-05, 2.76553610e-03, 1.70135333e-05, 6.06294924e-06,\n",
       "       2.73430582e-04, 4.26459636e-05, 3.78378943e-05])"
      ]
     },
     "execution_count": 19,
     "metadata": {},
     "output_type": "execute_result"
    }
   ],
   "source": [
    "X_train.columns\n",
    "gb.feature_importances_"
   ]
  },
  {
   "cell_type": "code",
   "execution_count": 20,
   "id": "873bce22",
   "metadata": {},
   "outputs": [
    {
     "data": {
      "text/html": [
       "<div>\n",
       "<style scoped>\n",
       "    .dataframe tbody tr th:only-of-type {\n",
       "        vertical-align: middle;\n",
       "    }\n",
       "\n",
       "    .dataframe tbody tr th {\n",
       "        vertical-align: top;\n",
       "    }\n",
       "\n",
       "    .dataframe thead th {\n",
       "        text-align: right;\n",
       "    }\n",
       "</style>\n",
       "<table border=\"1\" class=\"dataframe\">\n",
       "  <thead>\n",
       "    <tr style=\"text-align: right;\">\n",
       "      <th></th>\n",
       "      <th>pred_SP500_next</th>\n",
       "      <th>SP500_next</th>\n",
       "    </tr>\n",
       "  </thead>\n",
       "  <tbody>\n",
       "    <tr>\n",
       "      <th>0</th>\n",
       "      <td>2,919.12</td>\n",
       "      <td>2,933.68</td>\n",
       "    </tr>\n",
       "    <tr>\n",
       "      <th>1</th>\n",
       "      <td>2,907.14</td>\n",
       "      <td>2,884.05</td>\n",
       "    </tr>\n",
       "    <tr>\n",
       "      <th>2</th>\n",
       "      <td>2,879.41</td>\n",
       "      <td>2,879.42</td>\n",
       "    </tr>\n",
       "    <tr>\n",
       "      <th>3</th>\n",
       "      <td>2,869.48</td>\n",
       "      <td>2,870.72</td>\n",
       "    </tr>\n",
       "    <tr>\n",
       "      <th>4</th>\n",
       "      <td>2,878.17</td>\n",
       "      <td>2,881.40</td>\n",
       "    </tr>\n",
       "  </tbody>\n",
       "</table>\n",
       "</div>"
      ],
      "text/plain": [
       "   pred_SP500_next  SP500_next\n",
       "0         2,919.12    2,933.68\n",
       "1         2,907.14    2,884.05\n",
       "2         2,879.41    2,879.42\n",
       "3         2,869.48    2,870.72\n",
       "4         2,878.17    2,881.40"
      ]
     },
     "execution_count": 20,
     "metadata": {},
     "output_type": "execute_result"
    },
    {
     "name": "stdout",
     "output_type": "stream",
     "text": [
      "Mean absolute error is \n",
      "6.52569485350613\n",
      "Mean absolute percentage error is \n",
      "0.00155838298003395\n"
     ]
    }
   ],
   "source": [
    "test_output = pd.DataFrame(gb.predict(X_test), index = X_test.index, columns = ['pred_SP500_next'])\n",
    "test_output = test_output.merge(y_test, left_index = True, right_index = True)\n",
    "test_output.head()\n",
    "mean_absolute_error = abs(test_output['pred_SP500_next'] - test_output['SP500_next']).mean()\n",
    "print('Mean absolute error is ')\n",
    "print(mean_absolute_error)\n",
    "mean_absolute_percentage_error = abs(test_output['pred_SP500_next'] - test_output['SP500_next']).mean() / test_output['SP500_next'].mean()\n",
    "print('Mean absolute percentage error is ')\n",
    "print(mean_absolute_percentage_error)\n",
    "\n",
    "model_names.append(\"Gradeint Boosting Regressor\")\n",
    "model_maes.append(mean_absolute_error)\n",
    "model_mabs.append(mean_absolute_percentage_error)"
   ]
  },
  {
   "cell_type": "markdown",
   "id": "f49e7d98",
   "metadata": {},
   "source": [
    "## XGBoost Regressor "
   ]
  },
  {
   "cell_type": "code",
   "execution_count": 21,
   "id": "9509409c",
   "metadata": {},
   "outputs": [],
   "source": [
    "# XGBoost comes with its own class for storing datasets called DMatrix. \n",
    "# It is a highly optimized class for memory and speed. \n",
    "# That's why converting datasets into this format is a requirement for the native XGBoost API:\n",
    "\n",
    "\n",
    "# Create regression matrices\n",
    "\n",
    "dtrain_reg = xgb.DMatrix(X_train, y_train, enable_categorical=True)\n",
    "\n",
    "dtest_reg = xgb.DMatrix(X_test, y_test, enable_categorical=True)"
   ]
  },
  {
   "cell_type": "code",
   "execution_count": 22,
   "id": "4705ea0f",
   "metadata": {},
   "outputs": [],
   "source": [
    "params = {\"objective\": \"reg:squarederror\", \"tree_method\": \"exact\", \"max_depth\" : 4, \"learning_rate\" : 0.1} # use \"tree_method\" : \"hist\" if you need speed"
   ]
  },
  {
   "cell_type": "code",
   "execution_count": 23,
   "id": "cb137954",
   "metadata": {},
   "outputs": [],
   "source": [
    "n = 100\n",
    "\n",
    "model = xgb.train(\n",
    "\n",
    "   params=params,\n",
    "\n",
    "   dtrain=dtrain_reg,\n",
    "\n",
    "   num_boost_round=n,\n",
    "\n",
    ")"
   ]
  },
  {
   "cell_type": "code",
   "execution_count": 24,
   "id": "82db493d",
   "metadata": {},
   "outputs": [],
   "source": [
    "from sklearn.metrics import mean_squared_error\n",
    "preds = model.predict(dtest_reg)\n"
   ]
  },
  {
   "cell_type": "code",
   "execution_count": 25,
   "id": "ea95f735",
   "metadata": {},
   "outputs": [
    {
     "data": {
      "text/html": [
       "<div>\n",
       "<style scoped>\n",
       "    .dataframe tbody tr th:only-of-type {\n",
       "        vertical-align: middle;\n",
       "    }\n",
       "\n",
       "    .dataframe tbody tr th {\n",
       "        vertical-align: top;\n",
       "    }\n",
       "\n",
       "    .dataframe thead th {\n",
       "        text-align: right;\n",
       "    }\n",
       "</style>\n",
       "<table border=\"1\" class=\"dataframe\">\n",
       "  <thead>\n",
       "    <tr style=\"text-align: right;\">\n",
       "      <th></th>\n",
       "      <th>pred_SP500_next</th>\n",
       "      <th>SP500_next</th>\n",
       "    </tr>\n",
       "  </thead>\n",
       "  <tbody>\n",
       "    <tr>\n",
       "      <th>0</th>\n",
       "      <td>2,917.17</td>\n",
       "      <td>2,933.68</td>\n",
       "    </tr>\n",
       "    <tr>\n",
       "      <th>1</th>\n",
       "      <td>2,906.97</td>\n",
       "      <td>2,884.05</td>\n",
       "    </tr>\n",
       "    <tr>\n",
       "      <th>2</th>\n",
       "      <td>2,878.71</td>\n",
       "      <td>2,879.42</td>\n",
       "    </tr>\n",
       "    <tr>\n",
       "      <th>3</th>\n",
       "      <td>2,867.88</td>\n",
       "      <td>2,870.72</td>\n",
       "    </tr>\n",
       "    <tr>\n",
       "      <th>4</th>\n",
       "      <td>2,875.33</td>\n",
       "      <td>2,881.40</td>\n",
       "    </tr>\n",
       "  </tbody>\n",
       "</table>\n",
       "</div>"
      ],
      "text/plain": [
       "   pred_SP500_next  SP500_next\n",
       "0         2,917.17    2,933.68\n",
       "1         2,906.97    2,884.05\n",
       "2         2,878.71    2,879.42\n",
       "3         2,867.88    2,870.72\n",
       "4         2,875.33    2,881.40"
      ]
     },
     "execution_count": 25,
     "metadata": {},
     "output_type": "execute_result"
    },
    {
     "name": "stdout",
     "output_type": "stream",
     "text": [
      "Mean absolute error is \n",
      "7.019815130039855\n",
      "Mean absolute percentage error is \n",
      "0.0016763824645832624\n"
     ]
    }
   ],
   "source": [
    "test_output = pd.DataFrame(preds, index = X_test.index, columns = ['pred_SP500_next'])\n",
    "test_output = test_output.merge(y_test, left_index = True, right_index = True)\n",
    "test_output.head()\n",
    "mean_absolute_error = abs(test_output['pred_SP500_next'] - test_output['SP500_next']).mean()\n",
    "print('Mean absolute error is ')\n",
    "print(mean_absolute_error)\n",
    "mean_absolute_percentage_error = abs(test_output['pred_SP500_next'] - test_output['SP500_next']).mean() / test_output['SP500_next'].mean()\n",
    "print('Mean absolute percentage error is ')\n",
    "print(mean_absolute_percentage_error)\n",
    "\n",
    "model_names.append(\"XGBoost Regressor\")\n",
    "model_maes.append(mean_absolute_error)\n",
    "model_mabs.append(mean_absolute_percentage_error)"
   ]
  },
  {
   "cell_type": "markdown",
   "id": "54cfb086",
   "metadata": {},
   "source": [
    "## Hybrid Model "
   ]
  },
  {
   "cell_type": "code",
   "execution_count": 26,
   "id": "2f0e35d9",
   "metadata": {},
   "outputs": [
    {
     "data": {
      "text/plain": [
       "LinearRegression()"
      ]
     },
     "execution_count": 26,
     "metadata": {},
     "output_type": "execute_result"
    },
    {
     "data": {
      "text/plain": [
       "0.9990546688416921"
      ]
     },
     "execution_count": 26,
     "metadata": {},
     "output_type": "execute_result"
    }
   ],
   "source": [
    "model = LinearRegression(fit_intercept = True)\n",
    "model.fit(X_train, y_train) \n",
    "\n",
    "# The following gives the R-square score\n",
    "model.score(X_train, y_train) "
   ]
  },
  {
   "cell_type": "code",
   "execution_count": 27,
   "id": "09d740b6",
   "metadata": {},
   "outputs": [],
   "source": [
    "training_residuals = y_train - model.predict(X_train)"
   ]
  },
  {
   "cell_type": "code",
   "execution_count": 28,
   "id": "2e218242",
   "metadata": {},
   "outputs": [],
   "source": [
    "rf = RandomForestRegressor(random_state=50, min_samples_leaf = 3, max_features = \"sqrt\")\n",
    "\n",
    "rf = rf.fit(X_train, training_residuals) "
   ]
  },
  {
   "cell_type": "code",
   "execution_count": 29,
   "id": "cb735f23",
   "metadata": {},
   "outputs": [],
   "source": [
    "pred_residuals = rf.predict(X_test)\n",
    "y_pred = pred_residuals + model.predict(X_test)"
   ]
  },
  {
   "cell_type": "code",
   "execution_count": 30,
   "id": "f450ee73",
   "metadata": {
    "scrolled": true
   },
   "outputs": [
    {
     "data": {
      "text/html": [
       "<div>\n",
       "<style scoped>\n",
       "    .dataframe tbody tr th:only-of-type {\n",
       "        vertical-align: middle;\n",
       "    }\n",
       "\n",
       "    .dataframe tbody tr th {\n",
       "        vertical-align: top;\n",
       "    }\n",
       "\n",
       "    .dataframe thead th {\n",
       "        text-align: right;\n",
       "    }\n",
       "</style>\n",
       "<table border=\"1\" class=\"dataframe\">\n",
       "  <thead>\n",
       "    <tr style=\"text-align: right;\">\n",
       "      <th></th>\n",
       "      <th>pred_SP500_next</th>\n",
       "      <th>SP500_next</th>\n",
       "    </tr>\n",
       "  </thead>\n",
       "  <tbody>\n",
       "    <tr>\n",
       "      <th>0</th>\n",
       "      <td>2,927.31</td>\n",
       "      <td>2,933.68</td>\n",
       "    </tr>\n",
       "    <tr>\n",
       "      <th>1</th>\n",
       "      <td>2,893.71</td>\n",
       "      <td>2,884.05</td>\n",
       "    </tr>\n",
       "    <tr>\n",
       "      <th>2</th>\n",
       "      <td>2,879.36</td>\n",
       "      <td>2,879.42</td>\n",
       "    </tr>\n",
       "    <tr>\n",
       "      <th>3</th>\n",
       "      <td>2,869.74</td>\n",
       "      <td>2,870.72</td>\n",
       "    </tr>\n",
       "    <tr>\n",
       "      <th>4</th>\n",
       "      <td>2,882.53</td>\n",
       "      <td>2,881.40</td>\n",
       "    </tr>\n",
       "  </tbody>\n",
       "</table>\n",
       "</div>"
      ],
      "text/plain": [
       "   pred_SP500_next  SP500_next\n",
       "0         2,927.31    2,933.68\n",
       "1         2,893.71    2,884.05\n",
       "2         2,879.36    2,879.42\n",
       "3         2,869.74    2,870.72\n",
       "4         2,882.53    2,881.40"
      ]
     },
     "execution_count": 30,
     "metadata": {},
     "output_type": "execute_result"
    },
    {
     "name": "stdout",
     "output_type": "stream",
     "text": [
      "Mean absolute error is \n",
      "2.2535597070295768\n",
      "Mean absolute percentage error is \n",
      "0.0005381663057748258\n"
     ]
    }
   ],
   "source": [
    "test_output = pd.DataFrame(y_pred, index = X_test.index, columns = ['pred_SP500_next'])\n",
    "test_output = test_output.merge(y_test, left_index = True, right_index = True)\n",
    "test_output.head()\n",
    "mean_absolute_error = abs(test_output['pred_SP500_next'] - test_output['SP500_next']).mean()\n",
    "print('Mean absolute error is ')\n",
    "print(mean_absolute_error)\n",
    "mean_absolute_percentage_error = abs(test_output['pred_SP500_next'] - test_output['SP500_next']).mean() / test_output['SP500_next'].mean()\n",
    "print('Mean absolute percentage error is ')\n",
    "print(mean_absolute_percentage_error)\n",
    "\n",
    "model_names.append(\"Hybrid Model\")\n",
    "model_maes.append(mean_absolute_error)\n",
    "model_mabs.append(mean_absolute_percentage_error)"
   ]
  },
  {
   "cell_type": "markdown",
   "id": "32a1cedd",
   "metadata": {},
   "source": [
    "# Hybrid (XGBoost)"
   ]
  },
  {
   "cell_type": "code",
   "execution_count": 31,
   "id": "8db52441",
   "metadata": {},
   "outputs": [],
   "source": [
    "# XGBoost on residuals\n",
    "dtrain_resid = xgb.DMatrix(X_train, label=training_residuals, enable_categorical=True)\n",
    "dtest_resid = xgb.DMatrix(X_test, enable_categorical=True)"
   ]
  },
  {
   "cell_type": "code",
   "execution_count": 32,
   "id": "be2b8b06",
   "metadata": {},
   "outputs": [],
   "source": [
    "params = {\"objective\": \"reg:squarederror\", \"tree_method\": \"exact\", \"max_depth\" : 4, \"learning_rate\" : 0.1} # use \"tree_method\" : \"hist\" if you need speed\n",
    "num_round = 100"
   ]
  },
  {
   "cell_type": "code",
   "execution_count": 33,
   "id": "0fc59d1e",
   "metadata": {},
   "outputs": [],
   "source": [
    "residual_model = xgb.train(params, dtrain_resid, num_boost_round=num_round)\n",
    "\n",
    "# Predict residuals on test set using XGBoost\n",
    "pred_residuals = residual_model.predict(dtest_resid)\n",
    "\n",
    "# Final hybrid prediction = linear prediction + xgboost residual prediction\n",
    "yy_pred = model.predict(X_test) + pred_residuals"
   ]
  },
  {
   "cell_type": "code",
   "execution_count": 34,
   "id": "fb80684c",
   "metadata": {},
   "outputs": [
    {
     "data": {
      "text/html": [
       "<div>\n",
       "<style scoped>\n",
       "    .dataframe tbody tr th:only-of-type {\n",
       "        vertical-align: middle;\n",
       "    }\n",
       "\n",
       "    .dataframe tbody tr th {\n",
       "        vertical-align: top;\n",
       "    }\n",
       "\n",
       "    .dataframe thead th {\n",
       "        text-align: right;\n",
       "    }\n",
       "</style>\n",
       "<table border=\"1\" class=\"dataframe\">\n",
       "  <thead>\n",
       "    <tr style=\"text-align: right;\">\n",
       "      <th></th>\n",
       "      <th>pred_SP500_next</th>\n",
       "      <th>SP500_next</th>\n",
       "    </tr>\n",
       "  </thead>\n",
       "  <tbody>\n",
       "    <tr>\n",
       "      <th>0</th>\n",
       "      <td>2,909.47</td>\n",
       "      <td>2,933.68</td>\n",
       "    </tr>\n",
       "    <tr>\n",
       "      <th>1</th>\n",
       "      <td>2,915.76</td>\n",
       "      <td>2,884.05</td>\n",
       "    </tr>\n",
       "    <tr>\n",
       "      <th>2</th>\n",
       "      <td>2,880.38</td>\n",
       "      <td>2,879.42</td>\n",
       "    </tr>\n",
       "    <tr>\n",
       "      <th>3</th>\n",
       "      <td>2,862.11</td>\n",
       "      <td>2,870.72</td>\n",
       "    </tr>\n",
       "    <tr>\n",
       "      <th>4</th>\n",
       "      <td>2,878.89</td>\n",
       "      <td>2,881.40</td>\n",
       "    </tr>\n",
       "  </tbody>\n",
       "</table>\n",
       "</div>"
      ],
      "text/plain": [
       "   pred_SP500_next  SP500_next\n",
       "0         2,909.47    2,933.68\n",
       "1         2,915.76    2,884.05\n",
       "2         2,880.38    2,879.42\n",
       "3         2,862.11    2,870.72\n",
       "4         2,878.89    2,881.40"
      ]
     },
     "execution_count": 34,
     "metadata": {},
     "output_type": "execute_result"
    },
    {
     "name": "stdout",
     "output_type": "stream",
     "text": [
      "Mean absolute error is \n",
      "6.466446230341344\n",
      "Mean absolute percentage error is \n",
      "0.0015442339816509132\n"
     ]
    }
   ],
   "source": [
    "test_output = pd.DataFrame(yy_pred, index = X_test.index, columns = ['pred_SP500_next'])\n",
    "test_output = test_output.merge(y_test, left_index = True, right_index = True)\n",
    "test_output.head()\n",
    "mean_absolute_error = abs(test_output['pred_SP500_next'] - test_output['SP500_next']).mean()\n",
    "print('Mean absolute error is ')\n",
    "print(mean_absolute_error)\n",
    "mean_absolute_percentage_error = abs(test_output['pred_SP500_next'] - test_output['SP500_next']).mean() / test_output['SP500_next'].mean()\n",
    "print('Mean absolute percentage error is ')\n",
    "print(mean_absolute_percentage_error)\n",
    "\n",
    "model_names.append(\"Hybrid (XGBoost)\")\n",
    "model_maes.append(mean_absolute_error)\n",
    "model_mabs.append(mean_absolute_percentage_error)"
   ]
  },
  {
   "cell_type": "markdown",
   "id": "f190866e",
   "metadata": {},
   "source": [
    "## Plotting a Graph for Comparing Results\n"
   ]
  },
  {
   "cell_type": "code",
   "execution_count": 35,
   "id": "e2b6fa09",
   "metadata": {},
   "outputs": [
    {
     "data": {
      "image/png": "[encoded data removed]",
      "text/plain": [
       "<Figure size 720x432 with 1 Axes>"
      ]
     },
     "metadata": {
      "needs_background": "light"
     },
     "output_type": "display_data"
    }
   ],
   "source": [
    "import matplotlib.pyplot as plt\n",
    "import pandas as pd\n",
    "\n",
    "df = pd.DataFrame({'Model': model_names, 'MAE': model_maes})\n",
    "\n",
    "plt.figure(figsize=(10, 6))\n",
    "bars = plt.bar(df['Model'], df['MAE'], color='cornflowerblue', edgecolor='black')\n",
    "plt.title('Comparison of Mean Absolute Error (MAE) Across Models', fontsize=14)\n",
    "plt.xlabel('Models')\n",
    "plt.ylabel('MAE (lower is better)')\n",
    "plt.xticks(rotation=45)\n",
    "\n",
    "# Annotate bars\n",
    "for bar in bars:\n",
    "    yval = bar.get_height()\n",
    "    plt.text(bar.get_x() + bar.get_width()/2.0, yval + 0.5, f'{yval:.2f}', ha='center', va='bottom')\n",
    "\n",
    "plt.tight_layout()\n",
    "plt.show();\n"
   ]
  },
  {
   "cell_type": "markdown",
   "id": "4fb54d36",
   "metadata": {},
   "source": [
    "# Plotting a Graph using MAPE"
   ]
  },
  {
   "cell_type": "code",
   "execution_count": 36,
   "id": "d762298a",
   "metadata": {},
   "outputs": [
    {
     "data": {
      "image/png": "[encoded data removed]",
      "text/plain": [
       "<Figure size 720x432 with 1 Axes>"
      ]
     },
     "metadata": {
      "needs_background": "light"
     },
     "output_type": "display_data"
    }
   ],
   "source": [
    "import matplotlib.pyplot as plt\n",
    "import pandas as pd\n",
    "\n",
    "# Create DataFrame with model names and MAPE values\n",
    "df = pd.DataFrame({'Model': model_names, 'MAPE': model_mabs})\n",
    "\n",
    "# Create the plot\n",
    "plt.figure(figsize=(10, 6))\n",
    "bars = plt.bar(df['Model'], df['MAPE'], color='cornflowerblue', edgecolor='black')\n",
    "\n",
    "# Add title and axis labels\n",
    "plt.title('Comparison of MAPE Across Models', fontsize=16)\n",
    "plt.xlabel('Machine Learning Models', fontsize=12)\n",
    "plt.ylabel('MAPE (Lower is better)', fontsize=12)\n",
    "plt.xticks(rotation=45)\n",
    "\n",
    "# Annotate each bar with its height (as percentage)\n",
    "for bar in bars:\n",
    "    yval = bar.get_height()\n",
    "    plt.text(bar.get_x() + bar.get_width() / 2.0, yval + 0.0005, f\"{yval:.2%}\", \n",
    "             ha='center', va='bottom', fontsize=10)\n",
    "\n",
    "# Improve layout\n",
    "plt.tight_layout()\n",
    "plt.show();\n"
   ]
  },
  {
   "cell_type": "code",
   "execution_count": null,
   "id": "498ba868",
   "metadata": {},
   "outputs": [],
   "source": []
  },
  {
   "cell_type": "code",
   "execution_count": null,
   "id": "766ac12c",
   "metadata": {},
   "outputs": [],
   "source": []
  },
  {
   "cell_type": "code",
   "execution_count": null,
   "id": "7e529de9",
   "metadata": {},
   "outputs": [],
   "source": []
  },
  {
   "cell_type": "code",
   "execution_count": null,
   "id": "0ead0d58",
   "metadata": {},
   "outputs": [],
   "source": []
  },
  {
   "cell_type": "code",
   "execution_count": null,
   "id": "c3886b0c",
   "metadata": {},
   "outputs": [],
   "source": []
  },
  {
   "cell_type": "code",
   "execution_count": null,
   "id": "d23b26bd",
   "metadata": {},
   "outputs": [],
   "source": []
  },
  {
   "cell_type": "code",
   "execution_count": null,
   "id": "07f78f8d",
   "metadata": {},
   "outputs": [],
   "source": []
  },
  {
   "cell_type": "code",
   "execution_count": null,
   "id": "b26af4b4",
   "metadata": {},
   "outputs": [],
   "source": []
  },
  {
   "cell_type": "code",
   "execution_count": null,
   "id": "b2198283",
   "metadata": {},
   "outputs": [],
   "source": []
  },
  {
   "cell_type": "code",
   "execution_count": null,
   "id": "0b26f715",
   "metadata": {},
   "outputs": [],
   "source": []
  },
  {
   "cell_type": "code",
   "execution_count": null,
   "id": "c08d61fb",
   "metadata": {},
   "outputs": [],
   "source": []
  },
  {
   "cell_type": "code",
   "execution_count": null,
   "id": "60f30952",
   "metadata": {},
   "outputs": [],
   "source": []
  }
 ],
 "metadata": {
  "kernelspec": {
   "display_name": "Python 3 (ipykernel)",
   "language": "python",
   "name": "python3"
  },
  "language_info": {
   "codemirror_mode": {
    "name": "ipython",
    "version": 3
   },
   "file_extension": ".py",
   "mimetype": "text/x-python",
   "name": "python",
   "nbconvert_exporter": "python",
   "pygments_lexer": "ipython3",
   "version": "3.9.12"
  }
 },
 "nbformat": 4,
 "nbformat_minor": 5
}
